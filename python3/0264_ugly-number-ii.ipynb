{
 "cells": [
  {
   "cell_type": "code",
   "execution_count": 9,
   "metadata": {},
   "outputs": [],
   "source": [
    "class Solution:\n",
    "    #三指针\n",
    "    def nthUglyNumber(self, n: int) -> int:\n",
    "        i2 = 0\n",
    "        i3 = 0\n",
    "        i5 = 0\n",
    "        res = [1]\n",
    "        for i in range(1, n):\n",
    "            res.append(min(res[i2]*2, res[i3]*3,res[i5]*5))\n",
    "            if res[-1] == res[i2] * 2:\n",
    "                i2 += 1\n",
    "            if res[-1] == res[i3] * 3:\n",
    "                i3 += 1\n",
    "            if res[-1] == res[i5] * 5:\n",
    "                i5 += 1\n",
    "        print(res)\n",
    "        return res[-1]"
   ]
  },
  {
   "cell_type": "code",
   "execution_count": 10,
   "metadata": {},
   "outputs": [
    {
     "name": "stdout",
     "output_type": "stream",
     "text": [
      "[1, 2, 3, 4, 5, 6, 8, 9, 10, 12]\n"
     ]
    },
    {
     "data": {
      "text/plain": [
       "12"
      ]
     },
     "execution_count": 10,
     "metadata": {},
     "output_type": "execute_result"
    }
   ],
   "source": [
    "Solution().nthUglyNumber(10)"
   ]
  },
  {
   "cell_type": "code",
   "execution_count": null,
   "metadata": {},
   "outputs": [],
   "source": []
  }
 ],
 "metadata": {
  "kernelspec": {
   "display_name": "Python 3",
   "language": "python",
   "name": "python3"
  },
  "language_info": {
   "codemirror_mode": {
    "name": "ipython",
    "version": 3
   },
   "file_extension": ".py",
   "mimetype": "text/x-python",
   "name": "python",
   "nbconvert_exporter": "python",
   "pygments_lexer": "ipython3",
   "version": "3.7.5"
  }
 },
 "nbformat": 4,
 "nbformat_minor": 4
}
