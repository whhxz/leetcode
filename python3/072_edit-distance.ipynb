{
 "cells": [
  {
   "cell_type": "code",
   "execution_count": 26,
   "metadata": {},
   "outputs": [],
   "source": [
    "class Solution:\n",
    "    #编辑距离\n",
    "    # http://www.cnblogs.com/pandora/archive/2009/12/20/levenshtein_distance.html\n",
    "    #可以用于模糊查询方面的应用\n",
    "    def minDistance(self, word1, word2):\n",
    "        \"\"\"\n",
    "        :type word1: str\n",
    "        :type word2: str\n",
    "        :rtype: int\n",
    "        \"\"\"\n",
    "        #构建二维数组宽len(word1) + 1, 长：len(word2) + 1\n",
    "        nums = [[0] * (len(word1) + 1) for i in range(len(word2) + 1)]\n",
    "        #初始化数组nums[0]，表示word[0:i]替换为空所需要的步骤nums[0][i],nums[0][0]为0\n",
    "        for i in range(len(nums[0])):\n",
    "            nums[0][i] = i\n",
    "        #初始化数组nums[i][0],表示从空替换到word2所需要的步骤nums[i][0]\n",
    "        for i in range(len(nums)):\n",
    "            nums[i][0] = i\n",
    "        print(nums)\n",
    "        \"\"\"\n",
    "        word1[0:j]->word2[0:i]可能由一下3种情况替换得到\n",
    "        1、如果word1[0:j] -> word2[0:i-1]需要k步，那么word1[0:j]->word2[0:i]就需要在word1[0:j]->word2[0:i-1]的最后插入word2[i]，需要步骤为k+1\n",
    "        2、如果word1[0:j-1] -> word2[0:i]需要k步，那么word1[0:j]->word2[0:i]就需要在word1[0:j-1]->word2[0:i]的最后删除最后word1[j]，是要步骤为k+1\n",
    "        3、如果word1[0:j-1] -> word2[0:i-1]需要k步，那么word1[0:j]->word2[0:i]就要替换word1[j]为word2[i],需要的步骤为k+1(如果相等就不需要相加了)\n",
    "        \"\"\"\n",
    "        max_i = len(nums)\n",
    "        max_j = len(nums[0])\n",
    "        for i in range(1, max_i):\n",
    "            for j in range(1, max_j):\n",
    "                nums[i][j] = min(nums[i - 1][j] + 1, nums[i][j-1] + 1, nums[i-1][j-1] + (0 if word1[j - 1] == word2[i -1] else 1))\n",
    "        for n in nums:\n",
    "            print(n)\n",
    "        return nums[-1][-1]"
   ]
  },
  {
   "cell_type": "code",
   "execution_count": null,
   "metadata": {},
   "outputs": [],
   "source": []
  },
  {
   "cell_type": "code",
   "execution_count": 28,
   "metadata": {},
   "outputs": [
    {
     "name": "stdout",
     "output_type": "stream",
     "text": [
      "[[0]]\n",
      "[0]\n"
     ]
    },
    {
     "data": {
      "text/plain": [
       "0"
      ]
     },
     "execution_count": 28,
     "metadata": {},
     "output_type": "execute_result"
    }
   ],
   "source": [
    "Solution().minDistance(\"\", \"\")"
   ]
  },
  {
   "cell_type": "code",
   "execution_count": 3,
   "metadata": {},
   "outputs": [
    {
     "name": "stdout",
     "output_type": "stream",
     "text": [
      "2\n"
     ]
    }
   ],
   "source": [
    "print(1 + (1 if 2 %2 == 0 else 0))"
   ]
  },
  {
   "cell_type": "code",
   "execution_count": null,
   "metadata": {},
   "outputs": [],
   "source": []
  }
 ],
 "metadata": {
  "kernelspec": {
   "display_name": "Python 3",
   "language": "python",
   "name": "python3"
  },
  "language_info": {
   "codemirror_mode": {
    "name": "ipython",
    "version": 3
   },
   "file_extension": ".py",
   "mimetype": "text/x-python",
   "name": "python",
   "nbconvert_exporter": "python",
   "pygments_lexer": "ipython3",
   "version": "3.5.1"
  }
 },
 "nbformat": 4,
 "nbformat_minor": 2
}
