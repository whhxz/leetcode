{
 "cells": [
  {
   "cell_type": "code",
   "execution_count": 66,
   "metadata": {},
   "outputs": [],
   "source": [
    "class Solution:\n",
    "    #设计模式-解释器设计模式\n",
    "    def calculate(self, s):\n",
    "        \"\"\"\n",
    "        :type s: str\n",
    "        :rtype: int\n",
    "        \"\"\"\n",
    "        #中缀表达式转后缀表达式\n",
    "        symbol_stack = ['']\n",
    "        suffix_stack = []\n",
    "        symbol = {\n",
    "            \"+\":1,\n",
    "            \"-\":1,\n",
    "            \"*\":2,\n",
    "            \"/\":2,\n",
    "            '':-1\n",
    "        }\n",
    "        ls = len(s)\n",
    "        def find_n(start):\n",
    "            for i in range(start + 1, ls):\n",
    "                if (s[start] not in symbol and s[i] in symbol) or (s[start] in symbol and s[i] not in symbol) or s[start]==\" \":\n",
    "                    return i\n",
    "            return ls\n",
    "        st = 0 \n",
    "        while st < ls:\n",
    "            end = find_n(st)\n",
    "            c = s[st: end]\n",
    "            st = end\n",
    "            if c == \" \":\n",
    "                continue\n",
    "            if c not in symbol:\n",
    "                suffix_stack.append(int(c))\n",
    "            elif symbol[c] > symbol[symbol_stack[-1]]:\n",
    "                symbol_stack.append(c)\n",
    "            else:\n",
    "                while symbol[c] <= symbol[symbol_stack[-1]]:\n",
    "                    suffix_stack.append(symbol_stack.pop())\n",
    "                symbol_stack.append(c)\n",
    "        for i in range(len(symbol_stack) - 1, 0, -1):\n",
    "            suffix_stack.append(symbol_stack[i])\n",
    "        #计算后缀表达式\n",
    "        stack = []\n",
    "        for c in suffix_stack:\n",
    "            if c == \"+\":\n",
    "                stack.append(stack.pop() + stack.pop())\n",
    "            elif c == \"-\":\n",
    "                t1 = stack.pop()\n",
    "                t2 = stack.pop()\n",
    "                stack.append(t2 - t1)\n",
    "            elif c == \"*\":\n",
    "                stack.append(stack.pop() * stack.pop())\n",
    "            elif c == \"/\":\n",
    "                t1 = stack.pop()\n",
    "                t2 = stack.pop()\n",
    "                stack.append(int(t2 / t1))\n",
    "            else:\n",
    "                stack.append(c)\n",
    "        return stack[0]\n",
    "                \n",
    "                    \n",
    "            "
   ]
  },
  {
   "cell_type": "code",
   "execution_count": 68,
   "metadata": {},
   "outputs": [
    {
     "data": {
      "text/plain": [
       "7"
      ]
     },
     "execution_count": 68,
     "metadata": {},
     "output_type": "execute_result"
    }
   ],
   "source": [
    "Solution().calculate(\"3+2*2\")"
   ]
  },
  {
   "cell_type": "code",
   "execution_count": null,
   "metadata": {},
   "outputs": [],
   "source": []
  }
 ],
 "metadata": {
  "kernelspec": {
   "display_name": "Python 3",
   "language": "python",
   "name": "python3"
  },
  "language_info": {
   "codemirror_mode": {
    "name": "ipython",
    "version": 3
   },
   "file_extension": ".py",
   "mimetype": "text/x-python",
   "name": "python",
   "nbconvert_exporter": "python",
   "pygments_lexer": "ipython3",
   "version": "3.5.1"
  }
 },
 "nbformat": 4,
 "nbformat_minor": 2
}
