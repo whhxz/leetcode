{
 "cells": [
  {
   "cell_type": "code",
   "execution_count": 87,
   "metadata": {},
   "outputs": [],
   "source": [
    "from typing import List\n",
    "class Solution:\n",
    "    def makesquare(self, nums: List[int]) -> bool:\n",
    "        perimeter = sum(nums)\n",
    "        if len(nums) < 4 or perimeter % 4 != 0:\n",
    "            return False\n",
    "        side = perimeter >> 2\n",
    "        #倒序加快速度\n",
    "        nums.sort(reverse=True)\n",
    "        ts = [0]*4\n",
    "        ln = len(nums)\n",
    "        def dfs(index):\n",
    "            if index == ln:\n",
    "                return ts[0] == ts[1] == ts[2] == ts[3] == side\n",
    "            for i in range(4):\n",
    "                if ts[i] + nums[index] <= side:\n",
    "                    ts[i] += nums[index]\n",
    "                    if dfs(index + 1):\n",
    "                        return True\n",
    "                    ts[i] -= nums[index]\n",
    "            return False\n",
    "        return dfs(0)\n",
    "                \n"
   ]
  },
  {
   "cell_type": "code",
   "execution_count": 88,
   "metadata": {},
   "outputs": [
    {
     "data": {
      "text/plain": [
       "False"
      ]
     },
     "execution_count": 88,
     "metadata": {},
     "output_type": "execute_result"
    }
   ],
   "source": [
    "Solution().makesquare([1569462,2402351,9513693,2220521,7730020,7930469,1040519,5767807,876240,350944,4674663,4809943,8379742,3517287,8034755])"
   ]
  },
  {
   "cell_type": "code",
   "execution_count": null,
   "metadata": {},
   "outputs": [],
   "source": []
  },
  {
   "cell_type": "code",
   "execution_count": null,
   "metadata": {},
   "outputs": [],
   "source": []
  }
 ],
 "metadata": {
  "kernelspec": {
   "display_name": "Python 3",
   "language": "python",
   "name": "python3"
  },
  "language_info": {
   "codemirror_mode": {
    "name": "ipython",
    "version": 3
   },
   "file_extension": ".py",
   "mimetype": "text/x-python",
   "name": "python",
   "nbconvert_exporter": "python",
   "pygments_lexer": "ipython3",
   "version": "3.7.5"
  }
 },
 "nbformat": 4,
 "nbformat_minor": 4
}
