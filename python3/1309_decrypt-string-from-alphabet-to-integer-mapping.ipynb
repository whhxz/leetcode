{
 "cells": [
  {
   "cell_type": "code",
   "execution_count": null,
   "metadata": {},
   "outputs": [],
   "source": [
    "class Solution:\n",
    "    def freqAlphabets(self, s: str) -> str:\n",
    "        res = []\n",
    "        i = 0\n",
    "        while i < len(s):\n",
    "            if i + 2 < len(s) and s[i+2] == '#':\n",
    "                res.append(chr(int(s[i:i+2]) + 96))\n",
    "                i += 3\n",
    "            else:\n",
    "                res.append(chr(int(s[i]) + 96))\n",
    "                i += 1\n",
    "        return \"\".join(res)\n"
   ]
  }
 ],
 "metadata": {
  "kernelspec": {
   "display_name": "Python 3",
   "language": "python",
   "name": "python3"
  },
  "language_info": {
   "codemirror_mode": {
    "name": "ipython",
    "version": 3
   },
   "file_extension": ".py",
   "mimetype": "text/x-python",
   "name": "python",
   "nbconvert_exporter": "python",
   "pygments_lexer": "ipython3",
   "version": "3.7.5"
  }
 },
 "nbformat": 4,
 "nbformat_minor": 4
}
