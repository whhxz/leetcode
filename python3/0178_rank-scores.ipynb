{
 "cells": [
  {
   "cell_type": "raw",
   "metadata": {},
   "source": [
    "# Write your MySQL query statement below\n",
    "\n",
    "select Score, (select count(DISTINCT Score) from Scores s1 where s1.Score >= s2.Score) as Rank\n",
    "from Scores s2 order by s2.Score desc"
   ]
  }
 ],
 "metadata": {
  "kernelspec": {
   "display_name": "Python 3",
   "language": "python",
   "name": "python3"
  },
  "language_info": {
   "codemirror_mode": {
    "name": "ipython",
    "version": 3
   },
   "file_extension": ".py",
   "mimetype": "text/x-python",
   "name": "python",
   "nbconvert_exporter": "python",
   "pygments_lexer": "ipython3",
   "version": "3.7.5"
  }
 },
 "nbformat": 4,
 "nbformat_minor": 4
}
