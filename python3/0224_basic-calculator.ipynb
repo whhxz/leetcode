{
 "cells": [
  {
   "cell_type": "code",
   "execution_count": 70,
   "metadata": {},
   "outputs": [],
   "source": [
    "class Solution:\n",
    "    def calculate(self, s: str) -> int:\n",
    "        symbols = set(['+','-','(',')'])\n",
    "        s = s.replace(' ', '')\n",
    "        ls = len(s)\n",
    "        before,i = -1,0\n",
    "        stack = []\n",
    "        def helper():\n",
    "            num = 0\n",
    "            while stack:\n",
    "                tmp = stack.pop()\n",
    "                if stack:\n",
    "                    if stack[-1] == '-':\n",
    "                        num-=int(tmp)\n",
    "                    elif stack[-1] == '+':\n",
    "                        num+=int(tmp)\n",
    "                    else:\n",
    "                        num += int(tmp)\n",
    "                    if stack.pop() == '(':\n",
    "                        break\n",
    "                else:\n",
    "                    num+=int(tmp)\n",
    "            return num\n",
    "        while i < ls:\n",
    "            if s[i] in symbols:\n",
    "                if i - before > 1:\n",
    "                    stack.append(s[before+1:i])\n",
    "                if s[i] == ')':\n",
    "                    stack.append(str(helper()))\n",
    "                else:\n",
    "                    stack.append(s[i])\n",
    "                before = i\n",
    "            i+=1\n",
    "        if i - before >1:\n",
    "            stack.append(s[before+1:])\n",
    "        return helper()\n",
    "            \n",
    "                \n",
    "                    \n"
   ]
  },
  {
   "cell_type": "code",
   "execution_count": 72,
   "metadata": {},
   "outputs": [
    {
     "data": {
      "text/plain": [
       "23"
      ]
     },
     "execution_count": 72,
     "metadata": {},
     "output_type": "execute_result"
    }
   ],
   "source": [
    "Solution().calculate('(1+(4+5+2)-3)+(6+8)')"
   ]
  },
  {
   "cell_type": "code",
   "execution_count": null,
   "metadata": {},
   "outputs": [],
   "source": []
  }
 ],
 "metadata": {
  "kernelspec": {
   "display_name": "Python 3",
   "language": "python",
   "name": "python3"
  },
  "language_info": {
   "codemirror_mode": {
    "name": "ipython",
    "version": 3
   },
   "file_extension": ".py",
   "mimetype": "text/x-python",
   "name": "python",
   "nbconvert_exporter": "python",
   "pygments_lexer": "ipython3",
   "version": "3.7.5"
  }
 },
 "nbformat": 4,
 "nbformat_minor": 4
}
