{
 "cells": [
  {
   "cell_type": "code",
   "execution_count": null,
   "metadata": {},
   "outputs": [],
   "source": [
    "class AllOne:\n",
    "    #非 O(1)\n",
    "    def __init__(self):\n",
    "        \"\"\"\n",
    "        Initialize your data structure here.\n",
    "        \"\"\"\n",
    "        self.data = {}\n",
    "\n",
    "    def inc(self, key: str) -> None:\n",
    "        \"\"\"\n",
    "        Inserts a new key <Key> with value 1. Or increments an existing key by 1.\n",
    "        \"\"\"\n",
    "        self.data.setdefault(key, 0)\n",
    "        self.data[key] += 1\n",
    "\n",
    "    def dec(self, key: str) -> None:\n",
    "        \"\"\"\n",
    "        Decrements an existing key by 1. If Key's value is 1, remove it from the data structure.\n",
    "        \"\"\"\n",
    "        if key in self.data:\n",
    "            self.data[key]-=1\n",
    "            if self.data[key] == 0:\n",
    "                del self.data[key]\n",
    "            \n",
    "\n",
    "    def getMaxKey(self) -> str:\n",
    "        \"\"\"\n",
    "        Returns one of the keys with maximal value.\n",
    "        \"\"\"\n",
    "        if not self.data:\n",
    "            return \"\"\n",
    "        return max(self.data, key=self.data.get)\n",
    "        \n",
    "\n",
    "    def getMinKey(self) -> str:\n",
    "        \"\"\"\n",
    "        Returns one of the keys with Minimal value.\n",
    "        \"\"\"\n",
    "        if not self.data:\n",
    "            return \"\"\n",
    "        return min(self.data, key=self.data.get)\n",
    "        \n",
    "\n",
    "\n",
    "# Your AllOne object will be instantiated and called as such:\n",
    "# obj = AllOne()\n",
    "# obj.inc(key)\n",
    "# obj.dec(key)\n",
    "# param_3 = obj.getMaxKey()\n",
    "# param_4 = obj.getMinKey()"
   ]
  }
 ],
 "metadata": {
  "kernelspec": {
   "display_name": "Python 3",
   "language": "python",
   "name": "python3"
  },
  "language_info": {
   "codemirror_mode": {
    "name": "ipython",
    "version": 3
   },
   "file_extension": ".py",
   "mimetype": "text/x-python",
   "name": "python",
   "nbconvert_exporter": "python",
   "pygments_lexer": "ipython3",
   "version": "3.7.5"
  }
 },
 "nbformat": 4,
 "nbformat_minor": 4
}
