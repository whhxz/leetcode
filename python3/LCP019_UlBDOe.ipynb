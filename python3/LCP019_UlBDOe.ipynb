{
 "cells": [
  {
   "cell_type": "code",
   "execution_count": null,
   "metadata": {},
   "outputs": [],
   "source": [
    "class Solution:\n",
    "    def minimumOperations(self, leaves: str) -> int:\n",
    "        # rrrryyyyrrrr\n",
    "        # 长度为3的数组 0:左边为r  1左边为ry 3 左边为 ryr\n",
    "        # 表示第0~i 中 左边为r  左边为ry 左边为ryr的最小变幻数\n",
    "        dp = [[len(leaves), len(leaves), len(leaves)] for _ in range(len(leaves))]\n",
    "        if leaves[0] == 'y':\n",
    "            dp[0][0] = 1\n",
    "        else:\n",
    "            dp[0][0] = 0\n",
    "        for i in range(1, len(leaves)):\n",
    "            if leaves[i] == 'r':\n",
    "                dp[i][0] = dp[i - 1][0]\n",
    "                dp[i][1] = min(dp[i - 1][0] + 1, dp[i - 1][1] + 1)\n",
    "                dp[i][2] = min(dp[i - 1][1], dp[i - 1][2])\n",
    "            else:\n",
    "                dp[i][0] = dp[i - 1][0] + 1\n",
    "                dp[i][1] = min(dp[i - 1][0], dp[i - 1][1])\n",
    "                dp[i][2] = min(dp[i - 1][1] + 1, dp[i - 1][2] + 1)\n",
    "        return dp[-1][-1]\n",
    "\n",
    "\n"
   ]
  }
 ],
 "metadata": {
  "kernelspec": {
   "display_name": "Python 3",
   "language": "python",
   "name": "python3"
  },
  "language_info": {
   "codemirror_mode": {
    "name": "ipython",
    "version": 3
   },
   "file_extension": ".py",
   "mimetype": "text/x-python",
   "name": "python",
   "nbconvert_exporter": "python",
   "pygments_lexer": "ipython3",
   "version": "3.7.5"
  }
 },
 "nbformat": 4,
 "nbformat_minor": 4
}
