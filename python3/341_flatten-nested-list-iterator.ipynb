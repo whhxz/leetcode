{
 "cells": [
  {
   "cell_type": "code",
   "execution_count": 10,
   "metadata": {},
   "outputs": [],
   "source": [
    "class NestedInteger(object):\n",
    "    def __init__(self, num, nums):\n",
    "        self.num = num\n",
    "        self.nums = nums\n",
    "        \n",
    "    def isInteger(self):\n",
    "        \"\"\"\n",
    "        @return True if this NestedInteger holds a single integer, rather than a nested list.\n",
    "        :rtype bool\n",
    "        \"\"\"\n",
    "        return self.num != None\n",
    "\n",
    "    def getInteger(self):\n",
    "        \"\"\"\n",
    "        @return the single integer that this NestedInteger holds, if it holds a single integer\n",
    "        Return None if this NestedInteger holds a nested list\n",
    "        :rtype int\n",
    "        \"\"\"\n",
    "        return self.num\n",
    "\n",
    "    def getList(self):\n",
    "        \"\"\"\n",
    "        @return the nested list that this NestedInteger holds, if it holds a nested list\n",
    "        Return None if this NestedInteger holds a single integer\n",
    "        :rtype List[NestedInteger]\n",
    "        \"\"\"\n",
    "        return self.nums\n",
    "\n",
    "class NestedIterator(object):\n",
    "    \n",
    "    #初始化的时候，通过递归把数据存储起来\n",
    "    #有优化方法，可以从后向前放入数据，然后从后开始取数据，知道数组为空\n",
    "    def __init__(self, nestedList):\n",
    "        \"\"\"\n",
    "        Initialize your data structure here.\n",
    "        :type nestedList: List[NestedInteger]\n",
    "        \"\"\"\n",
    "        self.nums = []\n",
    "        for n in nestedList:\n",
    "            self.add_num(n)\n",
    "        \n",
    "    def add_num(self, node):\n",
    "        if node.isInteger():\n",
    "            self.nums.append(node.getInteger())\n",
    "        else:\n",
    "            for n in node.getList():\n",
    "                self.add_num(n)\n",
    "        \n",
    "    def next(self):\n",
    "        \"\"\"\n",
    "        :rtype: int\n",
    "        \"\"\"\n",
    "        return self.nums.pop(0);\n",
    "  \n",
    "    def hasNext(self):\n",
    "        \"\"\"\n",
    "        :rtype: bool\n",
    "        \"\"\"\n",
    "        return len(self.nums) > 0"
   ]
  },
  {
   "cell_type": "code",
   "execution_count": 11,
   "metadata": {},
   "outputs": [
    {
     "name": "stdout",
     "output_type": "stream",
     "text": [
      "2\n",
      "1\n",
      "2\n",
      "1\n",
      "1\n"
     ]
    }
   ],
   "source": [
    "n = NestedIterator([\n",
    "    NestedInteger(None, [\n",
    "        NestedInteger(2, None),\n",
    "        NestedInteger(1, None)\n",
    "    ]),\n",
    "    NestedInteger(2, None),\n",
    "    NestedInteger(None, [\n",
    "        NestedInteger(1, None),\n",
    "        NestedInteger(1, None)\n",
    "    ])\n",
    "    \n",
    "])\n",
    "# n = NestedIterator([NestedInteger(None, [])])\n",
    "while n.hasNext():\n",
    "    print(n.next())"
   ]
  },
  {
   "cell_type": "code",
   "execution_count": null,
   "metadata": {},
   "outputs": [],
   "source": []
  }
 ],
 "metadata": {
  "kernelspec": {
   "display_name": "Python 3",
   "language": "python",
   "name": "python3"
  },
  "language_info": {
   "codemirror_mode": {
    "name": "ipython",
    "version": 3
   },
   "file_extension": ".py",
   "mimetype": "text/x-python",
   "name": "python",
   "nbconvert_exporter": "python",
   "pygments_lexer": "ipython3",
   "version": "3.5.1"
  }
 },
 "nbformat": 4,
 "nbformat_minor": 2
}
