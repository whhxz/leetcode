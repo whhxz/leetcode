{
 "cells": [
  {
   "cell_type": "code",
   "execution_count": 1,
   "metadata": {},
   "outputs": [],
   "source": [
    "class Solution:\n",
    "    #解法不是最优解\n",
    "    def countBinarySubstrings(self, s):\n",
    "        \"\"\"\n",
    "        :type s: str\n",
    "        :rtype: int\n",
    "        \"\"\"\n",
    "        end = len(s) - 1\n",
    "        res = 0\n",
    "        #通过遍历s中1的位置，然后分别左右遍历重复\n",
    "        for i,c in enumerate(s):\n",
    "            if c == \"0\":\n",
    "                continue\n",
    "            left = i - 1\n",
    "            right = i\n",
    "            #遍历左边为0，右边为1的情况\n",
    "            while left >= 0 and right <= end:\n",
    "                if s[left] == \"0\" and s[right] == \"1\":\n",
    "                    res += 1\n",
    "                    left -= 1\n",
    "                    right += 1\n",
    "                else:\n",
    "                    break\n",
    "            left = i\n",
    "            right = i + 1\n",
    "            #遍历左边为1右边为0\n",
    "            while left >= 0 and right <= end:\n",
    "                if s[left] == \"1\" and s[right] == \"0\":\n",
    "                    res += 1\n",
    "                    left -= 1\n",
    "                    right += 1\n",
    "                else:\n",
    "                    break\n",
    "        return res"
   ]
  },
  {
   "cell_type": "code",
   "execution_count": 3,
   "metadata": {},
   "outputs": [
    {
     "data": {
      "text/plain": [
       "4"
      ]
     },
     "execution_count": 3,
     "metadata": {},
     "output_type": "execute_result"
    }
   ],
   "source": [
    "Solution().countBinarySubstrings(\"10101\")"
   ]
  },
  {
   "cell_type": "code",
   "execution_count": null,
   "metadata": {},
   "outputs": [],
   "source": []
  }
 ],
 "metadata": {
  "kernelspec": {
   "display_name": "Python 3",
   "language": "python",
   "name": "python3"
  },
  "language_info": {
   "codemirror_mode": {
    "name": "ipython",
    "version": 3
   },
   "file_extension": ".py",
   "mimetype": "text/x-python",
   "name": "python",
   "nbconvert_exporter": "python",
   "pygments_lexer": "ipython3",
   "version": "3.5.1"
  }
 },
 "nbformat": 4,
 "nbformat_minor": 2
}
