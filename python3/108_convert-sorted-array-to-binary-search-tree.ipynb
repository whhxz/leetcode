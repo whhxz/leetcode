{
 "cells": [
  {
   "cell_type": "code",
   "execution_count": null,
   "metadata": {},
   "outputs": [],
   "source": [
    "# Definition for a binary tree node.\n",
    "class TreeNode:\n",
    "    def __init__(self, x):\n",
    "        self.val = x\n",
    "        self.left = None\n",
    "        self.right = None\n",
    "\n",
    "class Solution:\n",
    "    #二分法生成树\n",
    "    def sortedArrayToBST(self, nums):\n",
    "        \"\"\"\n",
    "        :type nums: List[int]\n",
    "        :rtype: TreeNode\n",
    "        \"\"\"\n",
    "        size = len(nums)\n",
    "        if size == 0:\n",
    "            return None\n",
    "        def recursive(node, left, mid, right):\n",
    "            if left < mid:\n",
    "                left_mid = (left + mid - 1) >> 1\n",
    "                left_node = TreeNode(nums[left_mid])\n",
    "                node.left = left_node\n",
    "                recursive(left_node, left, left_mid, mid - 1)\n",
    "                \n",
    "            if right > mid:\n",
    "                right_mid = (mid + 1 + right) >> 1\n",
    "                right_node = TreeNode(nums[right_mid])\n",
    "                node.right = right_node\n",
    "                recursive(right_node, mid + 1, right_mid, right)\n",
    "        m = (size - 1) >> 1\n",
    "        root = TreeNode(nums[m])\n",
    "        recursive(root, 0, m, size - 1)\n",
    "        return root"
   ]
  }
 ],
 "metadata": {
  "kernelspec": {
   "display_name": "Python 3",
   "language": "python",
   "name": "python3"
  },
  "language_info": {
   "codemirror_mode": {
    "name": "ipython",
    "version": 3
   },
   "file_extension": ".py",
   "mimetype": "text/x-python",
   "name": "python",
   "nbconvert_exporter": "python",
   "pygments_lexer": "ipython3",
   "version": "3.5.1"
  }
 },
 "nbformat": 4,
 "nbformat_minor": 2
}
