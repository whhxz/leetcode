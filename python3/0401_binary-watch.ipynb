{
 "cells": [
  {
   "cell_type": "code",
   "execution_count": 66,
   "metadata": {},
   "outputs": [],
   "source": [
    "from typing import List\n",
    "class Solution:\n",
    "    def readBinaryWatch(self, num: int) -> List[str]:\n",
    "        res = set()\n",
    "        hs = ['0']*4\n",
    "        ms = ['0']*6\n",
    "        def helper(hi, mi, n):\n",
    "            if n == 0:\n",
    "                h = int(\"\".join(hs),2)\n",
    "                m = int(\"\".join(ms),2)\n",
    "                if h < 12 and m < 60:\n",
    "                    res.add(str(h) + \":\"+ (\"%02d\" % m))\n",
    "                return\n",
    "            for i in range(hi, 4):\n",
    "                if hs[i] == '0':\n",
    "                    hs[i] = '1'\n",
    "                    helper(i+1, mi, n-1)\n",
    "                    hs[i] = '0'\n",
    "            for i in range(mi, 6):\n",
    "                if ms[i] == '0':\n",
    "                    ms[i] = '1'\n",
    "                    helper(hi, i+1, n-1)\n",
    "                    ms[i] = '0'\n",
    "        helper(0, 0, num)\n",
    "        return list(res)\n",
    "                \n",
    "            "
   ]
  },
  {
   "cell_type": "code",
   "execution_count": 68,
   "metadata": {},
   "outputs": [
    {
     "data": {
      "text/plain": [
       "44"
      ]
     },
     "execution_count": 68,
     "metadata": {},
     "output_type": "execute_result"
    }
   ],
   "source": [
    "len(sorted(Solution().readBinaryWatch(2)))"
   ]
  },
  {
   "cell_type": "code",
   "execution_count": 69,
   "metadata": {},
   "outputs": [
    {
     "data": {
      "text/plain": [
       "['0:03',\n",
       " '0:05',\n",
       " '0:06',\n",
       " '0:09',\n",
       " '0:10',\n",
       " '0:12',\n",
       " '0:17',\n",
       " '0:18',\n",
       " '0:20',\n",
       " '0:24',\n",
       " '0:33',\n",
       " '0:34',\n",
       " '0:36',\n",
       " '0:40',\n",
       " '0:48',\n",
       " '10:00',\n",
       " '1:01',\n",
       " '1:02',\n",
       " '1:04',\n",
       " '1:08',\n",
       " '1:16',\n",
       " '1:32',\n",
       " '2:01',\n",
       " '2:02',\n",
       " '2:04',\n",
       " '2:08',\n",
       " '2:16',\n",
       " '2:32',\n",
       " '3:00',\n",
       " '4:01',\n",
       " '4:02',\n",
       " '4:04',\n",
       " '4:08',\n",
       " '4:16',\n",
       " '4:32',\n",
       " '5:00',\n",
       " '6:00',\n",
       " '8:01',\n",
       " '8:02',\n",
       " '8:04',\n",
       " '8:08',\n",
       " '8:16',\n",
       " '8:32',\n",
       " '9:00']"
      ]
     },
     "execution_count": 69,
     "metadata": {},
     "output_type": "execute_result"
    }
   ],
   "source": [
    "sorted([\"0:03\",\"0:05\",\"0:06\",\"0:09\",\"0:10\",\"0:12\",\"0:17\",\"0:18\",\"0:20\",\"0:24\",\"0:33\",\"0:34\",\"0:36\",\"0:40\",\"0:48\",\"1:01\",\"1:02\",\"1:04\",\"1:08\",\"1:16\",\"1:32\",\"2:01\",\"2:02\",\"2:04\",\"2:08\",\"2:16\",\"2:32\",\"3:00\",\"4:01\",\"4:02\",\"4:04\",\"4:08\",\"4:16\",\"4:32\",\"5:00\",\"6:00\",\"8:01\",\"8:02\",\"8:04\",\"8:08\",\"8:16\",\"8:32\",\"9:00\",\"10:00\"])"
   ]
  },
  {
   "cell_type": "code",
   "execution_count": null,
   "metadata": {},
   "outputs": [],
   "source": []
  }
 ],
 "metadata": {
  "kernelspec": {
   "display_name": "Python 3",
   "language": "python",
   "name": "python3"
  },
  "language_info": {
   "codemirror_mode": {
    "name": "ipython",
    "version": 3
   },
   "file_extension": ".py",
   "mimetype": "text/x-python",
   "name": "python",
   "nbconvert_exporter": "python",
   "pygments_lexer": "ipython3",
   "version": "3.7.5"
  }
 },
 "nbformat": 4,
 "nbformat_minor": 4
}
