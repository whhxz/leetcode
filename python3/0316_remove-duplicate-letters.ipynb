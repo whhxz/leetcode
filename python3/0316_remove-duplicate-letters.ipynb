{
 "cells": [
  {
   "cell_type": "code",
   "execution_count": 34,
   "metadata": {},
   "outputs": [],
   "source": [
    "class Solution:\n",
    "    def removeDuplicateLetters(self, s: str) -> str:\n",
    "        tdict = {}\n",
    "        ls = list(s)\n",
    "        for c in ls:\n",
    "            tdict[c] = tdict.get(c, 0)+1\n",
    "        res = []\n",
    "        for c in ls:\n",
    "            tdict[c]-=1\n",
    "            #判断是否已经存在\n",
    "            if c not in res:\n",
    "                #如果当前值比栈顶小，判断栈顶值在后面是否还存在，存在就弹出栈顶\n",
    "                while res and c < res[-1]:\n",
    "                    if tdict[res[-1]] > 0:\n",
    "                        res.pop()\n",
    "                    else:\n",
    "                        break\n",
    "                res.append(c)\n",
    "        return \"\".join(res)\n",
    "            "
   ]
  },
  {
   "cell_type": "code",
   "execution_count": 36,
   "metadata": {},
   "outputs": [
    {
     "data": {
      "text/plain": [
       "'acdb'"
      ]
     },
     "execution_count": 36,
     "metadata": {},
     "output_type": "execute_result"
    }
   ],
   "source": [
    "Solution().removeDuplicateLetters(\"cbacdcbc\")"
   ]
  },
  {
   "cell_type": "code",
   "execution_count": null,
   "metadata": {},
   "outputs": [],
   "source": []
  }
 ],
 "metadata": {
  "kernelspec": {
   "display_name": "Python 3",
   "language": "python",
   "name": "python3"
  },
  "language_info": {
   "codemirror_mode": {
    "name": "ipython",
    "version": 3
   },
   "file_extension": ".py",
   "mimetype": "text/x-python",
   "name": "python",
   "nbconvert_exporter": "python",
   "pygments_lexer": "ipython3",
   "version": "3.7.5"
  }
 },
 "nbformat": 4,
 "nbformat_minor": 4
}
