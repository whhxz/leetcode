{
 "cells": [
  {
   "cell_type": "code",
   "execution_count": 1,
   "metadata": {},
   "outputs": [],
   "source": [
    "class Solution:\n",
    "    def getRow(self, rowIndex):\n",
    "        \"\"\"\n",
    "        :type rowIndex: int\n",
    "        :rtype: List[int]\n",
    "        \"\"\"\n",
    "        row = rowIndex + 1\n",
    "        res = [1] * row\n",
    "        tmp = 1\n",
    "        for i in range(1,row):\n",
    "            for j in range(1, i):\n",
    "                res[j],tmp = res[j] + tmp,res[j]\n",
    "        return res\n",
    "                \n",
    "        "
   ]
  },
  {
   "cell_type": "code",
   "execution_count": 8,
   "metadata": {},
   "outputs": [
    {
     "data": {
      "text/plain": [
       "[1,\n",
       " 34,\n",
       " 561,\n",
       " 5984,\n",
       " 46376,\n",
       " 278256,\n",
       " 1344904,\n",
       " 5379616,\n",
       " 18156204,\n",
       " 52451256,\n",
       " 131128140,\n",
       " 286097760,\n",
       " 548354040,\n",
       " 927983760,\n",
       " 1391975640,\n",
       " 1855967520,\n",
       " 2203961430,\n",
       " 2333606220,\n",
       " 2203961430,\n",
       " 1855967520,\n",
       " 1391975640,\n",
       " 927983760,\n",
       " 548354040,\n",
       " 286097760,\n",
       " 131128140,\n",
       " 52451256,\n",
       " 18156204,\n",
       " 5379616,\n",
       " 1344904,\n",
       " 278256,\n",
       " 46376,\n",
       " 5984,\n",
       " 561,\n",
       " 34,\n",
       " 1]"
      ]
     },
     "execution_count": 8,
     "metadata": {},
     "output_type": "execute_result"
    }
   ],
   "source": [
    "Solution().getRow(34)"
   ]
  },
  {
   "cell_type": "code",
   "execution_count": null,
   "metadata": {},
   "outputs": [],
   "source": []
  }
 ],
 "metadata": {
  "kernelspec": {
   "display_name": "Python 3",
   "language": "python",
   "name": "python3"
  },
  "language_info": {
   "codemirror_mode": {
    "name": "ipython",
    "version": 3
   },
   "file_extension": ".py",
   "mimetype": "text/x-python",
   "name": "python",
   "nbconvert_exporter": "python",
   "pygments_lexer": "ipython3",
   "version": "3.5.1"
  }
 },
 "nbformat": 4,
 "nbformat_minor": 2
}
