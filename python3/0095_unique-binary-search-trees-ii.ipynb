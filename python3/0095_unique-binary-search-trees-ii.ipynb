{
 "cells": [
  {
   "cell_type": "code",
   "execution_count": 22,
   "metadata": {},
   "outputs": [],
   "source": [
    "# Definition for a binary tree node.\n",
    "class TreeNode:\n",
    "    def __init__(self, x):\n",
    "        self.val = x\n",
    "        self.left = None\n",
    "        self.right = None\n",
    "from typing import List\n",
    "class Solution:\n",
    "    #深度搜索优先，寻找左右节点\n",
    "    def generateTrees(self, n: int) -> List[TreeNode]:\n",
    "        if n == 0:\n",
    "            return []\n",
    "        def helper(left, right):\n",
    "            if left > right:\n",
    "                return [None]\n",
    "            tmp = []\n",
    "            for i in range(left, right+1):\n",
    "                ls = helper(left, i - 1)\n",
    "                rs = helper(i+1, right)\n",
    "                for t in ls:\n",
    "                    for tt in rs:\n",
    "                        node = TreeNode(i)\n",
    "                        node.left = t\n",
    "                        node.right = tt\n",
    "                        tmp.append(node)\n",
    "\n",
    "            return tmp\n",
    "        return helper(1, n)\n",
    "                        \n"
   ]
  },
  {
   "cell_type": "code",
   "execution_count": 23,
   "metadata": {},
   "outputs": [
    {
     "data": {
      "text/plain": [
       "[<__main__.TreeNode at 0x107bc32d0>]"
      ]
     },
     "execution_count": 23,
     "metadata": {},
     "output_type": "execute_result"
    }
   ],
   "source": [
    "Solution().generateTrees(1)"
   ]
  },
  {
   "cell_type": "code",
   "execution_count": null,
   "metadata": {},
   "outputs": [],
   "source": []
  }
 ],
 "metadata": {
  "kernelspec": {
   "display_name": "Python 3",
   "language": "python",
   "name": "python3"
  },
  "language_info": {
   "codemirror_mode": {
    "name": "ipython",
    "version": 3
   },
   "file_extension": ".py",
   "mimetype": "text/x-python",
   "name": "python",
   "nbconvert_exporter": "python",
   "pygments_lexer": "ipython3",
   "version": "3.7.5"
  }
 },
 "nbformat": 4,
 "nbformat_minor": 4
}
