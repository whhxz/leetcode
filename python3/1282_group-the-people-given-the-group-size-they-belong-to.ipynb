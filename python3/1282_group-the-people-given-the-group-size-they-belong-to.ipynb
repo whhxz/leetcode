{
 "cells": [
  {
   "cell_type": "code",
   "execution_count": null,
   "metadata": {},
   "outputs": [],
   "source": [
    "from typing import List\n",
    "\n",
    "\n",
    "class Solution:\n",
    "    def groupThePeople(self, groupSizes: List[int]) -> List[List[int]]:\n",
    "        tm = dict()\n",
    "        for i,n in enumerate(groupSizes):\n",
    "            tm.setdefault(n, [])\n",
    "            tm[n].append(i)\n",
    "        res = []\n",
    "        for k,v in tm.items():\n",
    "            res.append([])\n",
    "            for vv in v:\n",
    "                if len(res[-1]) == k:\n",
    "                    res.append([])\n",
    "                res[-1].append(vv)\n",
    "        return res"
   ]
  }
 ],
 "metadata": {
  "kernelspec": {
   "display_name": "Python 3",
   "language": "python",
   "name": "python3"
  },
  "language_info": {
   "codemirror_mode": {
    "name": "ipython",
    "version": 3
   },
   "file_extension": ".py",
   "mimetype": "text/x-python",
   "name": "python",
   "nbconvert_exporter": "python",
   "pygments_lexer": "ipython3",
   "version": "3.7.5"
  }
 },
 "nbformat": 4,
 "nbformat_minor": 4
}
