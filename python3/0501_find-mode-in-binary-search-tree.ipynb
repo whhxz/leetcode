{
 "cells": [
  {
   "cell_type": "code",
   "execution_count": 2,
   "metadata": {},
   "outputs": [],
   "source": [
    "# Definition for a binary tree node.\n",
    "class TreeNode:\n",
    "    def __init__(self, x):\n",
    "        self.val = x\n",
    "        self.left = None\n",
    "        self.right = None\n",
    "from typing import List\n",
    "class Solution:\n",
    "    def findMode(self, root: TreeNode) -> List[int]:\n",
    "        if not root:\n",
    "            return []\n",
    "        tdict = {}\n",
    "        def helper(node):\n",
    "            if not node:\n",
    "                return\n",
    "            tdict[node.val] = tdict.get(node.val, 0) + 1\n",
    "            helper(node.left)\n",
    "            helper(node.right)\n",
    "        helper(root)\n",
    "        max_n = tdict.get(max(tdict, key=tdict.get))\n",
    "        return [k for k,v in tdict.items() if v == max_n]\n"
   ]
  },
  {
   "cell_type": "code",
   "execution_count": null,
   "metadata": {},
   "outputs": [],
   "source": []
  }
 ],
 "metadata": {
  "kernelspec": {
   "display_name": "Python 3",
   "language": "python",
   "name": "python3"
  },
  "language_info": {
   "codemirror_mode": {
    "name": "ipython",
    "version": 3
   },
   "file_extension": ".py",
   "mimetype": "text/x-python",
   "name": "python",
   "nbconvert_exporter": "python",
   "pygments_lexer": "ipython3",
   "version": "3.7.5"
  }
 },
 "nbformat": 4,
 "nbformat_minor": 4
}
