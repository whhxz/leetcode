{
 "cells": [
  {
   "cell_type": "code",
   "execution_count": 1,
   "metadata": {},
   "outputs": [],
   "source": [
    "# Definition for singly-linked list.\n",
    "# class ListNode(object):\n",
    "#     def __init__(self, x):\n",
    "#         self.val = x\n",
    "#         self.next = None\n",
    "\n",
    "class Solution(object):\n",
    "    #方法1，翻转字符串，如果翻转后最后一个和第一个一样，那么表示该链表有环\n",
    "    def hasCycle(self, head):\n",
    "        \"\"\"\n",
    "        :type head: ListNode\n",
    "        :rtype: bool\n",
    "        \"\"\"\n",
    "        t_head = head\n",
    "        before = None\n",
    "        next_n = head\n",
    "        while next_n:\n",
    "            tmp = next_n.next\n",
    "            next_n.next = before\n",
    "            before = next_n\n",
    "            next_n = tmp\n",
    "        return False if not head or not head.next else t_head == before\n",
    "    #优化1，每个节点的next设置为head，就是上面的优化版，如果有环那么就会找到同一node且next为head\n",
    "    def hasCycle1(self, head):\n",
    "        \"\"\"\n",
    "        :type head: ListNode\n",
    "        :rtype: bool\n",
    "        \"\"\"\n",
    "        curr = head\n",
    "        while curr:\n",
    "            tmp = curr.next\n",
    "            if tmp == head:\n",
    "                return True\n",
    "            curr.next = head\n",
    "            curr = tmp\n",
    "        return False\n",
    "        \n",
    "    #方法2，定义两个指针，一个指针步进1，一个步进2，如果有环，那么两个指针最终会相遇\n",
    "    def hasCycle2(self, head):\n",
    "        \"\"\"\n",
    "        :type head: ListNode\n",
    "        :rtype: bool\n",
    "        \"\"\"\n",
    "        run1 = head\n",
    "        run2 = head\n",
    "        while run1 and run1.next:\n",
    "            run1 = run1.next.next\n",
    "            run2 = run2.next\n",
    "            if run1 == run2:\n",
    "                return True\n",
    "        return False\n"
   ]
  },
  {
   "cell_type": "code",
   "execution_count": null,
   "metadata": {},
   "outputs": [],
   "source": []
  },
  {
   "cell_type": "code",
   "execution_count": null,
   "metadata": {},
   "outputs": [],
   "source": []
  }
 ],
 "metadata": {
  "kernelspec": {
   "display_name": "Python 3",
   "language": "python",
   "name": "python3"
  },
  "language_info": {
   "codemirror_mode": {
    "name": "ipython",
    "version": 3
   },
   "file_extension": ".py",
   "mimetype": "text/x-python",
   "name": "python",
   "nbconvert_exporter": "python",
   "pygments_lexer": "ipython3",
   "version": "3.5.1"
  }
 },
 "nbformat": 4,
 "nbformat_minor": 2
}
