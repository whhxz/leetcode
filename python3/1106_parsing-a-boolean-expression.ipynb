{
 "cells": [
  {
   "cell_type": "code",
   "execution_count": null,
   "metadata": {},
   "outputs": [],
   "source": [
    "class Solution:\n",
    "    def parseBoolExpr(self, expression: str) -> bool:\n",
    "        stack = []\n",
    "        for c in expression:\n",
    "            if c == ')':\n",
    "                tmp = [0, 0]\n",
    "                while stack[-1] != '(':\n",
    "                    l = stack.pop()\n",
    "                    if l:\n",
    "                        tmp[1] += 1\n",
    "                    else:\n",
    "                        tmp[0] += 1\n",
    "                stack.pop()\n",
    "                l = stack.pop()\n",
    "                if l == '!':\n",
    "                    stack.append(tmp[0] == 1)\n",
    "                elif l == '&':\n",
    "                    stack.append(tmp[0] == 0)\n",
    "                elif l == '|':\n",
    "                    stack.append(tmp[1] != 0)\n",
    "            elif c == 't':\n",
    "                stack.append(True)\n",
    "            elif c == 'f':\n",
    "                stack.append(False)\n",
    "            elif c == ',':\n",
    "                continue\n",
    "            else:\n",
    "                stack.append(c)\n",
    "        return stack[0]\n"
   ]
  }
 ],
 "metadata": {
  "kernelspec": {
   "display_name": "Python 3",
   "language": "python",
   "name": "python3"
  },
  "language_info": {
   "codemirror_mode": {
    "name": "ipython",
    "version": 3
   },
   "file_extension": ".py",
   "mimetype": "text/x-python",
   "name": "python",
   "nbconvert_exporter": "python",
   "pygments_lexer": "ipython3",
   "version": "3.7.5"
  }
 },
 "nbformat": 4,
 "nbformat_minor": 4
}
