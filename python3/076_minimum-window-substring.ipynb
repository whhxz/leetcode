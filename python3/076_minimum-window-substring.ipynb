{
 "cells": [
  {
   "cell_type": "code",
   "execution_count": 69,
   "metadata": {},
   "outputs": [],
   "source": [
    "class Solution:\n",
    "    #把t中数据存入dict中，两个指针，找到第一个匹配的子数组，然后左指针开始向右移动找到字符在t中，之后右指针继续向右查找\n",
    "    #https://blog.csdn.net/qq508618087/article/details/51619536\n",
    "    def minWindow(self, s, t):\n",
    "        \"\"\"\n",
    "        :type s: str\n",
    "        :type t: str\n",
    "        :rtype: str\n",
    "        \"\"\"\n",
    "        #用于存储t的hash\n",
    "        hasht = {}\n",
    "        for ts in t:\n",
    "            v = hasht.setdefault(ts, 0)\n",
    "            hasht[ts] = v + 1\n",
    "        #左指针记录子数组左边\n",
    "        left = 0\n",
    "        #记录是否t字符串已经匹配完毕，每匹配一个字符l --\n",
    "        l = len(t)\n",
    "        #记录最小子字符串角标\n",
    "        res = [0,-1]\n",
    "        #遍历搜索字符串\n",
    "        for i,c in enumerate(s):\n",
    "            #如果c在hash表中\n",
    "            if c in hasht:\n",
    "                #hash中的c值-1\n",
    "                hasht[c] -= 1\n",
    "                #如果hash >=0 表示c字符真在匹配，如果<0表示已经重复匹配了\n",
    "                if hasht[c] >= 0:\n",
    "                    l -= 1\n",
    "            #在l==0表示所有t中字符串都已经匹配完毕，左指针开始向右移动，过滤无必要的字符串\n",
    "            while l == 0:\n",
    "                #如果匹配的字符在hasht中\n",
    "                if s[left] in hasht:\n",
    "                    #那么匹配的字符 += 1\n",
    "                    hasht[s[left]] += 1\n",
    "                    #如果匹配的字符+= 大于0表示已经开始缺失字符串，需要重新开始匹配l+1，如果小于0，表示中间有重复字符串\n",
    "                    if hasht[s[left]] > 0:\n",
    "                        l += 1\n",
    "                        #判断记录子串长度\n",
    "                        if res[1] - res[0] == -1 or i - left < res[1] - res[0]:\n",
    "                            res = [left, i]\n",
    "                #左指针向右移动\n",
    "                left += 1\n",
    "        return s[res[0]: res[1] + 1]"
   ]
  },
  {
   "cell_type": "code",
   "execution_count": 70,
   "metadata": {},
   "outputs": [
    {
     "name": "stdout",
     "output_type": "stream",
     "text": [
      "{'C': 1, 'B': 1, 'A': 1}\n",
      "{'C': 1, 'B': 1, 'A': 0}\n",
      "{'C': 1, 'B': 0, 'A': 0}\n",
      "0 5\n",
      "5\n",
      "{'C': 0, 'B': 0, 'A': 1}\n",
      "{'C': 0, 'B': -1, 'A': 1}\n",
      "3 10\n",
      "5 10\n",
      "5\n",
      "{'C': 1, 'B': 0, 'A': 0}\n",
      "9 12\n",
      "3\n",
      "[9, 12]\n"
     ]
    },
    {
     "data": {
      "text/plain": [
       "'BANC'"
      ]
     },
     "execution_count": 70,
     "metadata": {},
     "output_type": "execute_result"
    }
   ],
   "source": [
    "Solution().minWindow(\"ADOBECODEBANC\", \"ABC\")"
   ]
  },
  {
   "cell_type": "code",
   "execution_count": 10,
   "metadata": {},
   "outputs": [
    {
     "data": {
      "text/plain": [
       "''"
      ]
     },
     "execution_count": 10,
     "metadata": {},
     "output_type": "execute_result"
    }
   ],
   "source": [
    "\"AAA\"[0:0]"
   ]
  },
  {
   "cell_type": "code",
   "execution_count": null,
   "metadata": {},
   "outputs": [],
   "source": []
  }
 ],
 "metadata": {
  "kernelspec": {
   "display_name": "Python 3",
   "language": "python",
   "name": "python3"
  },
  "language_info": {
   "codemirror_mode": {
    "name": "ipython",
    "version": 3
   },
   "file_extension": ".py",
   "mimetype": "text/x-python",
   "name": "python",
   "nbconvert_exporter": "python",
   "pygments_lexer": "ipython3",
   "version": "3.5.1"
  }
 },
 "nbformat": 4,
 "nbformat_minor": 2
}
