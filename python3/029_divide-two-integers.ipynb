{
 "cells": [
  {
   "cell_type": "code",
   "execution_count": 54,
   "metadata": {},
   "outputs": [],
   "source": [
    "class Solution:\n",
    "    def divide(self, dividend, divisor):\n",
    "        \"\"\"\n",
    "        :type dividend: int\n",
    "        :type divisor: int\n",
    "        :rtype: int\n",
    "        \"\"\"\n",
    "        if dividend == -(2**31) and divisor == -1:\n",
    "            return 2**31 - 1\n",
    "        base = 1\n",
    "        if divisor < 0:\n",
    "            divisor = -divisor\n",
    "            base *= -1\n",
    "        if dividend < 0:\n",
    "            dividend = -dividend\n",
    "            base *= -1\n",
    "        res = 0\n",
    "        #递增遍历\n",
    "        while dividend >= divisor:\n",
    "            #记录当前divisor，相对次数\n",
    "            tmp,time = divisor,1\n",
    "            while dividend >= tmp:\n",
    "                #加上次数\n",
    "                res += time\n",
    "                #减去divisor值\n",
    "                dividend -= tmp\n",
    "                #递增减去值\n",
    "                tmp += tmp\n",
    "                #递增相对次数\n",
    "                time += time\n",
    "        return res * base"
   ]
  },
  {
   "cell_type": "code",
   "execution_count": 55,
   "metadata": {},
   "outputs": [
    {
     "data": {
      "text/plain": [
       "2147483647"
      ]
     },
     "execution_count": 55,
     "metadata": {},
     "output_type": "execute_result"
    }
   ],
   "source": [
    "Solution().divide(2147483647,1)"
   ]
  },
  {
   "cell_type": "code",
   "execution_count": 51,
   "metadata": {},
   "outputs": [
    {
     "data": {
      "text/plain": [
       "-2"
      ]
     },
     "execution_count": 51,
     "metadata": {},
     "output_type": "execute_result"
    }
   ],
   "source": [
    "int(7/-3)"
   ]
  },
  {
   "cell_type": "code",
   "execution_count": null,
   "metadata": {},
   "outputs": [],
   "source": []
  }
 ],
 "metadata": {
  "kernelspec": {
   "display_name": "Python 3",
   "language": "python",
   "name": "python3"
  },
  "language_info": {
   "codemirror_mode": {
    "name": "ipython",
    "version": 3
   },
   "file_extension": ".py",
   "mimetype": "text/x-python",
   "name": "python",
   "nbconvert_exporter": "python",
   "pygments_lexer": "ipython3",
   "version": "3.5.1"
  }
 },
 "nbformat": 4,
 "nbformat_minor": 2
}
