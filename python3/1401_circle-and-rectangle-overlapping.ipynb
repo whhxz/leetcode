{
 "cells": [
  {
   "cell_type": "code",
   "execution_count": null,
   "metadata": {},
   "outputs": [],
   "source": [
    "class Solution:\n",
    "    def checkOverlap(self, radius: int, x_center: int, y_center: int, x1: int, y1: int, x2: int, y2: int) -> bool:\n",
    "        if x1 <= x_center + radius and x2 >= x_center - radius and y1 <= y_center + radius and y2 >= y_center - radius:\n",
    "            if x1 > x_center and y1 > y_center:\n",
    "                return (x1 - x_center) ** 2 + (y1 - y_center) ** 2 <= radius ** 2\n",
    "            if x2 < x_center and y1 > y_center:\n",
    "                return (x2 - x_center) ** 2 + (y1 - y_center) ** 2 <= radius ** 2\n",
    "            if x2 < x_center and y2 < y_center:\n",
    "                return (x2 - x_center) ** 2 + (y2 - y_center) ** 2 <= radius ** 2\n",
    "            if x1 > x_center and y2 < y_center:\n",
    "                return (x1 - x_center) ** 2 + (y2 - y_center) ** 2 <= radius ** 2\n",
    "            return True\n",
    "        return False\n"
   ]
  }
 ],
 "metadata": {
  "kernelspec": {
   "display_name": "Python 3",
   "language": "python",
   "name": "python3"
  },
  "language_info": {
   "codemirror_mode": {
    "name": "ipython",
    "version": 3
   },
   "file_extension": ".py",
   "mimetype": "text/x-python",
   "name": "python",
   "nbconvert_exporter": "python",
   "pygments_lexer": "ipython3",
   "version": "3.7.5"
  }
 },
 "nbformat": 4,
 "nbformat_minor": 4
}
