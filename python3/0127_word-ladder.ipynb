{
 "cells": [
  {
   "cell_type": "code",
   "execution_count": null,
   "metadata": {},
   "outputs": [],
   "source": [
    "from typing import List\n",
    "\n",
    "\n",
    "class Solution:\n",
    "    def ladderLength(self, beginWord: str, endWord: str, wordList: List[str]) -> int:\n",
    "        words = set(wordList)\n",
    "        if endWord not in wordList or endWord == beginWord:\n",
    "            return 0\n",
    "        def helper(w1, w2):\n",
    "            ti = 0\n",
    "            for i,c in enumerate(w1):\n",
    "                if c != w2[i]:\n",
    "                    ti += 1\n",
    "                if ti > 1:\n",
    "                    break\n",
    "            return ti == 1\n",
    "        walks = set()\n",
    "        ns = set()\n",
    "        ns.add(beginWord)\n",
    "        i = 0\n",
    "        while ns:\n",
    "            if endWord in ns:\n",
    "                break\n",
    "            t = set()\n",
    "            for n in ns:\n",
    "                for word in words:\n",
    "                    if word not in walks and helper(word, n):\n",
    "                        t.add(word)\n",
    "                        walks.add(word)\n",
    "            i += 1\n",
    "            ns = t\n",
    "        return i + 1 if endWord in ns else 0\n"
   ]
  }
 ],
 "metadata": {
  "kernelspec": {
   "display_name": "Python 3",
   "language": "python",
   "name": "python3"
  },
  "language_info": {
   "codemirror_mode": {
    "name": "ipython",
    "version": 3
   },
   "file_extension": ".py",
   "mimetype": "text/x-python",
   "name": "python",
   "nbconvert_exporter": "python",
   "pygments_lexer": "ipython3",
   "version": "3.7.5"
  }
 },
 "nbformat": 4,
 "nbformat_minor": 4
}
