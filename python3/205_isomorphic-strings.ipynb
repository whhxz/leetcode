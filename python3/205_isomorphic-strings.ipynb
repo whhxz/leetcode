{
 "cells": [
  {
   "cell_type": "code",
   "execution_count": 5,
   "metadata": {},
   "outputs": [],
   "source": [
    "class Solution:\n",
    "    def isIsomorphic(self, s: str, t: str) -> bool:\n",
    "        sd = {}\n",
    "        td = {}\n",
    "        for i,c in enumerate(s):\n",
    "            if c not in sd:\n",
    "                sd[c] = i\n",
    "            tc = t[i]\n",
    "            if tc not in td:\n",
    "                td[tc] = i\n",
    "            if sd[c] != td[tc]:\n",
    "                return False\n",
    "        return True\n",
    "        #return len(set(s)) == len(set(t)) == len(set(zip(s, t)))"
   ]
  },
  {
   "cell_type": "code",
   "execution_count": 7,
   "metadata": {},
   "outputs": [
    {
     "data": {
      "text/plain": [
       "True"
      ]
     },
     "execution_count": 7,
     "metadata": {},
     "output_type": "execute_result"
    }
   ],
   "source": [
    "Solution().isIsomorphic(\"paper\", \"title\")"
   ]
  },
  {
   "cell_type": "code",
   "execution_count": 9,
   "metadata": {},
   "outputs": [
    {
     "data": {
      "text/plain": [
       "{('a', 'i'), ('e', 'l'), ('p', 't'), ('r', 'e')}"
      ]
     },
     "execution_count": 9,
     "metadata": {},
     "output_type": "execute_result"
    }
   ],
   "source": [
    "set(zip(\"paper\", \"title\"))"
   ]
  },
  {
   "cell_type": "code",
   "execution_count": null,
   "metadata": {},
   "outputs": [],
   "source": []
  }
 ],
 "metadata": {
  "kernelspec": {
   "display_name": "Python 3",
   "language": "python",
   "name": "python3"
  },
  "language_info": {
   "codemirror_mode": {
    "name": "ipython",
    "version": 3
   },
   "file_extension": ".py",
   "mimetype": "text/x-python",
   "name": "python",
   "nbconvert_exporter": "python",
   "pygments_lexer": "ipython3",
   "version": "3.7.0"
  }
 },
 "nbformat": 4,
 "nbformat_minor": 2
}
