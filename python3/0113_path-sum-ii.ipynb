{
 "cells": [
  {
   "cell_type": "code",
   "execution_count": 2,
   "metadata": {},
   "outputs": [],
   "source": [
    "# Definition for a binary tree node.\n",
    "class TreeNode:\n",
    "    def __init__(self, x):\n",
    "        self.val = x\n",
    "        self.left = None\n",
    "        self.right = None\n",
    "from typing import List\n",
    "class Solution:\n",
    "    def pathSum(self, root: TreeNode, sum: int) -> List[List[int]]:\n",
    "        res = []\n",
    "        def helper(node, nums, total):\n",
    "            if not node:\n",
    "                return\n",
    "            total += node.val\n",
    "            if total > sum:\n",
    "                return\n",
    "            if not node.left and not node.right and total == sum:\n",
    "                nums.append(node.val)\n",
    "                res.append(nums)\n",
    "                return\n",
    "            if node.left:\n",
    "                helper(node.left, nums+[node.val], total)\n",
    "            if node.right:\n",
    "                helper(node.right, nums+[node.val], total)\n",
    "        helper(root, [], 0)\n",
    "        return res"
   ]
  },
  {
   "cell_type": "code",
   "execution_count": null,
   "metadata": {},
   "outputs": [],
   "source": []
  }
 ],
 "metadata": {
  "kernelspec": {
   "display_name": "Python 3",
   "language": "python",
   "name": "python3"
  },
  "language_info": {
   "codemirror_mode": {
    "name": "ipython",
    "version": 3
   },
   "file_extension": ".py",
   "mimetype": "text/x-python",
   "name": "python",
   "nbconvert_exporter": "python",
   "pygments_lexer": "ipython3",
   "version": "3.7.5"
  }
 },
 "nbformat": 4,
 "nbformat_minor": 4
}
