{
 "cells": [
  {
   "cell_type": "code",
   "execution_count": 49,
   "metadata": {},
   "outputs": [],
   "source": [
    "from typing import List\n",
    "class Solution:\n",
    "    #https://labuladong.gitbook.io/algo/dong-tai-gui-hua-xi-lie/dong-tai-gui-hua-zhi-bo-yi-wen-ti\n",
    "    def stoneGame(self, piles: List[int]) -> bool:\n",
    "        lp = len(piles)\n",
    "        dp = [[(0, 0)]*i + [(piles[i], 0)] + [(0,0)]*(lp -i - 1) for i in range(lp)]\n",
    "        for i in range(1, lp):\n",
    "            for j in range(lp-i):\n",
    "                #斜遍历\n",
    "                i0,i1 = j, i+j\n",
    "                #先选左边，表示为选择右边的后手\n",
    "                left = piles[i0] + dp[i0+1][i1][1]\n",
    "                #选择右边，表示选择为左边的后手\n",
    "                right = dp[i0][i1-1][1] + piles[i1]\n",
    "                if left > right:\n",
    "                    dp[i0][i1] = (left, dp[i0+1][i1][0])\n",
    "                else:\n",
    "                    dp[i0][i1] = (right, dp[i0][i1-1][0])\n",
    "        return dp[0][-1][0] > dp[0][-1][1]\n",
    "        "
   ]
  },
  {
   "cell_type": "code",
   "execution_count": 51,
   "metadata": {},
   "outputs": [
    {
     "name": "stdout",
     "output_type": "stream",
     "text": [
      "[(3, 0), (3, 2), (12, 3), (13, 6)]\n",
      "[(0, 0), (2, 0), (10, 2), (6, 10)]\n",
      "[(0, 0), (0, 0), (10, 0), (10, 4)]\n",
      "[(0, 0), (0, 0), (0, 0), (4, 0)]\n"
     ]
    },
    {
     "data": {
      "text/plain": [
       "True"
      ]
     },
     "execution_count": 51,
     "metadata": {},
     "output_type": "execute_result"
    }
   ],
   "source": [
    "Solution().stoneGame([3,2,10,4])"
   ]
  },
  {
   "cell_type": "code",
   "execution_count": null,
   "metadata": {},
   "outputs": [],
   "source": []
  },
  {
   "cell_type": "code",
   "execution_count": null,
   "metadata": {},
   "outputs": [],
   "source": []
  }
 ],
 "metadata": {
  "kernelspec": {
   "display_name": "Python 3",
   "language": "python",
   "name": "python3"
  },
  "language_info": {
   "codemirror_mode": {
    "name": "ipython",
    "version": 3
   },
   "file_extension": ".py",
   "mimetype": "text/x-python",
   "name": "python",
   "nbconvert_exporter": "python",
   "pygments_lexer": "ipython3",
   "version": "3.7.5"
  }
 },
 "nbformat": 4,
 "nbformat_minor": 4
}
