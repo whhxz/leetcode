{
 "cells": [
  {
   "cell_type": "code",
   "execution_count": null,
   "metadata": {},
   "outputs": [],
   "source": [
    "from typing import List\n",
    "\n",
    "\n",
    "class Solution:\n",
    "    def longestSubarray(self, nums: List[int]) -> int:\n",
    "        tn = []\n",
    "        for num in nums:\n",
    "            if not tn or tn[-1][0] != num:\n",
    "                tn.append([num, 1])\n",
    "            else:\n",
    "                tn[-1][1] += 1\n",
    "        if len(tn) == 1:\n",
    "            return tn[0][1] - 1 if tn[0][0] == 1 else 0\n",
    "        res = 0\n",
    "        for i, t in enumerate(tn):\n",
    "            if t[0] == 1:\n",
    "                res = max(res, t[1])\n",
    "            else:\n",
    "                if i != 0 and i != len(tn) - 1 and t[1] == 1:\n",
    "                    res = max(res, tn[i-1][1] + tn[i+1][1])\n",
    "        return res"
   ]
  }
 ],
 "metadata": {
  "kernelspec": {
   "display_name": "Python 3",
   "language": "python",
   "name": "python3"
  },
  "language_info": {
   "codemirror_mode": {
    "name": "ipython",
    "version": 3
   },
   "file_extension": ".py",
   "mimetype": "text/x-python",
   "name": "python",
   "nbconvert_exporter": "python",
   "pygments_lexer": "ipython3",
   "version": "3.7.5"
  }
 },
 "nbformat": 4,
 "nbformat_minor": 4
}
