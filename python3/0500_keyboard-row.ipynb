{
 "cells": [
  {
   "cell_type": "code",
   "execution_count": 13,
   "metadata": {},
   "outputs": [],
   "source": [
    "from typing import List\n",
    "class Solution:\n",
    "    def findWords(self, words: List[str]) -> List[str]:\n",
    "        ss = [{'q', 'w', 'e', 'r', 't', 'y', 'u', 'i', 'o', 'p'},{'a', 's', 'd', 'f', 'g', 'h', 'j', 'k', 'l'},{'z', 'x', 'c', 'v', 'b', 'n', 'm'}]\n",
    "        res = []\n",
    "        for j,word in enumerate(words):\n",
    "            word = word.lower()\n",
    "            tmp = None\n",
    "            for s in ss:\n",
    "                if word[0] in s:\n",
    "                    tmp = s\n",
    "                    break\n",
    "            i = 1\n",
    "            while i < len(word) and word[i] in tmp:\n",
    "                i += 1\n",
    "            if i == len(word):\n",
    "                res.append(words[j])\n",
    "        return res\n",
    "            "
   ]
  },
  {
   "cell_type": "code",
   "execution_count": null,
   "metadata": {},
   "outputs": [],
   "source": [
    "Solution().findWords([\"a\", \"Alaska\", \"Dad\", \"Peace\"])"
   ]
  },
  {
   "cell_type": "code",
   "execution_count": null,
   "metadata": {},
   "outputs": [],
   "source": []
  }
 ],
 "metadata": {
  "kernelspec": {
   "display_name": "Python 3",
   "language": "python",
   "name": "python3"
  },
  "language_info": {
   "codemirror_mode": {
    "name": "ipython",
    "version": 3
   },
   "file_extension": ".py",
   "mimetype": "text/x-python",
   "name": "python",
   "nbconvert_exporter": "python",
   "pygments_lexer": "ipython3",
   "version": "3.7.5"
  }
 },
 "nbformat": 4,
 "nbformat_minor": 4
}
