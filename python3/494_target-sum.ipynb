{
 "cells": [
  {
   "cell_type": "code",
   "execution_count": 49,
   "metadata": {},
   "outputs": [],
   "source": [
    "class Solution:\n",
    "    # 如果sum(+) - sum(-) = S   +表示正数部分，-表示添加负号部分\n",
    "    # sum(+) = S + sum(-)\n",
    "    # sum(+) + sum(+) = S + sum(-) + sum(+)  ===>  2(sum(+)) = S + sum(nums) ===> sum(+) = (S + sum(nums))/2\n",
    "    # 就可以得出，需要S + sum(nums)必须是2的倍数，然后统计nums中和为(S + sum(nums))/2 的个数\n",
    "    def findTargetSumWays(self, nums, S):\n",
    "        \"\"\"\n",
    "        :type nums: List[int]\n",
    "        :type S: int\n",
    "        :rtype: int\n",
    "        \"\"\"\n",
    "        total = sum(nums)\n",
    "        if total < S or (total + S) % 2 > 0:\n",
    "            return 0\n",
    "        tnum = (total + S) >> 1\n",
    "        #创建需要寻找的数组大小，遍历数组，找到生成每个数的个数\n",
    "        tnums = [0] * (tnum + 1)\n",
    "        tnums[0] = 1\n",
    "        for num in nums:\n",
    "            i = tnum\n",
    "            while i >= num:\n",
    "                tnums[i] += tnums[i - num]\n",
    "                i -= 1\n",
    "        return tnums[-1]\n",
    "                "
   ]
  },
  {
   "cell_type": "code",
   "execution_count": 50,
   "metadata": {},
   "outputs": [
    {
     "data": {
      "text/plain": [
       "5602"
      ]
     },
     "execution_count": 50,
     "metadata": {},
     "output_type": "execute_result"
    }
   ],
   "source": [
    "Solution().findTargetSumWays([42,24,30,14,38,27,12,29,43,42,5,18,0,1,12,44,45,50,21,47],38)"
   ]
  },
  {
   "cell_type": "code",
   "execution_count": 44,
   "metadata": {},
   "outputs": [
    {
     "data": {
      "text/plain": [
       "5602"
      ]
     },
     "execution_count": 44,
     "metadata": {},
     "output_type": "execute_result"
    }
   ],
   "source": [
    "Solution().findTargetSumWays([42,24,30,14,38,27,12,29,43,42,5,18,0,1,12,44,45,50,21,47],38)"
   ]
  },
  {
   "cell_type": "code",
   "execution_count": null,
   "metadata": {},
   "outputs": [],
   "source": []
  }
 ],
 "metadata": {
  "kernelspec": {
   "display_name": "Python 3",
   "language": "python",
   "name": "python3"
  },
  "language_info": {
   "codemirror_mode": {
    "name": "ipython",
    "version": 3
   },
   "file_extension": ".py",
   "mimetype": "text/x-python",
   "name": "python",
   "nbconvert_exporter": "python",
   "pygments_lexer": "ipython3",
   "version": "3.5.1"
  }
 },
 "nbformat": 4,
 "nbformat_minor": 2
}
