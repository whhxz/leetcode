{
 "cells": [
  {
   "cell_type": "code",
   "execution_count": 22,
   "metadata": {},
   "outputs": [],
   "source": [
    "class Solution:\n",
    "    def originalDigits(self, s: str) -> str:\n",
    "        tmps = ['one', '', '', '', '', '', '', '', '', '']\n",
    "        az = [0]*26\n",
    "        res = []\n",
    "        for c in s:\n",
    "            az[ord(c)-97] += 1\n",
    "        def helper(c, word, n):\n",
    "            num = az[ord(c)-97]\n",
    "            if num != 0:\n",
    "                res.extend([n]*num)\n",
    "                for w in word:\n",
    "                    az[ord(w)-97] -= num\n",
    "        # x  six\n",
    "        helper('x', 'six', '6')\n",
    "        # z  zero\n",
    "        helper('z', 'zero', '0')\n",
    "        # s  seven\n",
    "        helper('s', 'seven', '7')\n",
    "        # v five\n",
    "        helper('v', 'five', '5')\n",
    "        # f four\n",
    "        helper('f', 'four', '4')\n",
    "        # w two\n",
    "        helper('w', 'two', '2')\n",
    "        # g eight\n",
    "        helper('g', 'eight', '8')\n",
    "        # h three\n",
    "        helper('h', 'three', '3')\n",
    "        # i nine\n",
    "        helper('i', 'nine', '9')\n",
    "        # o nine\n",
    "        helper('o', 'one', '1')\n",
    "        res.sort()\n",
    "        return \"\".join(res);"
   ]
  },
  {
   "cell_type": "code",
   "execution_count": 23,
   "metadata": {},
   "outputs": [
    {
     "data": {
      "text/plain": [
       "'45'"
      ]
     },
     "execution_count": 23,
     "metadata": {},
     "output_type": "execute_result"
    }
   ],
   "source": [
    "Solution().originalDigits('fviefuro')"
   ]
  },
  {
   "cell_type": "code",
   "execution_count": null,
   "metadata": {},
   "outputs": [],
   "source": []
  }
 ],
 "metadata": {
  "kernelspec": {
   "display_name": "Python 3",
   "language": "python",
   "name": "python3"
  },
  "language_info": {
   "codemirror_mode": {
    "name": "ipython",
    "version": 3
   },
   "file_extension": ".py",
   "mimetype": "text/x-python",
   "name": "python",
   "nbconvert_exporter": "python",
   "pygments_lexer": "ipython3",
   "version": "3.7.5"
  }
 },
 "nbformat": 4,
 "nbformat_minor": 4
}
