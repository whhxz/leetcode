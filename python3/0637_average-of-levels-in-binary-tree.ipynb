{
 "cells": [
  {
   "cell_type": "code",
   "execution_count": null,
   "metadata": {},
   "outputs": [],
   "source": [
    "# Definition for a binary tree node.\n",
    "from typing import List\n",
    "\n",
    "\n",
    "class TreeNode:\n",
    "    def __init__(self, x):\n",
    "        self.val = x\n",
    "        self.left = None\n",
    "        self.right = None\n",
    "\n",
    "class Solution:\n",
    "    def averageOfLevels(self, root: TreeNode) -> List[float]:\n",
    "        if not root:\n",
    "            return []\n",
    "        node_list = [root]\n",
    "        res = []\n",
    "        while node_list:\n",
    "            t = []\n",
    "            tn = 0\n",
    "            for node in node_list:\n",
    "                if node.left:\n",
    "                    t.append(node.left)\n",
    "                if node.right:\n",
    "                    t.append(node.right)\n",
    "                tn += node.val\n",
    "            res.append(tn/len(node_list))\n",
    "            node_list = t\n",
    "        return res\n"
   ]
  }
 ],
 "metadata": {
  "kernelspec": {
   "display_name": "Python 3",
   "language": "python",
   "name": "python3"
  },
  "language_info": {
   "codemirror_mode": {
    "name": "ipython",
    "version": 3
   },
   "file_extension": ".py",
   "mimetype": "text/x-python",
   "name": "python",
   "nbconvert_exporter": "python",
   "pygments_lexer": "ipython3",
   "version": "3.7.5"
  }
 },
 "nbformat": 4,
 "nbformat_minor": 4
}
