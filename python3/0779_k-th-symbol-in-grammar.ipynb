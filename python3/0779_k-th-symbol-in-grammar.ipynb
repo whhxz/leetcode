{
 "cells": [
  {
   "cell_type": "code",
   "execution_count": 14,
   "metadata": {},
   "outputs": [],
   "source": [
    "class Solution:\n",
    "    #通过上一个确定下一个\n",
    "    def kthGrammar(self, N: int, K: int) -> int:\n",
    "        if N ==1:\n",
    "            return 0\n",
    "        right = (K+1) % 2\n",
    "        p = self.kthGrammar(N - 1, (K + 1)>>1)\n",
    "        return p^right\n",
    "        class Solution(object):\n",
    "    #O(logN)\n",
    "    def kthGrammar1(self, N, K):\n",
    "        return bin(K - 1).count('1') % 2"
   ]
  },
  {
   "cell_type": "code",
   "execution_count": 15,
   "metadata": {},
   "outputs": [
    {
     "data": {
      "text/plain": [
       "1"
      ]
     },
     "execution_count": 15,
     "metadata": {},
     "output_type": "execute_result"
    }
   ],
   "source": [
    "Solution().kthGrammar(4, 5)"
   ]
  },
  {
   "cell_type": "code",
   "execution_count": null,
   "metadata": {},
   "outputs": [],
   "source": []
  }
 ],
 "metadata": {
  "kernelspec": {
   "display_name": "Python 3",
   "language": "python",
   "name": "python3"
  },
  "language_info": {
   "codemirror_mode": {
    "name": "ipython",
    "version": 3
   },
   "file_extension": ".py",
   "mimetype": "text/x-python",
   "name": "python",
   "nbconvert_exporter": "python",
   "pygments_lexer": "ipython3",
   "version": "3.7.4"
  }
 },
 "nbformat": 4,
 "nbformat_minor": 4
}
