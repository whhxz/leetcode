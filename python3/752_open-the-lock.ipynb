{
 "cells": [
  {
   "cell_type": "code",
   "execution_count": 109,
   "metadata": {},
   "outputs": [],
   "source": [
    "class Solution:\n",
    "    def openLock(self, deadends, target):\n",
    "        \"\"\"\n",
    "        :type deadends: List[str]\n",
    "        :type target: str\n",
    "        :rtype: int\n",
    "        \"\"\"\n",
    "        deadends = {(int(num[0]), int(num[1]), int(num[2]), int(num[3])) for num in deadends}\n",
    "        target = (int(target[0]), int(target[1]), int(target[2]), int(target[3]))\n",
    "        if (0,0,0,0) in deadends or target in deadends:\n",
    "            return -1\n",
    "        walk_way = set()\n",
    "        walk = {(0,0,0,0)}\n",
    "        tmps = set()\n",
    "        tmp = None\n",
    "        res = 0\n",
    "        for i in range(36):\n",
    "            res += 1\n",
    "            for num in walk:\n",
    "                walk_way.add(num)\n",
    "                for cur in [((num[0] + 1) % 10, num[1], num[2], num[3]),\n",
    "                           ((num[0] + 9) % 10, num[1], num[2], num[3]),\n",
    "                           (num[0], (num[1] + 1) % 10, num[2], num[3]),\n",
    "                           (num[0], (num[1] + 9) % 10, num[2], num[3]),\n",
    "                           (num[0], num[1], (num[2] + 1)%10, num[3]),\n",
    "                           (num[0], num[1], (num[2] + 9)%10, num[3]),\n",
    "                           (num[0], num[1], num[2], (num[3]+1)%10),\n",
    "                           (num[0], num[1], num[2], (num[3] + 9)%10)]:\n",
    "                    if cur == target:\n",
    "                        return res\n",
    "                    if cur not in deadends and cur not in walk_way:\n",
    "                        tmps.add(cur)\n",
    "            walk = tmps\n",
    "            tmps = set()\n",
    "        return -1\n",
    "        \n",
    "                    \n",
    "            \n",
    "        "
   ]
  },
  {
   "cell_type": "code",
   "execution_count": 111,
   "metadata": {},
   "outputs": [
    {
     "data": {
      "text/plain": [
       "8"
      ]
     },
     "execution_count": 111,
     "metadata": {},
     "output_type": "execute_result"
    }
   ],
   "source": [
    "Solution().openLock([\"8887\",\"8889\",\"8878\",\"8898\",\"8788\",\"8988\",\"7888\"],\"8888\")"
   ]
  },
  {
   "cell_type": "code",
   "execution_count": 101,
   "metadata": {},
   "outputs": [
    {
     "data": {
      "text/plain": [
       "True"
      ]
     },
     "execution_count": 101,
     "metadata": {},
     "output_type": "execute_result"
    }
   ],
   "source": [
    "nums = {(8,8,8,8)}\n",
    "(8,8,8,8) in nums\n"
   ]
  },
  {
   "cell_type": "code",
   "execution_count": null,
   "metadata": {},
   "outputs": [],
   "source": []
  }
 ],
 "metadata": {
  "kernelspec": {
   "display_name": "Python 3",
   "language": "python",
   "name": "python3"
  },
  "language_info": {
   "codemirror_mode": {
    "name": "ipython",
    "version": 3
   },
   "file_extension": ".py",
   "mimetype": "text/x-python",
   "name": "python",
   "nbconvert_exporter": "python",
   "pygments_lexer": "ipython3",
   "version": "3.5.1"
  }
 },
 "nbformat": 4,
 "nbformat_minor": 2
}
