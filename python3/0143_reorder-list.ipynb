{
 "cells": [
  {
   "cell_type": "code",
   "execution_count": 1,
   "metadata": {},
   "outputs": [],
   "source": [
    "# Definition for singly-linked list.\n",
    "class ListNode:\n",
    "    def __init__(self, x):\n",
    "        self.val = x\n",
    "        self.next = None\n",
    "\n",
    "class Solution:\n",
    "    #速度较慢，内存消耗低\n",
    "    def reorderList(self, head: ListNode) -> None:\n",
    "        \"\"\"\n",
    "        Do not return anything, modify head in-place instead.\n",
    "        \"\"\"\n",
    "        #计算长度\n",
    "        node = head\n",
    "        ll = 0\n",
    "        while node:\n",
    "            ll += 1\n",
    "            node = node.next\n",
    "        if ll < 3:\n",
    "            return\n",
    "        left = ll - ((ll - 1) >> 1)\n",
    "        #翻转需要前移的节点\n",
    "        before = head\n",
    "        node = head.next\n",
    "        i = 1\n",
    "        while node:\n",
    "            i += 1\n",
    "            if i <= left:\n",
    "                before,node = node,node.next\n",
    "            elif node.next:\n",
    "                tmp = node.next\n",
    "                node.next = node.next.next\n",
    "                before.next,tmp.next = tmp,before.next\n",
    "            else:\n",
    "                break\n",
    "        #移动链表到指定位置\n",
    "        n1 = head\n",
    "        node = head.next\n",
    "        i = 1\n",
    "        while node:\n",
    "            i += 1\n",
    "            if i < left:\n",
    "                node = node.next\n",
    "            elif node.next:\n",
    "                tmp = node.next\n",
    "                node.next = node.next.next\n",
    "                n1.next,tmp.next = tmp,n1.next\n",
    "                n1 = n1.next.next\n",
    "            else:\n",
    "                break\n"
   ]
  },
  {
   "cell_type": "code",
   "execution_count": null,
   "metadata": {},
   "outputs": [],
   "source": []
  }
 ],
 "metadata": {
  "kernelspec": {
   "display_name": "Python 3",
   "language": "python",
   "name": "python3"
  },
  "language_info": {
   "codemirror_mode": {
    "name": "ipython",
    "version": 3
   },
   "file_extension": ".py",
   "mimetype": "text/x-python",
   "name": "python",
   "nbconvert_exporter": "python",
   "pygments_lexer": "ipython3",
   "version": "3.7.5"
  }
 },
 "nbformat": 4,
 "nbformat_minor": 4
}
