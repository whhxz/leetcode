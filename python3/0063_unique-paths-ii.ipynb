{
 "cells": [
  {
   "cell_type": "code",
   "execution_count": 39,
   "metadata": {},
   "outputs": [],
   "source": [
    "class Solution:\n",
    "    #原理和63一样，只是如果存在障碍物那么设置该值为0即可\n",
    "    def uniquePathsWithObstacles(self, obstacleGrid):\n",
    "        \"\"\"\n",
    "        :type obstacleGrid: List[List[int]]\n",
    "        :rtype: int\n",
    "        \"\"\"\n",
    "        for i, nums in enumerate(obstacleGrid):\n",
    "            for j, num in enumerate(nums):\n",
    "                if i == 0 and j == 0:\n",
    "                    #翻转01\n",
    "                    obstacleGrid[i][j] ^= 1\n",
    "                #对于i=0 或者j=0特殊处理，先翻转，和前一个进行匹配\n",
    "                elif i == 0:\n",
    "                    obstacleGrid[i][j] = (obstacleGrid[i][j] ^ 1) & obstacleGrid[i][j-1]\n",
    "                elif j == 0:\n",
    "                    obstacleGrid[i][j] = (obstacleGrid[i][j] ^ 1) & obstacleGrid[i-1][j]\n",
    "                elif num == 1:\n",
    "                    obstacleGrid[i][j] = 0\n",
    "                else:\n",
    "                    obstacleGrid[i][j] = obstacleGrid[i-1][j] + obstacleGrid[i][j-1]\n",
    "        print(obstacleGrid)\n",
    "        return obstacleGrid[-1][-1]\n",
    "                    \n",
    "                    \n",
    "            "
   ]
  },
  {
   "cell_type": "code",
   "execution_count": 40,
   "metadata": {},
   "outputs": [
    {
     "name": "stdout",
     "output_type": "stream",
     "text": [
      "0 0\n",
      "[[0, 0]]\n"
     ]
    },
    {
     "data": {
      "text/plain": [
       "0"
      ]
     },
     "execution_count": 40,
     "metadata": {},
     "output_type": "execute_result"
    }
   ],
   "source": [
    "Solution().uniquePathsWithObstacles([[1,1]])"
   ]
  },
  {
   "cell_type": "code",
   "execution_count": 38,
   "metadata": {},
   "outputs": [
    {
     "name": "stdout",
     "output_type": "stream",
     "text": [
      "0\n"
     ]
    }
   ],
   "source": [
    "print(0 & 0)"
   ]
  },
  {
   "cell_type": "code",
   "execution_count": null,
   "metadata": {},
   "outputs": [],
   "source": []
  }
 ],
 "metadata": {
  "kernelspec": {
   "display_name": "Python 3",
   "language": "python",
   "name": "python3"
  },
  "language_info": {
   "codemirror_mode": {
    "name": "ipython",
    "version": 3
   },
   "file_extension": ".py",
   "mimetype": "text/x-python",
   "name": "python",
   "nbconvert_exporter": "python",
   "pygments_lexer": "ipython3",
   "version": "3.5.1"
  }
 },
 "nbformat": 4,
 "nbformat_minor": 2
}
