{
 "cells": [
  {
   "cell_type": "code",
   "execution_count": 36,
   "metadata": {},
   "outputs": [],
   "source": [
    "import time\n",
    "class Twitter:\n",
    "\n",
    "    def __init__(self):\n",
    "        \"\"\"\n",
    "        Initialize your data structure here.\n",
    "        \"\"\"\n",
    "        #存储用户关注关系，key：userId，value，用户关注的人\n",
    "        self.relation = {}\n",
    "        #存储用户发送的tweets，key：userId，value：用户发送的的tweetsId，包含发送时间\n",
    "        self.tweets = {}\n",
    "        \n",
    "\n",
    "    def postTweet(self, userId, tweetId):\n",
    "        \"\"\"\n",
    "        Compose a new tweet.\n",
    "        :type userId: int\n",
    "        :type tweetId: int\n",
    "        :rtype: void\n",
    "        \"\"\"\n",
    "        #发送Tweet简单，直接存储数据\n",
    "        self.tweets.setdefault(userId, []).append([tweetId, time.time()])\n",
    "\n",
    "    def getNewsFeed(self, userId):\n",
    "        \"\"\"\n",
    "        Retrieve the 10 most recent tweet ids in the user's news feed. Each item in the news feed must be posted by users who the user followed or by the user herself. Tweets must be ordered from most recent to least recent.\n",
    "        :type userId: int\n",
    "        :rtype: List[int]\n",
    "        \"\"\"\n",
    "        #先查询出用户所有关注的用户\n",
    "        userFilter = self.relation.setdefault(userId, [])\n",
    "        all_t = []\n",
    "        #整合所有发送的tweet\n",
    "        for u in userFilter:\n",
    "            all_t.extend(self.tweets.setdefault(u, []))\n",
    "        all_t.extend(self.tweets.setdefault(userId, []))\n",
    "        #排序去第10个\n",
    "        all_t.sort(key=lambda x: x[1], reverse=True)\n",
    "        res = []\n",
    "        for t in all_t:\n",
    "            if len(res) == 10:\n",
    "                break\n",
    "            else:\n",
    "                res.append(t[0])\n",
    "        return res\n",
    "        \n",
    "\n",
    "    def follow(self, followerId, followeeId):\n",
    "        \"\"\"\n",
    "        Follower follows a followee. If the operation is invalid, it should be a no-op.\n",
    "        :type followerId: int\n",
    "        :type followeeId: int\n",
    "        :rtype: void\n",
    "        \"\"\"\n",
    "        #直接添加，订阅，不能重复订阅，不能订阅自己\n",
    "        f = self.relation.setdefault(followerId, [])\n",
    "        if followeeId not in f and followeeId != followerId:\n",
    "            f.append(followeeId)\n",
    "        \n",
    "\n",
    "    def unfollow(self, followerId, followeeId):\n",
    "        \"\"\"\n",
    "        Follower unfollows a followee. If the operation is invalid, it should be a no-op.\n",
    "        :type followerId: int\n",
    "        :type followeeId: int\n",
    "        :rtype: void\n",
    "        \"\"\"\n",
    "        #解除关注\n",
    "        f = self.relation.setdefault(followerId, [])\n",
    "        if followeeId in f:\n",
    "            f.remove(followeeId)\n",
    "\n",
    "\n",
    "# Your Twitter object will be instantiated and called as such:\n",
    "# obj = Twitter()\n",
    "# obj.postTweet(userId,tweetId)\n",
    "# param_2 = obj.getNewsFeed(userId)\n",
    "# obj.follow(followerId,followeeId)\n",
    "# obj.unfollow(followerId,followeeId)"
   ]
  },
  {
   "cell_type": "code",
   "execution_count": 37,
   "metadata": {},
   "outputs": [
    {
     "name": "stdout",
     "output_type": "stream",
     "text": [
      "[]\n",
      "[6, 5]\n"
     ]
    }
   ],
   "source": [
    "obj = Twitter()\n",
    "obj.postTweet(1,5)\n",
    "param_2 = obj.getNewsFeed(1)\n",
    "obj.follow(1,2)\n",
    "obj.postTweet(2, 6)\n",
    "param_2 = obj.getNewsFeed(1)\n",
    "print(param_2)\n",
    "obj.unfollow(1,2)"
   ]
  },
  {
   "cell_type": "code",
   "execution_count": null,
   "metadata": {},
   "outputs": [],
   "source": []
  }
 ],
 "metadata": {
  "kernelspec": {
   "display_name": "Python 3",
   "language": "python",
   "name": "python3"
  },
  "language_info": {
   "codemirror_mode": {
    "name": "ipython",
    "version": 3
   },
   "file_extension": ".py",
   "mimetype": "text/x-python",
   "name": "python",
   "nbconvert_exporter": "python",
   "pygments_lexer": "ipython3",
   "version": "3.5.1"
  }
 },
 "nbformat": 4,
 "nbformat_minor": 2
}
