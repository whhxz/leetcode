{
 "cells": [
  {
   "cell_type": "code",
   "execution_count": 37,
   "metadata": {},
   "outputs": [],
   "source": [
    "class Solution:\n",
    "    def lengthLongestPath(self, input: str) -> int:\n",
    "        dics = input.split('\\n')\n",
    "        def findt(s):\n",
    "            res = 0\n",
    "            for i in range(1, len(s), 1):\n",
    "                if s[i-1:i] == '\\t':\n",
    "                    res += 1\n",
    "                else:\n",
    "                    break\n",
    "            return res\n",
    "        res = 0\n",
    "        stack = []\n",
    "        for sc in dics:\n",
    "            t = findt(sc)\n",
    "            while t < len(stack):\n",
    "                stack.pop()\n",
    "            if '.' in sc:\n",
    "                res = max(res, sum(stack)+len(sc) - t)\n",
    "            else:\n",
    "                stack.append(len(sc)-t + 1)\n",
    "        return res\n",
    "                \n",
    "                \n",
    "        \n"
   ]
  },
  {
   "cell_type": "code",
   "execution_count": 41,
   "metadata": {},
   "outputs": [
    {
     "data": {
      "text/plain": [
       "0"
      ]
     },
     "execution_count": 41,
     "metadata": {},
     "output_type": "execute_result"
    }
   ],
   "source": [
    "Solution().lengthLongestPath(\"aaaaaaaaaaaaaaaaaaaaa\")"
   ]
  },
  {
   "cell_type": "code",
   "execution_count": null,
   "metadata": {},
   "outputs": [],
   "source": []
  }
 ],
 "metadata": {
  "kernelspec": {
   "display_name": "Python 3",
   "language": "python",
   "name": "python3"
  },
  "language_info": {
   "codemirror_mode": {
    "name": "ipython",
    "version": 3
   },
   "file_extension": ".py",
   "mimetype": "text/x-python",
   "name": "python",
   "nbconvert_exporter": "python",
   "pygments_lexer": "ipython3",
   "version": "3.7.5"
  }
 },
 "nbformat": 4,
 "nbformat_minor": 4
}
