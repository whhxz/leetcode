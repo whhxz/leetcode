{
 "cells": [
  {
   "cell_type": "code",
   "execution_count": 27,
   "metadata": {},
   "outputs": [],
   "source": [
    "from typing import List\n",
    "class Solution:\n",
    "    def findRadius(self, houses: List[int], heaters: List[int]) -> int:\n",
    "        if not heaters:\n",
    "            return 0\n",
    "        heaters.sort()\n",
    "        def find_i(num, s, e):\n",
    "            if num <= heaters[s]:\n",
    "                return heaters[0] - num\n",
    "            if num >= heaters[e]:\n",
    "                return num - heaters[e]\n",
    "            if s + 1 == e:\n",
    "                return min(heaters[e]-num, num-heaters[s])\n",
    "            mid = (e + s)>>1\n",
    "            if num == heaters[mid]:\n",
    "                return 0\n",
    "            elif num > heaters[mid]:\n",
    "                return find_i(num, mid, e)\n",
    "            else:\n",
    "                return find_i(num,s, mid)\n",
    "        res = 0\n",
    "        lh = len(heaters) - 1\n",
    "        for num in houses:\n",
    "            res = max(res,find_i(num, 0, lh))\n",
    "        return res"
   ]
  },
  {
   "cell_type": "code",
   "execution_count": 28,
   "metadata": {},
   "outputs": [
    {
     "data": {
      "text/plain": [
       "161834419"
      ]
     },
     "execution_count": 28,
     "metadata": {},
     "output_type": "execute_result"
    }
   ],
   "source": [
    "Solution().findRadius([282475249,622650073,984943658,144108930,470211272,101027544,457850878,458777923],\n",
    "[823564440,115438165,784484492,74243042,114807987,137522503,441282327,16531729,823378840,143542612])"
   ]
  },
  {
   "cell_type": "code",
   "execution_count": null,
   "metadata": {},
   "outputs": [],
   "source": []
  }
 ],
 "metadata": {
  "kernelspec": {
   "display_name": "Python 3",
   "language": "python",
   "name": "python3"
  },
  "language_info": {
   "codemirror_mode": {
    "name": "ipython",
    "version": 3
   },
   "file_extension": ".py",
   "mimetype": "text/x-python",
   "name": "python",
   "nbconvert_exporter": "python",
   "pygments_lexer": "ipython3",
   "version": "3.7.5"
  }
 },
 "nbformat": 4,
 "nbformat_minor": 4
}
