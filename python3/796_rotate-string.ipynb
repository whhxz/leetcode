{
 "cells": [
  {
   "cell_type": "code",
   "execution_count": 18,
   "metadata": {},
   "outputs": [],
   "source": [
    "class Solution:\n",
    "    def rotateString(self, A, B):\n",
    "        \"\"\"\n",
    "        :type A: str\n",
    "        :type B: str\n",
    "        :rtype: bool\n",
    "        \"\"\"\n",
    "        if A == B:\n",
    "            return True\n",
    "        if len(A) != len(B) or B[0] not in A:\n",
    "            return False\n",
    "        \n",
    "        tmp_str = A[1:] + A[:1]\n",
    "        index = A.index(B[0])\n",
    "        tmp_str = A[index:] + A[:index]\n",
    "        first = tmp_str\n",
    "        while True:\n",
    "            if tmp_str == B:\n",
    "                return True\n",
    "            else:\n",
    "                tmp_str = tmp_str[1:] + tmp_str[:1]\n",
    "                index = tmp_str.index(B[0])\n",
    "                tmp_str = tmp_str[index:] + tmp_str[:index]\n",
    "            if tmp_str == first:\n",
    "                return False\n",
    "                \n",
    "                "
   ]
  },
  {
   "cell_type": "code",
   "execution_count": 19,
   "metadata": {},
   "outputs": [
    {
     "name": "stdout",
     "output_type": "stream",
     "text": [
      "dqcwdbiciliiapdbzocrgwhqmrxpuppvuiuzicencvgtuzuxkh\n",
      "dbiciliiapdbzocrgwhqmrxpuppvuiuzicencvgtuzuxkhdqcw\n",
      "dbzocrgwhqmrxpuppvuiuzicencvgtuzuxkhdqcwdbiciliiap\n"
     ]
    },
    {
     "data": {
      "text/plain": [
       "False"
      ]
     },
     "execution_count": 19,
     "metadata": {},
     "output_type": "execute_result"
    }
   ],
   "source": [
    "Solution().rotateString(\"gwhqmrxpuppvuiuzicencvgtuzuxkhdqcwdbiciliiapdbzocr\", \"dsinzpskimfgcppsvjbhasfvqszngdhqtakrlxdmeeqakfxucy\")"
   ]
  },
  {
   "cell_type": "code",
   "execution_count": 25,
   "metadata": {},
   "outputs": [
    {
     "name": "stdout",
     "output_type": "stream",
     "text": [
      "2\n"
     ]
    },
    {
     "data": {
      "text/plain": [
       "2"
      ]
     },
     "execution_count": 25,
     "metadata": {},
     "output_type": "execute_result"
    }
   ],
   "source": []
  },
  {
   "cell_type": "code",
   "execution_count": null,
   "metadata": {},
   "outputs": [],
   "source": []
  },
  {
   "cell_type": "code",
   "execution_count": null,
   "metadata": {},
   "outputs": [],
   "source": []
  }
 ],
 "metadata": {
  "kernelspec": {
   "display_name": "Python 3",
   "language": "python",
   "name": "python3"
  },
  "language_info": {
   "codemirror_mode": {
    "name": "ipython",
    "version": 3
   },
   "file_extension": ".py",
   "mimetype": "text/x-python",
   "name": "python",
   "nbconvert_exporter": "python",
   "pygments_lexer": "ipython3",
   "version": "3.5.1"
  }
 },
 "nbformat": 4,
 "nbformat_minor": 2
}
