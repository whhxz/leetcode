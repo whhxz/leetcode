{
 "cells": [
  {
   "cell_type": "code",
   "execution_count": 22,
   "metadata": {},
   "outputs": [],
   "source": [
    "from typing import List\n",
    "from typing import Set\n",
    "class Solution:\n",
    "    #单词一个个截取判断，存储缓存不存在的角标，避免重复处理\n",
    "    def wordBreak(self, s: str, wordDict: List[str]) -> bool:\n",
    "        return self.wordBreakSet(s, set(wordDict + [\"\"]), set())\n",
    "    def wordBreakSet(self, s, wordDict: Set[str], indexFalse: Set[int]) -> bool:\n",
    "        if len(s) == 0:\n",
    "            return True\n",
    "        for i in range(0, len(s)):\n",
    "            if s[i:] in wordDict:\n",
    "                if i not in indexFalse and self.wordBreakSet(s[:i], wordDict, indexFalse):\n",
    "                    return True\n",
    "                else:\n",
    "                    indexFalse.add(i)\n",
    "        return False"
   ]
  },
  {
   "cell_type": "code",
   "execution_count": 26,
   "metadata": {},
   "outputs": [
    {
     "data": {
      "text/plain": [
       "False"
      ]
     },
     "execution_count": 26,
     "metadata": {},
     "output_type": "execute_result"
    }
   ],
   "source": [
    "Solution().wordBreak(\"catsandog\", [\"cats\", \"dog\", \"sand\", \"and\", \"cat\"])"
   ]
  },
  {
   "cell_type": "code",
   "execution_count": null,
   "metadata": {},
   "outputs": [],
   "source": []
  },
  {
   "cell_type": "code",
   "execution_count": null,
   "metadata": {},
   "outputs": [],
   "source": []
  }
 ],
 "metadata": {
  "kernelspec": {
   "display_name": "Python 3",
   "language": "python",
   "name": "python3"
  },
  "language_info": {
   "codemirror_mode": {
    "name": "ipython",
    "version": 3
   },
   "file_extension": ".py",
   "mimetype": "text/x-python",
   "name": "python",
   "nbconvert_exporter": "python",
   "pygments_lexer": "ipython3",
   "version": "3.7.0"
  }
 },
 "nbformat": 4,
 "nbformat_minor": 2
}
