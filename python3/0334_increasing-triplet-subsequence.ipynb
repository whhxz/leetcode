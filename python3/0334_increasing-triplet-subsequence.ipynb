{
 "cells": [
  {
   "cell_type": "code",
   "execution_count": 6,
   "metadata": {},
   "outputs": [],
   "source": [
    "class Solution:\n",
    "    #解题思路为获取两个递增的数组，对数组进行比较\n",
    "    def increasingTriplet(self, nums):\n",
    "        \"\"\"\n",
    "        :type nums: List[int]\n",
    "        :rtype: bool\n",
    "        \"\"\"\n",
    "        if len(nums) < 3:\n",
    "            return False\n",
    "        min1, min2 = None, None\n",
    "        for i in range(1, len(nums)):\n",
    "            #如果是递增\n",
    "            if nums[i] > nums[i - 1]:\n",
    "                #第一递增的话，先赋值\n",
    "                if min1 == None:\n",
    "                    min1, min2 = nums[i - 1], nums[i]\n",
    "                #如果第二次递增中，第二次最小值大于第一次最小值那么存在\n",
    "                #如果第二次递增中，第二次最大值大于第一次最大值那么存在\n",
    "                elif nums[i-1] > min1 or nums[i] > min2:\n",
    "                    return True\n",
    "                else:\n",
    "                    #如果递增没找到3个递增子数组，找到最小的递增数组\n",
    "                    min1, min2 = min(min1, nums[i-1]), min(min2, nums[i])\n",
    "        return False\n",
    "                    \n",
    "                    \n",
    "                    \n",
    "        "
   ]
  },
  {
   "cell_type": "code",
   "execution_count": 8,
   "metadata": {},
   "outputs": [
    {
     "data": {
      "text/plain": [
       "True"
      ]
     },
     "execution_count": 8,
     "metadata": {},
     "output_type": "execute_result"
    }
   ],
   "source": [
    "Solution().increasingTriplet([1,0,0,0,0,0,0,0,0,0,0,0,0,0,0,0,0,0,2,0,0,0,0,0,0,0,0,0,0,0,0,0,0,0,0,0,0,0,0,0,0,0,0,0,-1,-1,-1,-1,3])"
   ]
  },
  {
   "cell_type": "code",
   "execution_count": null,
   "metadata": {},
   "outputs": [],
   "source": []
  }
 ],
 "metadata": {
  "kernelspec": {
   "display_name": "Python 3",
   "language": "python",
   "name": "python3"
  },
  "language_info": {
   "codemirror_mode": {
    "name": "ipython",
    "version": 3
   },
   "file_extension": ".py",
   "mimetype": "text/x-python",
   "name": "python",
   "nbconvert_exporter": "python",
   "pygments_lexer": "ipython3",
   "version": "3.5.1"
  }
 },
 "nbformat": 4,
 "nbformat_minor": 2
}
