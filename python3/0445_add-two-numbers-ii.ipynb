{
 "cells": [
  {
   "cell_type": "code",
   "execution_count": 1,
   "metadata": {},
   "outputs": [],
   "source": [
    "# Definition for singly-linked list.\n",
    "class ListNode:\n",
    "    def __init__(self, x):\n",
    "        self.val = x\n",
    "        self.next = None\n",
    "\n",
    "class Solution:\n",
    "    def addTwoNumbers(self, l1: ListNode, l2: ListNode) -> ListNode:\n",
    "        def to_stack(node):\n",
    "            res = []\n",
    "            while node:\n",
    "                res.append(node.val)\n",
    "                node = node.next\n",
    "            return res\n",
    "        s1 = to_stack(l1)\n",
    "        s2 = to_stack(l2)\n",
    "        res = None\n",
    "        add = 0\n",
    "        while s1 or s2:\n",
    "            num = add\n",
    "            if s1:\n",
    "                num += s1.pop()\n",
    "            if s2:\n",
    "                num += s2.pop()\n",
    "            add = 0\n",
    "            if num >= 10:\n",
    "                num = num % 10\n",
    "                add = 1\n",
    "            no = ListNode(num)\n",
    "            no.next,res = res, no\n",
    "        if add == 1:\n",
    "            no = ListNode(1)\n",
    "            no.next,res = res, no\n",
    "        return res\n",
    "        \n"
   ]
  },
  {
   "cell_type": "code",
   "execution_count": null,
   "metadata": {},
   "outputs": [],
   "source": []
  }
 ],
 "metadata": {
  "kernelspec": {
   "display_name": "Python 3",
   "language": "python",
   "name": "python3"
  },
  "language_info": {
   "codemirror_mode": {
    "name": "ipython",
    "version": 3
   },
   "file_extension": ".py",
   "mimetype": "text/x-python",
   "name": "python",
   "nbconvert_exporter": "python",
   "pygments_lexer": "ipython3",
   "version": "3.7.5"
  }
 },
 "nbformat": 4,
 "nbformat_minor": 4
}
