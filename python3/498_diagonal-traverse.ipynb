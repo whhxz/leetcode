{
 "cells": [
  {
   "cell_type": "code",
   "execution_count": 4,
   "metadata": {},
   "outputs": [],
   "source": [
    "class Solution(object):\n",
    "    def findDiagonalOrder(self, matrix):\n",
    "        \"\"\"\n",
    "        :type matrix: List[List[int]]\n",
    "        :rtype: List[int]\n",
    "        \"\"\"\n",
    "        #校验参数\n",
    "        res = []\n",
    "        max_i = len(matrix)\n",
    "        if max_i == 0:\n",
    "            return res\n",
    "        max_j = len(matrix[0])\n",
    "        l = max_i + max_j\n",
    "        ti,tj = 0,0\n",
    "        #计算遍历总次数\n",
    "        for t in range(l - 1):\n",
    "            #偶数上升\n",
    "            if t % 2 == 0:\n",
    "                #设置初始值，计算开始点\n",
    "                if t < max_i:\n",
    "                    ti = t\n",
    "                    tj = 0\n",
    "                else:\n",
    "                    tj = t - max_i + 1\n",
    "                    ti = max_i - 1\n",
    "                #遍历斜对角\n",
    "                while ti >= 0 and tj < max_j:\n",
    "                    res.append(matrix[ti][tj])\n",
    "                    ti -= 1\n",
    "                    tj += 1\n",
    "            else:\n",
    "                #奇数下降\n",
    "                if t < max_j:\n",
    "                    ti = 0\n",
    "                    tj = t\n",
    "                else:\n",
    "                    ti = t - max_j + 1\n",
    "                    tj = max_j - 1\n",
    "                while ti < max_i and tj >= 0:\n",
    "                    res.append(matrix[ti][tj])\n",
    "                    ti += 1\n",
    "                    tj -= 1\n",
    "        return res"
   ]
  },
  {
   "cell_type": "code",
   "execution_count": 8,
   "metadata": {},
   "outputs": [
    {
     "data": {
      "text/plain": [
       "[]"
      ]
     },
     "execution_count": 8,
     "metadata": {},
     "output_type": "execute_result"
    }
   ],
   "source": [
    "nums = [[]]\n",
    "Solution().findDiagonalOrder(nums)"
   ]
  },
  {
   "cell_type": "code",
   "execution_count": null,
   "metadata": {},
   "outputs": [],
   "source": []
  }
 ],
 "metadata": {
  "kernelspec": {
   "display_name": "Python 3",
   "language": "python",
   "name": "python3"
  },
  "language_info": {
   "codemirror_mode": {
    "name": "ipython",
    "version": 3
   },
   "file_extension": ".py",
   "mimetype": "text/x-python",
   "name": "python",
   "nbconvert_exporter": "python",
   "pygments_lexer": "ipython3",
   "version": "3.5.1"
  }
 },
 "nbformat": 4,
 "nbformat_minor": 2
}
