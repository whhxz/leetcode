{
 "cells": [
  {
   "cell_type": "code",
   "execution_count": 2,
   "metadata": {},
   "outputs": [],
   "source": [
    "# Definition for a binary tree node.\n",
    "# class TreeNode:\n",
    "#     def __init__(self, x):\n",
    "#         self.val = x\n",
    "#         self.left = None\n",
    "#         self.right = None\n",
    "\n",
    "class Codec:\n",
    "\n",
    "    def serialize(self, root: TreeNode) -> str:\n",
    "        \"\"\"Encodes a tree to a single string.\n",
    "        \"\"\"\n",
    "        #前序遍历\n",
    "        res = []\n",
    "        def helper(node):\n",
    "            if not node:\n",
    "                return\n",
    "            res.append(str(node.val))\n",
    "            helper(node.left)\n",
    "            helper(node.right)\n",
    "        helper(root)\n",
    "        return \",\".join(res)\n",
    "\n",
    "    def deserialize(self, data: str) -> TreeNode:\n",
    "        \"\"\"Decodes your encoded data to tree.\n",
    "        \"\"\"\n",
    "        if not data:\n",
    "            return None\n",
    "        frond_data = data.split(',')\n",
    "        min_data = sorted(frond_data)\n",
    "        def helper(fd, md):\n",
    "            if not fd:\n",
    "                return None\n",
    "            vi = 0\n",
    "            node =  TreeNode(int(fd[0]))\n",
    "            if fd[0] in md:\n",
    "                vi = md.index(fd[0])\n",
    "                node.left = helper(fd[1:vi+1], md[:vi])\n",
    "            node.right = helper(fd[vi+1:], md[vi+1:])\n",
    "            return node\n",
    "        return helper(frond_data, min_data)\n",
    "            \n",
    "        \n",
    "        \n",
    "\n",
    "# Your Codec object will be instantiated and called as such:\n",
    "# codec = Codec()\n",
    "# codec.deserialize(codec.serialize(root))"
   ]
  },
  {
   "cell_type": "code",
   "execution_count": 5,
   "metadata": {},
   "outputs": [
    {
     "data": {
      "text/plain": [
       "True"
      ]
     },
     "execution_count": 5,
     "metadata": {},
     "output_type": "execute_result"
    }
   ],
   "source": [
    "True if not '' else False"
   ]
  },
  {
   "cell_type": "code",
   "execution_count": null,
   "metadata": {},
   "outputs": [],
   "source": []
  }
 ],
 "metadata": {
  "kernelspec": {
   "display_name": "Python 3",
   "language": "python",
   "name": "python3"
  },
  "language_info": {
   "codemirror_mode": {
    "name": "ipython",
    "version": 3
   },
   "file_extension": ".py",
   "mimetype": "text/x-python",
   "name": "python",
   "nbconvert_exporter": "python",
   "pygments_lexer": "ipython3",
   "version": "3.7.5"
  }
 },
 "nbformat": 4,
 "nbformat_minor": 4
}
