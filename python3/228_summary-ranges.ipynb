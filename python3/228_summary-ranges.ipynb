{
 "cells": [
  {
   "cell_type": "code",
   "execution_count": 15,
   "metadata": {},
   "outputs": [],
   "source": [
    "class Solution(object):\n",
    "    #直接遍历\n",
    "    def summaryRanges(self, nums):\n",
    "        \"\"\"\n",
    "        :type nums: List[int]\n",
    "        :rtype: List[str]\n",
    "        \"\"\"\n",
    "        if len(nums) < 1:\n",
    "            return nums\n",
    "        start = 0\n",
    "        res = []\n",
    "        for i in range(1, len(nums)):\n",
    "            #如果和上一个比较大于1，表示不陆续了\n",
    "            if nums[i] != nums[i-1] + 1:\n",
    "                #判断是否只前进了一步，拼接字符串\n",
    "                if start != i -1:\n",
    "                    res.append(str(nums[start]) + \"->\" + str(nums[i - 1]))\n",
    "                else:\n",
    "                    res.append(str(nums[start]))\n",
    "                start = i\n",
    "        #处理最后的数据\n",
    "        if start != len(nums) - 1:\n",
    "            res.append(str(nums[start]) + \"->\" + str(nums[-1]))\n",
    "        else:\n",
    "            res.append(str(nums[start]))\n",
    "        return res\n",
    "            "
   ]
  },
  {
   "cell_type": "code",
   "execution_count": 16,
   "metadata": {},
   "outputs": [
    {
     "data": {
      "text/plain": [
       "['-1']"
      ]
     },
     "execution_count": 16,
     "metadata": {},
     "output_type": "execute_result"
    }
   ],
   "source": [
    "Solution().summaryRanges([-1])"
   ]
  },
  {
   "cell_type": "code",
   "execution_count": null,
   "metadata": {},
   "outputs": [],
   "source": []
  }
 ],
 "metadata": {
  "kernelspec": {
   "display_name": "Python 3",
   "language": "python",
   "name": "python3"
  },
  "language_info": {
   "codemirror_mode": {
    "name": "ipython",
    "version": 3
   },
   "file_extension": ".py",
   "mimetype": "text/x-python",
   "name": "python",
   "nbconvert_exporter": "python",
   "pygments_lexer": "ipython3",
   "version": "3.5.1"
  }
 },
 "nbformat": 4,
 "nbformat_minor": 2
}
