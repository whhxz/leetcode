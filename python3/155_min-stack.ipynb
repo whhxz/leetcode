{
 "cells": [
  {
   "cell_type": "code",
   "execution_count": 33,
   "metadata": {},
   "outputs": [],
   "source": [
    "class MinStack:\n",
    "\n",
    "    def __init__(self):\n",
    "        \"\"\"\n",
    "        initialize your data structure here.\n",
    "        \"\"\"\n",
    "        self.nums = []\n",
    "        self.min_n = 2147483647\n",
    "\n",
    "    def push(self, x):\n",
    "        \"\"\"\n",
    "        :type x: int\n",
    "        :rtype: void\n",
    "        \"\"\"\n",
    "        if x <= self.min_n:\n",
    "            #在最小值前面加上一个最小值，如果当前最小值pop后，就可以直接获取到上一个最小值\n",
    "            self.nums.append(self.min_n)\n",
    "            self.min_n = x\n",
    "        self.nums.append(x)\n",
    "\n",
    "    def pop(self):\n",
    "        \"\"\"\n",
    "        :rtype: void\n",
    "        \"\"\"\n",
    "        num = self.nums.pop()\n",
    "        #如果pop出的值就是当前最小值，那么下一个的值就是下一个最小值\n",
    "        if num == self.min_n:\n",
    "            self.min_n = self.nums.pop()\n",
    "    def top(self):\n",
    "        \"\"\"\n",
    "        :rtype: int\n",
    "        \"\"\"\n",
    "        return self.nums[-1]\n",
    "\n",
    "    def getMin(self):\n",
    "        \"\"\"\n",
    "        :rtype: int\n",
    "        \"\"\"\n",
    "        return self.min_n\n",
    "\n",
    "# Your MinStack object will be instantiated and called as such:\n",
    "# obj = MinStack()\n",
    "# obj.push(x)\n",
    "# obj.pop()\n",
    "# param_3 = obj.top()\n",
    "# param_4 = obj.getMin()"
   ]
  },
  {
   "cell_type": "code",
   "execution_count": 34,
   "metadata": {},
   "outputs": [
    {
     "name": "stdout",
     "output_type": "stream",
     "text": [
      "-3\n",
      "0\n",
      "-2\n"
     ]
    }
   ],
   "source": [
    "m = MinStack()\n",
    "m.push(-2)\n",
    "m.push(0)\n",
    "m.push(-3)\n",
    "print(m.getMin())\n",
    "m.pop()\n",
    "print(m.top())\n",
    "print(m.getMin())"
   ]
  },
  {
   "cell_type": "code",
   "execution_count": 23,
   "metadata": {},
   "outputs": [
    {
     "name": "stdout",
     "output_type": "stream",
     "text": [
      "[1, 2, 3]\n",
      "[1, 2, 3]\n",
      "[1, 2, 3]\n",
      "[1, 2, 3]\n",
      "[1, 3, 2]\n",
      "[1, 3, 2]\n",
      "[2, 1, 3]\n",
      "[2, 1, 3]\n",
      "[2, 1, 3]\n",
      "[2, 3, 1]\n",
      "[2, 3, 1]\n",
      "[3, 2, 1]\n",
      "[3, 2, 1]\n",
      "[3, 2, 1]\n",
      "[3, 1, 2]\n",
      "[3, 1, 2]\n"
     ]
    }
   ],
   "source": [
    "def all_range(ns, start, end):\n",
    "    print(ns)\n",
    "    for i in range(start, end + 1):\n",
    "        ns[start],ns[i] = ns[i],ns[start]\n",
    "        all_range(ns, start + 1, end)\n",
    "        ns[i],ns[start] = ns[start],ns[i]\n",
    "all_range([1,2,3], 0, 2)\n",
    "    "
   ]
  },
  {
   "cell_type": "code",
   "execution_count": null,
   "metadata": {},
   "outputs": [],
   "source": []
  }
 ],
 "metadata": {
  "kernelspec": {
   "display_name": "Python 3",
   "language": "python",
   "name": "python3"
  },
  "language_info": {
   "codemirror_mode": {
    "name": "ipython",
    "version": 3
   },
   "file_extension": ".py",
   "mimetype": "text/x-python",
   "name": "python",
   "nbconvert_exporter": "python",
   "pygments_lexer": "ipython3",
   "version": "3.5.1"
  }
 },
 "nbformat": 4,
 "nbformat_minor": 2
}
