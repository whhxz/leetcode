{
 "cells": [
  {
   "cell_type": "code",
   "execution_count": null,
   "metadata": {},
   "outputs": [],
   "source": [
    "class Solution:\n",
    "    def rotate(self, matrix):\n",
    "        \"\"\"\n",
    "        :type matrix: List[List[int]]\n",
    "        :rtype: void Do not return anything, modify matrix in-place instead.\n",
    "        通过构造坐标系完成转换\n",
    "        \"\"\"\n",
    "        import math\n",
    "        offset = (len(matrix) - 1) / 2\n",
    "        # 通过构造坐标系完成转换\n",
    "        itimes = math.floor(len(matrix) / 2)\n",
    "        jtimes = math.ceil(len(matrix) / 2)\n",
    "        for i in range(itimes):\n",
    "            for j in range(jtimes):\n",
    "                self.change(matrix, offset, i, j)\n",
    "\n",
    "\n",
    "    def change(self, matrix, offset, i, j):\n",
    "        x = (offset - i)\n",
    "        y = (-offset + j)\n",
    "\n",
    "        tmp = matrix[i][j]\n",
    "        for i in range(4):\n",
    "            x1 = y * -1\n",
    "            y1 = x\n",
    "\n",
    "            nextx = int(offset - x1)\n",
    "            nexty = int(offset + y1)\n",
    "\n",
    "            next = matrix[nextx][nexty]\n",
    "            matrix[nextx][nexty] = tmp\n",
    "\n",
    "            tmp = next\n",
    "\n",
    "            x = x1\n",
    "            y = y1\n"
   ]
  }
 ],
 "metadata": {
  "kernelspec": {
   "display_name": "Python 3",
   "language": "python",
   "name": "python3"
  },
  "language_info": {
   "codemirror_mode": {
    "name": "ipython",
    "version": 3
   },
   "file_extension": ".py",
   "mimetype": "text/x-python",
   "name": "python",
   "nbconvert_exporter": "python",
   "pygments_lexer": "ipython3",
   "version": "3.5.1"
  }
 },
 "nbformat": 4,
 "nbformat_minor": 2
}
