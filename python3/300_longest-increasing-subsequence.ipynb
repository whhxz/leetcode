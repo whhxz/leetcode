{
 "cells": [
  {
   "cell_type": "code",
   "execution_count": 54,
   "metadata": {},
   "outputs": [],
   "source": [
    "class Solution:\n",
    "    #时间复杂度 O(n^2)\n",
    "    def lengthOfLIS(self, nums):\n",
    "        \"\"\"\n",
    "        :type nums: List[int]\n",
    "        :rtype: int\n",
    "        \"\"\"\n",
    "        #存储当前最长递增子数组\n",
    "        max_ls = [1] * len(nums)\n",
    "        for i in range(len(nums)):\n",
    "            for j in range(i-1, -1, -1):\n",
    "                if nums[i] > nums[j]:\n",
    "                    #向后遍历，值到找到最大的节点\n",
    "                    max_ls[i] = max(max_ls[j] + 1, max_ls[i])\n",
    "        return max(max_ls) if len(max_ls) > 0 else 0\n",
    "    #时间复杂度O(nlog(n))\n",
    "    def lengthOfLIS1(self, nums):\n",
    "        \"\"\"\n",
    "        :type nums: List[int]\n",
    "        :rtype: int\n",
    "        \"\"\"\n",
    "        ln = len(nums)\n",
    "        #存储最大长度为i的值\n",
    "        max_ls = [0] * ln\n",
    "        res = 0\n",
    "        def mid_search(num):\n",
    "            #right表示右边最大值，right-left需要使用的max_ls长度\n",
    "            left,right = 0,res\n",
    "            #找到当前num在max_ls当中位置，二分法\n",
    "            while left != right:\n",
    "                mid = (left + right) // 2\n",
    "                if max_ls[mid] < num:\n",
    "                    left = mid + 1\n",
    "                else:\n",
    "                    right = mid\n",
    "            return left\n",
    "        \n",
    "        for num in nums:\n",
    "            #找到当前值的位置\n",
    "            max_i = mid_search(num)\n",
    "            #设置当前值应该所在的位置\n",
    "            max_ls[max_i] = num\n",
    "            #查找最大长度\n",
    "            res = max(max_i + 1, res)\n",
    "        return res\n"
   ]
  },
  {
   "cell_type": "code",
   "execution_count": 55,
   "metadata": {},
   "outputs": [
    {
     "name": "stdout",
     "output_type": "stream",
     "text": [
      "0 [1, 0, 0, 0, 0, 0, 0, 0, 0]\n",
      "1 [1, 3, 0, 0, 0, 0, 0, 0, 0]\n",
      "2 [1, 3, 6, 0, 0, 0, 0, 0, 0]\n",
      "3 [1, 3, 6, 7, 0, 0, 0, 0, 0]\n",
      "4 [1, 3, 6, 7, 9, 0, 0, 0, 0]\n",
      "2 [1, 3, 4, 7, 9, 0, 0, 0, 0]\n",
      "5 [1, 3, 4, 7, 9, 10, 0, 0, 0]\n",
      "3 [1, 3, 4, 5, 9, 10, 0, 0, 0]\n",
      "4 [1, 3, 4, 5, 6, 10, 0, 0, 0]\n"
     ]
    },
    {
     "data": {
      "text/plain": [
       "6"
      ]
     },
     "execution_count": 55,
     "metadata": {},
     "output_type": "execute_result"
    }
   ],
   "source": [
    "Solution().lengthOfLIS1([1,3,6,7,9,4,10,5,6])"
   ]
  },
  {
   "cell_type": "code",
   "execution_count": null,
   "metadata": {},
   "outputs": [],
   "source": []
  },
  {
   "cell_type": "code",
   "execution_count": null,
   "metadata": {},
   "outputs": [],
   "source": []
  }
 ],
 "metadata": {
  "kernelspec": {
   "display_name": "Python 3",
   "language": "python",
   "name": "python3"
  },
  "language_info": {
   "codemirror_mode": {
    "name": "ipython",
    "version": 3
   },
   "file_extension": ".py",
   "mimetype": "text/x-python",
   "name": "python",
   "nbconvert_exporter": "python",
   "pygments_lexer": "ipython3",
   "version": "3.5.1"
  }
 },
 "nbformat": 4,
 "nbformat_minor": 2
}
