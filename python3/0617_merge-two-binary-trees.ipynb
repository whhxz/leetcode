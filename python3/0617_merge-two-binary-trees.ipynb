{
 "cells": [
  {
   "cell_type": "code",
   "execution_count": null,
   "metadata": {},
   "outputs": [],
   "source": [
    "# Definition for a binary tree node.\n",
    "class TreeNode:\n",
    "    def __init__(self, x):\n",
    "        self.val = x\n",
    "        self.left = None\n",
    "        self.right = None\n",
    "\n",
    "\n",
    "class Solution:\n",
    "    def mergeTrees(self, t1: TreeNode, t2: TreeNode) -> TreeNode:\n",
    "        def dfs(n1: TreeNode, n2: TreeNode):\n",
    "            if not n1:\n",
    "                return n2\n",
    "            if not n2:\n",
    "                return n1\n",
    "            if not n1 and n2:\n",
    "                return None\n",
    "            n1.val += n2.val\n",
    "            n1.left = dfs(n1.left, n2.left)\n",
    "            n1.right = dfs(n1.right, n2.right)\n",
    "            return n1\n",
    "\n",
    "        return dfs(t1, t2)\n"
   ]
  }
 ],
 "metadata": {
  "kernelspec": {
   "display_name": "Python 3",
   "language": "python",
   "name": "python3"
  },
  "language_info": {
   "codemirror_mode": {
    "name": "ipython",
    "version": 3
   },
   "file_extension": ".py",
   "mimetype": "text/x-python",
   "name": "python",
   "nbconvert_exporter": "python",
   "pygments_lexer": "ipython3",
   "version": "3.7.5"
  }
 },
 "nbformat": 4,
 "nbformat_minor": 4
}
