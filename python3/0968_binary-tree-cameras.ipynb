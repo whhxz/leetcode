{
 "cells": [
  {
   "cell_type": "code",
   "execution_count": null,
   "metadata": {},
   "outputs": [],
   "source": [
    "# Definition for a binary tree node.\n",
    "class TreeNode:\n",
    "    def __init__(self, x):\n",
    "        self.val = x\n",
    "        self.left = None\n",
    "        self.right = None\n",
    "\n",
    "\n",
    "class Solution:\n",
    "    def minCameraCover(self, root: TreeNode) -> int:\n",
    "        res = [0]\n",
    "\n",
    "        # 返回值 0节点安装   1 节点可观，未安装   2 节点不可观\n",
    "        def dfs(node: TreeNode):\n",
    "            if not node:\n",
    "                # 最后节点子节点空\n",
    "                return 1\n",
    "            l = dfs(node.left)\n",
    "            r = dfs(node.right)\n",
    "            if l == 2 or r == 2:\n",
    "                res[0] += 1\n",
    "                return 0\n",
    "            if l == 0 or r == 0:\n",
    "                return 1\n",
    "            return 2\n",
    "        if dfs(root) == 2:\n",
    "            res[0] += 1\n",
    "        return res[0]"
   ]
  }
 ],
 "metadata": {
  "kernelspec": {
   "display_name": "Python 3",
   "language": "python",
   "name": "python3"
  },
  "language_info": {
   "codemirror_mode": {
    "name": "ipython",
    "version": 3
   },
   "file_extension": ".py",
   "mimetype": "text/x-python",
   "name": "python",
   "nbconvert_exporter": "python",
   "pygments_lexer": "ipython3",
   "version": "3.7.5"
  }
 },
 "nbformat": 4,
 "nbformat_minor": 4
}
