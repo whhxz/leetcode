{
 "cells": [
  {
   "cell_type": "code",
   "execution_count": 48,
   "metadata": {},
   "outputs": [],
   "source": [
    "\n",
    "from typing import List\n",
    "class Solution:\n",
    "    def findClosestElements(self, arr: List[int], k: int, x: int) -> List[int]:\n",
    "        s, e = 0, len(arr) -k\n",
    "        mid = 0\n",
    "        while s < e:\n",
    "            mid = (s + e)>>1\n",
    "            if abs(arr[mid] - x) > abs(arr[mid + k] -x):\n",
    "                s = mid + 1\n",
    "            else:\n",
    "                e = mid\n",
    "        return arr[s: s+k]\n",
    "    def findClosestElements1(self, arr: List[int], k: int, x: int) -> List[int]:\n",
    "        l = len(arr)\n",
    "        left = 0;\n",
    "        right = l - 1\n",
    "        mid = 0\n",
    "        while left <= right:\n",
    "            mid = (left + right) >> 1\n",
    "            if arr[mid] < x:\n",
    "                left = mid + 1\n",
    "            elif arr[mid] > x:\n",
    "                right = mid -1\n",
    "            else:\n",
    "                break\n",
    "        if mid == 0:\n",
    "            return arr[0:k]\n",
    "        elif mid == l - 1:\n",
    "            return arr[l - k: l]\n",
    "        if arr[mid] < x and x - arr[mid -1] < arr[mid] -x:\n",
    "            mid = mid - 1\n",
    "        if arr[mid] > x and arr[mid] - x < x -arr[mid - 1]:\n",
    "            mid = mid + 1\n",
    "        left = mid\n",
    "        rigth = mid + 1\n",
    "        while left > 0 and right - left < k and right < l:\n",
    "            if arr[right] - x >= x - arr[left - 1]:\n",
    "                left -= 1\n",
    "            else:\n",
    "                right += 1\n",
    "        if left == 0:\n",
    "            return arr[0:k]\n",
    "        if right == l:\n",
    "            return arr[l - k: l]\n",
    "        return arr[left: right]\n",
    "            \n",
    "            \n"
   ]
  },
  {
   "cell_type": "code",
   "execution_count": 49,
   "metadata": {},
   "outputs": [
    {
     "data": {
      "text/plain": [
       "[3, 3, 4]"
      ]
     },
     "execution_count": 49,
     "metadata": {},
     "output_type": "execute_result"
    }
   ],
   "source": [
    "Solution().findClosestElements([0,0,1,2,3,3,4,7,7,8],3,5)"
   ]
  },
  {
   "cell_type": "code",
   "execution_count": 26,
   "metadata": {},
   "outputs": [
    {
     "data": {
      "text/plain": [
       "[5, 6, 7, 8]"
      ]
     },
     "execution_count": 26,
     "metadata": {},
     "output_type": "execute_result"
    }
   ],
   "source": [
    "num = [1,1,3,3,5,6,7,8]\n",
    "num[len(num) - 4: len(num)]"
   ]
  },
  {
   "cell_type": "code",
   "execution_count": null,
   "metadata": {},
   "outputs": [],
   "source": []
  }
 ],
 "metadata": {
  "kernelspec": {
   "display_name": "Python 3",
   "language": "python",
   "name": "python3"
  },
  "language_info": {
   "codemirror_mode": {
    "name": "ipython",
    "version": 3
   },
   "file_extension": ".py",
   "mimetype": "text/x-python",
   "name": "python",
   "nbconvert_exporter": "python",
   "pygments_lexer": "ipython3",
   "version": "3.7.0"
  }
 },
 "nbformat": 4,
 "nbformat_minor": 2
}
