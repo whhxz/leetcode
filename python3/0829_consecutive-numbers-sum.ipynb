{
 "cells": [
  {
   "cell_type": "code",
   "execution_count": 21,
   "metadata": {},
   "outputs": [],
   "source": [
    "class Solution:\n",
    "    #不是最优解，最暴力解法\n",
    "    # f(n) = (n + 1)a0 + n * (n + 1) / 2\n",
    "    # 带入上述公式，从n = 0 开始计算\n",
    "    def consecutiveNumbersSum(self, N):\n",
    "        \"\"\"\n",
    "        :type N: int\n",
    "        :rtype: int\n",
    "        \"\"\"\n",
    "        res = 0\n",
    "        num = 0\n",
    "        i = 0\n",
    "        num = N - int(i * (i + 1) / 2)\n",
    "        #如果num计算得出小于0，退出循环\n",
    "        while num > 0:\n",
    "            #求值\n",
    "            if num % (i + 1) == 0:\n",
    "                res += 1\n",
    "            i += 1\n",
    "            num = N - int(i * (i + 1) / 2)\n",
    "        return res\n",
    "                \n",
    "                \n",
    "                \n",
    "            \n",
    "        "
   ]
  },
  {
   "cell_type": "code",
   "execution_count": 22,
   "metadata": {},
   "outputs": [
    {
     "name": "stdout",
     "output_type": "stream",
     "text": [
      "0 100000000.0\n",
      "4 19999998.0\n",
      "24 3999988.0\n",
      "124 799938.0\n",
      "511 195057.0\n",
      "624 159688.0\n",
      "2559 37783.0\n",
      "3124 30438.0\n",
      "12799 1413.0\n"
     ]
    },
    {
     "data": {
      "text/plain": [
       "9"
      ]
     },
     "execution_count": 22,
     "metadata": {},
     "output_type": "execute_result"
    }
   ],
   "source": [
    "Solution().consecutiveNumbersSum(100000000)"
   ]
  },
  {
   "cell_type": "code",
   "execution_count": null,
   "metadata": {},
   "outputs": [],
   "source": []
  }
 ],
 "metadata": {
  "kernelspec": {
   "display_name": "Python 3",
   "language": "python",
   "name": "python3"
  },
  "language_info": {
   "codemirror_mode": {
    "name": "ipython",
    "version": 3
   },
   "file_extension": ".py",
   "mimetype": "text/x-python",
   "name": "python",
   "nbconvert_exporter": "python",
   "pygments_lexer": "ipython3",
   "version": "3.5.1"
  }
 },
 "nbformat": 4,
 "nbformat_minor": 2
}
