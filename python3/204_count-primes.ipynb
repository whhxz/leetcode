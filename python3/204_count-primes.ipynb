{
 "cells": [
  {
   "cell_type": "code",
   "execution_count": 55,
   "metadata": {},
   "outputs": [],
   "source": [
    "class Solution:\n",
    "    #根据算术基本定理，每一个比1大的整数，要么本身是一个质数，要么可以写成一系列质数的乘积；\n",
    "    def countPrimes(self, n):\n",
    "        \"\"\"\n",
    "        :type n: int\n",
    "        :rtype: int\n",
    "        \"\"\"\n",
    "        if n < 3:\n",
    "            return 0\n",
    "        res = [2]\n",
    "        for i in range(3, n):\n",
    "            sign = True\n",
    "            for num in res:\n",
    "                if i % num == 0:\n",
    "                    sign = False\n",
    "                    break\n",
    "                if num * num > n:\n",
    "                    break\n",
    "            if sign:\n",
    "                res.append(i)\n",
    "        return len(res)\n",
    "    #排除法，先定义一个数组，然后从前往后排除\n",
    "    def countPrimes1(self, n):\n",
    "        \"\"\"\n",
    "        :type n: int\n",
    "        :rtype: int\n",
    "        \"\"\"\n",
    "        if n < 2:\n",
    "            return 0\n",
    "        res = [1] * n\n",
    "        res[0],res[1] = 0,0\n",
    "        for i in range(2, int(n ** 0.5) + 1):\n",
    "            if res[i] == 1:\n",
    "                #可以优化为 res[i * i:n:i] = [0] * int((n-i*i-1)/i + 1)\n",
    "                res[i * i:n:i] = [0] * int((n-i*i-1)/i + 1)\n",
    "#                 for j in range(2, n):\n",
    "#                     index = i * j\n",
    "#                     if index < n:\n",
    "#                         res[index] = 0\n",
    "#                     else:\n",
    "#                         break\n",
    "        return sum(res)"
   ]
  },
  {
   "cell_type": "code",
   "execution_count": 56,
   "metadata": {},
   "outputs": [
    {
     "data": {
      "text/plain": [
       "78497"
      ]
     },
     "execution_count": 56,
     "metadata": {},
     "output_type": "execute_result"
    }
   ],
   "source": [
    "Solution().countPrimes1(999983)"
   ]
  },
  {
   "cell_type": "code",
   "execution_count": 35,
   "metadata": {},
   "outputs": [
    {
     "data": {
      "text/plain": [
       "3.0"
      ]
     },
     "execution_count": 35,
     "metadata": {},
     "output_type": "execute_result"
    }
   ],
   "source": [
    "9 ** 0.5"
   ]
  },
  {
   "cell_type": "code",
   "execution_count": null,
   "metadata": {},
   "outputs": [],
   "source": []
  }
 ],
 "metadata": {
  "kernelspec": {
   "display_name": "Python 3",
   "language": "python",
   "name": "python3"
  },
  "language_info": {
   "codemirror_mode": {
    "name": "ipython",
    "version": 3
   },
   "file_extension": ".py",
   "mimetype": "text/x-python",
   "name": "python",
   "nbconvert_exporter": "python",
   "pygments_lexer": "ipython3",
   "version": "3.5.1"
  }
 },
 "nbformat": 4,
 "nbformat_minor": 2
}
