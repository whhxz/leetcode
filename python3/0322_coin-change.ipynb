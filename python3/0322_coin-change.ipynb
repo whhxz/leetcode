{
 "cells": [
  {
   "cell_type": "code",
   "execution_count": 134,
   "metadata": {},
   "outputs": [],
   "source": [
    "class Solution:\n",
    "    #该提属于动态规划，但是使用如下方法一直提示超时，改用Java实现后正常提交（Java提交的时候需要注意处理int超过Integer.MAX_VALUE）\n",
    "    #dp[n + x] = min(dp[n + x], dp[n] + 1) n表示从1~amout需要的次数，x in coins\n",
    "    #从金额1开始计算，统计需要的次数，缓存次数，依次计算到amout\n",
    "    def coinChange(self, coins, amount):\n",
    "        \"\"\"\n",
    "        :type coins: List[int]\n",
    "        :type amount: int\n",
    "        :rtype: int\n",
    "        \"\"\"\n",
    "        #初始化数据，用于缓存金额i需要的次数\n",
    "        amounts = [0] + [-1] * amount\n",
    "        for i, num in enumerate(amounts):\n",
    "            #优化，当前的值num<0表示不能通过coins得到当前的金额i\n",
    "            if num < 0:\n",
    "                continue\n",
    "            for coin in coins:\n",
    "                #计算下一个金额需要的次数\n",
    "                ne = i + coin\n",
    "                #如果下一个金额超过了amout，直接跳过\n",
    "                if ne > amount:\n",
    "                    continue\n",
    "                #如果下一个金额为-1（表示从未设置过），或者大于当前的次数+1（表示之前已经设置过，+1表示金额i需要的次数加上当前的coin一次）\n",
    "                #如果没有设置到的都是默认值-1，这样在遍历的时候就可以直接跳过\n",
    "                if amounts[ne] < 0 or amounts[ne] > num + 1:\n",
    "                    #设置下一个金额需要的次数\n",
    "                    amounts[ne] = num + 1\n",
    "        return amounts[amount]\n"
   ]
  },
  {
   "cell_type": "code",
   "execution_count": 135,
   "metadata": {},
   "outputs": [
    {
     "data": {
      "text/plain": [
       "12"
      ]
     },
     "execution_count": 135,
     "metadata": {},
     "output_type": "execute_result"
    }
   ],
   "source": [
    "Solution().coinChange([492,364,366,144,492,316,221,326,16,166,353], 5253)"
   ]
  },
  {
   "cell_type": "markdown",
   "metadata": {},
   "source": [
    "### Java实现\n",
    "```java\n",
    "class Solution {\n",
    "    public int coinChange(int[] coins, int amount) {\n",
    "        long[] amounts = new long[amount + 1];\n",
    "        Arrays.fill(amounts, -1);\n",
    "        amounts[0] = 0;\n",
    "        for (int i = 0; i < amounts.length; i++) {\n",
    "            if (amounts[i] < 0) continue;\n",
    "            for (int coin : coins) {\n",
    "                int next = i + coin;\n",
    "                if (next > amount || next < 0) continue;\n",
    "                if (amounts[next] < 0 || amounts[next] > amounts[i] + 1) {\n",
    "                    amounts[next] = amounts[i] + 1;\n",
    "                }\n",
    "            }\n",
    "        }\n",
    "        return (int)amounts[amount];\n",
    "    }\n",
    "}\n",
    "```"
   ]
  },
  {
   "cell_type": "code",
   "execution_count": null,
   "metadata": {},
   "outputs": [],
   "source": []
  }
 ],
 "metadata": {
  "kernelspec": {
   "display_name": "Python 3",
   "language": "python",
   "name": "python3"
  },
  "language_info": {
   "codemirror_mode": {
    "name": "ipython",
    "version": 3
   },
   "file_extension": ".py",
   "mimetype": "text/x-python",
   "name": "python",
   "nbconvert_exporter": "python",
   "pygments_lexer": "ipython3",
   "version": "3.5.1"
  }
 },
 "nbformat": 4,
 "nbformat_minor": 2
}
