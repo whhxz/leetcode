{
 "cells": [
  {
   "cell_type": "code",
   "execution_count": 27,
   "metadata": {},
   "outputs": [],
   "source": [
    "class Solution:\n",
    "    #思路，先找出所有不需要替换的'O'，之后在遍历二维数组，找到'O'是否在不提换行的数组之内\n",
    "    def solve(self, board):\n",
    "        \"\"\"\n",
    "        :type board: List[List[str]]\n",
    "        :rtype: void Do not return anything, modify board in-place instead.\n",
    "        \"\"\"\n",
    "        o_list = set()\n",
    "        #如果长度小于2直接返回，都不需要替换\n",
    "        max_i = len(board) - 1\n",
    "        if max_i < 2:\n",
    "            return\n",
    "        max_j = len(board[0]) - 1\n",
    "        if max_j < 2:\n",
    "            return\n",
    "        def find(i, j):\n",
    "            tmp_o = []\n",
    "            #判断当前值是否为'O'是否处理过\n",
    "            if board[i][j] == 'O' and (i, j) not in o_list:\n",
    "                tmp_o.append((i, j))\n",
    "                o_list.add((i, j))\n",
    "            #遍历当前值所以在的上下左右，使用广度搜索算法，如果\n",
    "            while len(tmp_o) > 0:\n",
    "                o = tmp_o.pop(0);\n",
    "                i = o[0]\n",
    "                j = o[1]\n",
    "                #当前值的上面\n",
    "                if i - 1 >= 0 and board[i -1][j] == 'O':\n",
    "                    up = (i-1,j)\n",
    "                    if up not in o_list:\n",
    "                        o_list.add(up)\n",
    "                        tmp_o.append(up)\n",
    "                #下面\n",
    "                if i + 1 <= max_i and board[i+1][j] == 'O':\n",
    "                    down = (i + 1, j)\n",
    "                    if down not in o_list:\n",
    "                        o_list.add(down)\n",
    "                        tmp_o.append(down)\n",
    "                #左边\n",
    "                if j - 1 >= 0 and board[i][j-1] == 'O':\n",
    "                    left = (i, j-1)\n",
    "                    if left not in o_list:\n",
    "                        o_list.add(left)\n",
    "                        tmp_o.append(left)\n",
    "                #右边\n",
    "                if j + 1 <= max_j and board[i][j + 1] == 'O':\n",
    "                    right = (i, j+1)\n",
    "                    if right not in o_list:\n",
    "                        o_list.add(right)\n",
    "                        tmp_o.append(right)\n",
    "        #对二维数组的四面八方进行搜索为'O'的值\n",
    "        for k in range(max_j + 1):\n",
    "            find(0, k)\n",
    "            find(max_i, k)\n",
    "        for k in range(1, max_i):\n",
    "            find(k, 0)\n",
    "            find(k, max_j)\n",
    "        #遍历二维数组\n",
    "        for i in range(1, max_i):\n",
    "            for j in range(1, max_j):\n",
    "                if board[i][j] == 'O' and (i, j) not in o_list:\n",
    "                    board[i][j] = 'X'\n",
    "                \n",
    "            "
   ]
  },
  {
   "cell_type": "code",
   "execution_count": 28,
   "metadata": {},
   "outputs": [
    {
     "name": "stdout",
     "output_type": "stream",
     "text": [
      "['X', 'O', 'O', 'X', 'X', 'X', 'O', 'X', 'O', 'O']\n",
      "['X', 'O', 'X', 'X', 'X', 'X', 'X', 'X', 'X', 'X']\n",
      "['X', 'X', 'X', 'X', 'O', 'X', 'X', 'X', 'X', 'X']\n",
      "['X', 'O', 'X', 'X', 'X', 'O', 'X', 'X', 'X', 'O']\n",
      "['O', 'X', 'X', 'X', 'O', 'X', 'O', 'X', 'O', 'X']\n",
      "['X', 'X', 'O', 'X', 'X', 'O', 'O', 'X', 'X', 'X']\n",
      "['O', 'X', 'X', 'O', 'O', 'X', 'O', 'X', 'X', 'O']\n",
      "['O', 'X', 'X', 'X', 'X', 'X', 'O', 'X', 'X', 'X']\n",
      "['X', 'O', 'O', 'X', 'X', 'O', 'X', 'X', 'O', 'O']\n",
      "['X', 'X', 'X', 'O', 'O', 'X', 'O', 'X', 'X', 'O']\n",
      "{(0, 1), (6, 9), (7, 0), (9, 3), (9, 9), (6, 0), (8, 9), (0, 6), (1, 1), (8, 8), (3, 9), (9, 4), (0, 9), (0, 8), (9, 6), (0, 2), (4, 0)}\n",
      "\n",
      "['X', 'O', 'O', 'X', 'X', 'X', 'O', 'X', 'O', 'O']\n",
      "['X', 'O', 'X', 'X', 'X', 'X', 'X', 'X', 'X', 'X']\n",
      "['X', 'X', 'X', 'X', 'X', 'X', 'X', 'X', 'X', 'X']\n",
      "['X', 'X', 'X', 'X', 'X', 'X', 'X', 'X', 'X', 'O']\n",
      "['O', 'X', 'X', 'X', 'X', 'X', 'X', 'X', 'X', 'X']\n",
      "['X', 'X', 'X', 'X', 'X', 'X', 'X', 'X', 'X', 'X']\n",
      "['O', 'X', 'X', 'X', 'X', 'X', 'X', 'X', 'X', 'O']\n",
      "['O', 'X', 'X', 'X', 'X', 'X', 'X', 'X', 'X', 'X']\n",
      "['X', 'X', 'X', 'X', 'X', 'X', 'X', 'X', 'O', 'O']\n",
      "['X', 'X', 'X', 'O', 'O', 'X', 'O', 'X', 'X', 'O']\n"
     ]
    }
   ],
   "source": [
    "borad = [[\"X\",\"O\",\"O\",\"X\",\"X\",\"X\",\"O\",\"X\",\"O\",\"O\"],[\"X\",\"O\",\"X\",\"X\",\"X\",\"X\",\"X\",\"X\",\"X\",\"X\"],[\"X\",\"X\",\"X\",\"X\",\"O\",\"X\",\"X\",\"X\",\"X\",\"X\"],[\"X\",\"O\",\"X\",\"X\",\"X\",\"O\",\"X\",\"X\",\"X\",\"O\"],[\"O\",\"X\",\"X\",\"X\",\"O\",\"X\",\"O\",\"X\",\"O\",\"X\"],[\"X\",\"X\",\"O\",\"X\",\"X\",\"O\",\"O\",\"X\",\"X\",\"X\"],[\"O\",\"X\",\"X\",\"O\",\"O\",\"X\",\"O\",\"X\",\"X\",\"O\"],[\"O\",\"X\",\"X\",\"X\",\"X\",\"X\",\"O\",\"X\",\"X\",\"X\"],[\"X\",\"O\",\"O\",\"X\",\"X\",\"O\",\"X\",\"X\",\"O\",\"O\"],[\"X\",\"X\",\"X\",\"O\",\"O\",\"X\",\"O\",\"X\",\"X\",\"O\"]]\n",
    "for s in borad:\n",
    "    print(s)\n",
    "Solution().solve(borad)\n",
    "print()\n",
    "for s in borad:\n",
    "    print(s)"
   ]
  },
  {
   "cell_type": "code",
   "execution_count": null,
   "metadata": {},
   "outputs": [],
   "source": []
  },
  {
   "cell_type": "code",
   "execution_count": null,
   "metadata": {},
   "outputs": [],
   "source": []
  }
 ],
 "metadata": {
  "kernelspec": {
   "display_name": "Python 3",
   "language": "python",
   "name": "python3"
  },
  "language_info": {
   "codemirror_mode": {
    "name": "ipython",
    "version": 3
   },
   "file_extension": ".py",
   "mimetype": "text/x-python",
   "name": "python",
   "nbconvert_exporter": "python",
   "pygments_lexer": "ipython3",
   "version": "3.5.1"
  }
 },
 "nbformat": 4,
 "nbformat_minor": 2
}
