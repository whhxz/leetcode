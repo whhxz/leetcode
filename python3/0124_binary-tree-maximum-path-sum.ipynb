{
 "cells": [
  {
   "cell_type": "code",
   "execution_count": 1,
   "metadata": {},
   "outputs": [],
   "source": [
    "# Definition for a binary tree node.\n",
    "class TreeNode:\n",
    "    def __init__(self, x):\n",
    "        self.val = x\n",
    "        self.left = None\n",
    "        self.right = None\n",
    "\n",
    "class Solution:\n",
    "    # 深度搜索，如果节点小于0返回0，返回每个节点最大值，记录保存最大值\n",
    "    def maxPathSum(self, root: TreeNode) -> int:\n",
    "        res = [root.val]\n",
    "        def helper(node):\n",
    "            if not node:\n",
    "                return 0\n",
    "            left = max(helper(node.left),0)\n",
    "            right = max(helper(node.right),0)\n",
    "            res[0] = max(node.val + left + right, res[0])\n",
    "            return max(node.val + max(left, right), 0)\n",
    "        helper(root)\n",
    "        return res[0]\n",
    "        \n"
   ]
  },
  {
   "cell_type": "code",
   "execution_count": null,
   "metadata": {},
   "outputs": [],
   "source": []
  }
 ],
 "metadata": {
  "kernelspec": {
   "display_name": "Python 3",
   "language": "python",
   "name": "python3"
  },
  "language_info": {
   "codemirror_mode": {
    "name": "ipython",
    "version": 3
   },
   "file_extension": ".py",
   "mimetype": "text/x-python",
   "name": "python",
   "nbconvert_exporter": "python",
   "pygments_lexer": "ipython3",
   "version": "3.7.5"
  }
 },
 "nbformat": 4,
 "nbformat_minor": 4
}
