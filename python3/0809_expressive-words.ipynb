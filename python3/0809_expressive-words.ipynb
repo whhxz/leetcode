{
 "cells": [
  {
   "cell_type": "code",
   "execution_count": null,
   "metadata": {},
   "outputs": [],
   "source": [
    "from typing import List\n",
    "\n",
    "\n",
    "class Solution:\n",
    "    def expressiveWords(self, S: str, words: List[str]) -> int:\n",
    "\n",
    "        def helper(s: str):\n",
    "            sl = []\n",
    "            for c in s:\n",
    "                if not sl or sl[-1][0] != c:\n",
    "                    sl.append([c, 1])\n",
    "                    continue\n",
    "                else:\n",
    "                    sl[-1][1] += 1\n",
    "            return sl\n",
    "\n",
    "        strl = helper(S)\n",
    "        wll = []\n",
    "        for word in words:\n",
    "            wll.append(helper(word))\n",
    "        res = 0\n",
    "        j = 0\n",
    "        while j < len(wll):\n",
    "            if len(wll[j]) != len(strl):\n",
    "                j += 1\n",
    "                continue\n",
    "            i = 0\n",
    "            while i < len(strl):\n",
    "                if wll[j][i][0] != strl[i][0] or wll[j][i][1] > strl[i][1]:\n",
    "                    break\n",
    "                if strl[i][1] < 3 and strl[i][1] != wll[j][i][1]:\n",
    "                    break\n",
    "                i += 1\n",
    "            if i == len(strl):\n",
    "                res += 1\n",
    "            j += 1\n",
    "        return res\n"
   ]
  }
 ],
 "metadata": {
  "kernelspec": {
   "display_name": "Python 3",
   "language": "python",
   "name": "python3"
  },
  "language_info": {
   "codemirror_mode": {
    "name": "ipython",
    "version": 3
   },
   "file_extension": ".py",
   "mimetype": "text/x-python",
   "name": "python",
   "nbconvert_exporter": "python",
   "pygments_lexer": "ipython3",
   "version": "3.7.5"
  }
 },
 "nbformat": 4,
 "nbformat_minor": 4
}
