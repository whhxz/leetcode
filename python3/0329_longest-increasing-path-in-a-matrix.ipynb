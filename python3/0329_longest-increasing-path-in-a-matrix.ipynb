{
 "cells": [
  {
   "cell_type": "code",
   "execution_count": 19,
   "metadata": {},
   "outputs": [],
   "source": [
    "from typing import List\n",
    "class Solution:\n",
    "    def longestIncreasingPath(self, matrix: List[List[int]]) -> int:\n",
    "        if not matrix:\n",
    "            return 0\n",
    "        maxi = len(matrix)\n",
    "        maxj = len(matrix[0])\n",
    "        walk = [[0]*maxj for _ in range(maxi)]\n",
    "        def dfs(i,j,num):\n",
    "            if i < 0 or j <0 or i >= maxi or j >=maxj or matrix[i][j]>=num:\n",
    "                return 0\n",
    "            if walk[i][j]>0:\n",
    "                return walk[i][j]\n",
    "            return 1+max(dfs(i-1,j,matrix[i][j]), dfs(i+1,j,matrix[i][j]),dfs(i,j-1,matrix[i][j]),dfs(i,j+1,matrix[i][j]))\n",
    "        res = 0\n",
    "        for i in range(maxi):\n",
    "            for j in range(maxj):\n",
    "                walk[i][j]=dfs(i,j,matrix[i][j]+1)\n",
    "                res = max(walk[i][j],res)\n",
    "        return res\n"
   ]
  },
  {
   "cell_type": "code",
   "execution_count": 20,
   "metadata": {},
   "outputs": [
    {
     "data": {
      "text/plain": [
       "3"
      ]
     },
     "execution_count": 20,
     "metadata": {},
     "output_type": "execute_result"
    }
   ],
   "source": [
    "Solution().longestIncreasingPath([[0],[1],[5],[5]])"
   ]
  },
  {
   "cell_type": "code",
   "execution_count": null,
   "metadata": {},
   "outputs": [],
   "source": []
  }
 ],
 "metadata": {
  "kernelspec": {
   "display_name": "Python 3",
   "language": "python",
   "name": "python3"
  },
  "language_info": {
   "codemirror_mode": {
    "name": "ipython",
    "version": 3
   },
   "file_extension": ".py",
   "mimetype": "text/x-python",
   "name": "python",
   "nbconvert_exporter": "python",
   "pygments_lexer": "ipython3",
   "version": "3.7.5"
  }
 },
 "nbformat": 4,
 "nbformat_minor": 4
}
