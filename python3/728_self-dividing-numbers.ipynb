{
 "cells": [
  {
   "cell_type": "code",
   "execution_count": 1,
   "metadata": {},
   "outputs": [],
   "source": [
    "class Solution:\n",
    "    #比较简单，直接遍历取值即可\n",
    "    def selfDividingNumbers(self, left, right):\n",
    "        \"\"\"\n",
    "        :type left: int\n",
    "        :type right: int\n",
    "        :rtype: List[int]\n",
    "        \"\"\"\n",
    "        res = []\n",
    "        for n in range(left, right + 1):\n",
    "            ns = str(n)\n",
    "            if \"0\" in ns:\n",
    "                continue\n",
    "            sign = True\n",
    "            for c in str(n):\n",
    "                if n % int(c) != 0:\n",
    "                    sign = False\n",
    "                    break\n",
    "            if sign:\n",
    "                res.append(n)\n",
    "        return res"
   ]
  },
  {
   "cell_type": "code",
   "execution_count": 2,
   "metadata": {},
   "outputs": [
    {
     "data": {
      "text/plain": [
       "[1, 2, 3, 4, 5, 6, 7, 8, 9, 11, 12, 15, 22]"
      ]
     },
     "execution_count": 2,
     "metadata": {},
     "output_type": "execute_result"
    }
   ],
   "source": [
    "Solution().selfDividingNumbers(1, 22)"
   ]
  },
  {
   "cell_type": "code",
   "execution_count": null,
   "metadata": {},
   "outputs": [],
   "source": []
  }
 ],
 "metadata": {
  "kernelspec": {
   "display_name": "Python 3",
   "language": "python",
   "name": "python3"
  },
  "language_info": {
   "codemirror_mode": {
    "name": "ipython",
    "version": 3
   },
   "file_extension": ".py",
   "mimetype": "text/x-python",
   "name": "python",
   "nbconvert_exporter": "python",
   "pygments_lexer": "ipython3",
   "version": "3.5.1"
  }
 },
 "nbformat": 4,
 "nbformat_minor": 2
}
