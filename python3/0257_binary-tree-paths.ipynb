{
 "cells": [
  {
   "cell_type": "code",
   "execution_count": 3,
   "metadata": {},
   "outputs": [],
   "source": [
    "# Definition for a binary tree node.\n",
    "from typing import List\n",
    "class TreeNode:\n",
    "    def __init__(self, x):\n",
    "        self.val = x\n",
    "        self.left = None\n",
    "        self.right = None\n",
    "\n",
    "class Solution:\n",
    "    def binaryTreePaths(self, root: TreeNode) -> List[str]:\n",
    "        if not root:\n",
    "            return []\n",
    "        walk = []\n",
    "        def helper(node, ns):\n",
    "            if not node.left and not node.right:\n",
    "                walk.append(ns + [str(node.val)])\n",
    "                return\n",
    "            if node.left:\n",
    "                helper(node.left, ns + [str(node.val)])\n",
    "            if node.right:\n",
    "                helper(node.right, ns + [str(node.val)])\n",
    "            \n",
    "        helper(root, [])\n",
    "        return [\"->\".join(n) for n in walk]\n",
    "        "
   ]
  },
  {
   "cell_type": "code",
   "execution_count": null,
   "metadata": {},
   "outputs": [],
   "source": []
  }
 ],
 "metadata": {
  "kernelspec": {
   "display_name": "Python 3",
   "language": "python",
   "name": "python3"
  },
  "language_info": {
   "codemirror_mode": {
    "name": "ipython",
    "version": 3
   },
   "file_extension": ".py",
   "mimetype": "text/x-python",
   "name": "python",
   "nbconvert_exporter": "python",
   "pygments_lexer": "ipython3",
   "version": "3.7.5"
  }
 },
 "nbformat": 4,
 "nbformat_minor": 4
}
