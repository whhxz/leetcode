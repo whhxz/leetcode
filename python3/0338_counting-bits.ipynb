{
 "cells": [
  {
   "cell_type": "code",
   "execution_count": null,
   "metadata": {},
   "outputs": [],
   "source": [
    "class Solution:\n",
    "    #去掉最后一个1\n",
    "    def countBits(self, num: int) -> List[int]:\n",
    "        res = [0]\n",
    "        for i in range(1, num+1):\n",
    "            #当前i右移，计算有多少位，加上消掉的最后一位是否为1，动态规划\n",
    "            res.append(res[i>>1]+(i&1))\n",
    "        return res"
   ]
  }
 ],
 "metadata": {
  "kernelspec": {
   "display_name": "Python 3",
   "language": "python",
   "name": "python3"
  },
  "language_info": {
   "codemirror_mode": {
    "name": "ipython",
    "version": 3
   },
   "file_extension": ".py",
   "mimetype": "text/x-python",
   "name": "python",
   "nbconvert_exporter": "python",
   "pygments_lexer": "ipython3",
   "version": "3.7.5"
  }
 },
 "nbformat": 4,
 "nbformat_minor": 4
}
