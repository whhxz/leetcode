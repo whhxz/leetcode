{
 "cells": [
  {
   "cell_type": "code",
   "execution_count": 148,
   "metadata": {},
   "outputs": [],
   "source": [
    "class Solution:\n",
    "    def generateMatrix(self, n: int) -> List[List[int]]:\n",
    "        l,r,u,d=0,n,0,n\n",
    "        res = [[0]*n for i in range(n)]\n",
    "        i,j=0,0\n",
    "        sign = 1\n",
    "        num = 1\n",
    "        maxn = n * n\n",
    "        res[0][0] = 1\n",
    "        while num < maxn:\n",
    "            if sign == 1:\n",
    "                while j + 1 < n and res[i][j + 1] == 0:\n",
    "                    num += 1\n",
    "                    j+=1\n",
    "                    res[i][j] = num\n",
    "                sign = sign << 1\n",
    "            elif sign == 2:\n",
    "                while i+1 < n and res[i+1][j] ==0:\n",
    "                    num += 1\n",
    "                    i+=1\n",
    "                    res[i][j] = num\n",
    "                sign = sign << 1\n",
    "            elif sign == 4:\n",
    "                while j -1 >=0 and res[i][j-1] ==0:\n",
    "                    num += 1\n",
    "                    j -= 1\n",
    "                    res[i][j] = num\n",
    "                sign = sign << 1\n",
    "            elif sign == 8:\n",
    "                while i - 1 >=0 and res[i-1][j]==0:\n",
    "                    num += 1\n",
    "                    i -=1 \n",
    "                    res[i][j] = num\n",
    "                sign = 1\n",
    "        return res\n",
    "            \n",
    "            \n",
    "            "
   ]
  },
  {
   "cell_type": "code",
   "execution_count": 150,
   "metadata": {},
   "outputs": [
    {
     "name": "stdout",
     "output_type": "stream",
     "text": [
      "[1, 2, 3, 4, 5]\n",
      "[16, 17, 18, 19, 6]\n",
      "[15, 24, 25, 20, 7]\n",
      "[14, 23, 22, 21, 8]\n",
      "[13, 12, 11, 10, 9]\n"
     ]
    }
   ],
   "source": [
    "nums = Solution().generateMatrix(5)\n",
    "for n in nums:\n",
    "    print(n)"
   ]
  },
  {
   "cell_type": "code",
   "execution_count": 86,
   "metadata": {},
   "outputs": [
    {
     "name": "stdout",
     "output_type": "stream",
     "text": [
      "[3, 1, 2]\n"
     ]
    }
   ],
   "source": [
    "num = [2,1,3]\n",
    "num.reverse()\n",
    "print(num)"
   ]
  },
  {
   "cell_type": "code",
   "execution_count": null,
   "metadata": {},
   "outputs": [],
   "source": []
  }
 ],
 "metadata": {
  "kernelspec": {
   "display_name": "Python 3",
   "language": "python",
   "name": "python3"
  },
  "language_info": {
   "codemirror_mode": {
    "name": "ipython",
    "version": 3
   },
   "file_extension": ".py",
   "mimetype": "text/x-python",
   "name": "python",
   "nbconvert_exporter": "python",
   "pygments_lexer": "ipython3",
   "version": "3.7.5"
  }
 },
 "nbformat": 4,
 "nbformat_minor": 4
}
