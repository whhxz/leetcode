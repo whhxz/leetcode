{
 "cells": [
  {
   "cell_type": "code",
   "execution_count": null,
   "metadata": {},
   "outputs": [],
   "source": [
    "class Solution:\n",
    "    def isLongPressedName(self, name: str, typed: str) -> bool:\n",
    "        i, j = 0, 0\n",
    "        ln = len(name)\n",
    "        lt = len(typed)\n",
    "        while i < ln and j < lt:\n",
    "            if name[i] != typed[j]:\n",
    "                break\n",
    "            inum = 1\n",
    "            while i + 1 < ln and name[i] == name[i + 1]:\n",
    "                inum += 1\n",
    "                i += 1\n",
    "            jnum = 1\n",
    "            while j + 1 < lt and typed[j] == typed[j + 1]:\n",
    "                jnum += 1\n",
    "                j += 1\n",
    "            if inum > jnum:\n",
    "                break\n",
    "            i += 1\n",
    "            j += 1\n",
    "        return i == ln and j == lt"
   ]
  }
 ],
 "metadata": {
  "kernelspec": {
   "display_name": "Python 3",
   "language": "python",
   "name": "python3"
  },
  "language_info": {
   "codemirror_mode": {
    "name": "ipython",
    "version": 3
   },
   "file_extension": ".py",
   "mimetype": "text/x-python",
   "name": "python",
   "nbconvert_exporter": "python",
   "pygments_lexer": "ipython3",
   "version": "3.7.5"
  }
 },
 "nbformat": 4,
 "nbformat_minor": 4
}
