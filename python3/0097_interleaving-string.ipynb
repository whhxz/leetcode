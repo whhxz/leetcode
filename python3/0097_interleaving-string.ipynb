{
 "cells": [
  {
   "cell_type": "code",
   "execution_count": 40,
   "metadata": {},
   "outputs": [],
   "source": [
    "class Solution:\n",
    "    # 建立二维数组，存储前i个s1和j个s2是否可以组成前i+j个s3\n",
    "    def isInterleave(self, s1: str, s2: str, s3: str) -> bool:\n",
    "        l1 = len(s1)\n",
    "        l2 = len(s2)\n",
    "        l3 = len(s3)\n",
    "        if l1 + l2 != l3:\n",
    "            return False\n",
    "        dirct = [[False]*(l2 + 1) for i in range(l1 + 1)]\n",
    "        dirct[0][0] = True\n",
    "        for i in range(l2):\n",
    "            dirct[0][i + 1] = s2[i] == s3[i]\n",
    "            if not dirct[0][i+1]:\n",
    "                break\n",
    "        for i in range(l1):\n",
    "            dirct[i+1][0] = s1[i] == s3[i]\n",
    "            if not dirct[i+1][0]:\n",
    "                break\n",
    "        for i in range(1, (l1 + 1)):\n",
    "            for j in range(1, (l2 + 1)):\n",
    "                if (dirct[i][j-1] and s2[j - 1] == s3[i+j-1]) or (dirct[i-1][j] and s1[i-1] == s3[i+j-1]):\n",
    "                    dirct[i][j] = True\n",
    "        return dirct[-1][-1]\n",
    "                    \n",
    "                \n",
    "                "
   ]
  },
  {
   "cell_type": "code",
   "execution_count": 42,
   "metadata": {},
   "outputs": [
    {
     "data": {
      "text/plain": [
       "False"
      ]
     },
     "execution_count": 42,
     "metadata": {},
     "output_type": "execute_result"
    }
   ],
   "source": [
    "Solution().isInterleave(\"bbbbbabbbbabaababaaaabbababbaaabbabbaaabaaaaababbbababbbbbabbbbababbabaabababbbaabababababbbaaababaa\",\n",
    "\"babaaaabbababbbabbbbaabaabbaabbbbaabaaabaababaaaabaaabbaaabaaaabaabaabbbbbbbbbbbabaaabbababbabbabaab\",\n",
    "\"babbbabbbaaabbababbbbababaabbabaabaaabbbbabbbaaabbbaaaaabbbbaabbaaabababbaaaaaabababbababaababbababbbababbbbaaaabaabbabbaaaaabbabbaaaabbbaabaaabaababaababbaaabbbbbabbbbaabbabaabbbbabaaabbababbabbabbab\")"
   ]
  },
  {
   "cell_type": "code",
   "execution_count": null,
   "metadata": {},
   "outputs": [],
   "source": []
  },
  {
   "cell_type": "code",
   "execution_count": null,
   "metadata": {},
   "outputs": [],
   "source": []
  }
 ],
 "metadata": {
  "kernelspec": {
   "display_name": "Python 3",
   "language": "python",
   "name": "python3"
  },
  "language_info": {
   "codemirror_mode": {
    "name": "ipython",
    "version": 3
   },
   "file_extension": ".py",
   "mimetype": "text/x-python",
   "name": "python",
   "nbconvert_exporter": "python",
   "pygments_lexer": "ipython3",
   "version": "3.7.5"
  }
 },
 "nbformat": 4,
 "nbformat_minor": 4
}
