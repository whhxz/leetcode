{
 "cells": [
  {
   "cell_type": "code",
   "execution_count": 17,
   "metadata": {},
   "outputs": [],
   "source": [
    "class Solution:\n",
    "    def reverseVowels(self, s: str) -> str:\n",
    "        s = list(s)\n",
    "        t = {'a','e','i','o','u', 'A', 'E', 'I', 'O', 'U'}\n",
    "        l = 0\n",
    "        r = len(s) -1\n",
    "        while l < r:\n",
    "            if s[l] in t and s[r] in t:\n",
    "                s[l],s[r] = s[r],s[l]\n",
    "                l +=1\n",
    "                r -=1\n",
    "                continue\n",
    "            elif s[l] in t:\n",
    "                r -= 1\n",
    "            elif s[r] in t:\n",
    "                l += 1\n",
    "            else:\n",
    "                l += 1\n",
    "                r -= 1\n",
    "            if s[l] in t and s[r] in t:\n",
    "                s[l],s[r] = s[r],s[l]\n",
    "                l += 1\n",
    "                r -= 1\n",
    "        return \"\".join(s)\n",
    "                "
   ]
  },
  {
   "cell_type": "code",
   "execution_count": 19,
   "metadata": {},
   "outputs": [
    {
     "name": "stdout",
     "output_type": "stream",
     "text": [
      "0 1\n"
     ]
    },
    {
     "data": {
      "text/plain": [
       "'iA'"
      ]
     },
     "execution_count": 19,
     "metadata": {},
     "output_type": "execute_result"
    }
   ],
   "source": [
    "Solution().reverseVowels('Ai')"
   ]
  },
  {
   "cell_type": "code",
   "execution_count": null,
   "metadata": {},
   "outputs": [],
   "source": []
  }
 ],
 "metadata": {
  "kernelspec": {
   "display_name": "Python 3",
   "language": "python",
   "name": "python3"
  },
  "language_info": {
   "codemirror_mode": {
    "name": "ipython",
    "version": 3
   },
   "file_extension": ".py",
   "mimetype": "text/x-python",
   "name": "python",
   "nbconvert_exporter": "python",
   "pygments_lexer": "ipython3",
   "version": "3.7.5"
  }
 },
 "nbformat": 4,
 "nbformat_minor": 4
}
