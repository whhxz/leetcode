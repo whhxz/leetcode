{
 "cells": [
  {
   "cell_type": "code",
   "execution_count": 18,
   "metadata": {},
   "outputs": [],
   "source": [
    "class Solution:\n",
    "    def canJump(self, nums):\n",
    "        \"\"\"\n",
    "        :type nums: List[int]\n",
    "        :rtype: bool\n",
    "        \"\"\"\n",
    "        if 0 not in nums or len(nums) == 1:\n",
    "            return True\n",
    "        res = False\n",
    "        step = 0\n",
    "        for i in range(len(nums) - 2, -1, -1):\n",
    "            if nums[i] == 0 and res:\n",
    "                step = 1\n",
    "                res = False\n",
    "                continue\n",
    "            if not res:\n",
    "                if nums[i] > step:\n",
    "                    res = True\n",
    "                else:\n",
    "                    step += 1\n",
    "        return res\n",
    "    def canJump1(self, nums):\n",
    "        j = len(nums)-1\n",
    "        for i in range(len(nums)-2,-1,-1):\n",
    "            if j - i <= nums[i]:\n",
    "                j = i\n",
    "        return j == 0"
   ]
  },
  {
   "cell_type": "code",
   "execution_count": 19,
   "metadata": {},
   "outputs": [
    {
     "data": {
      "text/plain": [
       "True"
      ]
     },
     "execution_count": 19,
     "metadata": {},
     "output_type": "execute_result"
    }
   ],
   "source": [
    "Solution().canJump([0])"
   ]
  },
  {
   "cell_type": "code",
   "execution_count": null,
   "metadata": {},
   "outputs": [],
   "source": []
  }
 ],
 "metadata": {
  "kernelspec": {
   "display_name": "Python 3",
   "language": "python",
   "name": "python3"
  },
  "language_info": {
   "codemirror_mode": {
    "name": "ipython",
    "version": 3
   },
   "file_extension": ".py",
   "mimetype": "text/x-python",
   "name": "python",
   "nbconvert_exporter": "python",
   "pygments_lexer": "ipython3",
   "version": "3.5.1"
  }
 },
 "nbformat": 4,
 "nbformat_minor": 2
}
