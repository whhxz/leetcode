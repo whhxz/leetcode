{
 "cells": [
  {
   "cell_type": "code",
   "execution_count": 23,
   "metadata": {},
   "outputs": [],
   "source": [
    "class Solution:\n",
    "    #解题思路是从一个个除，计算值\n",
    "    def fractionToDecimal(self, numerator, denominator):\n",
    "        \"\"\"\n",
    "        :type numerator: int\n",
    "        :type denominator: int\n",
    "        :rtype: str\n",
    "        \"\"\"\n",
    "        minus = 1\n",
    "        if numerator < 0:\n",
    "            minus *= -1\n",
    "            numerator *=-1\n",
    "        elif numerator == 0:\n",
    "            return \"0\"\n",
    "        if denominator <0:\n",
    "            minus *=-1\n",
    "            denominator *= -1\n",
    "        elif denominator ==0:\n",
    "            return \"\"\n",
    "        d_d = {}\n",
    "        #取整数\n",
    "        consult = numerator // denominator\n",
    "        #取余\n",
    "        remainder = numerator - denominator * consult\n",
    "        #初始化值，也可以使用栈\n",
    "        res = str(consult) if remainder == 0 else str(consult) + \".\"\n",
    "        #循环除法\n",
    "        while remainder != 0 and remainder not in d_d:\n",
    "            #记录当前余返回值长度，用于到时候如果是循环小数，添加括号\n",
    "            d_d[remainder] = len(res)\n",
    "            #除法计算，知道发现循环或者已经除尽\n",
    "            remainder *= 10\n",
    "            consult = remainder // denominator\n",
    "            res += str(consult)\n",
    "            remainder = remainder - denominator * consult\n",
    "        #判断是否循环小数\n",
    "        if remainder in d_d:\n",
    "            start = d_d[remainder]\n",
    "            res = res[:start] + \"(\" + res[start:] + \")\"\n",
    "        return \"-\"+ res if minus == -1 else res\n",
    "        "
   ]
  },
  {
   "cell_type": "code",
   "execution_count": 24,
   "metadata": {},
   "outputs": [
    {
     "data": {
      "text/plain": [
       "'-0.58(3)'"
      ]
     },
     "execution_count": 24,
     "metadata": {},
     "output_type": "execute_result"
    }
   ],
   "source": [
    "Solution().fractionToDecimal(7,-12)"
   ]
  },
  {
   "cell_type": "code",
   "execution_count": null,
   "metadata": {},
   "outputs": [],
   "source": []
  }
 ],
 "metadata": {
  "kernelspec": {
   "display_name": "Python 3",
   "language": "python",
   "name": "python3"
  },
  "language_info": {
   "codemirror_mode": {
    "name": "ipython",
    "version": 3
   },
   "file_extension": ".py",
   "mimetype": "text/x-python",
   "name": "python",
   "nbconvert_exporter": "python",
   "pygments_lexer": "ipython3",
   "version": "3.5.1"
  }
 },
 "nbformat": 4,
 "nbformat_minor": 2
}
