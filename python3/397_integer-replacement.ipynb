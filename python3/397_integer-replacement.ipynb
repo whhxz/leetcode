{
 "cells": [
  {
   "cell_type": "code",
   "execution_count": 39,
   "metadata": {},
   "outputs": [],
   "source": [
    "class Solution(object):\n",
    "    #思路是先转换为二维数组，然后对二维数组进行移动\n",
    "    def integerReplacement(self, n):\n",
    "        \"\"\"\n",
    "        :type n: int\n",
    "        :rtype: int\n",
    "        \"\"\"\n",
    "        #二维数组倒序\n",
    "        bn = bin(n)[2:][::-1]\n",
    "        res = 0\n",
    "        while n != 1:\n",
    "            #如果存在0\n",
    "            if \"0\" in bn:\n",
    "                \n",
    "                i0 = bn.index(\"0\")\n",
    "                #如果0是第一个，也就是正序中最后一个，那么直接后移\n",
    "                if i0 == 0:\n",
    "                    bn = bn[1:]\n",
    "                    res += 1\n",
    "                    n >> 1\n",
    "                #如果是第一个，那么后移动2位，需要步骤为3 100001 -> 1000  需要3次\n",
    "                elif i0 == 1:\n",
    "                    res += 3\n",
    "                    bn = bn[2:]\n",
    "                    n >> 2\n",
    "                #否则就是出现连续的1，那么移动  i0 + 1次 且0位补1\n",
    "                else:\n",
    "                    res += i0 + 1\n",
    "                    n >> i0\n",
    "                    bn = \"1\" + bn[i0 + 1:]\n",
    "            else:\n",
    "                res += min((len(bn) - 1) * 2, (len(bn) + 1))\n",
    "                break\n",
    "        return res"
   ]
  },
  {
   "cell_type": "code",
   "execution_count": 40,
   "metadata": {},
   "outputs": [
    {
     "data": {
      "text/plain": [
       "14"
      ]
     },
     "execution_count": 40,
     "metadata": {},
     "output_type": "execute_result"
    }
   ],
   "source": [
    "Solution().integerReplacement(1234)"
   ]
  },
  {
   "cell_type": "code",
   "execution_count": 38,
   "metadata": {},
   "outputs": [
    {
     "ename": "TypeError",
     "evalue": "'str' object does not support item assignment",
     "output_type": "error",
     "traceback": [
      "\u001b[0;31m---------------------------------------------------------------------------\u001b[0m",
      "\u001b[0;31mTypeError\u001b[0m                                 Traceback (most recent call last)",
      "\u001b[0;32m<ipython-input-38-49c600bc9fe8>\u001b[0m in \u001b[0;36m<module>\u001b[0;34m()\u001b[0m\n\u001b[1;32m      1\u001b[0m \u001b[0ms\u001b[0m \u001b[0;34m=\u001b[0m \u001b[0;34m\"abc\"\u001b[0m\u001b[0;34m\u001b[0m\u001b[0m\n\u001b[0;32m----> 2\u001b[0;31m \u001b[0ms\u001b[0m\u001b[0;34m[\u001b[0m\u001b[0;36m0\u001b[0m\u001b[0;34m]\u001b[0m \u001b[0;34m=\u001b[0m \u001b[0;34m\"c\"\u001b[0m\u001b[0;34m\u001b[0m\u001b[0m\n\u001b[0m",
      "\u001b[0;31mTypeError\u001b[0m: 'str' object does not support item assignment"
     ]
    }
   ],
   "source": [
    "s = \"abc\"\n",
    "s[0] = \"c\""
   ]
  },
  {
   "cell_type": "code",
   "execution_count": null,
   "metadata": {},
   "outputs": [],
   "source": []
  }
 ],
 "metadata": {
  "kernelspec": {
   "display_name": "Python 3",
   "language": "python",
   "name": "python3"
  },
  "language_info": {
   "codemirror_mode": {
    "name": "ipython",
    "version": 3
   },
   "file_extension": ".py",
   "mimetype": "text/x-python",
   "name": "python",
   "nbconvert_exporter": "python",
   "pygments_lexer": "ipython3",
   "version": "3.5.1"
  }
 },
 "nbformat": 4,
 "nbformat_minor": 2
}
