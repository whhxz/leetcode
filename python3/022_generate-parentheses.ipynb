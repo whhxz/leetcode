{
 "cells": [
  {
   "cell_type": "code",
   "execution_count": 43,
   "metadata": {},
   "outputs": [],
   "source": [
    "class Solution:\n",
    "    #从第1个括号开始，每次在右边添加一个括号，然后移动右边括号的左括弧直到碰到\"(\",较慢\n",
    "    def generateParenthesis(self, n):\n",
    "        \"\"\"\n",
    "        :type n: int\n",
    "        :rtype: List[str]\n",
    "        \"\"\"\n",
    "        res = []\n",
    "        if n == 0:\n",
    "            return res\n",
    "        #初始货号\n",
    "        res = [[\"(\",\")\"]]\n",
    "        for i in range(1, n):\n",
    "            tmp = []\n",
    "            #添加括弧\n",
    "            for s in res:\n",
    "                s += [\"(\",\")\"]\n",
    "                tmp.append(s)\n",
    "                j = len(s) - 3\n",
    "                #从倒数第三个开始比较移动\n",
    "                while j:\n",
    "                    if s[j] == \")\":\n",
    "                        t = s[:]\n",
    "                        t[-2],t[j] = t[j],t[-2]\n",
    "                        tmp.append(t)\n",
    "                    else:\n",
    "                        break\n",
    "                    j -= 1\n",
    "            res = tmp\n",
    "        return [\"\".join(s) for s in res]\n",
    "                    \n",
    "        \n",
    "    def generateParenthesis1(self, n):\n",
    "        \"\"\"\n",
    "        :type n: int\n",
    "        :rtype: List[str]\n",
    "        \"\"\"\n",
    "        res = []\n",
    "        #添加括号，left：左括号数量，right：右括号数量\n",
    "        def recursive(left, right, s):\n",
    "            if left == right == 0:\n",
    "                #左右括号填充完毕\n",
    "                res.append(s)\n",
    "                return\n",
    "            #如果left>0填充左括号\n",
    "            if left > 0:\n",
    "                recursive(left - 1, right, s + \"(\")\n",
    "            #剩余的右括号必须大于左括号，才能填充右括号\n",
    "            if left < right:\n",
    "                recursive(left, right - 1, s + \")\")\n",
    "        recursive(n, n, \"\")\n",
    "        return res"
   ]
  },
  {
   "cell_type": "code",
   "execution_count": 44,
   "metadata": {},
   "outputs": [
    {
     "name": "stdout",
     "output_type": "stream",
     "text": [
      "(((())))\n",
      "((()()))\n",
      "((())())\n",
      "((()))()\n",
      "(()(()))\n",
      "(()()())\n",
      "(()())()\n",
      "(())(())\n",
      "(())()()\n",
      "()((()))\n",
      "()(()())\n",
      "()(())()\n",
      "()()(())\n",
      "()()()()\n"
     ]
    }
   ],
   "source": [
    "cs = Solution().generateParenthesis1(4)\n",
    "for c in cs:\n",
    "    print(c)"
   ]
  },
  {
   "cell_type": "code",
   "execution_count": null,
   "metadata": {},
   "outputs": [],
   "source": []
  }
 ],
 "metadata": {
  "kernelspec": {
   "display_name": "Python 3",
   "language": "python",
   "name": "python3"
  },
  "language_info": {
   "codemirror_mode": {
    "name": "ipython",
    "version": 3
   },
   "file_extension": ".py",
   "mimetype": "text/x-python",
   "name": "python",
   "nbconvert_exporter": "python",
   "pygments_lexer": "ipython3",
   "version": "3.5.1"
  }
 },
 "nbformat": 4,
 "nbformat_minor": 2
}
