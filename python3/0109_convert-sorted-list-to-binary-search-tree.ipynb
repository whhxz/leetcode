{
 "cells": [
  {
   "cell_type": "code",
   "execution_count": 2,
   "metadata": {},
   "outputs": [],
   "source": [
    "# Definition for singly-linked list.\n",
    "class ListNode:\n",
    "    def __init__(self, x):\n",
    "        self.val = x\n",
    "        self.next = None\n",
    "\n",
    "#Definition for a binary tree node.\n",
    "class TreeNode:\n",
    "    def __init__(self, x):\n",
    "        self.val = x\n",
    "        self.left = None\n",
    "        self.right = None\n",
    "\n",
    "class Solution:\n",
    "    #通过快慢指针找到中间节点\n",
    "    #慢指针一次一步，快指针一次2步，到达终点时，慢指针为中间节点\n",
    "    def sortedListToBST(self, head: ListNode) -> TreeNode:\n",
    "        def findMind(node):\n",
    "            if not node:\n",
    "                return None\n",
    "            if not node.next:\n",
    "                return TreeNode(node.val)\n",
    "            fast = node\n",
    "            slow = node\n",
    "            before = None\n",
    "            while fast and  fast.next:\n",
    "                before,slow = slow,slow.next\n",
    "                fast = fast.next.next\n",
    "            before.next = None\n",
    "            tree = TreeNode(slow.val)\n",
    "            tree.left = findMind(node)\n",
    "            tree.right = findMind(slow.next)\n",
    "            return tree\n",
    "        return findMind(head)\n",
    "                    \n",
    "            "
   ]
  },
  {
   "cell_type": "code",
   "execution_count": null,
   "metadata": {},
   "outputs": [],
   "source": []
  }
 ],
 "metadata": {
  "kernelspec": {
   "display_name": "Python 3",
   "language": "python",
   "name": "python3"
  },
  "language_info": {
   "codemirror_mode": {
    "name": "ipython",
    "version": 3
   },
   "file_extension": ".py",
   "mimetype": "text/x-python",
   "name": "python",
   "nbconvert_exporter": "python",
   "pygments_lexer": "ipython3",
   "version": "3.7.5"
  }
 },
 "nbformat": 4,
 "nbformat_minor": 4
}
