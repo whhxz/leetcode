{
 "cells": [
  {
   "cell_type": "code",
   "execution_count": 12,
   "metadata": {},
   "outputs": [],
   "source": [
    "# Definition for a binary tree node.\n",
    "class TreeNode:\n",
    "    def __init__(self, x):\n",
    "        self.val = x\n",
    "        self.left = None\n",
    "        self.right = None\n",
    "\n",
    "class Solution:\n",
    "    #递归\n",
    "    def inorderTraversal(self, root):\n",
    "        \"\"\"\n",
    "        :type root: TreeNode\n",
    "        :rtype: List[int]\n",
    "        \"\"\"\n",
    "        res = []\n",
    "        def recursive(node):\n",
    "            if not node:\n",
    "                return\n",
    "            recursive(node.left)\n",
    "            res.append(node.val)\n",
    "            recursive(node.right)\n",
    "        recursive(root)\n",
    "        return res\n",
    "    #通过栈实现\n",
    "    def inorderTraversal1(self, root):\n",
    "        \"\"\"\n",
    "        :type root: TreeNode\n",
    "        :rtype: List[int]\n",
    "        \"\"\"\n",
    "        res = []\n",
    "        if not root:\n",
    "            return res\n",
    "        stack = []\n",
    "        tmp = root\n",
    "        while tmp or stack:\n",
    "            #如果该节点存在\n",
    "            if tmp:\n",
    "                #存入该节点，遍历左节点\n",
    "                stack.append(tmp)\n",
    "                tmp = tmp.left\n",
    "            else:\n",
    "                #如果不存在，弹出栈中数据\n",
    "                node = stack.pop()\n",
    "                #添加节点\n",
    "                res.append(node.val)\n",
    "                #设置节点为右节点\n",
    "                tmp = node.right\n",
    "        return res\n",
    "            "
   ]
  },
  {
   "cell_type": "code",
   "execution_count": 14,
   "metadata": {},
   "outputs": [
    {
     "data": {
      "text/plain": [
       "[4, 2, 5, 1, 6, 3, 7]"
      ]
     },
     "execution_count": 14,
     "metadata": {},
     "output_type": "execute_result"
    }
   ],
   "source": [
    "t1 = TreeNode(1)\n",
    "t2 = TreeNode(2)\n",
    "t3 = TreeNode(3)\n",
    "t4 = TreeNode(4)\n",
    "t5 = TreeNode(5)\n",
    "t6 = TreeNode(6)\n",
    "t7 = TreeNode(7)\n",
    "t1.left = t2\n",
    "t1.right = t3\n",
    "t2.left = t4\n",
    "t2.right = t5\n",
    "t3.left = t6\n",
    "t3.right = t7\n",
    "Solution().inorderTraversal(t1)"
   ]
  },
  {
   "cell_type": "code",
   "execution_count": 9,
   "metadata": {},
   "outputs": [],
   "source": [
    "while []:\n",
    "    print(1)"
   ]
  },
  {
   "cell_type": "code",
   "execution_count": null,
   "metadata": {},
   "outputs": [],
   "source": []
  }
 ],
 "metadata": {
  "kernelspec": {
   "display_name": "Python 3",
   "language": "python",
   "name": "python3"
  },
  "language_info": {
   "codemirror_mode": {
    "name": "ipython",
    "version": 3
   },
   "file_extension": ".py",
   "mimetype": "text/x-python",
   "name": "python",
   "nbconvert_exporter": "python",
   "pygments_lexer": "ipython3",
   "version": "3.5.1"
  }
 },
 "nbformat": 4,
 "nbformat_minor": 2
}
