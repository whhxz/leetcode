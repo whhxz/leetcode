{
 "cells": [
  {
   "cell_type": "code",
   "execution_count": null,
   "metadata": {},
   "outputs": [],
   "source": [
    "# Definition for singly-linked list.\n",
    "# class ListNode(object):\n",
    "#     def __init__(self, x):\n",
    "#         self.val = x\n",
    "#         self.next = None\n",
    "\n",
    "class Solution(object):\n",
    "    #通过把节点放入set中，判断节点是否存在，时间复杂度O(n)，空间复杂度O(n)\n",
    "    def detectCycle1(self, head):\n",
    "        \"\"\"\n",
    "        :type head: ListNode\n",
    "        :rtype: ListNode\n",
    "        \"\"\"\n",
    "        tmps = set()\n",
    "        ne = head\n",
    "        while ne:\n",
    "            if ne in tmps:\n",
    "                return ne\n",
    "            tmps.add(ne)\n",
    "            ne = ne.next\n",
    "        return None\n",
    "    #如果有环，无环段长度为y，入环点-->相遇点距离为x，相遇点-->入环点为 z\n",
    "    #slow路程为 y + x\n",
    "    #fast路程为 y + N(x + z) + x （因为只要入环，一圈就能碰到，fast比slow多走N圈）\n",
    "    #因为fast的速度是slow的两倍，那么  2(y+x) = y + N(x + z) + x  =>  y = N(x + z) - x\n",
    "    #x + z 表示环的周长，N(x+z)-x => (N-1)(x + z) + z，这样y的长度就刚刚好是(N-1)圈加上z(fast和slow第一次相遇点到入环)的举例\n",
    "    #也就是如此让一个点从head和第一次相遇点步进为1，最终会在入环点相遇\n",
    "    def detectCycle1(self, head):\n",
    "        slow = fast = head\n",
    "        while fast and fast.next:\n",
    "            fast = fast.next.next\n",
    "            slow = slow.next\n",
    "            if fast == slow:\n",
    "                break\n",
    "        else:\n",
    "            return None\n",
    "        while head != show:\n",
    "            head = head.next\n",
    "            show = show.next\n",
    "        return head\n"
   ]
  }
 ],
 "metadata": {
  "kernelspec": {
   "display_name": "Python 3",
   "language": "python",
   "name": "python3"
  },
  "language_info": {
   "codemirror_mode": {
    "name": "ipython",
    "version": 3
   },
   "file_extension": ".py",
   "mimetype": "text/x-python",
   "name": "python",
   "nbconvert_exporter": "python",
   "pygments_lexer": "ipython3",
   "version": "3.5.1"
  }
 },
 "nbformat": 4,
 "nbformat_minor": 2
}
