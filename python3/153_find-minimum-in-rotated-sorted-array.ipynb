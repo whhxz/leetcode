{
 "cells": [
  {
   "cell_type": "code",
   "execution_count": 97,
   "metadata": {},
   "outputs": [],
   "source": [
    "from typing import List\n",
    "class Solution:\n",
    "    #重点\n",
    "    def findMin(self, nums: List[int]) -> int:\n",
    "        left = 0\n",
    "        right = len(nums) - 1\n",
    "        mid = 0\n",
    "        while left < right:\n",
    "            mid = (left + right)>>1\n",
    "            if nums[mid] < nums[right]:\n",
    "                right = mid\n",
    "            else:\n",
    "                left = mid + 1\n",
    "        return nums[left]\n",
    "             \n",
    "    def findMin1(self, nums: List[int]) -> int:\n",
    "        res = nums[0]\n",
    "        for n in reversed(nums):\n",
    "            if n < res:\n",
    "                res = n\n",
    "            else:\n",
    "                break\n",
    "        return res\n",
    "             \n",
    "            \n",
    "        "
   ]
  },
  {
   "cell_type": "code",
   "execution_count": 98,
   "metadata": {},
   "outputs": [
    {
     "data": {
      "text/plain": [
       "1"
      ]
     },
     "execution_count": 98,
     "metadata": {},
     "output_type": "execute_result"
    }
   ],
   "source": [
    "Solution().findMin([3,4,5,1,2])"
   ]
  },
  {
   "cell_type": "code",
   "execution_count": null,
   "metadata": {},
   "outputs": [],
   "source": []
  }
 ],
 "metadata": {
  "kernelspec": {
   "display_name": "Python 3",
   "language": "python",
   "name": "python3"
  },
  "language_info": {
   "codemirror_mode": {
    "name": "ipython",
    "version": 3
   },
   "file_extension": ".py",
   "mimetype": "text/x-python",
   "name": "python",
   "nbconvert_exporter": "python",
   "pygments_lexer": "ipython3",
   "version": "3.7.0"
  }
 },
 "nbformat": 4,
 "nbformat_minor": 2
}
