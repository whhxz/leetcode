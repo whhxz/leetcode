{
 "cells": [
  {
   "cell_type": "code",
   "execution_count": 70,
   "metadata": {},
   "outputs": [],
   "source": [
    "import math\n",
    "class Solution:\n",
    "    # 不是最优解\n",
    "    #可以采用 四平方和定理（每个正整数均可表示为4个整数的平方和） 更快的计算出结果\n",
    "    def numSquares(self, n):\n",
    "        \"\"\"\n",
    "        :type n: int\n",
    "        :rtype: int\n",
    "        \"\"\"\n",
    "        max_i = int(math.sqrt(n))\n",
    "        all_data = [x * x for x in range(max_i, 0, -1)]\n",
    "        print(all_data)\n",
    "        data = [n]\n",
    "        tmps = []\n",
    "        tmp = 0\n",
    "        res = 0\n",
    "        while True:\n",
    "            res += 1\n",
    "            for num in data:\n",
    "                for d in all_data:\n",
    "                    tmp = num - d\n",
    "                    if tmp < 0:\n",
    "                        continue\n",
    "                    if tmp == 0:\n",
    "                        return res\n",
    "                    tmps.append(tmp)\n",
    "            data = tmps\n",
    "            tmps = []\n",
    "        return -1\n",
    "                \n",
    "        "
   ]
  },
  {
   "cell_type": "code",
   "execution_count": 72,
   "metadata": {},
   "outputs": [
    {
     "name": "stdout",
     "output_type": "stream",
     "text": [
      "[9, 4, 1]\n"
     ]
    },
    {
     "data": {
      "text/plain": [
       "3"
      ]
     },
     "execution_count": 72,
     "metadata": {},
     "output_type": "execute_result"
    }
   ],
   "source": [
    "Solution().numSquares(12)"
   ]
  },
  {
   "cell_type": "code",
   "execution_count": null,
   "metadata": {},
   "outputs": [],
   "source": []
  },
  {
   "cell_type": "code",
   "execution_count": null,
   "metadata": {},
   "outputs": [],
   "source": []
  }
 ],
 "metadata": {
  "kernelspec": {
   "display_name": "Python 3",
   "language": "python",
   "name": "python3"
  },
  "language_info": {
   "codemirror_mode": {
    "name": "ipython",
    "version": 3
   },
   "file_extension": ".py",
   "mimetype": "text/x-python",
   "name": "python",
   "nbconvert_exporter": "python",
   "pygments_lexer": "ipython3",
   "version": "3.5.1"
  }
 },
 "nbformat": 4,
 "nbformat_minor": 2
}
