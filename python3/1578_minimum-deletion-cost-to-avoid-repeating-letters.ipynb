{
 "cells": [
  {
   "cell_type": "code",
   "execution_count": null,
   "metadata": {},
   "outputs": [],
   "source": [
    "from typing import List\n",
    "\n",
    "\n",
    "class Solution:\n",
    "    def minCost(self, s: str, cost: List[int]) -> int:\n",
    "        stack = [0]\n",
    "        res = 0\n",
    "        for i in range(1, len(s)):\n",
    "            if s[i] == s[stack[-1]]:\n",
    "                if cost[i] <= cost[stack[-1]]:\n",
    "                    res += cost[i]\n",
    "                else:\n",
    "                    res += cost[stack.pop()]\n",
    "                    stack.append(i)\n",
    "            else:\n",
    "                stack.append(i)\n",
    "        return res"
   ]
  }
 ],
 "metadata": {
  "kernelspec": {
   "display_name": "Python 3",
   "language": "python",
   "name": "python3"
  },
  "language_info": {
   "codemirror_mode": {
    "name": "ipython",
    "version": 3
   },
   "file_extension": ".py",
   "mimetype": "text/x-python",
   "name": "python",
   "nbconvert_exporter": "python",
   "pygments_lexer": "ipython3",
   "version": "3.7.5"
  }
 },
 "nbformat": 4,
 "nbformat_minor": 4
}
