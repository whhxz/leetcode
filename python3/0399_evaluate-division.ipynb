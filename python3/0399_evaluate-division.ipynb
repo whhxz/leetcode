{
 "cells": [
  {
   "cell_type": "code",
   "execution_count": 30,
   "metadata": {},
   "outputs": [],
   "source": [
    "from typing import List\n",
    "class Solution:\n",
    "    #构造图，深度搜索\n",
    "    def calcEquation(self, equations: List[List[str]], values: List[float], queries: List[List[str]]) -> List[float]:\n",
    "        tdict = {}\n",
    "        for i,e in enumerate(equations):\n",
    "            if e[0] == e[1]:\n",
    "                continue\n",
    "            if e[0] not in tdict:\n",
    "                tdict[e[0]] = []\n",
    "            tdict[e[0]].append((e[1], values[i]))\n",
    "            if e[1] not in tdict:\n",
    "                tdict[e[1]] = []\n",
    "            tdict[e[1]].append((e[0], 1/values[i]))\n",
    "        def dfs(c,ec, walk):\n",
    "            if c not in tdict:\n",
    "                return -1\n",
    "            for t in tdict[c]:\n",
    "                if t[0] == ec:\n",
    "                    return t[1]\n",
    "                elif t[0] not in walk:\n",
    "                    walk.add(t[0])\n",
    "                    d = dfs(t[0], ec, walk)\n",
    "                    if d > 0:\n",
    "                        return d * t[1]\n",
    "            return -1\n",
    "        res = []\n",
    "        for e in queries:\n",
    "            if e[0] == e[1]:\n",
    "                res.append(1.0 if e[0] in tdict else -1.0)\n",
    "            else:\n",
    "                res.append(dfs(e[0],e[1], set()))\n",
    "        return res"
   ]
  },
  {
   "cell_type": "code",
   "execution_count": 31,
   "metadata": {},
   "outputs": [
    {
     "data": {
      "text/plain": [
       "[6.0, 0.5, -1, 1.0, -1.0]"
      ]
     },
     "execution_count": 31,
     "metadata": {},
     "output_type": "execute_result"
    }
   ],
   "source": [
    "Solution().calcEquation([ [\"a\", \"b\"], [\"b\", \"c\"] ],[2.0, 3.0],[ [\"a\", \"c\"], [\"b\", \"a\"], [\"a\", \"e\"], [\"a\", \"a\"], [\"x\", \"x\"] ])"
   ]
  },
  {
   "cell_type": "code",
   "execution_count": null,
   "metadata": {},
   "outputs": [],
   "source": []
  }
 ],
 "metadata": {
  "kernelspec": {
   "display_name": "Python 3",
   "language": "python",
   "name": "python3"
  },
  "language_info": {
   "codemirror_mode": {
    "name": "ipython",
    "version": 3
   },
   "file_extension": ".py",
   "mimetype": "text/x-python",
   "name": "python",
   "nbconvert_exporter": "python",
   "pygments_lexer": "ipython3",
   "version": "3.7.5"
  }
 },
 "nbformat": 4,
 "nbformat_minor": 4
}
