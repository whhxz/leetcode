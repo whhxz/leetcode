{
 "cells": [
  {
   "cell_type": "code",
   "execution_count": 13,
   "metadata": {},
   "outputs": [],
   "source": [
    "class Solution:\n",
    "    #思路先二分法查找到index，之后左右查找相同的值\n",
    "    def searchRange(self, nums, target):\n",
    "        \"\"\"\n",
    "        :type nums: List[int]\n",
    "        :type target: int\n",
    "        :rtype: List[int]\n",
    "        \"\"\"\n",
    "        ti = self.find(nums, 0, len(nums) - 1, target)\n",
    "        if ti == -1:\n",
    "            return [-1,-1]\n",
    "        res = [ti, ti]\n",
    "        #左右查找存在的值\n",
    "        for i in range(ti - 1, -1, -1):\n",
    "            if nums[i] == target:\n",
    "                res[0] = i\n",
    "            else:\n",
    "                break\n",
    "        for i in range(ti + 1, len(nums)):\n",
    "            if nums[i] == target:\n",
    "                res[1] = i\n",
    "            else:\n",
    "                break\n",
    "        return res\n",
    "    #二分法查找index\n",
    "    def find(self, nums, left, right, target):\n",
    "        print(left, right)\n",
    "        if right < left:\n",
    "            return -1\n",
    "        mid = (left + right) >> 1\n",
    "        \n",
    "        if nums[mid] == target:\n",
    "            return mid\n",
    "        elif nums[mid] > target:\n",
    "            return self.find(nums, left, mid - 1, target)\n",
    "        else:\n",
    "            return self.find(nums, mid + 1, right, target)\n",
    "            \n",
    "                "
   ]
  },
  {
   "cell_type": "code",
   "execution_count": 14,
   "metadata": {},
   "outputs": [
    {
     "name": "stdout",
     "output_type": "stream",
     "text": [
      "0 4\n",
      "3 4\n"
     ]
    },
    {
     "data": {
      "text/plain": [
       "[3, 4]"
      ]
     },
     "execution_count": 14,
     "metadata": {},
     "output_type": "execute_result"
    }
   ],
   "source": [
    "Solution().searchRange([5,7,7,8,8], 8)"
   ]
  },
  {
   "cell_type": "code",
   "execution_count": null,
   "metadata": {},
   "outputs": [],
   "source": []
  }
 ],
 "metadata": {
  "kernelspec": {
   "display_name": "Python 3",
   "language": "python",
   "name": "python3"
  },
  "language_info": {
   "codemirror_mode": {
    "name": "ipython",
    "version": 3
   },
   "file_extension": ".py",
   "mimetype": "text/x-python",
   "name": "python",
   "nbconvert_exporter": "python",
   "pygments_lexer": "ipython3",
   "version": "3.5.1"
  }
 },
 "nbformat": 4,
 "nbformat_minor": 2
}
