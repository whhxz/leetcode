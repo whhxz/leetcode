{
 "cells": [
  {
   "cell_type": "code",
   "execution_count": 39,
   "metadata": {},
   "outputs": [],
   "source": [
    "class Solution:\n",
    "    def shortestPalindrome(self, s: str) -> str:\n",
    "        res = s\n",
    "        for i in range(len(s)-1,-1,-1):\n",
    "            if s[:i+1] == s[:i+1][::-1]:\n",
    "                res = s[i+1:][::-1] + s\n",
    "                break\n",
    "        return res\n",
    "    def shortestPalindrome1(self, s: str) -> str:\n",
    "        if not s:\n",
    "            return \"\"\n",
    "\n",
    "        r = s[::-1]\n",
    "        for i in range(len(s)+1):\n",
    "            if s.startswith(r[i:]):\n",
    "                return r[:i] + s\n"
   ]
  },
  {
   "cell_type": "code",
   "execution_count": 40,
   "metadata": {},
   "outputs": [
    {
     "data": {
      "text/plain": [
       "'dcbabcd'"
      ]
     },
     "execution_count": 40,
     "metadata": {},
     "output_type": "execute_result"
    }
   ],
   "source": [
    "Solution().shortestPalindrome('abcd')"
   ]
  },
  {
   "cell_type": "code",
   "execution_count": null,
   "metadata": {},
   "outputs": [],
   "source": []
  },
  {
   "cell_type": "code",
   "execution_count": null,
   "metadata": {},
   "outputs": [],
   "source": []
  }
 ],
 "metadata": {
  "kernelspec": {
   "display_name": "Python 3",
   "language": "python",
   "name": "python3"
  },
  "language_info": {
   "codemirror_mode": {
    "name": "ipython",
    "version": 3
   },
   "file_extension": ".py",
   "mimetype": "text/x-python",
   "name": "python",
   "nbconvert_exporter": "python",
   "pygments_lexer": "ipython3",
   "version": "3.7.5"
  }
 },
 "nbformat": 4,
 "nbformat_minor": 4
}
