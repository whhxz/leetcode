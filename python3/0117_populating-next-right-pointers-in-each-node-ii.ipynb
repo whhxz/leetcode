{
 "cells": [
  {
   "cell_type": "code",
   "execution_count": 3,
   "metadata": {},
   "outputs": [],
   "source": [
    "\"\"\"\n",
    "# Definition for a Node.\"\"\"\n",
    "class Node:\n",
    "    def __init__(self, val, left, right, next):\n",
    "        self.val = val\n",
    "        self.left = left\n",
    "        self.right = right\n",
    "        self.next = next\n",
    "class Solution:\n",
    "    def connect(self, root: Node) -> Node:\n",
    "        if not root or (not root.left and not root.right):\n",
    "            return root\n",
    "        l,r,n = root.left, root.right, None\n",
    "        tmp = root.next\n",
    "        while tmp:\n",
    "            if tmp.left:\n",
    "                n = tmp.left\n",
    "                break\n",
    "            if tmp.right:\n",
    "                n = tmp.right\n",
    "                break\n",
    "            tmp = tmp.next\n",
    "        if r:\n",
    "            r.next = n\n",
    "        if l:\n",
    "            if r:\n",
    "                l.next = r\n",
    "            else:\n",
    "                l.next = n\n",
    "        self.connect(root.right)\n",
    "        self.connect(root.left)\n",
    "        return root"
   ]
  },
  {
   "cell_type": "code",
   "execution_count": null,
   "metadata": {},
   "outputs": [],
   "source": []
  }
 ],
 "metadata": {
  "kernelspec": {
   "display_name": "Python 3",
   "language": "python",
   "name": "python3"
  },
  "language_info": {
   "codemirror_mode": {
    "name": "ipython",
    "version": 3
   },
   "file_extension": ".py",
   "mimetype": "text/x-python",
   "name": "python",
   "nbconvert_exporter": "python",
   "pygments_lexer": "ipython3",
   "version": "3.7.0"
  }
 },
 "nbformat": 4,
 "nbformat_minor": 2
}
