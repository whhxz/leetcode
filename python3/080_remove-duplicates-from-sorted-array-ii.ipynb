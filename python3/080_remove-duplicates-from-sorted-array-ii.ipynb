{
 "cells": [
  {
   "cell_type": "code",
   "execution_count": 37,
   "metadata": {},
   "outputs": [],
   "source": [
    "from typing import List\n",
    "class Solution:\n",
    "    def removeDuplicates(self, nums: List[int]) -> int:\n",
    "        handler_nums = nums[:2]\n",
    "        for i in range(2, len(nums)):\n",
    "            if nums[i] != nums[i-2]:\n",
    "                handler_nums.append(nums[i])\n",
    "        nums[:len(handler_nums)] = handler_nums\n",
    "        return len(handler_nums)\n",
    "    def removeDuplicates1(self, nums: List[int]) -> int:\n",
    "        before = 0\n",
    "        for i in range(2, len(nums)):\n",
    "            if nums[i] == nums[i-2 - before]:\n",
    "                before += 1\n",
    "            else:\n",
    "                nums[i],nums[i-before] = nums[i-before],nums[i]\n",
    "        return len(nums) - before\n"
   ]
  },
  {
   "cell_type": "code",
   "execution_count": 38,
   "metadata": {},
   "outputs": [
    {
     "name": "stdout",
     "output_type": "stream",
     "text": [
      "7\n",
      "[0, 0, 1, 1, 2, 3, 3, 1, 1]\n"
     ]
    }
   ],
   "source": [
    "nums = [0,0,1,1,1,1,2,3,3]\n",
    "print(Solution().removeDuplicates1(nums))\n",
    "print(nums)"
   ]
  },
  {
   "cell_type": "code",
   "execution_count": null,
   "metadata": {},
   "outputs": [],
   "source": []
  }
 ],
 "metadata": {
  "kernelspec": {
   "display_name": "Python 3",
   "language": "python",
   "name": "python3"
  },
  "language_info": {
   "codemirror_mode": {
    "name": "ipython",
    "version": 3
   },
   "file_extension": ".py",
   "mimetype": "text/x-python",
   "name": "python",
   "nbconvert_exporter": "python",
   "pygments_lexer": "ipython3",
   "version": "3.7.5"
  }
 },
 "nbformat": 4,
 "nbformat_minor": 4
}
