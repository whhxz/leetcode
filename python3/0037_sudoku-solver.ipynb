{
 "cells": [
  {
   "cell_type": "code",
   "execution_count": null,
   "metadata": {},
   "outputs": [],
   "source": [
    "from typing import List\n",
    "\n",
    "\n",
    "class Solution:\n",
    "    def solveSudoku(self, board: List[List[str]]) -> None:\n",
    "        \"\"\"\n",
    "        Do not return anything, modify board in-place instead.\n",
    "        \"\"\"\n",
    "        tl = [str(i+1) for i in range(9)]\n",
    "        rows = {i: set() for i in range(9)}\n",
    "        cols = {i: set() for i in range(9)}\n",
    "        block = {i: set() for i in range(9)}\n",
    "        not_put = []\n",
    "        for i, nums in enumerate(board):\n",
    "            rows.setdefault(i, set())\n",
    "            for j, num in enumerate(nums):\n",
    "                if \".\" != num:\n",
    "                    rows[i].add(num)\n",
    "                    cols[j].add(num)\n",
    "                    block[(i // 3) * 3 + j // 3].add(num)\n",
    "                else:\n",
    "                    not_put.append((i, j))\n",
    "\n",
    "        def helper():\n",
    "            if not not_put:\n",
    "                return True\n",
    "            i, j = not_put.pop()\n",
    "            for t in tl:\n",
    "                if t not in rows[i] and t not in cols[j] and t not in block[(i // 3) * 3 + j // 3]:\n",
    "                    board[i][j] = t\n",
    "                    rows[i].add(t)\n",
    "                    cols[j].add(t)\n",
    "                    block[(i // 3) * 3 + j // 3].add(t)\n",
    "                    if not helper():\n",
    "                        board[i][j] = \".\"\n",
    "                        rows[i].remove(t)\n",
    "                        cols[j].remove(t)\n",
    "                        block[(i // 3) * 3 + j // 3].remove(t)\n",
    "            res = board[i][j] != \".\"\n",
    "            if not res:\n",
    "                not_put.append((i, j))\n",
    "            return res\n",
    "\n",
    "        helper()"
   ]
  }
 ],
 "metadata": {
  "kernelspec": {
   "display_name": "Python 3",
   "language": "python",
   "name": "python3"
  },
  "language_info": {
   "codemirror_mode": {
    "name": "ipython",
    "version": 3
   },
   "file_extension": ".py",
   "mimetype": "text/x-python",
   "name": "python",
   "nbconvert_exporter": "python",
   "pygments_lexer": "ipython3",
   "version": "3.7.5"
  }
 },
 "nbformat": 4,
 "nbformat_minor": 4
}
