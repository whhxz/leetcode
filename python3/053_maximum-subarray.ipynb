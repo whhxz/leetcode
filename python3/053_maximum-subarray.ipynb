{
 "cells": [
  {
   "cell_type": "code",
   "execution_count": 22,
   "metadata": {},
   "outputs": [],
   "source": [
    "class Solution:\n",
    "    def maxSubArray(self, nums):\n",
    "        \"\"\"\n",
    "        :type nums: List[int]\n",
    "        :rtype: int\n",
    "        \"\"\"\n",
    "        max_n = nums[0]\n",
    "        tmp = nums[0]\n",
    "        #从头到尾递归，计算到底该节点时的最大值\n",
    "        for i in range(1, len(nums)):\n",
    "            num = nums[i]\n",
    "            tmp = max(num, tmp + num)\n",
    "            max_n = max(tmp, max_n)\n",
    "        return max_n\n",
    "    #大神写法\n",
    "    def maxSubArray1(self, nums):\n",
    "        \"\"\"\n",
    "        :type nums: List[int]\n",
    "        :rtype: int\n",
    "        \"\"\"\n",
    "        max_n = nums[0]\n",
    "        n_sum = 0\n",
    "        #统计计算，如果小于0，那么重新开始\n",
    "        #如果大于0表示数字为正\n",
    "        for num in nums:\n",
    "            n_sum = 0 if n_sum < 0 else n_sum\n",
    "            n_sum += num\n",
    "            max_n = n_sum if n_sum > max_n else max_n\n",
    "        return max_n"
   ]
  },
  {
   "cell_type": "code",
   "execution_count": 20,
   "metadata": {},
   "outputs": [
    {
     "data": {
      "text/plain": [
       "6"
      ]
     },
     "execution_count": 20,
     "metadata": {},
     "output_type": "execute_result"
    }
   ],
   "source": [
    "Solution().maxSubArray1([-2,1,-3,4,-1,2,1,-5,4])"
   ]
  },
  {
   "cell_type": "code",
   "execution_count": null,
   "metadata": {},
   "outputs": [],
   "source": []
  }
 ],
 "metadata": {
  "kernelspec": {
   "display_name": "Python 3",
   "language": "python",
   "name": "python3"
  },
  "language_info": {
   "codemirror_mode": {
    "name": "ipython",
    "version": 3
   },
   "file_extension": ".py",
   "mimetype": "text/x-python",
   "name": "python",
   "nbconvert_exporter": "python",
   "pygments_lexer": "ipython3",
   "version": "3.5.1"
  }
 },
 "nbformat": 4,
 "nbformat_minor": 2
}
