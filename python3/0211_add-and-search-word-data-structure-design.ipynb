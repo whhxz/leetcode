{
 "cells": [
  {
   "cell_type": "code",
   "execution_count": 32,
   "metadata": {},
   "outputs": [],
   "source": [
    "import re\n",
    "class WordDictionary:\n",
    "\n",
    "    def __init__(self):\n",
    "        \"\"\"\n",
    "        Initialize your data structure here.\n",
    "        \"\"\"\n",
    "        self.words = {}\n",
    "        \n",
    "\n",
    "    def addWord(self, word: str) -> None:\n",
    "        \"\"\"\n",
    "        Adds a word into the data structure.\n",
    "        \"\"\"\n",
    "        self.words.setdefault(len(word), set()).add(word)\n",
    "\n",
    "    def search(self, word: str) -> bool:\n",
    "        \"\"\"\n",
    "        Returns if the word is in the data structure. A word could contain the dot character '.' to represent any one letter.\n",
    "        \"\"\"\n",
    "        if len(word) in self.words:\n",
    "            p = re.compile(word)\n",
    "            for w in self.words.get(len(word)):\n",
    "                if p.match(w):\n",
    "                    return True\n",
    "        return False\n",
    "\n",
    "\n",
    "# Your WordDictionary object will be instantiated and called as such:\n",
    "# obj = WordDictionary()\n",
    "# obj.addWord(word)\n",
    "# param_2 = obj.search(word)"
   ]
  },
  {
   "cell_type": "code",
   "execution_count": 33,
   "metadata": {},
   "outputs": [
    {
     "data": {
      "text/plain": [
       "[1, 0]"
      ]
     },
     "execution_count": 33,
     "metadata": {},
     "output_type": "execute_result"
    }
   ],
   "source": [
    "Solution().findOrder(2, [[0,1],[1,0]])"
   ]
  },
  {
   "cell_type": "code",
   "execution_count": null,
   "metadata": {},
   "outputs": [],
   "source": [
    "{}.setdefault"
   ]
  }
 ],
 "metadata": {
  "kernelspec": {
   "display_name": "Python 3",
   "language": "python",
   "name": "python3"
  },
  "language_info": {
   "codemirror_mode": {
    "name": "ipython",
    "version": 3
   },
   "file_extension": ".py",
   "mimetype": "text/x-python",
   "name": "python",
   "nbconvert_exporter": "python",
   "pygments_lexer": "ipython3",
   "version": "3.7.5"
  }
 },
 "nbformat": 4,
 "nbformat_minor": 4
}
