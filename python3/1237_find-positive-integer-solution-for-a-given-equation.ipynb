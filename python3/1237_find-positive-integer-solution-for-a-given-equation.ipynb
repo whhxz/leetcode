{
 "cells": [
  {
   "cell_type": "code",
   "execution_count": 86,
   "metadata": {},
   "outputs": [],
   "source": [
    "\"\"\"\n",
    "   This is the custom function interface.\n",
    "   You should not implement it, or speculate about its implementation\n",
    "   class CustomFunction:\n",
    "       # Returns f(x, y) for any given positive integers x and y.\n",
    "       # Note that f(x, y) is increasing with respect to both x and y.\n",
    "       # i.e. f(x, y) < f(x + 1, y), f(x, y) < f(x, y + 1)\n",
    "       def f(self, x, y):\n",
    "  \n",
    "\"\"\"\n",
    "\n",
    "from typing import List\n",
    "\n",
    "\n",
    "class Solution:\n",
    "    def findSolution(self, customfunction: 'CustomFunction', z: int) -> List[\n",
    "        List[int]]:\n",
    "        res = []\n",
    "        for i in range(1, 1001):\n",
    "            left, right = 1, 1001\n",
    "            while left <= right:\n",
    "                mid = (left + right) //2\n",
    "                tz = customfunction.f(i, mid)\n",
    "                if tz == z:\n",
    "                    res.append([i, mid])\n",
    "                    break\n",
    "                elif tz > z:\n",
    "                    right = mid - 1\n",
    "                else:\n",
    "                    left = mid + 1\n",
    "        return res"
   ]
  },
  {
   "cell_type": "code",
   "execution_count": 87,
   "metadata": {},
   "outputs": [
    {
     "data": {
      "text/plain": [
       "16"
      ]
     },
     "execution_count": 87,
     "metadata": {},
     "output_type": "execute_result"
    }
   ],
   "source": [
    "Solution().superEggDrop(4,2000)"
   ]
  },
  {
   "cell_type": "code",
   "execution_count": 29,
   "metadata": {},
   "outputs": [
    {
     "data": {
      "text/plain": [
       "{2, 3, 4}"
      ]
     },
     "execution_count": 29,
     "metadata": {},
     "output_type": "execute_result"
    }
   ],
   "source": [
    "n1 = set()\n",
    "n2 = {2,3,4}\n",
    "n1.update(n2)\n",
    "n1"
   ]
  },
  {
   "cell_type": "code",
   "execution_count": null,
   "metadata": {},
   "outputs": [],
   "source": []
  }
 ],
 "metadata": {
  "kernelspec": {
   "display_name": "Python 3",
   "language": "python",
   "name": "python3"
  },
  "language_info": {
   "codemirror_mode": {
    "name": "ipython",
    "version": 3
   },
   "file_extension": ".py",
   "mimetype": "text/x-python",
   "name": "python",
   "nbconvert_exporter": "python",
   "pygments_lexer": "ipython3",
   "version": "3.7.5"
  }
 },
 "nbformat": 4,
 "nbformat_minor": 4
}
