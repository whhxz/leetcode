{
 "cells": [
  {
   "cell_type": "code",
   "execution_count": 25,
   "metadata": {},
   "outputs": [],
   "source": [
    "from typing import List\n",
    "class Solution:\n",
    "    def findRelativeRanks(self, nums: List[int]) -> List[str]:\n",
    "        tn = sorted(nums, reverse=True)\n",
    "        tdict = {num:str(i+1) for i, num in enumerate(tn)}\n",
    "        for i,num in enumerate(nums):\n",
    "            if tdict[num] == '1':\n",
    "                nums[i] = 'Gold Medal'\n",
    "            elif tdict[num] == '2':\n",
    "                nums[i] = 'Silver Medal'\n",
    "            elif tdict[num] == '3':\n",
    "                nums[i] = 'Bronze Medal'\n",
    "            else:\n",
    "                nums[i] = tdict[num]\n",
    "        return nums\n"
   ]
  },
  {
   "cell_type": "code",
   "execution_count": 27,
   "metadata": {},
   "outputs": [
    {
     "data": {
      "text/plain": [
       "['4', 'Bronze Medal', 'Silver Medal', 'Gold Medal']"
      ]
     },
     "execution_count": 27,
     "metadata": {},
     "output_type": "execute_result"
    }
   ],
   "source": [
    "Solution().findRelativeRanks([1,2,3,4])"
   ]
  },
  {
   "cell_type": "code",
   "execution_count": null,
   "metadata": {},
   "outputs": [],
   "source": []
  }
 ],
 "metadata": {
  "kernelspec": {
   "display_name": "Python 3",
   "language": "python",
   "name": "python3"
  },
  "language_info": {
   "codemirror_mode": {
    "name": "ipython",
    "version": 3
   },
   "file_extension": ".py",
   "mimetype": "text/x-python",
   "name": "python",
   "nbconvert_exporter": "python",
   "pygments_lexer": "ipython3",
   "version": "3.7.5"
  }
 },
 "nbformat": 4,
 "nbformat_minor": 4
}
