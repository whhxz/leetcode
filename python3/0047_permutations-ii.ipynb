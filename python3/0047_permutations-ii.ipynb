{
 "cells": [
  {
   "cell_type": "code",
   "execution_count": 11,
   "metadata": {},
   "outputs": [],
   "source": [
    "from typing import List\n",
    "class Solution:\n",
    "    #放到map里面，一个个去取\n",
    "    def permuteUnique(self, nums: List[int]) -> List[List[int]]:\n",
    "        ndict = {}\n",
    "        res = []\n",
    "        for num in nums:\n",
    "            ndict[num] = ndict.get(num, 0) + 1\n",
    "        res = []\n",
    "        ln = len(nums)\n",
    "        def helper(tmp):\n",
    "            if len(tmp) == ln:\n",
    "                res.append(tmp)\n",
    "                return\n",
    "            for k,v in ndict.items():\n",
    "                if v != 0:\n",
    "                    ndict[k] -= 1\n",
    "                    helper(tmp.copy()+[k])\n",
    "                    ndict[k] += 1\n",
    "        for k,v in ndict.items():\n",
    "            ndict[k]-=1\n",
    "            helper([k])\n",
    "            ndict[k]+=1\n",
    "        return res\n",
    "        \n",
    "        "
   ]
  },
  {
   "cell_type": "code",
   "execution_count": 12,
   "metadata": {},
   "outputs": [
    {
     "data": {
      "text/plain": [
       "[[1, 1, 2], [1, 2, 1], [2, 1, 1]]"
      ]
     },
     "execution_count": 12,
     "metadata": {},
     "output_type": "execute_result"
    }
   ],
   "source": [
    "Solution().permuteUnique([1,1,2])"
   ]
  },
  {
   "cell_type": "code",
   "execution_count": null,
   "metadata": {},
   "outputs": [],
   "source": []
  }
 ],
 "metadata": {
  "kernelspec": {
   "display_name": "Python 3",
   "language": "python",
   "name": "python3"
  },
  "language_info": {
   "codemirror_mode": {
    "name": "ipython",
    "version": 3
   },
   "file_extension": ".py",
   "mimetype": "text/x-python",
   "name": "python",
   "nbconvert_exporter": "python",
   "pygments_lexer": "ipython3",
   "version": "3.7.5"
  }
 },
 "nbformat": 4,
 "nbformat_minor": 4
}
