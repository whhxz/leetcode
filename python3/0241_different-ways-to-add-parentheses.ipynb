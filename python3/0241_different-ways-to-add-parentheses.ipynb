{
 "cells": [
  {
   "cell_type": "code",
   "execution_count": 11,
   "metadata": {},
   "outputs": [],
   "source": [
    "from typing import  List\n",
    "class Solution:\n",
    "    #通过判断运算符，左右递归求可能情况\n",
    "    def diffWaysToCompute(self, input: str) -> List[int]:\n",
    "        if input.isdigit():\n",
    "            return [int(input)]\n",
    "        t = set(['+','-','*'])\n",
    "        res = []\n",
    "        for i,c in enumerate(input):\n",
    "            if c in t:\n",
    "                left = self.diffWaysToCompute(input[0:i])\n",
    "                right = self.diffWaysToCompute(input[i+1:])\n",
    "                for n1 in left:\n",
    "                    for n2 in right:\n",
    "                        if c == '+':\n",
    "                            res.append(n1 + n2)\n",
    "                        elif c== '-':\n",
    "                            res.append(n1 - n2)\n",
    "                        else:\n",
    "                            res.append(n1*n2)\n",
    "        return res\n"
   ]
  },
  {
   "cell_type": "code",
   "execution_count": 12,
   "metadata": {},
   "outputs": [
    {
     "data": {
      "text/plain": [
       "[-34, -10, -14, -10, 10]"
      ]
     },
     "execution_count": 12,
     "metadata": {},
     "output_type": "execute_result"
    }
   ],
   "source": [
    "Solution().diffWaysToCompute(\"2*3-4*5\")"
   ]
  },
  {
   "cell_type": "code",
   "execution_count": null,
   "metadata": {},
   "outputs": [],
   "source": []
  }
 ],
 "metadata": {
  "kernelspec": {
   "display_name": "Python 3",
   "language": "python",
   "name": "python3"
  },
  "language_info": {
   "codemirror_mode": {
    "name": "ipython",
    "version": 3
   },
   "file_extension": ".py",
   "mimetype": "text/x-python",
   "name": "python",
   "nbconvert_exporter": "python",
   "pygments_lexer": "ipython3",
   "version": "3.7.5"
  }
 },
 "nbformat": 4,
 "nbformat_minor": 4
}
