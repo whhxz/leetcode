{
 "cells": [
  {
   "cell_type": "code",
   "execution_count": 27,
   "metadata": {},
   "outputs": [],
   "source": [
    "# Definition for singly-linked list with a random pointer.\n",
    "class RandomListNode(object):\n",
    "    def __init__(self, x):\n",
    "        self.label = x\n",
    "        self.next = None\n",
    "        self.random = None\n",
    "\n",
    "class Solution(object):\n",
    "    #简单办法就是对象序列化然后反序列化，但是比较耗时\n",
    "    def copyRandomList1(self, head):\n",
    "        \"\"\"\n",
    "        :type head: RandomListNode\n",
    "        :rtype: RandomListNode\n",
    "        \"\"\"\n",
    "        import pickle\n",
    "        return pickle.loads(pickle.dumps(head))\n",
    "    #解题思路在于新创建的copy节点，插入到 被copy节点后面，组成一个新的链表\n",
    "    def copyRandomList(self, head):\n",
    "        if head is None:\n",
    "            return head\n",
    "        h = head\n",
    "        #把copy的节点，插入到被copy的后面，组成新的节点\n",
    "        while h:\n",
    "            copy = RandomListNode(h.label)\n",
    "            copy.next = h.next\n",
    "            h.next = copy\n",
    "            h = copy.next\n",
    "        h = head\n",
    "        #找到copy的节点的random节点，因为新旧节点之间是交叉插入的，新节点的random节点就是上个节点的random的next\n",
    "        while h:\n",
    "            copy = h.next\n",
    "            copy.random = h.random.next if h.random else None\n",
    "            h = copy.next\n",
    "        \n",
    "        h = head\n",
    "        copy = h.next\n",
    "        tmp = copy\n",
    "        #抽取copy的节点，同时还原原来的节点，不然提交的时候会报错\n",
    "        while tmp:\n",
    "            h.next = tmp.next\n",
    "            tmp.next = tmp.next.next if tmp.next else None\n",
    "            tmp = tmp.next\n",
    "            h = h.next\n",
    "        return copy\n",
    "            \n",
    "            "
   ]
  },
  {
   "cell_type": "code",
   "execution_count": 31,
   "metadata": {},
   "outputs": [
    {
     "name": "stdout",
     "output_type": "stream",
     "text": [
      "False False\n",
      "False False\n",
      "False False\n",
      "False False\n",
      "False False\n",
      "False False\n"
     ]
    }
   ],
   "source": [
    "r1 = RandomListNode(1)\n",
    "r2 = RandomListNode(2)\n",
    "r3 = RandomListNode(3)\n",
    "r4 = RandomListNode(4)\n",
    "r5 = RandomListNode(5)\n",
    "r6 = RandomListNode(6)\n",
    "r1.next = r2\n",
    "r2.next = r3\n",
    "r3.next = r4\n",
    "r4.next = r5\n",
    "r5.next = r6\n",
    "\n",
    "r1.random = r3\n",
    "r3.random = r2\n",
    "r2.random= r5\n",
    "r4.random = r6\n",
    "\n",
    "\n",
    "t = Solution().copyRandomList(r1)\n",
    "while t:\n",
    "    print(t == r1, t.random == r1.random and t.random is None and r1.random is not None)\n",
    "    t = t.next\n",
    "    r1 = r1.next"
   ]
  },
  {
   "cell_type": "code",
   "execution_count": null,
   "metadata": {},
   "outputs": [],
   "source": []
  },
  {
   "cell_type": "code",
   "execution_count": null,
   "metadata": {},
   "outputs": [],
   "source": []
  }
 ],
 "metadata": {
  "kernelspec": {
   "display_name": "Python 3",
   "language": "python",
   "name": "python3"
  },
  "language_info": {
   "codemirror_mode": {
    "name": "ipython",
    "version": 3
   },
   "file_extension": ".py",
   "mimetype": "text/x-python",
   "name": "python",
   "nbconvert_exporter": "python",
   "pygments_lexer": "ipython3",
   "version": "3.5.1"
  }
 },
 "nbformat": 4,
 "nbformat_minor": 2
}
