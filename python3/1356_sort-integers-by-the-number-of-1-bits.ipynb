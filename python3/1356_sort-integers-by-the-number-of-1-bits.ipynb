{
 "cells": [
  {
   "cell_type": "code",
   "execution_count": null,
   "metadata": {},
   "outputs": [],
   "source": [
    "from typing import List\n",
    "from functools import cmp_to_key\n",
    "\n",
    "class Solution:\n",
    "    def sortByBits(self, arr: List[int]) -> List[int]:\n",
    "        def helper(n: int):\n",
    "            t = 0\n",
    "            while n != 0:\n",
    "                if n % 2 == 1:\n",
    "                    t += 1\n",
    "                n = n >> 1\n",
    "            return t\n",
    "        arr = [(n,helper(n)) for n in arr]\n",
    "        return [t[0] for t in sorted(arr, key=cmp_to_key(lambda x, y: x[0] - y[0] if x[1] == y[1] else x[1] - y[1]))]\n"
   ]
  }
 ],
 "metadata": {
  "kernelspec": {
   "display_name": "Python 3",
   "language": "python",
   "name": "python3"
  },
  "language_info": {
   "codemirror_mode": {
    "name": "ipython",
    "version": 3
   },
   "file_extension": ".py",
   "mimetype": "text/x-python",
   "name": "python",
   "nbconvert_exporter": "python",
   "pygments_lexer": "ipython3",
   "version": "3.7.5"
  }
 },
 "nbformat": 4,
 "nbformat_minor": 4
}
