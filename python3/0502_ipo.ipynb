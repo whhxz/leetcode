{
 "cells": [
  {
   "cell_type": "code",
   "execution_count": 60,
   "metadata": {},
   "outputs": [],
   "source": [
    "from typing import List\n",
    "import heapq\n",
    "class Solution:\n",
    "    def findMaximizedCapital(self, k: int, W: int, Profits: List[int], Capital: List[int]) -> int:\n",
    "        tlist = [(num, Capital[i]) for i,num in enumerate(Profits)]\n",
    "        #最小启动资金倒序\n",
    "        tlist.sort(reverse=True, key=lambda x: x[1])\n",
    "        heap = []\n",
    "        while k > 0:\n",
    "            while tlist and tlist[-1][1] <= W:\n",
    "                #纯利率放入堆,heapq只支持最小堆，设置负值\n",
    "                heapq.heappush(heap,-tlist.pop()[0])\n",
    "            if heap:\n",
    "                W -= heapq.heappop(heap)\n",
    "                k -= 1\n",
    "            else:\n",
    "                #无\n",
    "                break\n",
    "        return W"
   ]
  },
  {
   "cell_type": "code",
   "execution_count": 61,
   "metadata": {},
   "outputs": [
    {
     "data": {
      "text/plain": [
       "5"
      ]
     },
     "execution_count": 61,
     "metadata": {},
     "output_type": "execute_result"
    }
   ],
   "source": [
    "Solution().findMaximizedCapital(1,2,[1,2,3],[1,1,2])"
   ]
  },
  {
   "cell_type": "code",
   "execution_count": null,
   "metadata": {},
   "outputs": [],
   "source": []
  }
 ],
 "metadata": {
  "kernelspec": {
   "display_name": "Python 3",
   "language": "python",
   "name": "python3"
  },
  "language_info": {
   "codemirror_mode": {
    "name": "ipython",
    "version": 3
   },
   "file_extension": ".py",
   "mimetype": "text/x-python",
   "name": "python",
   "nbconvert_exporter": "python",
   "pygments_lexer": "ipython3",
   "version": "3.7.5"
  }
 },
 "nbformat": 4,
 "nbformat_minor": 4
}
