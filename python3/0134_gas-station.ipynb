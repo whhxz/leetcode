{
 "cells": [
  {
   "cell_type": "code",
   "execution_count": 107,
   "metadata": {},
   "outputs": [],
   "source": [
    "from typing import List\n",
    "class Solution:\n",
    "    #一步步走，注意超时\n",
    "    #如果某一加油站不能走，从下一个加油站继续\n",
    "    def canCompleteCircuit(self, gas: List[int], cost: List[int]) -> int:\n",
    "        ll = len(gas)\n",
    "        def helper(s, i, num):\n",
    "            if i == ll:\n",
    "                i = 0\n",
    "            if s == i:\n",
    "                return s\n",
    "            num = gas[i] + num - cost[i]\n",
    "            if num < 0:\n",
    "                return i\n",
    "            return helper(s, i+1, num)\n",
    "        j = 0\n",
    "        while j < ll:\n",
    "            if cost[j] > gas[j]:\n",
    "                j += 1\n",
    "            else:\n",
    "                t = helper(j, j+1, gas[j]-cost[j])\n",
    "                if t == j:\n",
    "                    return j\n",
    "                elif t < j:\n",
    "                    return -1\n",
    "                else:\n",
    "                    j = t + 1\n",
    "        return -1\n",
    "                "
   ]
  },
  {
   "cell_type": "code",
   "execution_count": 108,
   "metadata": {},
   "outputs": [
    {
     "name": "stdout",
     "output_type": "stream",
     "text": [
      "0 1 0\n",
      "2 3 0\n",
      "2 1 0\n"
     ]
    },
    {
     "data": {
      "text/plain": [
       "-1"
      ]
     },
     "execution_count": 108,
     "metadata": {},
     "output_type": "execute_result"
    }
   ],
   "source": [
    "Solution().canCompleteCircuit([3,3,4],[3,4,4])"
   ]
  },
  {
   "cell_type": "code",
   "execution_count": null,
   "metadata": {},
   "outputs": [],
   "source": []
  },
  {
   "cell_type": "code",
   "execution_count": null,
   "metadata": {},
   "outputs": [],
   "source": []
  }
 ],
 "metadata": {
  "kernelspec": {
   "display_name": "Python 3",
   "language": "python",
   "name": "python3"
  },
  "language_info": {
   "codemirror_mode": {
    "name": "ipython",
    "version": 3
   },
   "file_extension": ".py",
   "mimetype": "text/x-python",
   "name": "python",
   "nbconvert_exporter": "python",
   "pygments_lexer": "ipython3",
   "version": "3.7.5"
  }
 },
 "nbformat": 4,
 "nbformat_minor": 4
}
