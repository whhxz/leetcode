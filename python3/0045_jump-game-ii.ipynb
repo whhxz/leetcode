{
 "cells": [
  {
   "cell_type": "code",
   "execution_count": 86,
   "metadata": {},
   "outputs": [],
   "source": [
    "from typing import List\n",
    "class Solution:\n",
    "    #每跳一次，找到跳的最远的\n",
    "    def jump(self, nums: List[int]) -> int:\n",
    "        ln = len(nums)\n",
    "        if ln == 1:\n",
    "            return 0\n",
    "        jump = 0\n",
    "        tmp = 0\n",
    "        i = 0\n",
    "        res = 0\n",
    "        while i < ln and nums[i] + i < ln - 1:\n",
    "            res += 1\n",
    "            tmp = 0\n",
    "            for j in range(1, nums[i] + 1):\n",
    "                if nums[i + j] + j >= tmp:\n",
    "                    tmp = nums[i+j] +j\n",
    "                    jump = j\n",
    "            i += jump\n",
    "        return res + 1\n",
    "                \n",
    "                \n",
    "                    \n"
   ]
  },
  {
   "cell_type": "code",
   "execution_count": 87,
   "metadata": {},
   "outputs": [
    {
     "data": {
      "text/plain": [
       "2"
      ]
     },
     "execution_count": 87,
     "metadata": {},
     "output_type": "execute_result"
    }
   ],
   "source": [
    "Solution().jump([2,3,1,1,4])"
   ]
  },
  {
   "cell_type": "code",
   "execution_count": null,
   "metadata": {},
   "outputs": [],
   "source": []
  },
  {
   "cell_type": "code",
   "execution_count": null,
   "metadata": {},
   "outputs": [],
   "source": []
  }
 ],
 "metadata": {
  "kernelspec": {
   "display_name": "Python 3",
   "language": "python",
   "name": "python3"
  },
  "language_info": {
   "codemirror_mode": {
    "name": "ipython",
    "version": 3
   },
   "file_extension": ".py",
   "mimetype": "text/x-python",
   "name": "python",
   "nbconvert_exporter": "python",
   "pygments_lexer": "ipython3",
   "version": "3.7.5"
  }
 },
 "nbformat": 4,
 "nbformat_minor": 4
}
