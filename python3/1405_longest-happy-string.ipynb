{
 "cells": [
  {
   "cell_type": "code",
   "execution_count": null,
   "metadata": {},
   "outputs": [],
   "source": [
    "class Solution:\n",
    "    def longestDiverseString(self, a: int, b: int, c: int) -> str:\n",
    "        tl = [['a', a], ['b', b], ['c', c]]\n",
    "        res = \"\"\n",
    "        while True:\n",
    "            tl.sort(key=lambda k: k[1], reverse=True)\n",
    "            # 如果末尾和最大值一样，取次低\n",
    "            if len(res) > 1 and res[-1] == tl[0][0] and res[-2] == tl[0][0]:\n",
    "                if tl[1][1] > 0:\n",
    "                    res += tl[1][0]\n",
    "                    tl[1][1] -= 1\n",
    "                else:\n",
    "                    break\n",
    "            else:\n",
    "                if tl[0][1] > 0:\n",
    "                    res += tl[0][0]\n",
    "                    tl[0][1] -= 1\n",
    "                else:\n",
    "                    break\n",
    "        return res"
   ]
  }
 ],
 "metadata": {
  "kernelspec": {
   "display_name": "Python 3",
   "language": "python",
   "name": "python3"
  },
  "language_info": {
   "name": ""
  }
 },
 "nbformat": 4,
 "nbformat_minor": 4
}
