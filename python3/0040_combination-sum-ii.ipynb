{
 "cells": [
  {
   "cell_type": "code",
   "execution_count": 32,
   "metadata": {},
   "outputs": [],
   "source": [
    "from typing import List\n",
    "class Solution:\n",
    "    def combinationSum2(self, candidates: List[int], target: int) -> List[List[int]]:\n",
    "        res = set()\n",
    "        candidates.sort()\n",
    "        def helper(r, num, nums):\n",
    "            if num == 0:\n",
    "                res.add(tuple(nums))\n",
    "                return\n",
    "            if r < 0 or num < 0:\n",
    "                return\n",
    "            for i in range(r + 1):\n",
    "                if candidates[i] > target:\n",
    "                    break\n",
    "                helper(i - 1, num - candidates[i], [candidates[i]] + nums)\n",
    "        helper(len(candidates)-1, target, [])\n",
    "        return [list(n) for n in res]\n",
    "    def combinationSum2_(self, candidates: List[int], target: int) -> List[List[int]]:\n",
    "        res = []\n",
    "        candidates.sort()\n",
    "        e = len(candidates)\n",
    "        def helper(start, num, nums):\n",
    "            if num == 0:\n",
    "                res.append(nums)\n",
    "                return\n",
    "            if num < 0:\n",
    "                return\n",
    "            for i in range(start, e):\n",
    "                #避免下个遍历访问到前一个遍历的值\n",
    "                if i > start and candidates[i] == candidates[i-1]:\n",
    "                    continue\n",
    "                if candidates[i] > target:\n",
    "                    break\n",
    "                helper(i + 1, num - candidates[i], [candidates[i]] + nums)\n",
    "        helper(0, target, [])\n",
    "        return res"
   ]
  },
  {
   "cell_type": "code",
   "execution_count": 33,
   "metadata": {},
   "outputs": [
    {
     "name": "stdout",
     "output_type": "stream",
     "text": [
      "[1, 1, 2, 5, 6, 7, 10]\n"
     ]
    },
    {
     "data": {
      "text/plain": [
       "[[6, 1, 1], [5, 2, 1], [7, 1], [6, 2]]"
      ]
     },
     "execution_count": 33,
     "metadata": {},
     "output_type": "execute_result"
    }
   ],
   "source": [
    "Solution().combinationSum2_([10,1,2,7,6,1,5], 8)"
   ]
  },
  {
   "cell_type": "code",
   "execution_count": null,
   "metadata": {},
   "outputs": [],
   "source": []
  }
 ],
 "metadata": {
  "kernelspec": {
   "display_name": "Python 3",
   "language": "python",
   "name": "python3"
  },
  "language_info": {
   "codemirror_mode": {
    "name": "ipython",
    "version": 3
   },
   "file_extension": ".py",
   "mimetype": "text/x-python",
   "name": "python",
   "nbconvert_exporter": "python",
   "pygments_lexer": "ipython3",
   "version": "3.7.5"
  }
 },
 "nbformat": 4,
 "nbformat_minor": 4
}
