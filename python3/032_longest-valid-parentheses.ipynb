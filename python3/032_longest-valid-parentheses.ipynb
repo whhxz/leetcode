{
 "cells": [
  {
   "cell_type": "markdown",
   "metadata": {},
   "source": [
    "通过栈解决，如果是\"(\"放入栈中如果是\")\"弹出数据\n",
    "栈中放入的是字符的下角标，同时标记该角标为1\n",
    "之后统计连续为1的最大长度"
   ]
  },
  {
   "cell_type": "code",
   "execution_count": 19,
   "metadata": {},
   "outputs": [],
   "source": [
    "class Solution:\n",
    "    def longestValidParentheses(self, s):\n",
    "        \"\"\"\n",
    "        :type s: str\n",
    "        :rtype: int\n",
    "        \"\"\"\n",
    "        all_s = [0] * len(s)\n",
    "        stack = []\n",
    "        for i, c in enumerate(s):\n",
    "            if c == '(':\n",
    "                stack.append(i)\n",
    "            elif len(stack) > 0:\n",
    "                all_s[stack.pop()] = 1\n",
    "                all_s[i] = 1\n",
    "        max_l = 0\n",
    "        tmp = 0\n",
    "        print(all_s)\n",
    "        for num in all_s:\n",
    "            if num == 0:\n",
    "                max_l = max(max_l, tmp)\n",
    "                tmp = 0\n",
    "            else:\n",
    "                tmp += 1\n",
    "        return max(max_l, tmp)"
   ]
  },
  {
   "cell_type": "code",
   "execution_count": 20,
   "metadata": {},
   "outputs": [
    {
     "name": "stdout",
     "output_type": "stream",
     "text": [
      "[0, 1, 1, 1, 1, 0]\n"
     ]
    },
    {
     "data": {
      "text/plain": [
       "4"
      ]
     },
     "execution_count": 20,
     "metadata": {},
     "output_type": "execute_result"
    }
   ],
   "source": [
    "Solution().longestValidParentheses(\")()())\")"
   ]
  },
  {
   "cell_type": "code",
   "execution_count": null,
   "metadata": {},
   "outputs": [],
   "source": []
  }
 ],
 "metadata": {
  "kernelspec": {
   "display_name": "Python 3",
   "language": "python",
   "name": "python3"
  },
  "language_info": {
   "codemirror_mode": {
    "name": "ipython",
    "version": 3
   },
   "file_extension": ".py",
   "mimetype": "text/x-python",
   "name": "python",
   "nbconvert_exporter": "python",
   "pygments_lexer": "ipython3",
   "version": "3.5.1"
  }
 },
 "nbformat": 4,
 "nbformat_minor": 2
}
