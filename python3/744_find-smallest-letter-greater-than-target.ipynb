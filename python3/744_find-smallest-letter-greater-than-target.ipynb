{
 "cells": [
  {
   "cell_type": "code",
   "execution_count": 19,
   "metadata": {},
   "outputs": [],
   "source": [
    "from typing import List\n",
    "class Solution:\n",
    "    def nextGreatestLetter(self, letters: List[str], target: str) -> str:\n",
    "        l = len(letters)\n",
    "        left,right,mid = 0,l-1, 0\n",
    "        while left <= right:\n",
    "            mid = (left + right)>>1\n",
    "            if letters[mid] > target:\n",
    "                right = mid - 1\n",
    "            elif letters[mid]< target:\n",
    "                left = mid + 1\n",
    "            else:\n",
    "                break\n",
    "        while letters[mid] <= target:\n",
    "            mid += 1\n",
    "            if mid == l:\n",
    "                mid = 0\n",
    "                break\n",
    "        return letters[mid]\n"
   ]
  },
  {
   "cell_type": "code",
   "execution_count": 20,
   "metadata": {},
   "outputs": [
    {
     "data": {
      "text/plain": [
       "'n'"
      ]
     },
     "execution_count": 20,
     "metadata": {},
     "output_type": "execute_result"
    }
   ],
   "source": [
    "Solution().nextGreatestLetter([\"e\",\"e\",\"e\",\"e\",\"e\",\"e\",\"n\",\"n\",\"n\",\"n\"], 'e')"
   ]
  },
  {
   "cell_type": "code",
   "execution_count": null,
   "metadata": {},
   "outputs": [],
   "source": []
  },
  {
   "cell_type": "code",
   "execution_count": null,
   "metadata": {},
   "outputs": [],
   "source": []
  },
  {
   "cell_type": "code",
   "execution_count": null,
   "metadata": {},
   "outputs": [],
   "source": []
  }
 ],
 "metadata": {
  "kernelspec": {
   "display_name": "Python 3",
   "language": "python",
   "name": "python3"
  },
  "language_info": {
   "codemirror_mode": {
    "name": "ipython",
    "version": 3
   },
   "file_extension": ".py",
   "mimetype": "text/x-python",
   "name": "python",
   "nbconvert_exporter": "python",
   "pygments_lexer": "ipython3",
   "version": "3.7.0"
  }
 },
 "nbformat": 4,
 "nbformat_minor": 2
}
