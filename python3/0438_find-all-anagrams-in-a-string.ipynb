{
 "cells": [
  {
   "cell_type": "code",
   "execution_count": 15,
   "metadata": {},
   "outputs": [],
   "source": [
    "from typing import List\n",
    "class Solution:\n",
    "    def findAnagrams(self, s: str, p: str) -> List[int]:\n",
    "        ls = len(s)\n",
    "        lp = len(p)\n",
    "        if ls < lp:\n",
    "            return []\n",
    "        tempd = {}\n",
    "        for c in p:\n",
    "            tempd[c] = tempd.get(c, 0) + 1\n",
    "        windowsd = {}\n",
    "        res = []\n",
    "        for i,c in enumerate(s):\n",
    "            windowsd[c] = windowsd.get(c, 0) + 1\n",
    "            if i - lp >= 0:\n",
    "                if windowsd[s[i-lp]] == 1:\n",
    "                    del windowsd[s[i-lp]]\n",
    "                else:\n",
    "                    windowsd[s[i-lp]] = windowsd[s[i-lp]] - 1\n",
    "            if windowsd == tempd:\n",
    "                res.append(i-lp+1)\n",
    "        return res"
   ]
  },
  {
   "cell_type": "code",
   "execution_count": 17,
   "metadata": {},
   "outputs": [
    {
     "data": {
      "text/plain": [
       "[0, 1, 2]"
      ]
     },
     "execution_count": 17,
     "metadata": {},
     "output_type": "execute_result"
    }
   ],
   "source": [
    "Solution().findAnagrams('abab', 'ab')"
   ]
  },
  {
   "cell_type": "code",
   "execution_count": null,
   "metadata": {},
   "outputs": [],
   "source": []
  }
 ],
 "metadata": {
  "kernelspec": {
   "display_name": "Python 3",
   "language": "python",
   "name": "python3"
  },
  "language_info": {
   "codemirror_mode": {
    "name": "ipython",
    "version": 3
   },
   "file_extension": ".py",
   "mimetype": "text/x-python",
   "name": "python",
   "nbconvert_exporter": "python",
   "pygments_lexer": "ipython3",
   "version": "3.7.5"
  }
 },
 "nbformat": 4,
 "nbformat_minor": 4
}
