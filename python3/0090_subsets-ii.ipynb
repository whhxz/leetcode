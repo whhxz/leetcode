{
 "cells": [
  {
   "cell_type": "code",
   "execution_count": 13,
   "metadata": {},
   "outputs": [],
   "source": [
    "from typing import List\n",
    "class Solution:\n",
    "    #统计每个数出现次数，依次在后面加\n",
    "    def subsetsWithDup(self, nums: List[int]) -> List[List[int]]:\n",
    "        ndict = {}\n",
    "        for n in nums:\n",
    "            ndict[n] = ndict.get(n,0) + 1\n",
    "        res = [[]]\n",
    "        tmp = []\n",
    "        for k,v in ndict.items():\n",
    "            tmp = []\n",
    "            for r in res:\n",
    "                for i in range(v):\n",
    "                    tmp.append(r + [k]*(i+1))\n",
    "            res.extend(tmp)\n",
    "        return res\n",
    "            "
   ]
  },
  {
   "cell_type": "code",
   "execution_count": 14,
   "metadata": {},
   "outputs": [
    {
     "data": {
      "text/plain": [
       "[[], [1], [2], [2, 2], [1, 2], [1, 2, 2]]"
      ]
     },
     "execution_count": 14,
     "metadata": {},
     "output_type": "execute_result"
    }
   ],
   "source": [
    "Solution().subsetsWithDup([1,2,2])"
   ]
  },
  {
   "cell_type": "code",
   "execution_count": null,
   "metadata": {},
   "outputs": [],
   "source": []
  }
 ],
 "metadata": {
  "kernelspec": {
   "display_name": "Python 3",
   "language": "python",
   "name": "python3"
  },
  "language_info": {
   "codemirror_mode": {
    "name": "ipython",
    "version": 3
   },
   "file_extension": ".py",
   "mimetype": "text/x-python",
   "name": "python",
   "nbconvert_exporter": "python",
   "pygments_lexer": "ipython3",
   "version": "3.7.5"
  }
 },
 "nbformat": 4,
 "nbformat_minor": 4
}
