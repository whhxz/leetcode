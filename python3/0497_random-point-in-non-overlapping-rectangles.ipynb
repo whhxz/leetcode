{
 "cells": [
  {
   "cell_type": "code",
   "execution_count": 53,
   "metadata": {},
   "outputs": [],
   "source": [
    "from typing import List\n",
    "import random\n",
    "class Solution:\n",
    "\n",
    "    def __init__(self, rects: List[List[int]]):\n",
    "        self.lines = [0]\n",
    "        for nums in rects:\n",
    "            # 计算每个矩形中点的个数，放入线段\n",
    "            self.lines.append(self.lines[-1]+(nums[2]-nums[0] + 1) * (nums[3]-nums[1] + 1))\n",
    "        self.rects = rects\n",
    "\n",
    "    def pick(self) -> List[int]:\n",
    "        num = random.randint(1, self.lines[-1])\n",
    "        i = self.search(0, len(self.lines)-1, num)\n",
    "        nums = self.rects[i]\n",
    "        return [random.randint(nums[0], nums[2]), random.randint(nums[1], nums[3])]\n",
    "        \n",
    "    def search(self,l, r, num):\n",
    "        if num == self.lines[l]:\n",
    "            return l - 1\n",
    "        elif num == self.lines[r]:\n",
    "            return r - 1\n",
    "        elif l + 1 == r:\n",
    "            return l\n",
    "        else:\n",
    "            mid = (l + r) //2\n",
    "            if num > self.lines[mid]:\n",
    "                return self.search(mid, r, num)\n",
    "            else:\n",
    "                return self.search(l,mid, num)\n",
    "# Your Solution object will be instantiated and called as such:\n",
    "# obj = Solution(rects)\n",
    "# param_1 = obj.pick()"
   ]
  }
 ],
 "metadata": {
  "kernelspec": {
   "display_name": "Python 3",
   "language": "python",
   "name": "python3"
  },
  "language_info": {
   "codemirror_mode": {
    "name": "ipython",
    "version": 3
   },
   "file_extension": ".py",
   "mimetype": "text/x-python",
   "name": "python",
   "nbconvert_exporter": "python",
   "pygments_lexer": "ipython3",
   "version": "3.7.5"
  }
 },
 "nbformat": 4,
 "nbformat_minor": 4
}
