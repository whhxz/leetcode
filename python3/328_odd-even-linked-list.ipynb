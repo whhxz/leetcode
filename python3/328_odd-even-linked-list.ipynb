{
 "cells": [
  {
   "cell_type": "code",
   "execution_count": 20,
   "metadata": {},
   "outputs": [],
   "source": [
    "# Definition for singly-linked list.\n",
    "class ListNode:\n",
    "    def __init__(self, x):\n",
    "        self.val = x\n",
    "        self.next = None\n",
    "\n",
    "class Solution:\n",
    "    #遍历节点，同时使用两个节点存储奇偶\n",
    "    def oddEvenList(self, head):\n",
    "        \"\"\"\n",
    "        :type head: ListNode\n",
    "        :rtype: ListNode\n",
    "        \"\"\"\n",
    "        if head == None or head.next == None:\n",
    "            return head\n",
    "        #奇数\n",
    "        odd_n = head.next\n",
    "        odd_n_head = odd_n\n",
    "        #偶数\n",
    "        even_n = head\n",
    "        tmp = head.next\n",
    "        i = 1\n",
    "        #如果下个节点为None，那么退出循环，避免因为偶数节点最后节点为None导致无法连接奇数节点\n",
    "        while tmp.next:\n",
    "            tmp = tmp.next\n",
    "            i+=1\n",
    "            #添加节点在各自的节点下\n",
    "            if i % 2 == 0:\n",
    "                even_n.next = tmp\n",
    "                even_n = even_n.next\n",
    "            else:\n",
    "                odd_n.next = tmp\n",
    "                odd_n = odd_n.next\n",
    "        #设置奇数最后一个节点为None\n",
    "        odd_n.next = None\n",
    "        #连接奇偶节点\n",
    "        even_n.next = odd_n_head\n",
    "        return head\n",
    "        "
   ]
  },
  {
   "cell_type": "code",
   "execution_count": 26,
   "metadata": {},
   "outputs": [
    {
     "name": "stdout",
     "output_type": "stream",
     "text": [
      "1\n"
     ]
    }
   ],
   "source": [
    "n1 = ListNode(1)\n",
    "# n2 = ListNode(2)\n",
    "# n3 = ListNode(3)\n",
    "# n4 = ListNode(4)\n",
    "# n5 = ListNode(5)\n",
    "# n1.next = n2\n",
    "# n2.next = n3\n",
    "# n3.next = n4\n",
    "# n4.next = n5\n",
    "# n5.next =None\n",
    "Solution().oddEvenList(None)\n",
    "tmp = n1\n",
    "while tmp:\n",
    "    print(tmp.val)\n",
    "    tmp = tmp.next"
   ]
  },
  {
   "cell_type": "code",
   "execution_count": null,
   "metadata": {},
   "outputs": [],
   "source": []
  },
  {
   "cell_type": "code",
   "execution_count": null,
   "metadata": {},
   "outputs": [],
   "source": []
  }
 ],
 "metadata": {
  "kernelspec": {
   "display_name": "Python 3",
   "language": "python",
   "name": "python3"
  },
  "language_info": {
   "codemirror_mode": {
    "name": "ipython",
    "version": 3
   },
   "file_extension": ".py",
   "mimetype": "text/x-python",
   "name": "python",
   "nbconvert_exporter": "python",
   "pygments_lexer": "ipython3",
   "version": "3.5.1"
  }
 },
 "nbformat": 4,
 "nbformat_minor": 2
}
