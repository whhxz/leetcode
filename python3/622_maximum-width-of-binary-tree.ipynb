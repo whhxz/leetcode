{
 "cells": [
  {
   "cell_type": "code",
   "execution_count": 53,
   "metadata": {},
   "outputs": [],
   "source": [
    "# Definition for a binary tree node.\n",
    "class TreeNode(object):\n",
    "    def __init__(self, x):\n",
    "        self.val = x\n",
    "        self.left = None\n",
    "        self.right = None\n",
    "\n",
    "class Solution(object):\n",
    "    def widthOfBinaryTree(self, root):\n",
    "        \"\"\"\n",
    "        :type root: TreeNode\n",
    "        :rtype: int\n",
    "        \"\"\"\n",
    "        \n",
    "        nodes = [root]\n",
    "        indexs = [0]\n",
    "        max_l = 0\n",
    "        #循环计算所有节点的下角标\n",
    "        while len(nodes) != 0:\n",
    "            #计算下一个节点最大值，也就是indexs最左边0以及最右边-1\n",
    "            max_l = max(indexs[-1] - indexs[0], max_l)\n",
    "            \n",
    "            n_l = len(nodes)\n",
    "            #获取下一个排节点\n",
    "            for i in range(n_l):\n",
    "                n = nodes[i]\n",
    "                if n.left is not None:\n",
    "                    nodes.append(n.left)\n",
    "                    indexs.append(indexs[i] * 2 + 1)\n",
    "                if n.right is not None:\n",
    "                    nodes.append(n.right)\n",
    "                    indexs.append(indexs[i] * 2 + 2)\n",
    "            #重新取值下一个节点\n",
    "            nn_l = len(nodes)\n",
    "            nodes = nodes[n_l: nn_l]\n",
    "            indexs = indexs[n_l: nn_l]\n",
    "            \n",
    "        return max_l + 1\n",
    "            "
   ]
  },
  {
   "cell_type": "code",
   "execution_count": 54,
   "metadata": {},
   "outputs": [
    {
     "name": "stdout",
     "output_type": "stream",
     "text": [
      "2\n"
     ]
    }
   ],
   "source": [
    "t1 = TreeNode(1)\n",
    "t2 = TreeNode(3)\n",
    "t3 = TreeNode(4)\n",
    "t4 = TreeNode(5)\n",
    "t5 = TreeNode(6)\n",
    "t6 = TreeNode(7)\n",
    "t7 = TreeNode(8)\n",
    "\n",
    "t1.left = t2\n",
    "t1.right = t3\n",
    "t2.left = t4\n",
    "t2.right = t5\n",
    "# t3.left = t6\n",
    "\n",
    "\n",
    "print(Solution().widthOfBinaryTree(t1))\n"
   ]
  },
  {
   "cell_type": "code",
   "execution_count": null,
   "metadata": {},
   "outputs": [],
   "source": []
  },
  {
   "cell_type": "code",
   "execution_count": null,
   "metadata": {},
   "outputs": [],
   "source": []
  }
 ],
 "metadata": {
  "kernelspec": {
   "display_name": "Python 3",
   "language": "python",
   "name": "python3"
  },
  "language_info": {
   "codemirror_mode": {
    "name": "ipython",
    "version": 3
   },
   "file_extension": ".py",
   "mimetype": "text/x-python",
   "name": "python",
   "nbconvert_exporter": "python",
   "pygments_lexer": "ipython3",
   "version": "3.5.1"
  }
 },
 "nbformat": 4,
 "nbformat_minor": 2
}
