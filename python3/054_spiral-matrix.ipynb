{
 "cells": [
  {
   "cell_type": "code",
   "execution_count": 93,
   "metadata": {},
   "outputs": [],
   "source": [
    "class Solution:\n",
    "    def spiralOrder(self, matrix):\n",
    "        \"\"\"\n",
    "        :type matrix: List[List[int]]\n",
    "        :rtype: List[int]\n",
    "        \"\"\"\n",
    "        si = 0\n",
    "        ei = len(matrix)\n",
    "        res = []\n",
    "        if ei == 0:\n",
    "            return res\n",
    "        li = ei\n",
    "        \n",
    "        sj = 0\n",
    "        ej = len(matrix[0])\n",
    "        #安装旋转遍历\n",
    "        lj = ej\n",
    "        while si < ei and sj < ej:\n",
    "            #上面横\n",
    "            res.extend(matrix[si][sj: ej])\n",
    "            si += 1\n",
    "            #右竖\n",
    "            for k in range(si, ei):\n",
    "                res.append(matrix[k][ej-1])\n",
    "            ej -= 1\n",
    "            #下横反\n",
    "            if si >= ei or sj >= ej:\n",
    "                continue\n",
    "            res.extend(matrix[ei-1][ej-lj - 1:sj-lj:-1])\n",
    "            ei -= 1\n",
    "            #左竖反\n",
    "            for k in range(ei - li, si - li - 1, -1):\n",
    "                res.append(matrix[k][sj])\n",
    "            sj += 1\n",
    "        return res\n",
    "                \n",
    "        "
   ]
  },
  {
   "cell_type": "code",
   "execution_count": 94,
   "metadata": {},
   "outputs": [
    {
     "data": {
      "text/plain": [
       "[1, 2, 3, 4, 5, 6, 7, 8, 9, 10]"
      ]
     },
     "execution_count": 94,
     "metadata": {},
     "output_type": "execute_result"
    }
   ],
   "source": [
    "Solution().spiralOrder([[1],[2],[3],[4],[5],[6],[7],[8],[9],[10]])"
   ]
  },
  {
   "cell_type": "code",
   "execution_count": 45,
   "metadata": {},
   "outputs": [
    {
     "data": {
      "text/plain": [
       "[]"
      ]
     },
     "execution_count": 45,
     "metadata": {},
     "output_type": "execute_result"
    }
   ],
   "source": [
    "[1,2,3,4][-2:-1:-1]"
   ]
  },
  {
   "cell_type": "code",
   "execution_count": null,
   "metadata": {},
   "outputs": [],
   "source": []
  }
 ],
 "metadata": {
  "kernelspec": {
   "display_name": "Python 3",
   "language": "python",
   "name": "python3"
  },
  "language_info": {
   "codemirror_mode": {
    "name": "ipython",
    "version": 3
   },
   "file_extension": ".py",
   "mimetype": "text/x-python",
   "name": "python",
   "nbconvert_exporter": "python",
   "pygments_lexer": "ipython3",
   "version": "3.5.1"
  }
 },
 "nbformat": 4,
 "nbformat_minor": 2
}
