{
 "cells": [
  {
   "cell_type": "markdown",
   "metadata": {},
   "source": [
    "结题思路，先把所有数据放入map中，key为值，val为二进制数，值为数组的下角标\n",
    "吧生成的map安装key进行排序\n",
    "遍历之后的map中value，对value进行“|”取值，直到满足**int('1' * len(nums), 2)**，表示匹配到了满足全部数组的数\n",
    "之后取value左右范围对应的key中的值，计算差值"
   ]
  },
  {
   "cell_type": "code",
   "execution_count": 104,
   "metadata": {},
   "outputs": [],
   "source": [
    "class Solution:\n",
    "    def smallestRange(self, nums):\n",
    "        \"\"\"\n",
    "        :type nums: List[List[int]]\n",
    "        :rtype: List[int]\n",
    "        \"\"\"\n",
    "        num_map = {}\n",
    "        #保存nums数据到map中，key为数字，val为nums中数组下角标在二维数组中的位置\n",
    "        for i,ns in enumerate(nums):\n",
    "            nb = 1 << i\n",
    "            for n in ns:\n",
    "                val = num_map.setdefault(n, nb)\n",
    "                num_map[n] = val | nb\n",
    "        #对map进行排序\n",
    "        num_map = [(k, num_map[k]) for k in sorted(num_map)]\n",
    "        #下面表示对val进行排序\n",
    "        #num_map = [(k, num_map[k]) for k in sorted(num_map, key=num_map.get,)]\n",
    "        left = 0\n",
    "        right = 0\n",
    "        min_l = -1\n",
    "        nl = int('1' * len(nums), 2)\n",
    "        #分别取所有key和val\n",
    "        keys = [n[0] for n in num_map]\n",
    "        vals = [n[1] for n in num_map]\n",
    "        ml = len(num_map)\n",
    "        r_l = []\n",
    "        #从头开始遍历vals\n",
    "        while right <= ml:\n",
    "            tnum = 0\n",
    "            #获取从left~right中的满足数组个数\n",
    "            for i in range(left, right):\n",
    "                tnum  = tnum | vals[i]\n",
    "            #如果left~right中数据满足所有nums中数组\n",
    "            if tnum == nl:\n",
    "                #获取left~right区间大小\n",
    "                tmp = [keys[left], keys[right - 1]]\n",
    "                #如果区间小于原来区间\n",
    "                if tmp[1] - tmp[0] < min_l or min_l == -1:\n",
    "                    min_l = tmp[1] - tmp[0]\n",
    "                    r_l = tmp\n",
    "                #满足条件，那么left需要向右移动\n",
    "                left += 1\n",
    "            else:\n",
    "                #如果不满足，那么right需要向右移动直到满足为止\n",
    "                right += 1\n",
    "            #如果left移动超过right，那么right向右移动\n",
    "            if left >= right:\n",
    "                right += 1\n",
    "        return r_l\n",
    "                \n",
    "            "
   ]
  },
  {
   "cell_type": "code",
   "execution_count": 106,
   "metadata": {},
   "outputs": [
    {
     "name": "stdout",
     "output_type": "stream",
     "text": [
      "[(-5, 1), (-4, 1), (-3, 1), (-2, 1), (-1, 1), (1, 2), (2, 2), (3, 2), (4, 2), (5, 2)]\n",
      "0 0 0\n",
      "1 0 1\n",
      "1 0 2\n",
      "1 0 3\n",
      "1 0 4\n",
      "1 0 5\n",
      "3 0 6\n",
      "3 1 6\n",
      "3 2 6\n",
      "3 3 6\n",
      "3 4 6\n",
      "2 5 6\n",
      "2 5 7\n",
      "2 5 8\n",
      "2 5 9\n",
      "2 5 10\n",
      "[-1, 1]\n"
     ]
    }
   ],
   "source": [
    "nums = [[-5,-4,-3,-2,-1],[1,2,3,4,5]]\n",
    "print(Solution().smallestRange(nums))"
   ]
  },
  {
   "cell_type": "code",
   "execution_count": 94,
   "metadata": {},
   "outputs": [
    {
     "name": "stdout",
     "output_type": "stream",
     "text": [
      "[1, 2, 3]\n",
      "[(1, 1), (2, 2), (3, 3)]\n"
     ]
    }
   ],
   "source": [
    "nums = {\n",
    "    2:2,\n",
    "    1:1,\n",
    "    3:3\n",
    "}\n",
    "nums= [(k, nums[k]) for k in sorted(nums, key=nums.get)]\n",
    "print([n[1] for n in nums])\n",
    "print(nums)"
   ]
  },
  {
   "cell_type": "code",
   "execution_count": 37,
   "metadata": {},
   "outputs": [
    {
     "name": "stdout",
     "output_type": "stream",
     "text": [
      "3\n"
     ]
    }
   ],
   "source": [
    "print(int('1'*2, 2))"
   ]
  },
  {
   "cell_type": "code",
   "execution_count": null,
   "metadata": {},
   "outputs": [],
   "source": []
  }
 ],
 "metadata": {
  "kernelspec": {
   "display_name": "Python 3",
   "language": "python",
   "name": "python3"
  },
  "language_info": {
   "codemirror_mode": {
    "name": "ipython",
    "version": 3
   },
   "file_extension": ".py",
   "mimetype": "text/x-python",
   "name": "python",
   "nbconvert_exporter": "python",
   "pygments_lexer": "ipython3",
   "version": "3.5.1"
  }
 },
 "nbformat": 4,
 "nbformat_minor": 2
}
