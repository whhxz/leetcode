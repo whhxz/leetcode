{
 "cells": [
  {
   "cell_type": "code",
   "execution_count": 53,
   "metadata": {},
   "outputs": [],
   "source": [
    "from typing import List\n",
    "import random\n",
    "import bisect\n",
    "class Solution:\n",
    "\n",
    "    def __init__(self, n_rows: int, n_cols: int):\n",
    "        self.rows = n_rows\n",
    "        self.cols = n_cols\n",
    "        self.total = n_rows * n_cols\n",
    "        self.hits = []\n",
    "\n",
    "    def flip(self) -> List[int]:\n",
    "        num = random.randrange(0,self.total)\n",
    "        self.total -= 1\n",
    "        i = bisect.bisect_left(self.hits, num)\n",
    "        num += i\n",
    "        while i < len(self.hits) and num >= self.hits[i]:\n",
    "            i += 1\n",
    "            num += 1\n",
    "        bisect.insort_left(self.hits, num)\n",
    "        return [num//self.cols, num % self.cols]\n",
    "\n",
    "    def reset(self) -> None:\n",
    "        self.total = self.cols * self.rows\n",
    "        self.hits = []\n",
    "        \n",
    "\n",
    "\n",
    "# Your Solution object will be instantiated and called as such:\n",
    "# obj = Solution(n_rows, n_cols)\n",
    "# param_1 = obj.flip()\n",
    "# obj.reset()"
   ]
  },
  {
   "cell_type": "code",
   "execution_count": 57,
   "metadata": {},
   "outputs": [
    {
     "name": "stdout",
     "output_type": "stream",
     "text": [
      "[0, 1]\n"
     ]
    }
   ],
   "source": [
    "s = Solution(2,1)\n",
    "tmp = set()\n",
    "for _ in range(2):\n",
    "    t = tuple(s.flip())\n",
    "    if t in tmp:\n",
    "        print(t)\n",
    "    else:\n",
    "        tmp.add(t)\n",
    "print(s.hits)"
   ]
  },
  {
   "cell_type": "code",
   "execution_count": null,
   "metadata": {},
   "outputs": [],
   "source": []
  },
  {
   "cell_type": "code",
   "execution_count": null,
   "metadata": {},
   "outputs": [],
   "source": []
  }
 ],
 "metadata": {
  "kernelspec": {
   "display_name": "Python 3",
   "language": "python",
   "name": "python3"
  },
  "language_info": {
   "codemirror_mode": {
    "name": "ipython",
    "version": 3
   },
   "file_extension": ".py",
   "mimetype": "text/x-python",
   "name": "python",
   "nbconvert_exporter": "python",
   "pygments_lexer": "ipython3",
   "version": "3.7.5"
  }
 },
 "nbformat": 4,
 "nbformat_minor": 4
}
