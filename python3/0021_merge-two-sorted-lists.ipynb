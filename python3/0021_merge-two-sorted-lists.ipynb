{
 "cells": [
  {
   "cell_type": "code",
   "execution_count": 1,
   "metadata": {},
   "outputs": [],
   "source": [
    "# Definition for singly-linked list.\n",
    "# class ListNode:\n",
    "#     def __init__(self, x):\n",
    "#         self.val = x\n",
    "#         self.next = None\n",
    "\n",
    "class Solution:\n",
    "    def mergeTwoLists(self, l1, l2):\n",
    "        \"\"\"\n",
    "        :type l1: ListNode\n",
    "        :type l2: ListNode\n",
    "        :rtype: ListNode\n",
    "        \"\"\"\n",
    "        if not l1:\n",
    "            return l2\n",
    "        if not l2:\n",
    "            return l1\n",
    "        if l2.val < l1.val:\n",
    "            l1, l2 = l2, l1\n",
    "        b1 = l1\n",
    "        n1 = l1.next\n",
    "        n2 = l2\n",
    "        while n2:\n",
    "            if n1:\n",
    "                if b1.val <= n2.val < n1.val:\n",
    "                    b1.next = n2\n",
    "                    tmp = n2.next\n",
    "                    n2.next = n1\n",
    "                    b1 = b1.next\n",
    "                    n2 = tmp\n",
    "                else:\n",
    "                    b1 = n1\n",
    "                    n1 = n1.next\n",
    "            else:\n",
    "                b1.next = n2\n",
    "                break\n",
    "        return l1"
   ]
  },
  {
   "cell_type": "code",
   "execution_count": null,
   "metadata": {},
   "outputs": [],
   "source": []
  }
 ],
 "metadata": {
  "kernelspec": {
   "display_name": "Python 3",
   "language": "python",
   "name": "python3"
  },
  "language_info": {
   "codemirror_mode": {
    "name": "ipython",
    "version": 3
   },
   "file_extension": ".py",
   "mimetype": "text/x-python",
   "name": "python",
   "nbconvert_exporter": "python",
   "pygments_lexer": "ipython3",
   "version": "3.5.1"
  }
 },
 "nbformat": 4,
 "nbformat_minor": 2
}
