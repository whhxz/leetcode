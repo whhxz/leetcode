{
 "cells": [
  {
   "cell_type": "code",
   "execution_count": 2,
   "metadata": {},
   "outputs": [],
   "source": [
    "# Definition for a binary tree node.\n",
    "class TreeNode:\n",
    "    def __init__(self, x):\n",
    "        self.val = x\n",
    "        self.left = None\n",
    "        self.right = None\n",
    "\n",
    "class Solution:\n",
    "    #宽度搜索优先\n",
    "    def widthOfBinaryTree(self, root: TreeNode) -> int:\n",
    "        res = 0\n",
    "        tl = [(root, 0)]\n",
    "        tmp = []\n",
    "        while tl:\n",
    "            res = max(tl[-1][1] - tl[0][1],res)\n",
    "            for d in tl:\n",
    "                if d[0].left:\n",
    "                    tmp.append((d[0].left, d[1] * 2))\n",
    "                if d[0].right:\n",
    "                    tmp.append((d[0].right, d[1] * 2 + 1))\n",
    "            tl,tmp = tmp,[]\n",
    "        return res + 1\n",
    "                    "
   ]
  },
  {
   "cell_type": "code",
   "execution_count": 5,
   "metadata": {},
   "outputs": [
    {
     "data": {
      "text/plain": [
       "['abc', 'bac']"
      ]
     },
     "execution_count": 5,
     "metadata": {},
     "output_type": "execute_result"
    }
   ],
   "source": [
    "sorted(['bac','abc'])"
   ]
  },
  {
   "cell_type": "code",
   "execution_count": null,
   "metadata": {},
   "outputs": [],
   "source": []
  }
 ],
 "metadata": {
  "kernelspec": {
   "display_name": "Python 3",
   "language": "python",
   "name": "python3"
  },
  "language_info": {
   "codemirror_mode": {
    "name": "ipython",
    "version": 3
   },
   "file_extension": ".py",
   "mimetype": "text/x-python",
   "name": "python",
   "nbconvert_exporter": "python",
   "pygments_lexer": "ipython3",
   "version": "3.7.5"
  }
 },
 "nbformat": 4,
 "nbformat_minor": 4
}
