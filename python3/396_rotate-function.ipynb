{
 "cells": [
  {
   "cell_type": "code",
   "execution_count": 1,
   "metadata": {},
   "outputs": [],
   "source": [
    "class Solution:\n",
    "    #每移动一次，下一个总值为 f(n) = f(n-1) - A[-n] * len(A) + (sum(A) - A[-n])\n",
    "    #也就是上一个的值减去最后一个，同时加上除最后一位\n",
    "    def maxRotateFunction(self, A):\n",
    "        \"\"\"\n",
    "        :type A: List[int]\n",
    "        :rtype: int\n",
    "        \"\"\"\n",
    "        if len(A) == 0:\n",
    "            return 0\n",
    "        #统计总和\n",
    "        total = sum(A)\n",
    "        f = 0\n",
    "        maxi = len(A) - 1\n",
    "        #计算f(0)\n",
    "        for i,a in enumerate(A):\n",
    "            f += a * i\n",
    "        res = f\n",
    "        #遍历数组，通过公式计算下一个值\n",
    "        for i in range(maxi, 0, -1):\n",
    "            f = f - A[i] * maxi + total - A[i]\n",
    "            res = max(f, res)\n",
    "        return res\n",
    "        "
   ]
  },
  {
   "cell_type": "code",
   "execution_count": 5,
   "metadata": {},
   "outputs": [
    {
     "data": {
      "text/plain": [
       "0"
      ]
     },
     "execution_count": 5,
     "metadata": {},
     "output_type": "execute_result"
    }
   ],
   "source": [
    "Solution().maxRotateFunction([])"
   ]
  },
  {
   "cell_type": "code",
   "execution_count": null,
   "metadata": {},
   "outputs": [],
   "source": []
  }
 ],
 "metadata": {
  "kernelspec": {
   "display_name": "Python 3",
   "language": "python",
   "name": "python3"
  },
  "language_info": {
   "codemirror_mode": {
    "name": "ipython",
    "version": 3
   },
   "file_extension": ".py",
   "mimetype": "text/x-python",
   "name": "python",
   "nbconvert_exporter": "python",
   "pygments_lexer": "ipython3",
   "version": "3.5.1"
  }
 },
 "nbformat": 4,
 "nbformat_minor": 2
}
