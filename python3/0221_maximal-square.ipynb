{
 "cells": [
  {
   "cell_type": "code",
   "execution_count": 25,
   "metadata": {},
   "outputs": [],
   "source": [
    "from typing import List\n",
    "class Solution:\n",
    "    def maximalSquare(self, matrix: List[List[str]]) -> int:\n",
    "        if not matrix:\n",
    "            return 0\n",
    "        side = 0\n",
    "        maxi = len(matrix)\n",
    "        maxj = len(matrix[0])\n",
    "        for i in range(maxi):\n",
    "            for j in range(maxj):\n",
    "                matrix[i][j] = int(matrix[i][j])\n",
    "                if matrix[i][j] == 1:\n",
    "                    if i ==0 or j == 0:\n",
    "                        matrix[i][j] = matrix[i][j]\n",
    "                    else:\n",
    "                        matrix[i][j] = min(matrix[i-1][j], matrix[i][j-1], matrix[i-1][j-1]) + 1\n",
    "                    side = max(side, matrix[i][j])\n",
    "        return side * side\n",
    "                "
   ]
  },
  {
   "cell_type": "code",
   "execution_count": 26,
   "metadata": {},
   "outputs": [
    {
     "data": {
      "text/plain": [
       "0"
      ]
     },
     "execution_count": 26,
     "metadata": {},
     "output_type": "execute_result"
    }
   ],
   "source": [
    "Solution().maximalSquare([[]]\n",
    ")"
   ]
  },
  {
   "cell_type": "code",
   "execution_count": null,
   "metadata": {},
   "outputs": [],
   "source": []
  }
 ],
 "metadata": {
  "kernelspec": {
   "display_name": "Python 3",
   "language": "python",
   "name": "python3"
  },
  "language_info": {
   "codemirror_mode": {
    "name": "ipython",
    "version": 3
   },
   "file_extension": ".py",
   "mimetype": "text/x-python",
   "name": "python",
   "nbconvert_exporter": "python",
   "pygments_lexer": "ipython3",
   "version": "3.7.5"
  }
 },
 "nbformat": 4,
 "nbformat_minor": 4
}
