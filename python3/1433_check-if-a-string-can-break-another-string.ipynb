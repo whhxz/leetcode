{
 "cells": [
  {
   "cell_type": "code",
   "execution_count": null,
   "metadata": {},
   "outputs": [],
   "source": [
    "class Solution:\n",
    "    def checkIfCanBreak(self, s1: str, s2: str) -> bool:\n",
    "        l1 = list(s1)\n",
    "        l1.sort()\n",
    "        l2 = list(s2)\n",
    "        l2.sort()\n",
    "        sign = None\n",
    "        for i in range(len(l1)):\n",
    "            if l1[i] == l2[i]:\n",
    "                continue\n",
    "            if sign is None:\n",
    "                sign = l1[i] > l2[i]\n",
    "            else:\n",
    "                if (l1[i] > l2[i]) ^ sign:\n",
    "                    return False\n",
    "        return True\n"
   ]
  }
 ],
 "metadata": {
  "kernelspec": {
   "display_name": "Python 3",
   "language": "python",
   "name": "python3"
  },
  "language_info": {
   "codemirror_mode": {
    "name": "ipython",
    "version": 3
   },
   "file_extension": ".py",
   "mimetype": "text/x-python",
   "name": "python",
   "nbconvert_exporter": "python",
   "pygments_lexer": "ipython3",
   "version": "3.7.5"
  }
 },
 "nbformat": 4,
 "nbformat_minor": 4
}
