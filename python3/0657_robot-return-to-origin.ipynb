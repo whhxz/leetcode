{
 "cells": [
  {
   "cell_type": "code",
   "execution_count": null,
   "metadata": {},
   "outputs": [],
   "source": [
    "class Solution:\n",
    "    def judgeCircle(self, moves: str) -> bool:\n",
    "        tl = [0] * 4\n",
    "        for m in moves:\n",
    "            if m == 'U':\n",
    "                tl[0] += 1\n",
    "            elif m == 'D':\n",
    "                tl[1] += 1\n",
    "            elif m == 'L':\n",
    "                tl[2] += 1\n",
    "            elif m == 'R':\n",
    "                tl[3] += 1\n",
    "        return tl[0] == tl[1] and tl[2] == tl[3]\n"
   ]
  }
 ],
 "metadata": {
  "kernelspec": {
   "display_name": "Python 3",
   "language": "python",
   "name": "python3"
  },
  "language_info": {
   "codemirror_mode": {
    "name": "ipython",
    "version": 3
   },
   "file_extension": ".py",
   "mimetype": "text/x-python",
   "name": "python",
   "nbconvert_exporter": "python",
   "pygments_lexer": "ipython3",
   "version": "3.7.5"
  }
 },
 "nbformat": 4,
 "nbformat_minor": 4
}
