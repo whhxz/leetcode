{
 "cells": [
  {
   "cell_type": "code",
   "execution_count": 29,
   "metadata": {},
   "outputs": [],
   "source": [
    "from typing import List\n",
    "class Solution:\n",
    "    #暴力解法\n",
    "    def maxPoints(self, points: List[List[int]]) -> int:\n",
    "        ln = len(points)\n",
    "        if ln <3:\n",
    "            return ln\n",
    "        def helper(ns1,ns2,ns):\n",
    "            return (ns2[1]-ns1[1])*(ns[0]-ns1[0]) == (ns[1]-ns1[1])*(ns2[0]-ns1[0])\n",
    "        res = 2\n",
    "        for i in range(ln):\n",
    "            same = 1\n",
    "            for j in range(i + 1, ln):\n",
    "                total = 1\n",
    "                if points[i] == points[j]:\n",
    "                    same += 1\n",
    "                    continue\n",
    "                for k in range(j + 1, ln):\n",
    "                    if helper(points[i], points[j], points[k]):\n",
    "                        total += 1\n",
    "                res = max(res, total + same)\n",
    "            res = max(res, same)\n",
    "        return res\n",
    "            "
   ]
  },
  {
   "cell_type": "code",
   "execution_count": 33,
   "metadata": {},
   "outputs": [
    {
     "data": {
      "text/plain": [
       "4"
      ]
     },
     "execution_count": 33,
     "metadata": {},
     "output_type": "execute_result"
    }
   ],
   "source": [
    "Solution().maxPoints([[1,1],[3,2],[5,3],[4,1],[2,3],[1,4]])"
   ]
  },
  {
   "cell_type": "code",
   "execution_count": null,
   "metadata": {},
   "outputs": [],
   "source": []
  }
 ],
 "metadata": {
  "kernelspec": {
   "display_name": "Python 3",
   "language": "python",
   "name": "python3"
  },
  "language_info": {
   "codemirror_mode": {
    "name": "ipython",
    "version": 3
   },
   "file_extension": ".py",
   "mimetype": "text/x-python",
   "name": "python",
   "nbconvert_exporter": "python",
   "pygments_lexer": "ipython3",
   "version": "3.7.5"
  }
 },
 "nbformat": 4,
 "nbformat_minor": 4
}
