{
 "cells": [
  {
   "cell_type": "code",
   "execution_count": 23,
   "metadata": {},
   "outputs": [],
   "source": [
    "from typing import List\n",
    "class NumMatrix:\n",
    "\n",
    "    def __init__(self, matrix: List[List[int]]):\n",
    "        if not matrix:\n",
    "            return\n",
    "        maxi = len(matrix)\n",
    "        maxj = len(matrix[0])\n",
    "        for i in range(0, maxi):\n",
    "            for j in range(0, maxj):\n",
    "                if i==0 and j==0:\n",
    "                    continue\n",
    "                elif i == 0:\n",
    "                    matrix[i][j] += matrix[i][j-1]\n",
    "                elif j == 0:\n",
    "                    matrix[i][j] += matrix[i-1][j]\n",
    "                else:\n",
    "                    matrix[i][j] += matrix[i-1][j] + matrix[i][j-1] - matrix[i-1][j-1]\n",
    "        self.matrix = matrix\n",
    "\n",
    "    def sumRegion(self, row1: int, col1: int, row2: int, col2: int) -> int:\n",
    "        res = self.matrix[row2][col2]\n",
    "        if row1 != 0 and col1 != 0:\n",
    "            res += self.matrix[row1-1][col1-1]\n",
    "        if row1 != 0:\n",
    "            res -= self.matrix[row1-1][col2]\n",
    "        if col1 != 0:\n",
    "            res -= self.matrix[row2][col1-1]\n",
    "        return res\n",
    "\n",
    "\n",
    "# Your NumMatrix object will be instantiated and called as such:\n",
    "# obj = NumMatrix(matrix)\n",
    "# param_1 = obj.sumRegion(row1,col1,row2,col2)"
   ]
  },
  {
   "cell_type": "code",
   "execution_count": 24,
   "metadata": {},
   "outputs": [
    {
     "name": "stdout",
     "output_type": "stream",
     "text": [
      "[[-1, -3]]\n"
     ]
    },
    {
     "data": {
      "text/plain": [
       "-3"
      ]
     },
     "execution_count": 24,
     "metadata": {},
     "output_type": "execute_result"
    }
   ],
   "source": [
    "n = NumMatrix([\n",
    "  [-1,-2],\n",
    " \n",
    "])\n",
    "n.sumRegion(0,0,0,1)"
   ]
  },
  {
   "cell_type": "code",
   "execution_count": null,
   "metadata": {},
   "outputs": [],
   "source": []
  }
 ],
 "metadata": {
  "kernelspec": {
   "display_name": "Python 3",
   "language": "python",
   "name": "python3"
  },
  "language_info": {
   "codemirror_mode": {
    "name": "ipython",
    "version": 3
   },
   "file_extension": ".py",
   "mimetype": "text/x-python",
   "name": "python",
   "nbconvert_exporter": "python",
   "pygments_lexer": "ipython3",
   "version": "3.7.5"
  }
 },
 "nbformat": 4,
 "nbformat_minor": 4
}
