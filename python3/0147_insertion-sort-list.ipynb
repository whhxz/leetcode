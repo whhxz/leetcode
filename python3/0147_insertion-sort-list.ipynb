{
 "cells": [
  {
   "cell_type": "code",
   "execution_count": 1,
   "metadata": {},
   "outputs": [],
   "source": [
    "# Definition for singly-linked list.\n",
    "class ListNode:\n",
    "    def __init__(self, x):\n",
    "        self.val = x\n",
    "        self.next = None\n",
    "\n",
    "class Solution:\n",
    "    def insertionSortList(self, head: ListNode) -> ListNode:\n",
    "        if not head or not head.next:\n",
    "            return head\n",
    "        first = ListNode(-1)\n",
    "        first.next = head\n",
    "        node = head\n",
    "        tmp = None\n",
    "        move = True\n",
    "        while node.next:\n",
    "            move = True\n",
    "            tmp = first\n",
    "            while tmp != node:\n",
    "                if node.next.val >= tmp.next.val:\n",
    "                    tmp = tmp.next\n",
    "                else:\n",
    "                    t = node.next\n",
    "                    node.next = node.next.next\n",
    "                    tmp.next,t.next = t,tmp.next\n",
    "                    move = False\n",
    "                    break\n",
    "            if move:\n",
    "                node = node.next\n",
    "        return first.next\n"
   ]
  },
  {
   "cell_type": "code",
   "execution_count": null,
   "metadata": {},
   "outputs": [],
   "source": []
  }
 ],
 "metadata": {
  "kernelspec": {
   "display_name": "Python 3",
   "language": "python",
   "name": "python3"
  },
  "language_info": {
   "codemirror_mode": {
    "name": "ipython",
    "version": 3
   },
   "file_extension": ".py",
   "mimetype": "text/x-python",
   "name": "python",
   "nbconvert_exporter": "python",
   "pygments_lexer": "ipython3",
   "version": "3.7.5"
  }
 },
 "nbformat": 4,
 "nbformat_minor": 4
}
