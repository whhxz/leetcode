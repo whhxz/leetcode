{
 "cells": [
  {
   "cell_type": "code",
   "execution_count": null,
   "metadata": {},
   "outputs": [],
   "source": [
    "class Solution(object):\n",
    "    def minSwap(self, A, B):\n",
    "        \"\"\"\n",
    "        :type A: List[int]\n",
    "        :type B: List[int]\n",
    "        :rtype: int\n",
    "        \"\"\"\n",
    "        l = len(A)\n",
    "        if l == 1:\n",
    "            return 0\n",
    "        total = 0\n",
    "        for i in range(1, l):\n",
    "            if A[i] < A[i-1] or B[i] < B[i-1]:\n",
    "                if i == 1 or (B[i-1] > A[i-2] and A[i-1] > B[i-2]):\n",
    "                    A[i-1],B[i-1] = B[i-1],A[i-1]\n",
    "                else:\n",
    "                    A[i],B[i] = B[i]A[i]\n",
    "                total += 1\n",
    "        return total\n"
   ]
  }
 ],
 "metadata": {
  "kernelspec": {
   "display_name": "Python 3",
   "language": "python",
   "name": "python3"
  },
  "language_info": {
   "codemirror_mode": {
    "name": "ipython",
    "version": 3
   },
   "file_extension": ".py",
   "mimetype": "text/x-python",
   "name": "python",
   "nbconvert_exporter": "python",
   "pygments_lexer": "ipython3",
   "version": "3.5.1"
  }
 },
 "nbformat": 4,
 "nbformat_minor": 2
}
