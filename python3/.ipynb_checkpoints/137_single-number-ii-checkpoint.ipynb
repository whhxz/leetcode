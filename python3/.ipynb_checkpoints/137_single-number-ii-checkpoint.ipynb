{
 "cells": [
  {
   "cell_type": "code",
   "execution_count": null,
   "metadata": {},
   "outputs": [],
   "source": [
    "class Solution:\n",
    "    #通过把值放入map中，key为值，val为次数，直接遍历map中次数为1的值\n",
    "    def singleNumber(self, nums):\n",
    "        \"\"\"\n",
    "        :type nums: List[int]\n",
    "        :rtype: int\n",
    "        \"\"\"\n",
    "        s = {}\n",
    "        for n in nums:\n",
    "            s[n] = s.get(n, 0) + 1\n",
    "        for k in s:\n",
    "            if s.get(k) == 1:\n",
    "                return k\n",
    "        return None\n",
    "    \n",
    "    def singleNumber1(self, nums):\n",
    "        return int((sum(set(nums)) * 3 - sum(nums)) /2)"
   ]
  }
 ],
 "metadata": {
  "kernelspec": {
   "display_name": "Python 3",
   "language": "python",
   "name": "python3"
  },
  "language_info": {
   "codemirror_mode": {
    "name": "ipython",
    "version": 3
   },
   "file_extension": ".py",
   "mimetype": "text/x-python",
   "name": "python",
   "nbconvert_exporter": "python",
   "pygments_lexer": "ipython3",
   "version": "3.5.1"
  }
 },
 "nbformat": 4,
 "nbformat_minor": 2
}
