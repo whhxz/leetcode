{
 "cells": [
  {
   "cell_type": "code",
   "execution_count": 60,
   "metadata": {},
   "outputs": [],
   "source": [
    "class Solution:\n",
    "    #通过从后向前计算\n",
    "    def isAdditiveNumber(self, num):\n",
    "        \"\"\"\n",
    "        :type num: str\n",
    "        :rtype: bool\n",
    "        \"\"\"\n",
    "        l = len(num)\n",
    "        #验证数据是否正确\n",
    "        def check(i, j):\n",
    "            #最后的值\n",
    "            end = int(num[i:l])\n",
    "            #前一个值\n",
    "            n2 = int(num[j:i])\n",
    "            while j > 0:\n",
    "                #推算出第一个值\n",
    "                n1 = end - n2\n",
    "                #计算第一个值下角标\n",
    "                k = j - len(str(n1))\n",
    "                #如果超出边界，而且推算出的值和num中计算的下角标不一致直接返回Flase\n",
    "                if k >=0 and int(num[k:j]) == n1:\n",
    "                    #如果成功，继续向前计算，直到计算结束\n",
    "                    i,j = j,k\n",
    "                    end, n2 = n2, n1\n",
    "                else:\n",
    "                    return False\n",
    "            return True\n",
    "        #从后向前遍历\n",
    "        for i in range(l - 1, (l >> 1) - 1, -1):\n",
    "            #如果为0，应该直接startwith\n",
    "            if i != l - 1 and num[i] == '0':\n",
    "                continue\n",
    "            #遍历第二个\n",
    "            for j in range(i - 1, 0 , -1):\n",
    "                #如果为0，应该直接startwith\n",
    "                if j != i - 1 and num[j] == '0':\n",
    "                    continue\n",
    "                #校验\n",
    "                if check(i, j):\n",
    "                    return True\n",
    "        return False"
   ]
  },
  {
   "cell_type": "code",
   "execution_count": 61,
   "metadata": {},
   "outputs": [
    {
     "name": "stdout",
     "output_type": "stream",
     "text": [
      "1 2 3 6 1 7\n",
      "-2 1 3 -84 91 7\n",
      "0 1 2 8 9 17\n"
     ]
    },
    {
     "data": {
      "text/plain": [
       "True"
      ]
     },
     "execution_count": 61,
     "metadata": {},
     "output_type": "execute_result"
    }
   ],
   "source": [
    "Solution().isAdditiveNumber(\"8917\")"
   ]
  },
  {
   "cell_type": "code",
   "execution_count": null,
   "metadata": {},
   "outputs": [],
   "source": []
  },
  {
   "cell_type": "code",
   "execution_count": null,
   "metadata": {},
   "outputs": [],
   "source": []
  }
 ],
 "metadata": {
  "kernelspec": {
   "display_name": "Python 3",
   "language": "python",
   "name": "python3"
  },
  "language_info": {
   "codemirror_mode": {
    "name": "ipython",
    "version": 3
   },
   "file_extension": ".py",
   "mimetype": "text/x-python",
   "name": "python",
   "nbconvert_exporter": "python",
   "pygments_lexer": "ipython3",
   "version": "3.5.1"
  }
 },
 "nbformat": 4,
 "nbformat_minor": 2
}
