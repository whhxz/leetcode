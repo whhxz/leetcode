{
 "cells": [
  {
   "cell_type": "code",
   "execution_count": 64,
   "metadata": {},
   "outputs": [],
   "source": [
    "from typing import List\n",
    "class Solution:\n",
    "    def fullJustify(self, words: List[str], maxWidth: int) -> List[str]:\n",
    "        res = [0]\n",
    "        str_list = [[]]\n",
    "        residue = maxWidth\n",
    "        def list_2_str():\n",
    "            if len(str_list[-1]) == 1:\n",
    "                res[-1] = str_list[-1][0] + \" \" * (maxWidth - len(str_list[-1][0]))\n",
    "            else:\n",
    "                blank_num = (maxWidth - res[-1]) % (len(str_list[-1]) -1)\n",
    "                num = (int)((maxWidth - res[-1]) / (len(str_list[-1]) -1))\n",
    "                if blank_num == 0:\n",
    "                    res[-1] = (\" \" * num).join(str_list[-1])\n",
    "                else:\n",
    "                    res[-1] = (\" \" * (num + 1)).join(str_list[-1][:blank_num + 1]) + (\" \"*num) + (\" \"*num).join(str_list[-1][blank_num + 1:])\n",
    "        for w in words:\n",
    "            if len(w) > residue:\n",
    "                list_2_str()\n",
    "                str_list.append([])\n",
    "                res.append(0)\n",
    "                residue = maxWidth\n",
    "            str_list[-1].append(w)\n",
    "            res[-1] += len(w)\n",
    "            residue -= len(w) + 1\n",
    "        res[-1] = \" \".join(str_list[-1]) + \" \" * (maxWidth - len(str_list[-1]) + 1 - res[-1])\n",
    "        return res\n",
    "            \n",
    "                \n",
    "        "
   ]
  },
  {
   "cell_type": "code",
   "execution_count": 65,
   "metadata": {},
   "outputs": [
    {
     "data": {
      "text/plain": [
       "['Science  is  what we',\n",
       " 'understand      well',\n",
       " 'enough to explain to',\n",
       " 'a  computer.  Art is',\n",
       " 'everything  else  we',\n",
       " 'do                  ']"
      ]
     },
     "execution_count": 65,
     "metadata": {},
     "output_type": "execute_result"
    }
   ],
   "source": [
    "Solution().fullJustify([\"Science\",\"is\",\"what\",\"we\",\"understand\",\"well\",\"enough\",\"to\",\"explain\",\n",
    "         \"to\",\"a\",\"computer.\",\"Art\",\"is\",\"everything\",\"else\",\"we\",\"do\"], 20)"
   ]
  },
  {
   "cell_type": "code",
   "execution_count": 3,
   "metadata": {},
   "outputs": [
    {
     "data": {
      "text/plain": [
       "[1, 3]"
      ]
     },
     "execution_count": 3,
     "metadata": {},
     "output_type": "execute_result"
    }
   ],
   "source": [
    "[1,3,4][:-1]"
   ]
  },
  {
   "cell_type": "code",
   "execution_count": null,
   "metadata": {},
   "outputs": [],
   "source": []
  }
 ],
 "metadata": {
  "kernelspec": {
   "display_name": "Python 3",
   "language": "python",
   "name": "python3"
  },
  "language_info": {
   "codemirror_mode": {
    "name": "ipython",
    "version": 3
   },
   "file_extension": ".py",
   "mimetype": "text/x-python",
   "name": "python",
   "nbconvert_exporter": "python",
   "pygments_lexer": "ipython3",
   "version": "3.7.5"
  }
 },
 "nbformat": 4,
 "nbformat_minor": 4
}
