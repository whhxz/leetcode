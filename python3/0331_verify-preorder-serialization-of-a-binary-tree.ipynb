{
 "cells": [
  {
   "cell_type": "code",
   "execution_count": null,
   "metadata": {},
   "outputs": [],
   "source": [
    "class Solution:\n",
    "    def isValidSerialization(self, preorder: str) -> bool:\n",
    "        lp = preorder.split(\",\")\n",
    "        stack = []\n",
    "        i = 0\n",
    "        ll = len(lp)\n",
    "        while i < ll:\n",
    "            stack.append(lp[i])\n",
    "            while len(stack) > 2 and stack[-1] == stack[-2] == '#':\n",
    "                stack.pop()\n",
    "                stack[-1], stack[-2] = stack[-2], stack[-1]\n",
    "                stack.pop()\n",
    "            i += 1\n",
    "            if not stack or (len(stack) == 1 and stack[-1] == '#'):\n",
    "                break\n",
    "        return i == ll and len(stack) == 1 and stack[-1] == '#'"
   ]
  }
 ],
 "metadata": {
  "kernelspec": {
   "display_name": "Python 3",
   "language": "python",
   "name": "python3"
  },
  "language_info": {
   "codemirror_mode": {
    "name": "ipython",
    "version": 3
   },
   "file_extension": ".py",
   "mimetype": "text/x-python",
   "name": "python",
   "nbconvert_exporter": "python",
   "pygments_lexer": "ipython3",
   "version": "3.7.5"
  }
 },
 "nbformat": 4,
 "nbformat_minor": 4
}
