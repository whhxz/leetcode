{
 "cells": [
  {
   "cell_type": "code",
   "execution_count": 139,
   "metadata": {},
   "outputs": [],
   "source": [
    "class Solution:\n",
    "    #fn = fn(n-1)+fn(n-1)需要注意边界条件\n",
    "    def numDecodings(self, s: str) -> int:\n",
    "        if s[0] == '0':\n",
    "            return 0\n",
    "        base = [str(i+1) for i in range(26)]\n",
    "        bb = 1\n",
    "        b = 1\n",
    "        for i in range(1, len(s)):\n",
    "            if s[i] in base and s[i-1:i+1] in base:\n",
    "                bb,b = b,b+bb\n",
    "            elif s[i] in base:\n",
    "                bb = b\n",
    "            elif s[i-1:i+1] in base:\n",
    "                bb,b = b,bb\n",
    "            else:\n",
    "                b = 0\n",
    "                break\n",
    "        return b\n",
    "        \n",
    "        "
   ]
  },
  {
   "cell_type": "code",
   "execution_count": 140,
   "metadata": {},
   "outputs": [
    {
     "data": {
      "text/plain": [
       "0"
      ]
     },
     "execution_count": 140,
     "metadata": {},
     "output_type": "execute_result"
    }
   ],
   "source": [
    "Solution().numDecodings('100')"
   ]
  },
  {
   "cell_type": "code",
   "execution_count": 134,
   "metadata": {},
   "outputs": [
    {
     "data": {
      "text/plain": [
       "'12'"
      ]
     },
     "execution_count": 134,
     "metadata": {},
     "output_type": "execute_result"
    }
   ],
   "source": [
    "\"123\"[:-1]"
   ]
  },
  {
   "cell_type": "code",
   "execution_count": null,
   "metadata": {},
   "outputs": [],
   "source": []
  }
 ],
 "metadata": {
  "kernelspec": {
   "display_name": "Python 3",
   "language": "python",
   "name": "python3"
  },
  "language_info": {
   "codemirror_mode": {
    "name": "ipython",
    "version": 3
   },
   "file_extension": ".py",
   "mimetype": "text/x-python",
   "name": "python",
   "nbconvert_exporter": "python",
   "pygments_lexer": "ipython3",
   "version": "3.7.5"
  }
 },
 "nbformat": 4,
 "nbformat_minor": 4
}
