{
 "cells": [
  {
   "cell_type": "code",
   "execution_count": null,
   "metadata": {},
   "outputs": [],
   "source": [
    "# Definition for a binary tree node.\n",
    "class TreeNode:\n",
    "    def __init__(self, x):\n",
    "        self.val = x\n",
    "        self.left = None\n",
    "        self.right = None\n",
    "\n",
    "\n",
    "class Solution:\n",
    "    def increasingBST(self, root: TreeNode) -> TreeNode:\n",
    "        if not root:\n",
    "            return root\n",
    "        tl = []\n",
    "\n",
    "        def helper(node: TreeNode):\n",
    "            if not node:\n",
    "                return\n",
    "            helper(node.left)\n",
    "            tl.append(node)\n",
    "            helper(node.right)\n",
    "\n",
    "        helper(root)\n",
    "        tl.append(None)\n",
    "        for i in range(len(tl) - 2):\n",
    "            tl[i].left = None\n",
    "            tl[i].right = tl[i + 1]\n",
    "        return tl[0]\n"
   ]
  }
 ],
 "metadata": {
  "kernelspec": {
   "display_name": "Python 3",
   "language": "python",
   "name": "python3"
  },
  "language_info": {
   "codemirror_mode": {
    "name": "ipython",
    "version": 3
   },
   "file_extension": ".py",
   "mimetype": "text/x-python",
   "name": "python",
   "nbconvert_exporter": "python",
   "pygments_lexer": "ipython3",
   "version": "3.7.5"
  }
 },
 "nbformat": 4,
 "nbformat_minor": 4
}
