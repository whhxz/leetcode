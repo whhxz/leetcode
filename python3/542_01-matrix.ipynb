{
 "cells": [
  {
   "cell_type": "code",
   "execution_count": 42,
   "metadata": {},
   "outputs": [],
   "source": [
    "class Solution:\n",
    "    def updateMatrix(self, matrix):\n",
    "        maxi = len(matrix)\n",
    "        maxj = len(matrix[0])\n",
    "        signs = [([0] * maxj) for i in range(maxi)]\n",
    "        arrs = []\n",
    "        for i,nums in enumerate(matrix):\n",
    "            for j,num in enumerate(nums):\n",
    "                if num == 0:\n",
    "                    signs[i][j] = 1\n",
    "                    if j - 1 >= 0 and matrix[i][j-1] == 1 and signs[i][j-1] != 1:\n",
    "                        signs[i][j-1] = 1\n",
    "                        arrs.append((i, j-1))\n",
    "                    if j + 1 < maxj and matrix[i][j+1] == 1 and signs[i][j+1] != 1:\n",
    "                        signs[i][j+1] = 1\n",
    "                        arrs.append((i, j+1))\n",
    "                    if i - 1 >= 0 and matrix[i-1][j] == 1 and signs[i-1][j] != 1:\n",
    "                        signs[i-1][j] = 1\n",
    "                        arrs.append((i-1, j))\n",
    "                    if i + 1 < maxi and matrix[i+1][j]==1 and signs[i+1][j] != 1:\n",
    "                        signs[i+1][j] = 1\n",
    "                        arrs.append((i+1, j))\n",
    "        n = 1\n",
    "        while arrs:\n",
    "            tmp = []\n",
    "            while arrs:\n",
    "                ns = arrs.pop()\n",
    "                i,j = ns[0],ns[1]\n",
    "                matrix[i][j] = n\n",
    "                if j - 1 >= 0 and matrix[i][j-1] == 1 and signs[i][j-1] != 1:\n",
    "                    signs[i][j-1] = 1\n",
    "                    tmp.append((i, j-1))\n",
    "                if j + 1 < maxj and matrix[i][j+1] == 1 and signs[i][j+1] != 1:\n",
    "                    signs[i][j+1] = 1\n",
    "                    tmp.append((i, j+1))\n",
    "                if i - 1 >= 0 and matrix[i-1][j] == 1 and signs[i-1][j] != 1:\n",
    "                    signs[i-1][j] = 1\n",
    "                    tmp.append((i-1, j))\n",
    "                if i + 1 < maxi and matrix[i+1][j]==1 and signs[i+1][j] != 1:\n",
    "                    signs[i+1][j] = 1\n",
    "                    tmp.append((i+1, j))      \n",
    "            arrs = tmp\n",
    "            n+=1\n",
    "                \n",
    "        return matrix\n",
    "        \n",
    "                    "
   ]
  },
  {
   "cell_type": "code",
   "execution_count": 44,
   "metadata": {},
   "outputs": [
    {
     "data": {
      "text/plain": [
       "[[0, 0, 0], [0, 1, 0], [1, 1, 1], [0, 0, 0]]"
      ]
     },
     "execution_count": 44,
     "metadata": {},
     "output_type": "execute_result"
    }
   ],
   "source": [
    "Solution().updateMatrix([[0,0,0],\n",
    "                         [0,1,0],\n",
    "                         [1,1,1],\n",
    "                        [0,0,0]])"
   ]
  },
  {
   "cell_type": "code",
   "execution_count": 13,
   "metadata": {},
   "outputs": [
    {
     "data": {
      "text/plain": [
       "[[0, 0, 0, 0, 0, 0, 0, 0, 0, 0, 0],\n",
       " [0, 0, 0, 0, 0, 0, 0, 0, 0, 0, 0],\n",
       " [0, 0, 0, 0, 0, 0, 0, 0, 0, 0, 0],\n",
       " [0, 0, 0, 0, 0, 0, 0, 0, 0, 0, 0],\n",
       " [0, 0, 0, 0, 0, 0, 0, 0, 0, 0, 0],\n",
       " [0, 0, 0, 0, 0, 0, 0, 0, 0, 0, 0],\n",
       " [0, 0, 0, 0, 0, 0, 0, 0, 0, 0, 0],\n",
       " [0, 0, 0, 0, 0, 0, 0, 0, 0, 0, 0],\n",
       " [0, 0, 0, 0, 0, 0, 0, 0, 0, 0, 0],\n",
       " [0, 0, 0, 0, 0, 0, 0, 0, 0, 0, 0],\n",
       " [0, 0, 0, 0, 0, 0, 0, 0, 0, 0, 0]]"
      ]
     },
     "execution_count": 13,
     "metadata": {},
     "output_type": "execute_result"
    }
   ],
   "source": [
    "[([0] * 11) for i in range(11)]"
   ]
  },
  {
   "cell_type": "code",
   "execution_count": null,
   "metadata": {},
   "outputs": [],
   "source": []
  }
 ],
 "metadata": {
  "kernelspec": {
   "display_name": "Python 3",
   "language": "python",
   "name": "python3"
  },
  "language_info": {
   "codemirror_mode": {
    "name": "ipython",
    "version": 3
   },
   "file_extension": ".py",
   "mimetype": "text/x-python",
   "name": "python",
   "nbconvert_exporter": "python",
   "pygments_lexer": "ipython3",
   "version": "3.7.0"
  }
 },
 "nbformat": 4,
 "nbformat_minor": 2
}
