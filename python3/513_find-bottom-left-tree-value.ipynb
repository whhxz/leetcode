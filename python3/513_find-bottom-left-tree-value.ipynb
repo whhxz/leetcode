{
 "cells": [
  {
   "cell_type": "code",
   "execution_count": 14,
   "metadata": {},
   "outputs": [],
   "source": [
    "# Definition for a binary tree node.\n",
    "class TreeNode:\n",
    "    def __init__(self, x):\n",
    "        self.val = x\n",
    "        self.left = None\n",
    "        self.right = None\n",
    "\n",
    "class Solution:\n",
    "    #较为简单，直接每个节点向下搜索\n",
    "    def findBottomLeftValue(self, root):\n",
    "        \"\"\"\n",
    "        :type root: TreeNode\n",
    "        :rtype: int\n",
    "        \"\"\"\n",
    "        #搜索节点\n",
    "        nodes = [root]\n",
    "        #临时使用节点用于存储下一份节点\n",
    "        tmps = []\n",
    "        left = root\n",
    "        while nodes:\n",
    "            #取节点第0个为最左边\n",
    "            left = nodes[0]\n",
    "            #遍历搜索节点\n",
    "            for node in nodes:\n",
    "                #向下搜索节点\n",
    "                if node.left:\n",
    "                    tmps.append(node.left)\n",
    "                if node.right:\n",
    "                    tmps.append(node.right)\n",
    "            #重新遍历下个节点\n",
    "            nodes, tmps = tmps, []\n",
    "        return left.val"
   ]
  },
  {
   "cell_type": "code",
   "execution_count": 15,
   "metadata": {},
   "outputs": [
    {
     "data": {
      "text/plain": [
       "1"
      ]
     },
     "execution_count": 15,
     "metadata": {},
     "output_type": "execute_result"
    }
   ],
   "source": [
    "t1 = TreeNode(2)\n",
    "t2 = TreeNode(1)\n",
    "t3 = TreeNode(3)\n",
    "t1.left = t2\n",
    "t1.right = t3\n",
    "Solution().findBottomLeftValue(t1)"
   ]
  },
  {
   "cell_type": "code",
   "execution_count": null,
   "metadata": {},
   "outputs": [],
   "source": []
  }
 ],
 "metadata": {
  "kernelspec": {
   "display_name": "Python 3",
   "language": "python",
   "name": "python3"
  },
  "language_info": {
   "codemirror_mode": {
    "name": "ipython",
    "version": 3
   },
   "file_extension": ".py",
   "mimetype": "text/x-python",
   "name": "python",
   "nbconvert_exporter": "python",
   "pygments_lexer": "ipython3",
   "version": "3.5.1"
  }
 },
 "nbformat": 4,
 "nbformat_minor": 2
}
