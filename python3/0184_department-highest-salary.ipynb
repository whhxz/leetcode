{
 "cells": [
  {
   "cell_type": "raw",
   "metadata": {},
   "source": [
    "select d.Name as Department, e1.Name as Employee, e1.Salary\n",
    "from Employee e1\n",
    "         inner join (select max(Salary) as Salary, DepartmentId from Employee group by DepartmentId) t\n",
    "                    on e1.Salary = t.Salary and e1.DepartmentId = t.DepartmentId inner join Department d\n",
    "on e1.DepartmentId = d.id"
   ]
  }
 ],
 "metadata": {
  "kernelspec": {
   "display_name": "Python 3",
   "language": "python",
   "name": "python3"
  },
  "language_info": {
   "codemirror_mode": {
    "name": "ipython",
    "version": 3
   },
   "file_extension": ".py",
   "mimetype": "text/x-python",
   "name": "python",
   "nbconvert_exporter": "python",
   "pygments_lexer": "ipython3",
   "version": "3.7.5"
  }
 },
 "nbformat": 4,
 "nbformat_minor": 4
}
