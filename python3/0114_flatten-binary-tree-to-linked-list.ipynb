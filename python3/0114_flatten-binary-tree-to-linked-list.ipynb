{
 "cells": [
  {
   "cell_type": "code",
   "execution_count": null,
   "metadata": {},
   "outputs": [],
   "source": [
    "# Definition for a binary tree node.\n",
    "class TreeNode:\n",
    "    def __init__(self, x):\n",
    "        self.val = x\n",
    "        self.left = None\n",
    "        self.right = None\n",
    "\n",
    "class Solution:\n",
    "    #遍历右节点，之后把左节点移接到右节点上\n",
    "    def flatten(self, root: TreeNode) -> None:\n",
    "        \"\"\"\n",
    "        Do not return anything, modify root in-place instead.\n",
    "        \"\"\"\n",
    "        def helper(node):\n",
    "            if not node:\n",
    "                return node\n",
    "            if node.right:\n",
    "                helper(node.right)\n",
    "            if node.left:\n",
    "                tmp = helper(node.left)\n",
    "                tmp_right = find_right(tmp)\n",
    "                if tmp_right:\n",
    "                    tmp_right.right = node.right\n",
    "                node.right = tmp\n",
    "                node.left = None\n",
    "            return node\n",
    "        def find_right(node):\n",
    "            if not node or not node.right:\n",
    "                return node\n",
    "            return find_right(node.right)\n",
    "        helper(root)\n",
    "        "
   ]
  }
 ],
 "metadata": {
  "kernelspec": {
   "display_name": "Python 3",
   "language": "python",
   "name": "python3"
  },
  "language_info": {
   "codemirror_mode": {
    "name": "ipython",
    "version": 3
   },
   "file_extension": ".py",
   "mimetype": "text/x-python",
   "name": "python",
   "nbconvert_exporter": "python",
   "pygments_lexer": "ipython3",
   "version": "3.7.5"
  }
 },
 "nbformat": 4,
 "nbformat_minor": 4
}
