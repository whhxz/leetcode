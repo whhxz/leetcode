{
 "cells": [
  {
   "cell_type": "code",
   "execution_count": 8,
   "metadata": {},
   "outputs": [],
   "source": [
    "class Solution:\n",
    "    def wordPattern(self, pattern: str, str: str) -> bool:\n",
    "        sl1 = list(pattern)\n",
    "        sl2 = str.split(' ')\n",
    "        if len(sl1) != len(sl2):\n",
    "            return False\n",
    "        sdict = {}\n",
    "        for i,c in enumerate(sl1):\n",
    "            if c not in sdict:\n",
    "                sdict[c] = sl2[i]\n",
    "            elif sdict[c] != sl2[i]:\n",
    "                return False\n",
    "        sdict = {}\n",
    "        for i,c in enumerate(sl2):\n",
    "            if c not in sdict:\n",
    "                sdict[c] = sl1[i]\n",
    "            elif sdict[c] != sl1[i]:\n",
    "                return False\n",
    "        return True\n",
    "                \n",
    "        "
   ]
  },
  {
   "cell_type": "code",
   "execution_count": 9,
   "metadata": {},
   "outputs": [
    {
     "data": {
      "text/plain": [
       "False"
      ]
     },
     "execution_count": 9,
     "metadata": {},
     "output_type": "execute_result"
    }
   ],
   "source": [
    "Solution().wordPattern(\"abba\"\n",
    ",\"dog dog dog dog\")"
   ]
  },
  {
   "cell_type": "code",
   "execution_count": null,
   "metadata": {},
   "outputs": [],
   "source": []
  }
 ],
 "metadata": {
  "kernelspec": {
   "display_name": "Python 3",
   "language": "python",
   "name": "python3"
  },
  "language_info": {
   "codemirror_mode": {
    "name": "ipython",
    "version": 3
   },
   "file_extension": ".py",
   "mimetype": "text/x-python",
   "name": "python",
   "nbconvert_exporter": "python",
   "pygments_lexer": "ipython3",
   "version": "3.7.5"
  }
 },
 "nbformat": 4,
 "nbformat_minor": 4
}
