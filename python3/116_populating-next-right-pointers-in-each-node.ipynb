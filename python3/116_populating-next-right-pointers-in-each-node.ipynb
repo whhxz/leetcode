{
 "cells": [
  {
   "cell_type": "code",
   "execution_count": null,
   "metadata": {},
   "outputs": [],
   "source": [
    "# Definition for binary tree with next pointer.\n",
    "# class TreeLinkNode:\n",
    "#     def __init__(self, x):\n",
    "#         self.val = x\n",
    "#         self.left = None\n",
    "#         self.right = None\n",
    "#         self.next = None\n",
    "\n",
    "class Solution:\n",
    "    # @param root, a tree link node\n",
    "    # @return nothing\n",
    "    def connect(self, root):\n",
    "        def recursive(node):\n",
    "            if not node or not node.left:\n",
    "                return\n",
    "            node.left.next = node.right\n",
    "            node.right.next = node.next.left if node.next else None\n",
    "            recursive(node.left)\n",
    "            recursive(node.right)\n",
    "        recursive(root)\n",
    "            "
   ]
  }
 ],
 "metadata": {
  "kernelspec": {
   "display_name": "Python 3",
   "language": "python",
   "name": "python3"
  },
  "language_info": {
   "codemirror_mode": {
    "name": "ipython",
    "version": 3
   },
   "file_extension": ".py",
   "mimetype": "text/x-python",
   "name": "python",
   "nbconvert_exporter": "python",
   "pygments_lexer": "ipython3",
   "version": "3.5.1"
  }
 },
 "nbformat": 4,
 "nbformat_minor": 2
}
