{
 "cells": [
  {
   "cell_type": "code",
   "execution_count": 2,
   "metadata": {},
   "outputs": [],
   "source": [
    "# Definition for singly-linked list.\n",
    "# class ListNode:\n",
    "#     def __init__(self, x):\n",
    "#         self.val = x\n",
    "#         self.next = None\n",
    "\n",
    "class Solution:\n",
    "    #如果是从后向前合并，在python中超时在java可以，但是较慢\n",
    "    #通过二分法合并，类似并归排序的合并\n",
    "    def mergeKLists(self, lists):\n",
    "        \"\"\"\n",
    "        :type lists: List[ListNode]\n",
    "        :rtype: ListNode\n",
    "        \"\"\"\n",
    "        if len(lists) == 0:\n",
    "            return None\n",
    "        if len(lists) == 1:\n",
    "            return lists[0]\n",
    "        #拆分数组\n",
    "        mid = len(lists) >> 1\n",
    "        left = self.mergeKLists(lists[:mid])\n",
    "        right = self.mergeKLists(lists[mid:])\n",
    "        if left is None:\n",
    "            return right\n",
    "        if right is None:\n",
    "            return left\n",
    "        #合并链表\n",
    "        if left.val > right.val:\n",
    "            left,right = right,left\n",
    "        head = left\n",
    "        left = left.next\n",
    "        node = head\n",
    "        \n",
    "        while left != None and right != None:\n",
    "            tmp = None\n",
    "            if left.val <= right.val:\n",
    "                tmp = left\n",
    "                left = left.next\n",
    "            else:\n",
    "                tmp = right\n",
    "                right = right.next\n",
    "            node.next = tmp\n",
    "            node = tmp\n",
    "        if left is None:\n",
    "            node.next = right\n",
    "        if right is None:\n",
    "            node.next = left\n",
    "        return head\n",
    "                "
   ]
  },
  {
   "cell_type": "code",
   "execution_count": null,
   "metadata": {},
   "outputs": [],
   "source": []
  }
 ],
 "metadata": {
  "kernelspec": {
   "display_name": "Python 3",
   "language": "python",
   "name": "python3"
  },
  "language_info": {
   "codemirror_mode": {
    "name": "ipython",
    "version": 3
   },
   "file_extension": ".py",
   "mimetype": "text/x-python",
   "name": "python",
   "nbconvert_exporter": "python",
   "pygments_lexer": "ipython3",
   "version": "3.5.1"
  }
 },
 "nbformat": 4,
 "nbformat_minor": 2
}
