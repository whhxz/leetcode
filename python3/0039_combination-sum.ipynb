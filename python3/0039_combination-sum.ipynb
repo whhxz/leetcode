{
 "cells": [
  {
   "cell_type": "code",
   "execution_count": 41,
   "metadata": {},
   "outputs": [],
   "source": [
    "from typing import List\n",
    "class Solution:\n",
    "    #思路，通过目标值减去数组中的值，剩余的值在继续减去数组中的值，直到值为0\n",
    "    #需要注意的是，递归退出时间\n",
    "    def combinationSum(self, candidates: List[int], target: int) -> List[List[int]]:\n",
    "        res = []\n",
    "        candidates.sort() #排序后可以加速\n",
    "        def helper(r, num, nums):\n",
    "            if num == 0:\n",
    "                res.append(nums)\n",
    "            if r < 0 or num <0:\n",
    "                return\n",
    "            for i in range(r + 1):\n",
    "                if candidates[i] > num:#因为已经排序，如果大于值，那么不需要后续操作了\n",
    "                    break\n",
    "                helper(i, num - candidates[i], [candidates[i]] + nums)\n",
    "        helper(len(candidates)-1, target, [])\n",
    "        return res\n"
   ]
  },
  {
   "cell_type": "code",
   "execution_count": 42,
   "metadata": {},
   "outputs": [
    {
     "data": {
      "text/plain": [
       "[[2, 2, 2, 2], [2, 3, 3], [3, 5]]"
      ]
     },
     "execution_count": 42,
     "metadata": {},
     "output_type": "execute_result"
    }
   ],
   "source": [
    "Solution().combinationSum([2,3,5], 8)"
   ]
  },
  {
   "cell_type": "code",
   "execution_count": null,
   "metadata": {},
   "outputs": [],
   "source": []
  }
 ],
 "metadata": {
  "kernelspec": {
   "display_name": "Python 3",
   "language": "python",
   "name": "python3"
  },
  "language_info": {
   "codemirror_mode": {
    "name": "ipython",
    "version": 3
   },
   "file_extension": ".py",
   "mimetype": "text/x-python",
   "name": "python",
   "nbconvert_exporter": "python",
   "pygments_lexer": "ipython3",
   "version": "3.7.5"
  }
 },
 "nbformat": 4,
 "nbformat_minor": 4
}
