{
 "cells": [
  {
   "cell_type": "code",
   "execution_count": null,
   "metadata": {},
   "outputs": [],
   "source": [
    "from typing import List\n",
    "\n",
    "\n",
    "class Solution:\n",
    "    def minSetSize(self, arr: List[int]) -> int:\n",
    "        d = dict()\n",
    "        for n in arr:\n",
    "            d.setdefault(n, 0)\n",
    "            d[n] += 1\n",
    "        vl = list(d.values())\n",
    "        vl.sort(reverse=True)\n",
    "        res = 0\n",
    "        half = len(arr) // 2 if len(arr) % 2 == 0 else len(arr) // 2 + 1\n",
    "        for i, num in enumerate(vl):\n",
    "            res += num\n",
    "            if res >= half:\n",
    "                return i + 1\n",
    "        return res\n"
   ]
  }
 ],
 "metadata": {
  "kernelspec": {
   "display_name": "Python 3",
   "language": "python",
   "name": "python3"
  },
  "language_info": {
   "codemirror_mode": {
    "name": "ipython",
    "version": 3
   },
   "file_extension": ".py",
   "mimetype": "text/x-python",
   "name": "python",
   "nbconvert_exporter": "python",
   "pygments_lexer": "ipython3",
   "version": "3.7.5"
  }
 },
 "nbformat": 4,
 "nbformat_minor": 4
}
