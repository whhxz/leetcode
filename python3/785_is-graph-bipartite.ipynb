{
 "cells": [
  {
   "cell_type": "code",
   "execution_count": 56,
   "metadata": {},
   "outputs": [],
   "source": [
    "class Solution:\n",
    "    #使用深度搜索，深度为奇数放入一个set中，深度为偶数放入set中\n",
    "    #在遍历连接的节点，如果连接的节点和当前节点在一个set中返回false，如果不在放入另外一个set钟\n",
    "    def isBipartite(self, graph):\n",
    "        \"\"\"\n",
    "        :type graph: List[List[int]]\n",
    "        :rtype: bool\n",
    "        \"\"\"\n",
    "        sign = [0] * len(graph)\n",
    "        #奇偶set\n",
    "        singles = set()\n",
    "        doubles = set()\n",
    "        def dfs(i, depth):\n",
    "            #如果节点已经走过，那么直接返回\n",
    "            if sign[i] == 1:\n",
    "                return True\n",
    "            sign[i] = 1\n",
    "            #计算深度\n",
    "            surplus = depth % 2\n",
    "            #判断当前节点是否不在其应该所在的奇偶set\n",
    "            if (surplus == 0 and i in singles) or (surplus == 1 and i in doubles):\n",
    "                return False\n",
    "            #把节点放入定义的set\n",
    "            if surplus == 0:\n",
    "                doubles.add(i)\n",
    "            else:\n",
    "                singles.add(i)\n",
    "            nums = graph[i]\n",
    "            #遍历连接节点\n",
    "            for n in nums:\n",
    "                #判断连接的节点是否和当前节点在一个set如在一个set中返回false\n",
    "                if surplus == 0:\n",
    "                    if n in doubles:\n",
    "                        return False\n",
    "                    else:\n",
    "                        singles.add(n)\n",
    "                        if not dfs(n, depth + 1):\n",
    "                            return False\n",
    "                else:\n",
    "                    if n in singles:\n",
    "                        return False\n",
    "                    else:\n",
    "                        doubles.add(n)\n",
    "                        if not dfs(n, depth + 1):\n",
    "                            return False\n",
    "            return True\n",
    "        #因为可能所有节点并不全部相连，需要全部遍历，其实直接遍历更好\n",
    "        res = True\n",
    "        for i,n in enumerate(sign):\n",
    "            if n == 0:\n",
    "                res = dfs(i, 0)\n",
    "            if not res:\n",
    "                break\n",
    "        return res\n",
    "    #leetcode-cn中最优解这个是错的，如果参数使用[[1],[0,3],[3],[1,2]]就会出错\n",
    "    def isBipartite1(self, graph):\n",
    "        a = set()\n",
    "        b = set()\n",
    "        for i, ns in enumerate(graph):\n",
    "            curr = a\n",
    "            other = b\n",
    "            if i in other:\n",
    "                curr = b\n",
    "                other = a\n",
    "            curr.add(i)\n",
    "            for n in ns:\n",
    "                if n in curr:\n",
    "                    return False\n",
    "                other.add(n)\n",
    "        return True    "
   ]
  },
  {
   "cell_type": "code",
   "execution_count": 57,
   "metadata": {},
   "outputs": [
    {
     "data": {
      "text/plain": [
       "False"
      ]
     },
     "execution_count": 57,
     "metadata": {},
     "output_type": "execute_result"
    }
   ],
   "source": [
    "num1 = [[1,3], [0,2], [1,3], [0,2]]\n",
    "num2 = [[1,2,3], [0,2], [0,1,3], [0,2]]\n",
    "num3 = [[],[2,4,6],[1,4,8,9],[7,8],[1,2,8,9],[6,9],[1,5,7,8,9],[3,6,9],[2,3,4,6,9],[2,4,5,6,7,8]]\n",
    "num4 = [[1],[0,3],[3],[1,2]]\n",
    "Solution().isBipartite1(num4)"
   ]
  },
  {
   "cell_type": "code",
   "execution_count": null,
   "metadata": {},
   "outputs": [],
   "source": []
  }
 ],
 "metadata": {
  "kernelspec": {
   "display_name": "Python 3",
   "language": "python",
   "name": "python3"
  },
  "language_info": {
   "codemirror_mode": {
    "name": "ipython",
    "version": 3
   },
   "file_extension": ".py",
   "mimetype": "text/x-python",
   "name": "python",
   "nbconvert_exporter": "python",
   "pygments_lexer": "ipython3",
   "version": "3.5.1"
  }
 },
 "nbformat": 4,
 "nbformat_minor": 2
}
