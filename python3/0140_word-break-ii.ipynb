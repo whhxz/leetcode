{
 "cells": [
  {
   "cell_type": "code",
   "execution_count": 27,
   "metadata": {},
   "outputs": [],
   "source": [
    "from typing import List\n",
    "from typing import Set\n",
    "class Solution:\n",
    "    #切分字符串左右部分，如果右边在字典里面，递归拆解左边部分，缓存已经处理过的角标\n",
    "    def wordBreak(self, s: str, wordDict: List[str]) -> List[str]:\n",
    "        return self.wordBreakSet(s, set(wordDict), {})\n",
    "    def wordBreakSet(self, s:str, wordDict: Set[str], indexDict) -> List[str]:\n",
    "        if s == \"\":\n",
    "            return [\"\"]\n",
    "        res = []\n",
    "        for i in range(0, len(s)):\n",
    "            left = s[:i]\n",
    "            rigth = s[i:]\n",
    "            if rigth in wordDict:\n",
    "                if i not in indexDict:\n",
    "                    indexDict[i] = self.wordBreakSet(left, wordDict, indexDict)\n",
    "                for t in indexDict[i]:\n",
    "                    if t == \"\":\n",
    "                        res.append(rigth)\n",
    "                    else:\n",
    "                        res.append(t + \" \" + rigth)\n",
    "        return res\n",
    "                "
   ]
  },
  {
   "cell_type": "code",
   "execution_count": 30,
   "metadata": {},
   "outputs": [
    {
     "data": {
      "text/plain": [
       "[]"
      ]
     },
     "execution_count": 30,
     "metadata": {},
     "output_type": "execute_result"
    }
   ],
   "source": [
    "Solution().wordBreak(\"catsandog\",[\"cats\", \"dog\", \"sand\", \"and\", \"cat\"])"
   ]
  },
  {
   "cell_type": "code",
   "execution_count": null,
   "metadata": {},
   "outputs": [],
   "source": []
  }
 ],
 "metadata": {
  "kernelspec": {
   "display_name": "Python 3",
   "language": "python",
   "name": "python3"
  },
  "language_info": {
   "codemirror_mode": {
    "name": "ipython",
    "version": 3
   },
   "file_extension": ".py",
   "mimetype": "text/x-python",
   "name": "python",
   "nbconvert_exporter": "python",
   "pygments_lexer": "ipython3",
   "version": "3.7.0"
  }
 },
 "nbformat": 4,
 "nbformat_minor": 2
}
