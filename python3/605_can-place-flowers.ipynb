{
 "cells": [
  {
   "cell_type": "code",
   "execution_count": 1,
   "metadata": {},
   "outputs": [],
   "source": [
    "class Solution(object):\n",
    "    #遍历数组，统计总共可以种植数\n",
    "    def canPlaceFlowers(self, flowerbed, n):\n",
    "        \"\"\"\n",
    "        :type flowerbed: List[int]\n",
    "        :type n: int\n",
    "        :rtype: bool\n",
    "        \"\"\"\n",
    "        #为1的时候直接处理\n",
    "        if len(flowerbed) == 1:\n",
    "            return flowerbed[0] * n == 0\n",
    "        #遍历数组用\n",
    "        start = 0\n",
    "        end = len(flowerbed) - 1\n",
    "        #总共可以种植数\n",
    "        total = 0\n",
    "        while start <= end:\n",
    "            #如果当前值为0，如果可以种植，每次步进2\n",
    "            if flowerbed[start] == 0:\n",
    "                #如果第一个只需要判断后面是否为0\n",
    "                if start == 0 and flowerbed[start + 1] == 0:\n",
    "                    total += 1\n",
    "                    start += 1\n",
    "                #如果为最后一个只需要判断前面是否为0\n",
    "                elif start == end and flowerbed[start - 1] == 0:\n",
    "                    total += 1\n",
    "                    start += 1\n",
    "                #如果为中间，需要判断前后是否为0\n",
    "                elif flowerbed[start -1] == 0 and flowerbed[start + 1] == 0:\n",
    "                    total += 1\n",
    "                    start += 1\n",
    "            #如果已经满足了直接返回\n",
    "            if total >= n:\n",
    "                return True\n",
    "            start += 1\n",
    "        return False\n",
    "                        \n",
    "            "
   ]
  },
  {
   "cell_type": "code",
   "execution_count": 14,
   "metadata": {},
   "outputs": [
    {
     "data": {
      "text/plain": [
       "True"
      ]
     },
     "execution_count": 14,
     "metadata": {},
     "output_type": "execute_result"
    }
   ],
   "source": [
    "Solution().canPlaceFlowers([0,0,0,1,0,0], 2)"
   ]
  },
  {
   "cell_type": "code",
   "execution_count": null,
   "metadata": {},
   "outputs": [],
   "source": []
  }
 ],
 "metadata": {
  "kernelspec": {
   "display_name": "Python 3",
   "language": "python",
   "name": "python3"
  },
  "language_info": {
   "codemirror_mode": {
    "name": "ipython",
    "version": 3
   },
   "file_extension": ".py",
   "mimetype": "text/x-python",
   "name": "python",
   "nbconvert_exporter": "python",
   "pygments_lexer": "ipython3",
   "version": "3.5.1"
  }
 },
 "nbformat": 4,
 "nbformat_minor": 2
}
