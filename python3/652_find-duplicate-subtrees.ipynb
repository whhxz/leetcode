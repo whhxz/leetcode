{
 "cells": [
  {
   "cell_type": "code",
   "execution_count": 63,
   "metadata": {},
   "outputs": [],
   "source": [
    "from typing import List\n",
    "# Definition for a binary tree node.\n",
    "class TreeNode:\n",
    "    def __init__(self, x):\n",
    "        self.val = x\n",
    "        self.left = None\n",
    "        self.right = None\n",
    "\n",
    "class Solution:\n",
    "    #通过后序遍历存储每个节点的路径。判断路径是否重复\n",
    "    #空节点需要通过#标识避免重复\n",
    "    def findDuplicateSubtrees(self, root: TreeNode) -> List[TreeNode]:\n",
    "        if not root:\n",
    "            return []\n",
    "        dic = {}\n",
    "        res = set()\n",
    "        def middle(node):\n",
    "            if node == None:\n",
    "                return \"#\"\n",
    "            path = middle(node.left) + middle(node.right) + str(node.val)\n",
    "            if path in dic:\n",
    "                if dic[path] not in res:\n",
    "                    res.add(dic[path])\n",
    "            else:\n",
    "                dic[path] = node\n",
    "            return path\n",
    "        middle(root)\n",
    "        return list(res)\n",
    "            \n",
    "        "
   ]
  },
  {
   "cell_type": "code",
   "execution_count": 64,
   "metadata": {},
   "outputs": [
    {
     "data": {
      "text/plain": [
       "[<__main__.TreeNode at 0x1098dc588>, <__main__.TreeNode at 0x1098dc358>]"
      ]
     },
     "execution_count": 64,
     "metadata": {},
     "output_type": "execute_result"
    }
   ],
   "source": [
    "t1 = TreeNode(1)\n",
    "t2 = TreeNode(2)\n",
    "t3 = TreeNode(3)\n",
    "t4= TreeNode(4)\n",
    "t5= TreeNode(2)\n",
    "t6= TreeNode(4)\n",
    "t7= TreeNode(4)\n",
    "\n",
    "t1.left = t2\n",
    "t1.right = t3\n",
    "t2.left = t4\n",
    "t3.left=t5\n",
    "t3.right=t6\n",
    "t5.left=t4\n",
    "\n",
    "Solution().findDuplicateSubtrees(t1)\n"
   ]
  },
  {
   "cell_type": "code",
   "execution_count": 27,
   "metadata": {},
   "outputs": [
    {
     "data": {
      "text/plain": [
       "True"
      ]
     },
     "execution_count": 27,
     "metadata": {},
     "output_type": "execute_result"
    }
   ],
   "source": [
    "[1,2,3] == [1,2,3]"
   ]
  },
  {
   "cell_type": "code",
   "execution_count": null,
   "metadata": {},
   "outputs": [],
   "source": []
  }
 ],
 "metadata": {
  "kernelspec": {
   "display_name": "Python 3",
   "language": "python",
   "name": "python3"
  },
  "language_info": {
   "codemirror_mode": {
    "name": "ipython",
    "version": 3
   },
   "file_extension": ".py",
   "mimetype": "text/x-python",
   "name": "python",
   "nbconvert_exporter": "python",
   "pygments_lexer": "ipython3",
   "version": "3.7.0"
  }
 },
 "nbformat": 4,
 "nbformat_minor": 2
}
