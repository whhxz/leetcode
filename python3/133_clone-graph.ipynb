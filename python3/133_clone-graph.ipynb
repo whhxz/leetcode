{
 "cells": [
  {
   "cell_type": "code",
   "execution_count": null,
   "metadata": {},
   "outputs": [],
   "source": [
    "# Definition for a undirected graph node\n",
    "# class UndirectedGraphNode:\n",
    "#     def __init__(self, x):\n",
    "#         self.label = x\n",
    "#         self.neighbors = []\n",
    "\n",
    "class Solution:\n",
    "    # @param node, a undirected graph node\n",
    "    # @return a undirected graph node\n",
    "    #居然速度第一\n",
    "    def cloneGraph(self, node):\n",
    "        if node is None:\n",
    "            return None\n",
    "        res = UndirectedGraphNode(node.label)\n",
    "        all_dict = {node.label: res}\n",
    "        def auxiliary(new, old):\n",
    "            if old is None:\n",
    "                return\n",
    "            for n in old.neighbors:\n",
    "                if n.label not in all_dict:\n",
    "                    n1 = UndirectedGraphNode(n.label)\n",
    "                    all_dict[n.label] = n1\n",
    "                    new.neighbors.append(n1)\n",
    "                    auxiliary(n1, n)\n",
    "                else:\n",
    "                    new.neighbors.append(all_dict[n.label])\n",
    "        auxiliary(res, node)\n",
    "        return res\n",
    "            "
   ]
  }
 ],
 "metadata": {
  "kernelspec": {
   "display_name": "Python 3",
   "language": "python",
   "name": "python3"
  },
  "language_info": {
   "codemirror_mode": {
    "name": "ipython",
    "version": 3
   },
   "file_extension": ".py",
   "mimetype": "text/x-python",
   "name": "python",
   "nbconvert_exporter": "python",
   "pygments_lexer": "ipython3",
   "version": "3.5.1"
  }
 },
 "nbformat": 4,
 "nbformat_minor": 2
}
