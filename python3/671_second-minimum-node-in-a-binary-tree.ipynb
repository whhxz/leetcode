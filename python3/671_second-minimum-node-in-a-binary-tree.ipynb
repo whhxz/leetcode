{
 "cells": [
  {
   "cell_type": "code",
   "execution_count": null,
   "metadata": {},
   "outputs": [],
   "source": [
    "# Definition for a binary tree node.\n",
    "# class TreeNode:\n",
    "#     def __init__(self, x):\n",
    "#         self.val = x\n",
    "#         self.left = None\n",
    "#         self.right = None\n",
    "\n",
    "class Solution:\n",
    "    def findSecondMinimumValue(self, root: TreeNode) -> int:\n",
    "        if not root or (not root.left and not root.right):\n",
    "            return -1\n",
    "        left = root.left.val\n",
    "        right = root.right.val\n",
    "        if left == root.val:\n",
    "            left = self.findSecondMinimumValue(root.left)\n",
    "        if right == root.val:\n",
    "            right = self.findSecondMinimumValue(root.right)\n",
    "        if left != -1 and right != -1:\n",
    "            return min(left,right)\n",
    "        if left == -1:\n",
    "            return right\n",
    "        return left\n"
   ]
  }
 ],
 "metadata": {
  "kernelspec": {
   "display_name": "Python 3",
   "language": "python",
   "name": "python3"
  },
  "language_info": {
   "codemirror_mode": {
    "name": "ipython",
    "version": 3
   },
   "file_extension": ".py",
   "mimetype": "text/x-python",
   "name": "python",
   "nbconvert_exporter": "python",
   "pygments_lexer": "ipython3",
   "version": "3.7.5"
  }
 },
 "nbformat": 4,
 "nbformat_minor": 4
}
