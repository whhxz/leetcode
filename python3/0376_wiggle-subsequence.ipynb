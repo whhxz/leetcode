{
 "cells": [
  {
   "cell_type": "code",
   "execution_count": null,
   "metadata": {},
   "outputs": [],
   "source": [
    "from typing import List\n",
    "\n",
    "\n",
    "class Solution:\n",
    "    def wiggleMaxLength(self, nums: List[int]) -> int:\n",
    "        if len(nums) <= 1:\n",
    "            return len(nums)\n",
    "        tl = [nums[0]]\n",
    "        res = 0\n",
    "        for i in range(1, len(nums)):\n",
    "            n = nums[i]\n",
    "            if n == tl[-1]:\n",
    "                continue\n",
    "            if len(tl) == 1:\n",
    "                tl.append(n)\n",
    "            if tl[1] > tl[0]:\n",
    "                if n >= tl[1]:\n",
    "                    tl.pop()\n",
    "                    tl.append(n)\n",
    "                else:\n",
    "                    tl[0] = tl[1]\n",
    "                    tl.pop()\n",
    "                    tl.append(n)\n",
    "                    res +=1\n",
    "            else:\n",
    "                if n <= tl[1]:\n",
    "                    tl.pop()\n",
    "                    tl.append(n)\n",
    "                else:\n",
    "                    tl[0] = tl[1]\n",
    "                    tl.pop()\n",
    "                    tl.append(n)\n",
    "                    res += 1\n",
    "        return res + len(tl)"
   ]
  }
 ],
 "metadata": {
  "kernelspec": {
   "display_name": "Python 3",
   "language": "python",
   "name": "python3"
  },
  "language_info": {
   "codemirror_mode": {
    "name": "ipython",
    "version": 3
   },
   "file_extension": ".py",
   "mimetype": "text/x-python",
   "name": "python",
   "nbconvert_exporter": "python",
   "pygments_lexer": "ipython3",
   "version": "3.7.5"
  }
 },
 "nbformat": 4,
 "nbformat_minor": 4
}
