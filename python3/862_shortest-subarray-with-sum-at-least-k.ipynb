{
 "cells": [
  {
   "cell_type": "code",
   "execution_count": 115,
   "metadata": {},
   "outputs": [],
   "source": [
    "class Solution:\n",
    "    #解题思路  P(y) - P(x) >= K ,P(y)表示0~y之间的和，寻找y-x的最小值\n",
    "    #1、如果 x2 > x1 A[x2] <= A[x1] 那么P(x2) <= P(x1); P(y) - P(x2) > P(y) - P(x1) 且 y-x2 < y-x1 这种情况下x1就无用\n",
    "    #2、如果 y2 > y1 y2-x和y1-x都满足条件，那么y2-x > y1-x 这样的话，x其实并没有用\n",
    "    def shortestSubarray(self, A, K):\n",
    "        \"\"\"\n",
    "        :type A: List[int]\n",
    "        :type K: int\n",
    "        :rtype: int\n",
    "        \"\"\"\n",
    "        res = -1\n",
    "        #存储数据，计算0~i之间的和\n",
    "        sm = [0]\n",
    "        for i,n in enumerate(A):\n",
    "            sm.append(n + sm[-1])\n",
    "        qm = []\n",
    "        for i,n in enumerate(sm):\n",
    "            #如果当前的值小于上一个的值，那么上一个的值就并没有什么作用了，因为后面的值减去当前值永远小于减去上一个值\n",
    "            while qm and n <= sm[qm[-1]]:\n",
    "                qm.pop()\n",
    "            #如果当前值满足条件，那么如果出现下一个值和0位满足条件，永远当前值是最小值，所有满足条件后，0位无用了\n",
    "            while qm and n - sm[qm[0]] >= K:\n",
    "                left = qm.pop(0)\n",
    "                if res == -1 or i - left < res:\n",
    "                    res = i - left\n",
    "            qm.append(i)\n",
    "        return res\n",
    "                    "
   ]
  },
  {
   "cell_type": "code",
   "execution_count": 116,
   "metadata": {},
   "outputs": [
    {
     "data": {
      "text/plain": [
       "1"
      ]
     },
     "execution_count": 116,
     "metadata": {},
     "output_type": "execute_result"
    }
   ],
   "source": [
    "Solution().shortestSubarray([1],1)"
   ]
  },
  {
   "cell_type": "code",
   "execution_count": 111,
   "metadata": {},
   "outputs": [],
   "source": [
    "class Solution(object):\n",
    "    def shortestSubarray(self, A, K):\n",
    "        N = len(A)\n",
    "        P = [0]\n",
    "        for x in A:\n",
    "            P.append(P[-1] + x)\n",
    "\n",
    "        #Want smallest y-x with Py - Px >= K\n",
    "        ans = N+1 # N+1 is impossible\n",
    "        import collections\n",
    "        monoq = collections.deque() #opt(y) candidates, represented as indices of P\n",
    "        for y, Py in enumerate(P):\n",
    "            #Want opt(y) = largest x with Px <= Py - K\n",
    "            while monoq and Py <= P[monoq[-1]]:\n",
    "                monoq.pop()\n",
    "\n",
    "            while monoq and Py - P[monoq[0]] >= K:\n",
    "                print(y, monoq)\n",
    "                ans = min(ans, y - monoq.popleft())\n",
    "\n",
    "            monoq.append(y)\n",
    "\n",
    "        return ans if ans < N+1 else -1"
   ]
  },
  {
   "cell_type": "code",
   "execution_count": 112,
   "metadata": {},
   "outputs": [
    {
     "name": "stdout",
     "output_type": "stream",
     "text": [
      "1 deque([0])\n"
     ]
    },
    {
     "data": {
      "text/plain": [
       "1"
      ]
     },
     "execution_count": 112,
     "metadata": {},
     "output_type": "execute_result"
    }
   ],
   "source": [
    "Solution().shortestSubarray([1],1)"
   ]
  },
  {
   "cell_type": "code",
   "execution_count": null,
   "metadata": {},
   "outputs": [],
   "source": []
  }
 ],
 "metadata": {
  "kernelspec": {
   "display_name": "Python 3",
   "language": "python",
   "name": "python3"
  },
  "language_info": {
   "codemirror_mode": {
    "name": "ipython",
    "version": 3
   },
   "file_extension": ".py",
   "mimetype": "text/x-python",
   "name": "python",
   "nbconvert_exporter": "python",
   "pygments_lexer": "ipython3",
   "version": "3.5.1"
  }
 },
 "nbformat": 4,
 "nbformat_minor": 2
}
