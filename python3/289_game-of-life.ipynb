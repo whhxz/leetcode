{
 "cells": [
  {
   "cell_type": "code",
   "execution_count": 32,
   "metadata": {},
   "outputs": [],
   "source": [
    "class Solution:\n",
    "    #递归，递归完毕后修改值\n",
    "    def gameOfLife(self, board):\n",
    "        \"\"\"\n",
    "        :type board: List[List[int]]\n",
    "        :rtype: void Do not return anything, modify board in-place instead.\n",
    "        \"\"\"\n",
    "        maxi = len(board)\n",
    "        if maxi == 0:\n",
    "            return\n",
    "        maxj = len(board[0])\n",
    "        def game(i, j):\n",
    "            if i == maxi:\n",
    "                return\n",
    "            if j == maxj:\n",
    "                game(i + 1, 0)\n",
    "            else:\n",
    "                curr = board[i][j]\n",
    "                life = 0\n",
    "    #             time = 0\n",
    "                if i - 1 >= 0:\n",
    "                    life += board[i - 1][j]\n",
    "    #                 time += 1\n",
    "                if i + 1 < maxi:\n",
    "                    life += board[i+1][j]\n",
    "    #                 time += 1\n",
    "                if j - 1 >= 0:\n",
    "                    life += board[i][j-1]\n",
    "    #                 time += 1\n",
    "                if j+ 1 < maxj:\n",
    "                    life += board[i][j+1]\n",
    "    #                 time += 1\n",
    "                if i - 1 >=0 and j - 1 >=0:\n",
    "                    life += board[i-1][j-1]\n",
    "    #                 time += 1\n",
    "                if i - 1 >=0 and j + 1 < maxj:\n",
    "                    life += board[i-1][j+1]\n",
    "    #                 time += 1\n",
    "                if i + 1 <maxi and j + 1 < maxj:\n",
    "                    life += board[i+1][j+1]\n",
    "    #                 time += 1\n",
    "                if i + 1 <maxi and j - 1 >= 0:\n",
    "                    life += board[i+1][j-1]\n",
    "    #                 time += 1\n",
    "\n",
    "    #             death = time - life\n",
    "                if curr == 1 and (life < 2 or life > 3):\n",
    "                    curr = 0\n",
    "                if curr == 0 and life == 3:\n",
    "                    curr = 1\n",
    "                game(i, j + 1)\n",
    "                board[i][j] = curr\n",
    "        game(0,0)"
   ]
  },
  {
   "cell_type": "code",
   "execution_count": 33,
   "metadata": {},
   "outputs": [
    {
     "name": "stdout",
     "output_type": "stream",
     "text": [
      "[[0, 0, 0], [1, 0, 1], [0, 1, 1], [0, 1, 0]]\n"
     ]
    }
   ],
   "source": [
    "nums = [\n",
    "  [0,1,0],\n",
    "  [0,0,1],\n",
    "  [1,1,1],\n",
    "  [0,0,0]\n",
    "]\n",
    "Solution().gameOfLife(nums)\n",
    "print(nums)"
   ]
  },
  {
   "cell_type": "code",
   "execution_count": null,
   "metadata": {},
   "outputs": [],
   "source": []
  }
 ],
 "metadata": {
  "kernelspec": {
   "display_name": "Python 3",
   "language": "python",
   "name": "python3"
  },
  "language_info": {
   "codemirror_mode": {
    "name": "ipython",
    "version": 3
   },
   "file_extension": ".py",
   "mimetype": "text/x-python",
   "name": "python",
   "nbconvert_exporter": "python",
   "pygments_lexer": "ipython3",
   "version": "3.5.1"
  }
 },
 "nbformat": 4,
 "nbformat_minor": 2
}
