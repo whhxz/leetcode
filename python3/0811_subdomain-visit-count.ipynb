{
 "cells": [
  {
   "cell_type": "code",
   "execution_count": null,
   "metadata": {},
   "outputs": [],
   "source": [
    "from typing import List\n",
    "\n",
    "\n",
    "class Solution:\n",
    "    def subdomainVisits(self, cpdomains: List[str]) -> List[str]:\n",
    "        data = dict()\n",
    "\n",
    "        def helper(s: str, num: int):\n",
    "            ds = s.split(\".\")\n",
    "            for i in range(0, len(ds)):\n",
    "                key = \".\".join(ds[i:])\n",
    "                data.setdefault(key, 0)\n",
    "                data[key] += num\n",
    "\n",
    "        for cpdomain in cpdomains:\n",
    "            d = cpdomain.split(\" \")\n",
    "            helper(d[1], int(d[0]))\n",
    "        return [str(v) + \" \" + k for k, v in data.items()]"
   ]
  }
 ],
 "metadata": {
  "kernelspec": {
   "display_name": "Python 3",
   "language": "python",
   "name": "python3"
  },
  "language_info": {
   "codemirror_mode": {
    "name": "ipython",
    "version": 3
   },
   "file_extension": ".py",
   "mimetype": "text/x-python",
   "name": "python",
   "nbconvert_exporter": "python",
   "pygments_lexer": "ipython3",
   "version": "3.7.5"
  }
 },
 "nbformat": 4,
 "nbformat_minor": 4
}
