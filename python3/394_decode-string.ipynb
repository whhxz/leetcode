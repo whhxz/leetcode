{
 "cells": [
  {
   "cell_type": "code",
   "execution_count": 15,
   "metadata": {},
   "outputs": [],
   "source": [
    "class Solution:\n",
    "    #通过'['']'压栈出栈完成\n",
    "    def decodeString(self, s):\n",
    "        \"\"\"\n",
    "        :type s: str\n",
    "        :rtype: str\n",
    "        \"\"\"\n",
    "        all_nums = {'0','1','2','3','4','5','6','7','8','9'}\n",
    "        stack = []\n",
    "        tmps = \"\"\n",
    "        tmpi = 0\n",
    "        tmpn = 0\n",
    "        for c in s:\n",
    "            if c == ']':\n",
    "                tmps = \"\"\n",
    "                while True:\n",
    "                    if stack[-1] == '[':\n",
    "                        stack.pop()\n",
    "                        break\n",
    "                    tmps = stack.pop() + tmps\n",
    "                tmpn = 0\n",
    "                tmpi = 0\n",
    "                while stack and stack[-1] in all_nums:\n",
    "                    tmpn += int(stack.pop()) * (10 ** tmpi)\n",
    "                    tmpi += 1\n",
    "                stack.append(tmpn * tmps)\n",
    "            else:\n",
    "                stack.append(c)\n",
    "        \n",
    "        return \"\".join(stack)\n",
    "                \n",
    "            "
   ]
  },
  {
   "cell_type": "code",
   "execution_count": 18,
   "metadata": {},
   "outputs": [
    {
     "data": {
      "text/plain": [
       "'abcabccdcdcdef'"
      ]
     },
     "execution_count": 18,
     "metadata": {},
     "output_type": "execute_result"
    }
   ],
   "source": [
    "Solution().decodeString(\"2[abc]3[cd]ef\")"
   ]
  },
  {
   "cell_type": "code",
   "execution_count": 3,
   "metadata": {},
   "outputs": [
    {
     "data": {
      "text/plain": [
       "100"
      ]
     },
     "execution_count": 3,
     "metadata": {},
     "output_type": "execute_result"
    }
   ],
   "source": [
    "10 ** 2"
   ]
  },
  {
   "cell_type": "code",
   "execution_count": null,
   "metadata": {},
   "outputs": [],
   "source": []
  }
 ],
 "metadata": {
  "kernelspec": {
   "display_name": "Python 3",
   "language": "python",
   "name": "python3"
  },
  "language_info": {
   "codemirror_mode": {
    "name": "ipython",
    "version": 3
   },
   "file_extension": ".py",
   "mimetype": "text/x-python",
   "name": "python",
   "nbconvert_exporter": "python",
   "pygments_lexer": "ipython3",
   "version": "3.5.1"
  }
 },
 "nbformat": 4,
 "nbformat_minor": 2
}
