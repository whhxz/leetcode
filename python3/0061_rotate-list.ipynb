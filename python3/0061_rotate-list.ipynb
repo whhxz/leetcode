{
 "cells": [
  {
   "cell_type": "code",
   "execution_count": 14,
   "metadata": {},
   "outputs": [],
   "source": [
    "# Definition for singly-linked list.\n",
    "class ListNode(object):\n",
    "    def __init__(self, x):\n",
    "        self.val = x\n",
    "        self.next = None\n",
    "\n",
    "class Solution(object):\n",
    "    def rotateRight(self, head, k):\n",
    "        \"\"\"\n",
    "        :type head: ListNode\n",
    "        :type k: int\n",
    "        :rtype: ListNode\n",
    "        \"\"\"\n",
    "        if head is None:\n",
    "            return None\n",
    "        #先翻转链表，计算链表长度\n",
    "        last = head\n",
    "        size = 0\n",
    "        pre = None\n",
    "        curr = head\n",
    "        while curr:\n",
    "            tmp = curr.next\n",
    "            curr.next = pre\n",
    "            pre = curr\n",
    "            curr = tmp\n",
    "            size += 1\n",
    "        curr = pre\n",
    "        #计算最小移动次数\n",
    "        k = k % size\n",
    "        #移动链表\n",
    "        while k:\n",
    "            tmp = curr\n",
    "            curr = curr.next\n",
    "            tmp.next = None\n",
    "            last.next = tmp\n",
    "            last = last.next\n",
    "            k -= 1\n",
    "        #重新翻转链表\n",
    "        pre = None\n",
    "        while curr:\n",
    "            tmp = curr.next\n",
    "            curr.next = pre\n",
    "            pre = curr\n",
    "            curr = tmp\n",
    "        return pre\n",
    "            \n",
    "            "
   ]
  },
  {
   "cell_type": "code",
   "execution_count": 17,
   "metadata": {},
   "outputs": [
    {
     "name": "stdout",
     "output_type": "stream",
     "text": [
      "1 1 1\n",
      "1\n"
     ]
    }
   ],
   "source": [
    "n1 = ListNode(1)\n",
    "n2 = ListNode(2)\n",
    "# n1.next = n2\n",
    "n3 = ListNode(3)\n",
    "n2.next = n3\n",
    "n4 = ListNode(4)\n",
    "n3.next = n4\n",
    "n5 = ListNode(5)\n",
    "n4.next = n5\n",
    "n = Solution().rotateRight(n1, 2)\n",
    "while n:\n",
    "    print(n.val)\n",
    "    n = n.next"
   ]
  },
  {
   "cell_type": "code",
   "execution_count": null,
   "metadata": {},
   "outputs": [],
   "source": []
  },
  {
   "cell_type": "code",
   "execution_count": null,
   "metadata": {},
   "outputs": [],
   "source": []
  }
 ],
 "metadata": {
  "kernelspec": {
   "display_name": "Python 3",
   "language": "python",
   "name": "python3"
  },
  "language_info": {
   "codemirror_mode": {
    "name": "ipython",
    "version": 3
   },
   "file_extension": ".py",
   "mimetype": "text/x-python",
   "name": "python",
   "nbconvert_exporter": "python",
   "pygments_lexer": "ipython3",
   "version": "3.5.1"
  }
 },
 "nbformat": 4,
 "nbformat_minor": 2
}
