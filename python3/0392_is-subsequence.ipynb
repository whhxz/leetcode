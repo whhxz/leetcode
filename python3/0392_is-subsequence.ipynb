{
 "cells": [
  {
   "cell_type": "code",
   "execution_count": 1,
   "metadata": {},
   "outputs": [],
   "source": [
    "class Solution:\n",
    "    def isSubsequence(self, s: str, t: str) -> bool:\n",
    "        i1 = 0\n",
    "        i2 = 0\n",
    "        ls = len(s)\n",
    "        lt = len(t)\n",
    "        while i1 < ls and i2 < lt:\n",
    "            if s[i1] == t[i2]:\n",
    "                i1 += 1\n",
    "                i2 += 1\n",
    "            else:\n",
    "                i2 +=1\n",
    "        return i1 == ls"
   ]
  },
  {
   "cell_type": "code",
   "execution_count": null,
   "metadata": {},
   "outputs": [],
   "source": []
  }
 ],
 "metadata": {
  "kernelspec": {
   "display_name": "Python 3",
   "language": "python",
   "name": "python3"
  },
  "language_info": {
   "codemirror_mode": {
    "name": "ipython",
    "version": 3
   },
   "file_extension": ".py",
   "mimetype": "text/x-python",
   "name": "python",
   "nbconvert_exporter": "python",
   "pygments_lexer": "ipython3",
   "version": "3.7.5"
  }
 },
 "nbformat": 4,
 "nbformat_minor": 4
}
