{
 "cells": [
  {
   "cell_type": "code",
   "execution_count": null,
   "metadata": {},
   "outputs": [],
   "source": [
    "from typing import List\n",
    "\n",
    "\n",
    "class Solution:\n",
    "    def partitionLabels(self, S: str) -> List[int]:\n",
    "        tm = dict()\n",
    "        for i, s in enumerate(S):\n",
    "            tm[s] = i\n",
    "        i = 0\n",
    "        res = []\n",
    "        while i < len(S):\n",
    "            l, r = i + 1, tm[S[i]]\n",
    "            while l < r:\n",
    "                if tm[S[l]] > r:\n",
    "                    r = tm[S[l]]\n",
    "                l += 1\n",
    "            res.append(r - i + 1)\n",
    "            i = r + 1\n",
    "        return res\n"
   ]
  }
 ],
 "metadata": {
  "kernelspec": {
   "display_name": "Python 3",
   "language": "python",
   "name": "python3"
  },
  "language_info": {
   "codemirror_mode": {
    "name": "ipython",
    "version": 3
   },
   "file_extension": ".py",
   "mimetype": "text/x-python",
   "name": "python",
   "nbconvert_exporter": "python",
   "pygments_lexer": "ipython3",
   "version": "3.7.5"
  }
 },
 "nbformat": 4,
 "nbformat_minor": 4
}
