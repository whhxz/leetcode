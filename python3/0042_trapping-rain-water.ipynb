{
 "cells": [
  {
   "cell_type": "code",
   "execution_count": 44,
   "metadata": {},
   "outputs": [],
   "source": [
    "from typing import List\n",
    "class Solution:\n",
    "    #思路，计算每一个节点可以蓄水的量\n",
    "    #记录左边最高节点，记录右边最高节点\n",
    "    def trap(self, height: List[int]) -> int:\n",
    "        if not height:\n",
    "            return 0\n",
    "        max_left = height[0]\n",
    "        rights = [height[-1]] * len(height)\n",
    "        for i in range(len(height)-2, -1, -1):\n",
    "            if height[i] >= rights[i+1]:\n",
    "                rights[i] = height[i]\n",
    "            else:\n",
    "                rights[i] = rights[i+1]\n",
    "        tmp = 0\n",
    "        res = 0\n",
    "        for i in range(1, len(height)-1):\n",
    "            tmp = min(max_left, rights[i])\n",
    "            if height[i] < tmp:\n",
    "                res += tmp - height[i]\n",
    "            max_left = max(max_left, height[i])\n",
    "        return res\n",
    "    #双指针移动\n",
    "    def trap1(self, height: List[int]) -> int:\n",
    "        left,right,max_left,max_right,res = 0,len(height)-1,0,0,0\n",
    "        while left < right:\n",
    "            #判断移动哪个指针，移动矮的指针\n",
    "            if height[left] < height[right]:\n",
    "                if height[left] >= max_left:\n",
    "                    max_left = height[left]\n",
    "                else:\n",
    "                    res += max_left - height[left]\n",
    "                left += 1\n",
    "            else:\n",
    "                if height[right] >= max_right:\n",
    "                    max_right = height[right]\n",
    "                else:\n",
    "                    res += max_right - height[right]\n",
    "                right -= 1\n",
    "        return res\n",
    "                "
   ]
  },
  {
   "cell_type": "code",
   "execution_count": 45,
   "metadata": {},
   "outputs": [
    {
     "data": {
      "text/plain": [
       "6"
      ]
     },
     "execution_count": 45,
     "metadata": {},
     "output_type": "execute_result"
    }
   ],
   "source": [
    "Solution().trap1([0,1,0,2,1,0,1,3,2,1,2,1])"
   ]
  },
  {
   "cell_type": "code",
   "execution_count": null,
   "metadata": {},
   "outputs": [],
   "source": []
  }
 ],
 "metadata": {
  "kernelspec": {
   "display_name": "Python 3",
   "language": "python",
   "name": "python3"
  },
  "language_info": {
   "codemirror_mode": {
    "name": "ipython",
    "version": 3
   },
   "file_extension": ".py",
   "mimetype": "text/x-python",
   "name": "python",
   "nbconvert_exporter": "python",
   "pygments_lexer": "ipython3",
   "version": "3.7.5"
  }
 },
 "nbformat": 4,
 "nbformat_minor": 4
}
