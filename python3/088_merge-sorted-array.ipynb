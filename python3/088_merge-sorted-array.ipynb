{
 "cells": [
  {
   "cell_type": "code",
   "execution_count": 9,
   "metadata": {},
   "outputs": [],
   "source": [
    "class Solution:\n",
    "    def merge(self, nums1, m, nums2, n):\n",
    "        \"\"\"\n",
    "        :type nums1: List[int]\n",
    "        :type m: int\n",
    "        :type nums2: List[int]\n",
    "        :type n: int\n",
    "        :rtype: void Do not return anything, modify nums1 in-place instead.\n",
    "        \"\"\"\n",
    "        tmp = [0] * (m + n)\n",
    "        i = 0\n",
    "        while m > 0 and n > 0:\n",
    "            if nums1[m-1] > nums2[n-1]:\n",
    "                tmp[i] = nums1[m-1]\n",
    "                m -= 1\n",
    "            else:\n",
    "                tmp[i] = nums2[n-1]\n",
    "                n -= 1\n",
    "            i += 1\n",
    "        while m > 0:\n",
    "            tmp[i] = nums1[m-1]\n",
    "            m -= 1\n",
    "            i += 1\n",
    "        while n >0:\n",
    "            tmp[i] = num2[n-1]\n",
    "            n -= 1\n",
    "            i += 1\n",
    "            \n",
    "        i = 0\n",
    "        for num in reversed(tmp):\n",
    "            nums1[i] = num\n",
    "            i += 1\n",
    "            \n",
    "        "
   ]
  },
  {
   "cell_type": "code",
   "execution_count": 12,
   "metadata": {},
   "outputs": [
    {
     "name": "stdout",
     "output_type": "stream",
     "text": [
      "[0]\n"
     ]
    }
   ],
   "source": [
    "n1 = [0]\n",
    "n2 = []\n",
    "Solution().merge(n1 ,0,n2,0)\n",
    "print(n1)"
   ]
  },
  {
   "cell_type": "code",
   "execution_count": null,
   "metadata": {},
   "outputs": [],
   "source": []
  },
  {
   "cell_type": "code",
   "execution_count": null,
   "metadata": {},
   "outputs": [],
   "source": []
  }
 ],
 "metadata": {
  "kernelspec": {
   "display_name": "Python 3",
   "language": "python",
   "name": "python3"
  },
  "language_info": {
   "codemirror_mode": {
    "name": "ipython",
    "version": 3
   },
   "file_extension": ".py",
   "mimetype": "text/x-python",
   "name": "python",
   "nbconvert_exporter": "python",
   "pygments_lexer": "ipython3",
   "version": "3.5.1"
  }
 },
 "nbformat": 4,
 "nbformat_minor": 2
}
