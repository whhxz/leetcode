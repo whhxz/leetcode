{
 "cells": [
  {
   "cell_type": "code",
   "execution_count": 6,
   "metadata": {},
   "outputs": [],
   "source": [
    "from typing import List\n",
    "class Solution:\n",
    "    #摩尔投票，如果是大于一半，那么最多只会有1个\n",
    "    #如果是大于1/3那么最多只会有2个\n",
    "    #类似放两个坑，遍历数和坑中比较\n",
    "    def majorityElement(self, nums: List[int]) -> List[int]:\n",
    "        first = None\n",
    "        firstCount = 0\n",
    "        second = None\n",
    "        secondCount = 0\n",
    "        for num in nums:\n",
    "            if num == first or (firstCount == 0 and num != second):\n",
    "                first = num\n",
    "                firstCount += 1\n",
    "            elif num == second or secondCount == 0:\n",
    "                second = num\n",
    "                secondCount += 1\n",
    "            else:\n",
    "                firstCount -= 1\n",
    "                secondCount -=1\n",
    "        res = []\n",
    "        if firstCount >0 or secondCount>0:\n",
    "            firstCount = 0\n",
    "            secondCount = 0\n",
    "            for num in nums:\n",
    "                if num == first:\n",
    "                    firstCount+=1\n",
    "                elif num == second:\n",
    "                    secondCount +=1\n",
    "            t = len(nums)/3\n",
    "            if firstCount > t:\n",
    "                res.append(first)\n",
    "            if secondCount > t:\n",
    "                res.append(second)\n",
    "        return res"
   ]
  },
  {
   "cell_type": "code",
   "execution_count": 8,
   "metadata": {},
   "outputs": [
    {
     "data": {
      "text/plain": [
       "[1, 2]"
      ]
     },
     "execution_count": 8,
     "metadata": {},
     "output_type": "execute_result"
    }
   ],
   "source": [
    "Solution().majorityElement([1,1,1,3,3,2,2,2])"
   ]
  },
  {
   "cell_type": "code",
   "execution_count": null,
   "metadata": {},
   "outputs": [],
   "source": []
  }
 ],
 "metadata": {
  "kernelspec": {
   "display_name": "Python 3",
   "language": "python",
   "name": "python3"
  },
  "language_info": {
   "codemirror_mode": {
    "name": "ipython",
    "version": 3
   },
   "file_extension": ".py",
   "mimetype": "text/x-python",
   "name": "python",
   "nbconvert_exporter": "python",
   "pygments_lexer": "ipython3",
   "version": "3.7.5"
  }
 },
 "nbformat": 4,
 "nbformat_minor": 4
}
