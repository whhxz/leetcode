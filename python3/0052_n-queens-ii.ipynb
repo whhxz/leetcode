{
 "cells": [
  {
   "cell_type": "code",
   "execution_count": 11,
   "metadata": {},
   "outputs": [],
   "source": [
    "from typing import List\n",
    "class Solution:\n",
    "    #一步一步试，然后回溯\n",
    "    def totalNQueens(self, n: int) -> List[List[str]]:\n",
    "        res = [0]\n",
    "        def change(tmp, i, j, add):\n",
    "            for t in range(n):\n",
    "                if t != j:\n",
    "                    tmp[i][t] += add\n",
    "            for ii in range(i+1, n):\n",
    "                tmp[ii][j] += add\n",
    "                if j + ii - i < n:\n",
    "                    tmp[ii][j+ii-i] += add\n",
    "                if j - ii + i >= 0:\n",
    "                    tmp[ii][j - ii + i] += add\n",
    "\n",
    "        def helper(i, tmp):\n",
    "            if i == n:\n",
    "                res[0]+=1\n",
    "                return\n",
    "            for j in range(n):\n",
    "                if tmp[i][j] == 0:\n",
    "                    change(tmp, i, j, 1)\n",
    "                    helper(i+1, tmp)\n",
    "                    change(tmp, i, j, -1)\n",
    "        helper(0, [[0]*n for i in range(n)])\n",
    "        return res[0]\n"
   ]
  },
  {
   "cell_type": "code",
   "execution_count": 15,
   "metadata": {},
   "outputs": [
    {
     "data": {
      "text/plain": [
       "2"
      ]
     },
     "execution_count": 15,
     "metadata": {},
     "output_type": "execute_result"
    }
   ],
   "source": [
    "Solution().solveNQueens(4)"
   ]
  },
  {
   "cell_type": "code",
   "execution_count": null,
   "metadata": {},
   "outputs": [],
   "source": []
  },
  {
   "cell_type": "code",
   "execution_count": null,
   "metadata": {},
   "outputs": [],
   "source": []
  }
 ],
 "metadata": {
  "kernelspec": {
   "display_name": "Python 3",
   "language": "python",
   "name": "python3"
  },
  "language_info": {
   "codemirror_mode": {
    "name": "ipython",
    "version": 3
   },
   "file_extension": ".py",
   "mimetype": "text/x-python",
   "name": "python",
   "nbconvert_exporter": "python",
   "pygments_lexer": "ipython3",
   "version": "3.7.5"
  }
 },
 "nbformat": 4,
 "nbformat_minor": 4
}
