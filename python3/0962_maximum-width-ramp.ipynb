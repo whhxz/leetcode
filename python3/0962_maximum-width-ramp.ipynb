{
 "cells": [
  {
   "cell_type": "code",
   "execution_count": null,
   "metadata": {},
   "outputs": [],
   "source": [
    "from typing import List\n",
    "\n",
    "\n",
    "class Solution:\n",
    "    def maxWidthRamp(self, A: List[int]) -> int:\n",
    "        stack = [0]\n",
    "        res = 0\n",
    "        for i in range(1, len(A)):\n",
    "            if A[i] < A[stack[-1]]:\n",
    "                stack.append(i)\n",
    "            else:\n",
    "                j = len(stack) - 1\n",
    "                while j >= 0:\n",
    "                    if A[i] < A[stack[j]]:\n",
    "                        break\n",
    "                    j -= 1\n",
    "                res = max(res, i - stack[j+1])\n",
    "        return res\n"
   ]
  }
 ],
 "metadata": {
  "kernelspec": {
   "display_name": "Python 3",
   "language": "python",
   "name": "python3"
  },
  "language_info": {
   "codemirror_mode": {
    "name": "ipython",
    "version": 3
   },
   "file_extension": ".py",
   "mimetype": "text/x-python",
   "name": "python",
   "nbconvert_exporter": "python",
   "pygments_lexer": "ipython3",
   "version": "3.7.5"
  }
 },
 "nbformat": 4,
 "nbformat_minor": 4
}
