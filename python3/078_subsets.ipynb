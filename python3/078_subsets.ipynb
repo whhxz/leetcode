{
 "cells": [
  {
   "cell_type": "code",
   "execution_count": 31,
   "metadata": {},
   "outputs": [],
   "source": [
    "class Solution:\n",
    "    #遍历数组，每个子集都是上个子集加一个在上个子集末尾后的数\n",
    "    def subsets(self, nums):\n",
    "        \"\"\"\n",
    "        :type nums: List[int]\n",
    "        :rtype: List[List[int]]\n",
    "        \"\"\"\n",
    "        res = [[]]\n",
    "        num_map = {}\n",
    "        nl = len(nums)\n",
    "        #存储数的下角标\n",
    "        for i,num in enumerate(nums):\n",
    "            num_map[num] = i\n",
    "            res.append([num])\n",
    "        #遍历子集\n",
    "        for i in range(1,nl):\n",
    "            #遍历存在的数组\n",
    "            for ns in reversed(res):\n",
    "                #如果是指定长度\n",
    "                if len(ns) == i:\n",
    "                    #遍历数组末尾的数\n",
    "                    for tn in (nums[num_map[ns[-1]] + 1:]):\n",
    "                        res.append(ns[:] + [tn])\n",
    "                else:\n",
    "                    break\n",
    "        return res\n",
    "    #简洁的写法\n",
    "    def subsets1(self, nums):\n",
    "        \"\"\"\n",
    "        :type nums: List[int]\n",
    "        :rtype: List[List[int]]\n",
    "        \"\"\"\n",
    "        results=[[]]\n",
    "        for i in nums:\n",
    "            results=results+[[i]+num for num in results]\n",
    "    return results         "
   ]
  },
  {
   "cell_type": "code",
   "execution_count": 33,
   "metadata": {},
   "outputs": [
    {
     "data": {
      "text/plain": [
       "[[]]"
      ]
     },
     "execution_count": 33,
     "metadata": {},
     "output_type": "execute_result"
    }
   ],
   "source": [
    "Solution().subsets([1,2,3,4,5])"
   ]
  },
  {
   "cell_type": "code",
   "execution_count": 3,
   "metadata": {},
   "outputs": [
    {
     "data": {
      "text/plain": [
       "[[1, 2, 3, 4], [1]]"
      ]
     },
     "execution_count": 3,
     "metadata": {},
     "output_type": "execute_result"
    }
   ],
   "source": []
  },
  {
   "cell_type": "code",
   "execution_count": null,
   "metadata": {},
   "outputs": [],
   "source": []
  }
 ],
 "metadata": {
  "kernelspec": {
   "display_name": "Python 3",
   "language": "python",
   "name": "python3"
  },
  "language_info": {
   "codemirror_mode": {
    "name": "ipython",
    "version": 3
   },
   "file_extension": ".py",
   "mimetype": "text/x-python",
   "name": "python",
   "nbconvert_exporter": "python",
   "pygments_lexer": "ipython3",
   "version": "3.5.1"
  }
 },
 "nbformat": 4,
 "nbformat_minor": 2
}
