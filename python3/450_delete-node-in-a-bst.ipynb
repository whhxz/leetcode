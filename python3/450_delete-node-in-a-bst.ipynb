{
 "cells": [
  {
   "cell_type": "code",
   "execution_count": 1,
   "metadata": {},
   "outputs": [],
   "source": [
    "# Definition for a binary tree node.\n",
    "class TreeNode:\n",
    "    def __init__(self, x):\n",
    "        self.val = x\n",
    "        self.left = None\n",
    "        self.right = None\n",
    "\n",
    "class Solution:\n",
    "    def deleteNode(self, root: TreeNode, key: int) -> TreeNode:\n",
    "        if not root:\n",
    "            return None\n",
    "        if root.val == key:\n",
    "            if not root.left:\n",
    "                root = root.right\n",
    "            elif not root.right:\n",
    "                root = root.left\n",
    "            else:\n",
    "                pnode = root.right\n",
    "                tmp = pnode\n",
    "                while tmp.left:\n",
    "                    pnode,tmp = tmp,tmp.left\n",
    "                if tmp == root.right:\n",
    "                    tmp.left,root = root.left,tmp\n",
    "                else:\n",
    "                    pnode.left = tmp.right\n",
    "                    tmp.left,tmp.right,root = root.left,root.right,tmp\n",
    "        elif root.val < key:\n",
    "            root.right = self.deleteNode(root.right, key)\n",
    "        else:\n",
    "            root.left = self.deleteNode(root.left, key)\n",
    "        return root\n",
    "                \n"
   ]
  },
  {
   "cell_type": "code",
   "execution_count": 2,
   "metadata": {},
   "outputs": [
    {
     "data": {
      "text/plain": [
       "False"
      ]
     },
     "execution_count": 2,
     "metadata": {},
     "output_type": "execute_result"
    }
   ],
   "source": [
    "None == 0"
   ]
  },
  {
   "cell_type": "code",
   "execution_count": null,
   "metadata": {},
   "outputs": [],
   "source": []
  }
 ],
 "metadata": {
  "kernelspec": {
   "display_name": "Python 3",
   "language": "python",
   "name": "python3"
  },
  "language_info": {
   "codemirror_mode": {
    "name": "ipython",
    "version": 3
   },
   "file_extension": ".py",
   "mimetype": "text/x-python",
   "name": "python",
   "nbconvert_exporter": "python",
   "pygments_lexer": "ipython3",
   "version": "3.7.0"
  }
 },
 "nbformat": 4,
 "nbformat_minor": 2
}
