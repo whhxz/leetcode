{
 "cells": [
  {
   "cell_type": "code",
   "execution_count": null,
   "metadata": {},
   "outputs": [],
   "source": [
    "from typing import List\n",
    "\n",
    "\n",
    "class Solution:\n",
    "    def threeSumClosest(self, nums: List[int], target: int) -> int:\n",
    "        ln = len(nums)\n",
    "        nums.sort()\n",
    "        res = sum(nums[:3])\n",
    "        for i, num in enumerate(nums):\n",
    "            l, r = i + 1, ln - 1\n",
    "            t = target - num\n",
    "            while l < r:\n",
    "                if abs(target - res) > abs(nums[i] +nums[l] + nums[r] - target):\n",
    "                    res = nums[i] + nums[l] + nums[r]\n",
    "                if nums[l] + nums[r] == t:\n",
    "                    return target\n",
    "                elif nums[l] + nums[r] > t:\n",
    "                    r -= 1\n",
    "                else:\n",
    "                    l += 1\n",
    "        return res"
   ]
  }
 ],
 "metadata": {
  "kernelspec": {
   "display_name": "Python 3",
   "language": "python",
   "name": "python3"
  },
  "language_info": {
   "codemirror_mode": {
    "name": "ipython",
    "version": 3
   },
   "file_extension": ".py",
   "mimetype": "text/x-python",
   "name": "python",
   "nbconvert_exporter": "python",
   "pygments_lexer": "ipython3",
   "version": "3.7.5"
  }
 },
 "nbformat": 4,
 "nbformat_minor": 4
}
