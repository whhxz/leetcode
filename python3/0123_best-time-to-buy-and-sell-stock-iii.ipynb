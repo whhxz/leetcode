{
 "cells": [
  {
   "cell_type": "code",
   "execution_count": 14,
   "metadata": {},
   "outputs": [],
   "source": [
    "from typing import List\n",
    "class Solution:\n",
    "    #计算第i天，左边最大获利，右边最大获利\n",
    "    def maxProfit(self, prices: List[int]) -> int:\n",
    "        lp = len(prices)\n",
    "        if lp <= 1:\n",
    "            return 0\n",
    "        min_n = prices[0]\n",
    "        max_n = prices[-1]\n",
    "        nums = [0] * (lp + 1)\n",
    "        res = 0\n",
    "        for i in range(lp -1, -1, -1):\n",
    "            nums[i] = max(max_n - prices[i], nums[i+1])\n",
    "            max_n = max(max_n, prices[i])\n",
    "        for i,n in enumerate(prices):\n",
    "            res = max(n - min_n + nums[i+1], res)\n",
    "            min_n = min(min_n, n)\n",
    "        return res"
   ]
  },
  {
   "cell_type": "code",
   "execution_count": 15,
   "metadata": {},
   "outputs": [
    {
     "data": {
      "text/plain": [
       "0"
      ]
     },
     "execution_count": 15,
     "metadata": {},
     "output_type": "execute_result"
    }
   ],
   "source": [
    "Solution().maxProfit([7,6,4,3,1] )"
   ]
  },
  {
   "cell_type": "code",
   "execution_count": null,
   "metadata": {},
   "outputs": [],
   "source": []
  }
 ],
 "metadata": {
  "kernelspec": {
   "display_name": "Python 3",
   "language": "python",
   "name": "python3"
  },
  "language_info": {
   "codemirror_mode": {
    "name": "ipython",
    "version": 3
   },
   "file_extension": ".py",
   "mimetype": "text/x-python",
   "name": "python",
   "nbconvert_exporter": "python",
   "pygments_lexer": "ipython3",
   "version": "3.7.5"
  }
 },
 "nbformat": 4,
 "nbformat_minor": 4
}
