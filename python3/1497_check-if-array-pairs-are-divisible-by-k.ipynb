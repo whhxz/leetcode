{
 "cells": [
  {
   "cell_type": "code",
   "execution_count": null,
   "metadata": {},
   "outputs": [],
   "source": [
    "from typing import List\n",
    "\n",
    "\n",
    "class Solution:\n",
    "    def canArrange(self, arr: List[int], k: int) -> bool:\n",
    "        tl = dict()\n",
    "        for i, n in enumerate(arr):\n",
    "            arr[i] = n % k\n",
    "            tl.setdefault(arr[i], 0)\n",
    "            tl[arr[i]] += 1\n",
    "        if 0 in tl and tl[0] % 2 != 0:\n",
    "            return False\n",
    "        elif 0 in tl:\n",
    "            del tl[0]\n",
    "        for t, v in tl.items():\n",
    "            if k - t not in tl or tl[k - t] != v:\n",
    "                return False\n",
    "        return True"
   ]
  }
 ],
 "metadata": {
  "kernelspec": {
   "display_name": "Python 3",
   "language": "python",
   "name": "python3"
  },
  "language_info": {
   "codemirror_mode": {
    "name": "ipython",
    "version": 3
   },
   "file_extension": ".py",
   "mimetype": "text/x-python",
   "name": "python",
   "nbconvert_exporter": "python",
   "pygments_lexer": "ipython3",
   "version": "3.7.5"
  }
 },
 "nbformat": 4,
 "nbformat_minor": 4
}
