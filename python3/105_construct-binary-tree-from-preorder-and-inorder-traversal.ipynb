{
 "cells": [
  {
   "cell_type": "code",
   "execution_count": 47,
   "metadata": {},
   "outputs": [],
   "source": [
    "# Definition for a binary tree node.\n",
    "class TreeNode:\n",
    "    def __init__(self, x):\n",
    "        self.val = x\n",
    "        self.left = None\n",
    "        self.right = None\n",
    "\n",
    "class Solution:\n",
    "    #遍历前序，然后在中序节点中找左右节点\n",
    "    def buildTree(self, preorder, inorder):\n",
    "        \"\"\"\n",
    "        :type preorder: List[int]\n",
    "        :type inorder: List[int]\n",
    "        :rtype: TreeNode\n",
    "        \"\"\"\n",
    "        if not len(preorder):\n",
    "            return None\n",
    "        #存储中序节点，方便后续依据节点找节点在中序中位置\n",
    "        inorder_map = {}\n",
    "        for i,n in enumerate(inorder):\n",
    "            inorder_map[n] = i\n",
    "        #倒序节点，用于栈弹出，也可以用一个下角标标识\n",
    "        stack = preorder[::-1]\n",
    "        #如参数，中序节点左右界限\n",
    "        def find_node(left, right):\n",
    "            if left > right:\n",
    "                return None\n",
    "            #弹出节点\n",
    "            last = stack.pop()\n",
    "            last_i = inorder_map[last]\n",
    "            last_node = TreeNode(last)\n",
    "            #当前节点左节点在该节点左侧，右节点在该节点右侧\n",
    "            last_node.left = find_node(left, last_i - 1)\n",
    "            last_node.right = find_node(last_i + 1, right)\n",
    "            return last_node\n",
    "        \n",
    "        return find_node(0, len(preorder) - 1)"
   ]
  },
  {
   "cell_type": "code",
   "execution_count": 48,
   "metadata": {},
   "outputs": [
    {
     "name": "stdout",
     "output_type": "stream",
     "text": [
      "1\t\n",
      "2\t3\t\n",
      "4\t5\t6\t7\t\n"
     ]
    }
   ],
   "source": [
    "root = Solution().buildTree([1,2,4,5,3,6,7],[4,2,5,1,6,3,7])\n",
    "tmp = [root]\n",
    "while tmp:\n",
    "    t = []\n",
    "    for n in tmp:\n",
    "        print(n.val, end='\\t')\n",
    "        if n.left:\n",
    "            t.append(n.left)\n",
    "        if n.right:\n",
    "            t.append(n.right)\n",
    "    print()\n",
    "    tmp = t"
   ]
  },
  {
   "cell_type": "code",
   "execution_count": 50,
   "metadata": {},
   "outputs": [
    {
     "data": {
      "text/plain": [
       "[(1,), (2,), (3,), (4,)]"
      ]
     },
     "execution_count": 50,
     "metadata": {},
     "output_type": "execute_result"
    }
   ],
   "source": []
  },
  {
   "cell_type": "code",
   "execution_count": null,
   "metadata": {},
   "outputs": [],
   "source": []
  }
 ],
 "metadata": {
  "kernelspec": {
   "display_name": "Python 3",
   "language": "python",
   "name": "python3"
  },
  "language_info": {
   "codemirror_mode": {
    "name": "ipython",
    "version": 3
   },
   "file_extension": ".py",
   "mimetype": "text/x-python",
   "name": "python",
   "nbconvert_exporter": "python",
   "pygments_lexer": "ipython3",
   "version": "3.5.1"
  }
 },
 "nbformat": 4,
 "nbformat_minor": 2
}
