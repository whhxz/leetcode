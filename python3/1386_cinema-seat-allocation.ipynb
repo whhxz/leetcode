{
 "cells": [
  {
   "cell_type": "code",
   "execution_count": null,
   "metadata": {},
   "outputs": [],
   "source": [
    "from typing import List\n",
    "\n",
    "\n",
    "class Solution:\n",
    "    def maxNumberOfFamilies(self, n: int, reservedSeats: List[List[int]]) -> int:\n",
    "        tl = dict()\n",
    "        for t in reservedSeats:\n",
    "            tl.setdefault(t[0], 1023)\n",
    "            tl[t[0]] -= (1<<(t[1]-1))\n",
    "        res = 0\n",
    "        for k,v in tl.items():\n",
    "            if v & 510 == 510:\n",
    "                res += 2\n",
    "            #0111100000 480 0000011110 30 0001111000 120\n",
    "            elif v & 480 == 480 or v & 30 == 30 or v & 120 == 120:\n",
    "                res += 1\n",
    "        return res + (n - len(tl))*2"
   ]
  }
 ],
 "metadata": {
  "kernelspec": {
   "display_name": "Python 3",
   "language": "python",
   "name": "python3"
  },
  "language_info": {
   "codemirror_mode": {
    "name": "ipython",
    "version": 3
   },
   "file_extension": ".py",
   "mimetype": "text/x-python",
   "name": "python",
   "nbconvert_exporter": "python",
   "pygments_lexer": "ipython3",
   "version": "3.7.5"
  }
 },
 "nbformat": 4,
 "nbformat_minor": 4
}
