{
 "cells": [
  {
   "cell_type": "code",
   "execution_count": 45,
   "metadata": {},
   "outputs": [],
   "source": [
    "class Solution:\n",
    "    def numSubarrayBoundedMax(self, A, L, R):\n",
    "        \"\"\"\n",
    "        :type A: List[int]\n",
    "        :type L: int\n",
    "        :type R: int\n",
    "        :rtype: int\n",
    "        \"\"\"\n",
    "        #通过记录第一个即将进入L~R的值first\n",
    "        first = -1\n",
    "        nums = [0]\n",
    "        for i,n in enumerate(A):\n",
    "            #如果小于最小值，那么该值所包含的组合数量与前一个一样\n",
    "            if n < L:\n",
    "                nums.append(nums[-1])\n",
    "            #如果在区间，那计算当前到first的距离，表示包含改值的数量\n",
    "            elif n >=L and n <=R:\n",
    "                nums.append(i - first)\n",
    "            #如果大于该区间，记为0\n",
    "            else:\n",
    "                nums.append(0)\n",
    "                first = i\n",
    "        return sum(nums)\n",
    "                \n",
    "    def numSubarrayBoundedMax1(self, A, L, R):\n",
    "        first = -1\n",
    "        count = 0\n",
    "        before = 0\n",
    "        for i,n in enumerate(A):\n",
    "            if n < L:\n",
    "                count += before\n",
    "            elif n >=L and n <= R:\n",
    "                count = count + i - first\n",
    "                before = i - first\n",
    "            else:\n",
    "                first = i\n",
    "                before = 0\n",
    "        return count"
   ]
  },
  {
   "cell_type": "code",
   "execution_count": 47,
   "metadata": {},
   "outputs": [
    {
     "name": "stdout",
     "output_type": "stream",
     "text": [
      "19\n"
     ]
    }
   ],
   "source": [
    "print(Solution().numSubarrayBoundedMax1([876,880,482,260,132,421,732,703,795,420,871,445,400,291,358,589,617,202,755,810,227,813,549,791,418,528,835,401,526,584,873,662,13,314,988,101,299,816,833,224,160,852,179,769,646,558,661,808,651,982,878,918,406,551,467,87,139,387,16,531,307,389,939,551,613,36,528,460,404,314,66,111,458,531,944,461,951,419,82,896,467,353,704,905,705,760,61,422,395,298,127,516,153,299,801,341,668,598,98,241],658,719))"
   ]
  },
  {
   "cell_type": "code",
   "execution_count": null,
   "metadata": {},
   "outputs": [],
   "source": []
  }
 ],
 "metadata": {
  "kernelspec": {
   "display_name": "Python 3",
   "language": "python",
   "name": "python3"
  },
  "language_info": {
   "codemirror_mode": {
    "name": "ipython",
    "version": 3
   },
   "file_extension": ".py",
   "mimetype": "text/x-python",
   "name": "python",
   "nbconvert_exporter": "python",
   "pygments_lexer": "ipython3",
   "version": "3.5.1"
  }
 },
 "nbformat": 4,
 "nbformat_minor": 2
}
