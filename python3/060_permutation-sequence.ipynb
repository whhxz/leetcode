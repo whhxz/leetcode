{
 "cells": [
  {
   "cell_type": "code",
   "execution_count": 45,
   "metadata": {},
   "outputs": [],
   "source": [
    "class Solution:\n",
    "    #通过计算得到每个位数需要的次数\n",
    "    #如果有n个数，从小到大第k个中，n个数组为nums = [1, 2, 3, 4, ... , n]\n",
    "    #第0位为 nums[k/(n-1)!]，因为，第0位1的情况有(n-1)!，如果按照从小到大排序，为2那么执行了 2*(n-1)!次，依次类推，为n表示执行了n*(n-1)!\n",
    "    #所有第0位为 nums[k/(n-1)!]，可以计算出第0位对应的值，之后删除nums中对应的index，知道循环结束\n",
    "    def getPermutation(self, n, k):\n",
    "        \"\"\"\n",
    "        :type n: int\n",
    "        :type k: int\n",
    "        :rtype: str\n",
    "        \"\"\"\n",
    "        amount = [1]\n",
    "        nums = [1]\n",
    "        #生成n个数据组合，以及需要的次数\n",
    "        for i in range(2, n + 1):\n",
    "            amount.append(i*amount[-1])\n",
    "            nums.append(i)\n",
    "        #删除最后一个是为了方便计算取值\n",
    "        del amount[-1]\n",
    "        #因为题目中第一个k为1，减一从0开始\n",
    "        k -= 1\n",
    "        res = \"\"\n",
    "        #遍历，少一位是为避免amout取完，nums最后剩余一个添加到返回值的末尾\n",
    "        for i in range(n - 1):\n",
    "            #计算第i位的值k次数，amout[-1]表示第(n -1 -i)!位\n",
    "            n_index = int(k / amount[-1])\n",
    "            res += str(nums[n_index])\n",
    "            k = k % amount[-1]\n",
    "            del nums[n_index]\n",
    "            del amount[-1]\n",
    "        res += str(nums[0])\n",
    "        return res\n",
    "            "
   ]
  },
  {
   "cell_type": "code",
   "execution_count": 47,
   "metadata": {},
   "outputs": [
    {
     "name": "stdout",
     "output_type": "stream",
     "text": [
      "[1, 2, 6] [1, 2, 3, 4]\n",
      "1 8\n",
      "1 2\n",
      "0 0\n"
     ]
    },
    {
     "data": {
      "text/plain": [
       "'2314'"
      ]
     },
     "execution_count": 47,
     "metadata": {},
     "output_type": "execute_result"
    }
   ],
   "source": [
    "Solution().getPermutation(4, 9)"
   ]
  },
  {
   "cell_type": "code",
   "execution_count": null,
   "metadata": {},
   "outputs": [],
   "source": []
  }
 ],
 "metadata": {
  "kernelspec": {
   "display_name": "Python 3",
   "language": "python",
   "name": "python3"
  },
  "language_info": {
   "codemirror_mode": {
    "name": "ipython",
    "version": 3
   },
   "file_extension": ".py",
   "mimetype": "text/x-python",
   "name": "python",
   "nbconvert_exporter": "python",
   "pygments_lexer": "ipython3",
   "version": "3.5.1"
  }
 },
 "nbformat": 4,
 "nbformat_minor": 2
}
