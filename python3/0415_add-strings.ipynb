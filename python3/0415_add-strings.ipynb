{
 "cells": [
  {
   "cell_type": "code",
   "execution_count": 30,
   "metadata": {},
   "outputs": [],
   "source": [
    "class Solution:\n",
    "    def addStrings(self, num1: str, num2: str) -> str:\n",
    "        i = 0\n",
    "        num1 = num1[::-1]\n",
    "        num2 = num2[::-1]\n",
    "        l1 = len(num1)\n",
    "        l2 = len(num2)\n",
    "        res = []\n",
    "        t = 0\n",
    "        while i < l1 or i < l2:\n",
    "            n = 0\n",
    "            if i < l1:\n",
    "                n += int(num1[i])\n",
    "            if i < l2:\n",
    "                n += int(num2[i])\n",
    "            n += t\n",
    "            if n >= 10:\n",
    "                n -= 10\n",
    "                t = 1\n",
    "            else:\n",
    "                t = 0\n",
    "            res.append(str(n))\n",
    "            i+=1\n",
    "        if t > 0:\n",
    "            res.append(str(1))\n",
    "        return \"\".join(res[::-1])"
   ]
  },
  {
   "cell_type": "code",
   "execution_count": 31,
   "metadata": {},
   "outputs": [
    {
     "data": {
      "text/plain": [
       "'1111111110'"
      ]
     },
     "execution_count": 31,
     "metadata": {},
     "output_type": "execute_result"
    }
   ],
   "source": [
    "Solution().addStrings(\"123456789\",\n",
    "\"987654321\")"
   ]
  },
  {
   "cell_type": "code",
   "execution_count": null,
   "metadata": {},
   "outputs": [],
   "source": []
  }
 ],
 "metadata": {
  "kernelspec": {
   "display_name": "Python 3",
   "language": "python",
   "name": "python3"
  },
  "language_info": {
   "codemirror_mode": {
    "name": "ipython",
    "version": 3
   },
   "file_extension": ".py",
   "mimetype": "text/x-python",
   "name": "python",
   "nbconvert_exporter": "python",
   "pygments_lexer": "ipython3",
   "version": "3.7.5"
  }
 },
 "nbformat": 4,
 "nbformat_minor": 4
}
