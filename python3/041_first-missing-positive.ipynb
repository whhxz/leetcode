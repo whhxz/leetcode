{
 "cells": [
  {
   "cell_type": "code",
   "execution_count": 100,
   "metadata": {},
   "outputs": [],
   "source": [
    "class Solution:\n",
    "    #思路：交换nums到指定下角标，如果超过长度，丢弃\n",
    "    def firstMissingPositive(self, nums):\n",
    "        \"\"\"\n",
    "        :type nums: List[int]\n",
    "        :rtype: int\n",
    "        \"\"\"\n",
    "        #如果为空返回1\n",
    "        ln = len(nums)\n",
    "        if ln == 0:\n",
    "            return 1\n",
    "        \n",
    "        i = 0\n",
    "        while i < ln:\n",
    "            \n",
    "            num = nums[i]\n",
    "            #如果当前值小于等于0，丢弃\n",
    "            if num <= 0:\n",
    "                nums[i] = 0\n",
    "                i += 1\n",
    "                continue\n",
    "            #如果超过最大长度，丢弃\n",
    "            if num > ln:\n",
    "                nums[i] = 0\n",
    "            else:\n",
    "                #交换当前num到指定下角标\n",
    "                nums[num-1],nums[i] = nums[i],nums[num-1]\n",
    "                #如果交换的值为同一个，或者向后交换，那么指针前进1步\n",
    "                if nums[num-1] == nums[i] or num-1 <= i:\n",
    "                    i += 1\n",
    "        res = 0\n",
    "        #遍历数组，判断当前下角标与值\n",
    "        for i,num in enumerate(nums):\n",
    "            if i+1 != num:\n",
    "                res = i + 1\n",
    "                break\n",
    "        return nums[-1] + 1 if res == 0 else res\n",
    "        \n",
    "            \n",
    "                \n",
    "                "
   ]
  },
  {
   "cell_type": "code",
   "execution_count": 101,
   "metadata": {},
   "outputs": [
    {
     "name": "stdout",
     "output_type": "stream",
     "text": [
      "[1, 2, 3, 4, 0, 0, 0, 1, 2]\n"
     ]
    },
    {
     "data": {
      "text/plain": [
       "5"
      ]
     },
     "execution_count": 101,
     "metadata": {},
     "output_type": "execute_result"
    }
   ],
   "source": [
    "Solution().firstMissingPositive([0,2,2,4,0,1,0,1,3])"
   ]
  },
  {
   "cell_type": "code",
   "execution_count": null,
   "metadata": {},
   "outputs": [],
   "source": []
  }
 ],
 "metadata": {
  "kernelspec": {
   "display_name": "Python 3",
   "language": "python",
   "name": "python3"
  },
  "language_info": {
   "codemirror_mode": {
    "name": "ipython",
    "version": 3
   },
   "file_extension": ".py",
   "mimetype": "text/x-python",
   "name": "python",
   "nbconvert_exporter": "python",
   "pygments_lexer": "ipython3",
   "version": "3.5.1"
  }
 },
 "nbformat": 4,
 "nbformat_minor": 2
}
