{
 "cells": [
  {
   "cell_type": "code",
   "execution_count": null,
   "metadata": {},
   "outputs": [],
   "source": [
    "# Definition for a binary tree node.\n",
    "# class TreeNode:\n",
    "#     def __init__(self, x):\n",
    "#         self.val = x\n",
    "#         self.left = None\n",
    "#         self.right = None\n",
    "\n",
    "class Solution:\n",
    "    def delNodes(self, root: TreeNode, to_delete: List[int]) -> List[TreeNode]:\n",
    "        if not root:\n",
    "            return []\n",
    "        to_delete = set(to_delete)\n",
    "        res = []\n",
    "        def dsf(node: TreeNode):\n",
    "            if not node:\n",
    "                return True\n",
    "            if dsf(node.left):\n",
    "                node.left = None\n",
    "            if dsf(node.right):\n",
    "                node.right = None\n",
    "            if node.val in to_delete:\n",
    "                if node.left:\n",
    "                    res.append(node.left)\n",
    "                if node.right:\n",
    "                    res.append(node.right)\n",
    "                node.left = None\n",
    "                node.right = None\n",
    "            return node.val in to_delete\n",
    "        dsf(root)\n",
    "        if root.val not in to_delete:\n",
    "            res.append(root)\n",
    "        return res\n"
   ]
  }
 ],
 "metadata": {
  "kernelspec": {
   "display_name": "Python 3",
   "language": "python",
   "name": "python3"
  },
  "language_info": {
   "codemirror_mode": {
    "name": "ipython",
    "version": 3
   },
   "file_extension": ".py",
   "mimetype": "text/x-python",
   "name": "python",
   "nbconvert_exporter": "python",
   "pygments_lexer": "ipython3",
   "version": "3.7.5"
  }
 },
 "nbformat": 4,
 "nbformat_minor": 4
}
