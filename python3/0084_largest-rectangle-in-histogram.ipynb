{
 "cells": [
  {
   "cell_type": "code",
   "execution_count": 51,
   "metadata": {},
   "outputs": [],
   "source": [
    "class Solution:\n",
    "    def largestRectangleArea(self, heights):\n",
    "        \"\"\"\n",
    "        :type heights: List[int]\n",
    "        :rtype: int\n",
    "        \"\"\"\n",
    "        #在原有数据后面加上0，为了在循环中处理所有数据，以免后续还要一次循环\n",
    "        heights.append(0)\n",
    "        stack = []\n",
    "        rnum = 0\n",
    "        #通过栈处理，如果数据，大于栈顶的，那么放入栈顶，如果小于栈顶，那么对栈中数据进行出栈，这样就保证了栈中数据都是递增的\n",
    "        for i,num in enumerate(heights):\n",
    "            #判断栈是否为空，当前数据是否小于栈顶\n",
    "            while len(stack) > 0 and num < heights[stack[-1]]:\n",
    "                #弹出栈顶\n",
    "                tmp = stack.pop()\n",
    "                #计算当前栈组成的长方形大小\n",
    "                #当栈中无数据时表示当前数据tmp是在0~i之间最小值，直接计算当前tmp高度*i\n",
    "                #当栈中有数据，那么计算当前tmp到栈顶（当前数据已经出栈）(i-tmp)+tmp到i之间的距离为长方形宽度(tmp - stack[-1] -1),得到为i-stack[-1] -1\n",
    "                rnum = max(rnum, heights[tmp] * (i - stack[-1] - 1) if len(stack) > 0 else heights[tmp] * i)\n",
    "            stack.append(i)\n",
    "        return rnum"
   ]
  },
  {
   "cell_type": "code",
   "execution_count": 52,
   "metadata": {},
   "outputs": [
    {
     "data": {
      "text/plain": [
       "6"
      ]
     },
     "execution_count": 52,
     "metadata": {},
     "output_type": "execute_result"
    }
   ],
   "source": [
    "Solution().largestRectangleArea([4,2,0,3,2,5])"
   ]
  },
  {
   "cell_type": "code",
   "execution_count": null,
   "metadata": {},
   "outputs": [],
   "source": []
  },
  {
   "cell_type": "code",
   "execution_count": null,
   "metadata": {},
   "outputs": [],
   "source": []
  }
 ],
 "metadata": {
  "kernelspec": {
   "display_name": "Python 3",
   "language": "python",
   "name": "python3"
  },
  "language_info": {
   "codemirror_mode": {
    "name": "ipython",
    "version": 3
   },
   "file_extension": ".py",
   "mimetype": "text/x-python",
   "name": "python",
   "nbconvert_exporter": "python",
   "pygments_lexer": "ipython3",
   "version": "3.5.1"
  }
 },
 "nbformat": 4,
 "nbformat_minor": 2
}
