{
 "cells": [
  {
   "cell_type": "code",
   "execution_count": 58,
   "metadata": {},
   "outputs": [],
   "source": [
    "from typing import List\n",
    "class Solution:\n",
    "    #分割字符串为左右两部分，如果左边为回文，那么对右边进行递归计算回文\n",
    "    def partition(self, s: str) -> List[List[str]]:\n",
    "        l = len(s)\n",
    "        if l == 0:\n",
    "            return [[]]\n",
    "        if l == 1:\n",
    "            return [[s]]\n",
    "        res = []\n",
    "        for i in range(1,l + 1):\n",
    "            left = s[:i]\n",
    "            rigth = s[i:]\n",
    "            if self.isPalindrome(left):\n",
    "                for t in self.partition(rigth):\n",
    "                    res.append([left] + t)\n",
    "        return res\n",
    "            \n",
    "    def isPalindrome(self, sl):\n",
    "        l,r = 0,len(sl)-1\n",
    "        while l<=r and sl[l] == sl[r]:\n",
    "            l += 1\n",
    "            r -= 1\n",
    "        return r < l"
   ]
  },
  {
   "cell_type": "code",
   "execution_count": 59,
   "metadata": {},
   "outputs": [
    {
     "data": {
      "text/plain": [
       "[['c', 'b', 'b', 'b', 'c', 'c'],\n",
       " ['c', 'b', 'b', 'b', 'cc'],\n",
       " ['c', 'b', 'bb', 'c', 'c'],\n",
       " ['c', 'b', 'bb', 'cc'],\n",
       " ['c', 'bb', 'b', 'c', 'c'],\n",
       " ['c', 'bb', 'b', 'cc'],\n",
       " ['c', 'bbb', 'c', 'c'],\n",
       " ['c', 'bbb', 'cc'],\n",
       " ['cbbbc', 'c']]"
      ]
     },
     "execution_count": 59,
     "metadata": {},
     "output_type": "execute_result"
    }
   ],
   "source": [
    "Solution().partition(\"cbbbcc\")"
   ]
  },
  {
   "cell_type": "code",
   "execution_count": 32,
   "metadata": {},
   "outputs": [
    {
     "data": {
      "text/plain": [
       "'1'"
      ]
     },
     "execution_count": 32,
     "metadata": {},
     "output_type": "execute_result"
    }
   ],
   "source": []
  },
  {
   "cell_type": "code",
   "execution_count": null,
   "metadata": {},
   "outputs": [],
   "source": []
  }
 ],
 "metadata": {
  "kernelspec": {
   "display_name": "Python 3",
   "language": "python",
   "name": "python3"
  },
  "language_info": {
   "codemirror_mode": {
    "name": "ipython",
    "version": 3
   },
   "file_extension": ".py",
   "mimetype": "text/x-python",
   "name": "python",
   "nbconvert_exporter": "python",
   "pygments_lexer": "ipython3",
   "version": "3.7.0"
  }
 },
 "nbformat": 4,
 "nbformat_minor": 2
}
