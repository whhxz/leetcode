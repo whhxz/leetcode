{
 "cells": [
  {
   "cell_type": "code",
   "execution_count": 110,
   "metadata": {},
   "outputs": [],
   "source": [
    "from typing import List\n",
    "import heapq\n",
    "class KthLargest:\n",
    "    def __init__(self, k: int, nums: List[int]):\n",
    "        self.nums = nums\n",
    "        self.k = k\n",
    "        heapq.heapify(nums)\n",
    "        while len(nums) > k:\n",
    "            heapq.heappop(nums)\n",
    "    def add(self, val: int) -> int:\n",
    "        heapq.heappush(self.nums,val)\n",
    "        if len(self.nums) > self.k:\n",
    "            heapq.heappop(self.nums)\n",
    "        return self.nums[0]\n",
    "        \n",
    "        \n",
    "       "
   ]
  },
  {
   "cell_type": "code",
   "execution_count": 111,
   "metadata": {},
   "outputs": [
    {
     "data": {
      "text/plain": [
       "4"
      ]
     },
     "execution_count": 111,
     "metadata": {},
     "output_type": "execute_result"
    }
   ],
   "source": [
    "k = KthLargest(1,[])\n",
    "k.add(-3)\n",
    "k.add(-2)\n",
    "k.add(3)\n",
    "k.add(3)\n",
    "k.add(3)\n",
    "k.add(4)\n",
    "k.add(4)\n",
    "k.add(4)\n"
   ]
  },
  {
   "cell_type": "code",
   "execution_count": 103,
   "metadata": {},
   "outputs": [
    {
     "name": "stdout",
     "output_type": "stream",
     "text": [
      "-11\n",
      "-5\n",
      "-3\n",
      "-1\n"
     ]
    }
   ],
   "source": [
    "nums = [-1,-3,-11,-5,6,8]\n",
    "heapq.heapify(nums)\n",
    "print(heapq.heappop(nums))\n",
    "print(heapq.heappop(nums))\n",
    "print(heapq.heappop(nums))\n",
    "print(heapq.heappop(nums))"
   ]
  },
  {
   "cell_type": "code",
   "execution_count": null,
   "metadata": {},
   "outputs": [],
   "source": []
  },
  {
   "cell_type": "code",
   "execution_count": null,
   "metadata": {},
   "outputs": [],
   "source": []
  }
 ],
 "metadata": {
  "kernelspec": {
   "display_name": "Python 3",
   "language": "python",
   "name": "python3"
  },
  "language_info": {
   "codemirror_mode": {
    "name": "ipython",
    "version": 3
   },
   "file_extension": ".py",
   "mimetype": "text/x-python",
   "name": "python",
   "nbconvert_exporter": "python",
   "pygments_lexer": "ipython3",
   "version": "3.7.0"
  }
 },
 "nbformat": 4,
 "nbformat_minor": 2
}
