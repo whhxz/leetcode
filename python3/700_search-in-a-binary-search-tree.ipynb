{
 "cells": [
  {
   "cell_type": "code",
   "execution_count": null,
   "metadata": {},
   "outputs": [],
   "source": [
    "# Definition for a binary tree node.\n",
    "class TreeNode:\n",
    "    def __init__(self, x):\n",
    "        self.val = x\n",
    "        self.left = None\n",
    "        self.right = None\n",
    "\n",
    "class Solution:\n",
    "    #不知道为啥较慢\n",
    "    def searchBST(self, root: TreeNode, val: int) -> TreeNode:\n",
    "        tmp = root\n",
    "        while tmp:\n",
    "            if tmp.val == val:\n",
    "                return tmp\n",
    "            elif tmp.val > val:\n",
    "                tmp = tmp.left\n",
    "            else:\n",
    "                tmp = tmp.right\n",
    "        return None"
   ]
  }
 ],
 "metadata": {
  "kernelspec": {
   "display_name": "Python 3",
   "language": "python",
   "name": "python3"
  },
  "language_info": {
   "codemirror_mode": {
    "name": "ipython",
    "version": 3
   },
   "file_extension": ".py",
   "mimetype": "text/x-python",
   "name": "python",
   "nbconvert_exporter": "python",
   "pygments_lexer": "ipython3",
   "version": "3.7.0"
  }
 },
 "nbformat": 4,
 "nbformat_minor": 2
}
