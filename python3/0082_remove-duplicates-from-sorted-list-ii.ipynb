{
 "cells": [
  {
   "cell_type": "code",
   "execution_count": 5,
   "metadata": {},
   "outputs": [],
   "source": [
    "# Definition for singly-linked list.\n",
    "class ListNode:\n",
    "    def __init__(self, x):\n",
    "        self.val = x\n",
    "        self.next = None\n",
    "\n",
    "class Solution:\n",
    "    def deleteDuplicates(self, head: ListNode) -> ListNode:\n",
    "        before = ListNode(None)\n",
    "        before.next = head\n",
    "        head = before\n",
    "        current = head.next\n",
    "        tmp = before\n",
    "        while current:\n",
    "            if current.val == tmp.val or (current.next and current.next.val == current.val):\n",
    "                current,tmp = current.next,current\n",
    "            else:\n",
    "                before.next = current\n",
    "                before = current\n",
    "                current = current.next\n",
    "                tmp = before\n",
    "        before.next = current\n",
    "        return head.next\n"
   ]
  },
  {
   "cell_type": "code",
   "execution_count": 6,
   "metadata": {},
   "outputs": [
    {
     "data": {
      "text/plain": [
       "<__main__.ListNode at 0x10dceafd0>"
      ]
     },
     "execution_count": 6,
     "metadata": {},
     "output_type": "execute_result"
    }
   ],
   "source": [
    "l1 = ListNode(1)\n",
    "l2 = ListNode(2)\n",
    "l1.next = l2\n",
    "l3 = ListNode(3)\n",
    "l3.next = l2\n",
    "l4 = ListNode(3)\n",
    "l3.next = l4\n",
    "l5 = ListNode(4)\n",
    "l4.next = l5\n",
    "l6 = ListNode(4)\n",
    "l5.next = l6\n",
    "l7 = ListNode(5)\n",
    "l6.next = l7\n",
    "Solution().deleteDuplicates(l1)"
   ]
  },
  {
   "cell_type": "code",
   "execution_count": null,
   "metadata": {},
   "outputs": [],
   "source": []
  }
 ],
 "metadata": {
  "kernelspec": {
   "display_name": "Python 3",
   "language": "python",
   "name": "python3"
  },
  "language_info": {
   "codemirror_mode": {
    "name": "ipython",
    "version": 3
   },
   "file_extension": ".py",
   "mimetype": "text/x-python",
   "name": "python",
   "nbconvert_exporter": "python",
   "pygments_lexer": "ipython3",
   "version": "3.7.5"
  }
 },
 "nbformat": 4,
 "nbformat_minor": 4
}
