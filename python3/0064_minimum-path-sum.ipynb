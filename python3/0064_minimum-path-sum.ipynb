{
 "cells": [
  {
   "cell_type": "code",
   "execution_count": 29,
   "metadata": {},
   "outputs": [],
   "source": [
    "class Solution:\n",
    "    #从第一个开始计算，计算到每个点的最小值\n",
    "    def minPathSum(self, grid):\n",
    "        \"\"\"\n",
    "        :type grid: List[List[int]]\n",
    "        :rtype: int\n",
    "        \"\"\"\n",
    "        max_i = len(grid)\n",
    "        max_j = len(grid[0])\n",
    "        #提前处理grid[0]中的数据\n",
    "        for j in range(1, max_j):\n",
    "            grid[0][j] += grid[0][j - 1]\n",
    "        #提前处理grid[i][0]中数据\n",
    "        for i in range(1, max_i):\n",
    "            grid[i][0] += grid[i - 1][0]\n",
    "        #遍历处理其他节点\n",
    "        for i in range(1, max_i):\n",
    "            for j in range(1, max_j):\n",
    "                grid[i][j] += min(grid[i-1][j], grid[i][j-1])\n",
    "                    \n",
    "        \n",
    "        return grid[-1][-1]"
   ]
  },
  {
   "cell_type": "code",
   "execution_count": 30,
   "metadata": {},
   "outputs": [
    {
     "name": "stdout",
     "output_type": "stream",
     "text": [
      "[1, 2]\n",
      "[5, 6]\n",
      "[1, 1]\n",
      "[1, 3]\n",
      "[6, 6]\n",
      "[7, 1]\n"
     ]
    },
    {
     "data": {
      "text/plain": [
       "8"
      ]
     },
     "execution_count": 30,
     "metadata": {},
     "output_type": "execute_result"
    }
   ],
   "source": [
    "nums = [[1,2],[5,6],[1,1]]\n",
    "for num in nums:\n",
    "    print(num)\n",
    "Solution().minPathSum(nums)"
   ]
  },
  {
   "cell_type": "code",
   "execution_count": null,
   "metadata": {},
   "outputs": [],
   "source": []
  },
  {
   "cell_type": "code",
   "execution_count": null,
   "metadata": {},
   "outputs": [],
   "source": []
  }
 ],
 "metadata": {
  "kernelspec": {
   "display_name": "Python 3",
   "language": "python",
   "name": "python3"
  },
  "language_info": {
   "codemirror_mode": {
    "name": "ipython",
    "version": 3
   },
   "file_extension": ".py",
   "mimetype": "text/x-python",
   "name": "python",
   "nbconvert_exporter": "python",
   "pygments_lexer": "ipython3",
   "version": "3.5.1"
  }
 },
 "nbformat": 4,
 "nbformat_minor": 2
}
