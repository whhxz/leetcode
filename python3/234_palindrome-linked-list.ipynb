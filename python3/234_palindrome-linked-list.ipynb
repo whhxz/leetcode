{
 "cells": [
  {
   "cell_type": "code",
   "execution_count": 38,
   "metadata": {},
   "outputs": [],
   "source": [
    "# Definition for singly-linked list.\n",
    "class ListNode:\n",
    "    def __init__(self, x):\n",
    "        self.val = x\n",
    "        self.next = None\n",
    "\n",
    "class Solution:\n",
    "    #时间复杂度O(n)空间复杂度O(1)\n",
    "    #先计算长度，然后把左半边进行翻转，之后两边比较\n",
    "    def isPalindrome(self, head):\n",
    "        \"\"\"\n",
    "        :type head: ListNode\n",
    "        :rtype: bool\n",
    "        \"\"\"\n",
    "        size = 0\n",
    "        tmp = head\n",
    "        while tmp:\n",
    "            size += 1\n",
    "            tmp = tmp.next\n",
    "        if size < 2:\n",
    "            return True\n",
    "        half = size >> 1\n",
    "        before = None\n",
    "        n = head\n",
    "        while half:\n",
    "            tmp = n.next\n",
    "            n.next = before\n",
    "            before = n\n",
    "            n = tmp\n",
    "            half -= 1\n",
    "        left = before\n",
    "        right = None\n",
    "        if size % 2== 0:\n",
    "            right = n\n",
    "        else:\n",
    "            right = n.next\n",
    "        n1 = left\n",
    "        n2 = right\n",
    "        while n1:\n",
    "            if n1.val != n2.val:\n",
    "                return False\n",
    "            else:\n",
    "                n1 = n1.next\n",
    "                n2 = n2.next\n",
    "        return True\n",
    "        \n",
    "            "
   ]
  },
  {
   "cell_type": "code",
   "execution_count": 40,
   "metadata": {},
   "outputs": [
    {
     "data": {
      "text/plain": [
       "True"
      ]
     },
     "execution_count": 40,
     "metadata": {},
     "output_type": "execute_result"
    }
   ],
   "source": [
    "n1 = ListNode(1)\n",
    "n2 = ListNode(2)\n",
    "# n3 = ListNode(2)\n",
    "n4 = ListNode(1)\n",
    "n1.next = n2\n",
    "n2.next = n4\n",
    "# n3.next = n4\n",
    "Solution().isPalindrome(n1)"
   ]
  },
  {
   "cell_type": "code",
   "execution_count": 32,
   "metadata": {},
   "outputs": [
    {
     "data": {
      "text/plain": [
       "1"
      ]
     },
     "execution_count": 32,
     "metadata": {},
     "output_type": "execute_result"
    }
   ],
   "source": [
    "2>>1"
   ]
  },
  {
   "cell_type": "code",
   "execution_count": null,
   "metadata": {},
   "outputs": [],
   "source": []
  }
 ],
 "metadata": {
  "kernelspec": {
   "display_name": "Python 3",
   "language": "python",
   "name": "python3"
  },
  "language_info": {
   "codemirror_mode": {
    "name": "ipython",
    "version": 3
   },
   "file_extension": ".py",
   "mimetype": "text/x-python",
   "name": "python",
   "nbconvert_exporter": "python",
   "pygments_lexer": "ipython3",
   "version": "3.5.1"
  }
 },
 "nbformat": 4,
 "nbformat_minor": 2
}
