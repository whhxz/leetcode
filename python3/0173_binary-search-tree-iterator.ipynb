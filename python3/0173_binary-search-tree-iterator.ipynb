{
 "cells": [
  {
   "cell_type": "code",
   "execution_count": null,
   "metadata": {},
   "outputs": [],
   "source": [
    "# Definition for a binary tree node.\n",
    "class TreeNode:\n",
    "    def __init__(self, x):\n",
    "        self.val = x\n",
    "        self.left = None\n",
    "        self.right = None\n",
    "\n",
    "class BSTIterator:\n",
    "    #也可以不用直接中序遍历存储，可以在调用next的时候遍历\n",
    "    def __init__(self, root: TreeNode):\n",
    "        self.list = []\n",
    "        self.tree2List(root)\n",
    "        self.list = self.list[::-1]\n",
    "        \n",
    "    def tree2List(self, node):\n",
    "        if not node:\n",
    "            return None\n",
    "        tmp = self.tree2List(node.left)\n",
    "        if tmp:\n",
    "            self.list.append(tmp.val)\n",
    "        self.list.append(node.val)\n",
    "        tmp = self.tree2List(node.right)\n",
    "        if tmp:\n",
    "            self.list.append(tmp.val)\n",
    "        return None\n",
    "    def next(self) -> int:\n",
    "        \"\"\"\n",
    "        @return the next smallest number\n",
    "        \"\"\"\n",
    "        return self.list.pop()\n",
    "\n",
    "    def hasNext(self) -> bool:\n",
    "        \"\"\"\n",
    "        @return whether we have a next smallest number\n",
    "        \"\"\"\n",
    "        return len(self.list) > 0\n",
    "\n",
    "\n",
    "# Your BSTIterator object will be instantiated and called as such:\n",
    "# obj = BSTIterator(root)\n",
    "# param_1 = obj.next()\n",
    "# param_2 = obj.hasNext()"
   ]
  }
 ],
 "metadata": {
  "kernelspec": {
   "display_name": "Python 3",
   "language": "python",
   "name": "python3"
  },
  "language_info": {
   "codemirror_mode": {
    "name": "ipython",
    "version": 3
   },
   "file_extension": ".py",
   "mimetype": "text/x-python",
   "name": "python",
   "nbconvert_exporter": "python",
   "pygments_lexer": "ipython3",
   "version": "3.7.0"
  }
 },
 "nbformat": 4,
 "nbformat_minor": 2
}
