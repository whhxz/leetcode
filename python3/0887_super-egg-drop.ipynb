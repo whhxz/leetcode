{
 "cells": [
  {
   "cell_type": "code",
   "execution_count": null,
   "metadata": {},
   "outputs": [],
   "source": [
    "class Solution:\n",
    "    def superEggDrop(self, K: int, N: int) -> int:\n",
    "        memo = {}\n",
    "        def dp(k, n):\n",
    "            if k == 1:\n",
    "                return n\n",
    "            if n == 0:\n",
    "                return 0\n",
    "            if (k,n) in memo:\n",
    "                return memo[(k,n)]\n",
    "            res = N\n",
    "            l, h = 1, n\n",
    "            while l <= h:\n",
    "                mid = (l + h)//2\n",
    "                broken = dp(k-1,mid-1) + 1\n",
    "                no_broken = dp(k, n-mid) +1\n",
    "                if broken > no_broken:\n",
    "                    h = mid -1\n",
    "                    res = min(res, broken)\n",
    "                else:\n",
    "                    l = mid + 1\n",
    "                    res = min(res, no_broken)\n",
    "            memo[(k,n)] = res\n",
    "            return res\n",
    "        return dp(K, N)"
   ]
  }
 ],
 "metadata": {
  "kernelspec": {
   "display_name": "Python 3",
   "language": "python",
   "name": "python3"
  },
  "language_info": {
   "codemirror_mode": {
    "name": "ipython",
    "version": 3
   },
   "file_extension": ".py",
   "mimetype": "text/x-python",
   "name": "python",
   "nbconvert_exporter": "python",
   "pygments_lexer": "ipython3",
   "version": "3.7.5"
  }
 },
 "nbformat": 4,
 "nbformat_minor": 4
}
