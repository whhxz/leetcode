{
 "cells": [
  {
   "cell_type": "code",
   "execution_count": null,
   "metadata": {},
   "outputs": [],
   "source": [
    "from typing import List\n",
    "\n",
    "\n",
    "class Solution:\n",
    "    def validMountainArray(self, A: List[int]) -> bool:\n",
    "        if len(A) < 3:\n",
    "            return False\n",
    "        i = 1\n",
    "        while i < len(A):\n",
    "            if A[i] > A[i - 1]:\n",
    "                i += 1\n",
    "            elif A[i] == A[i - 1]:\n",
    "                return False\n",
    "            else:\n",
    "                break\n",
    "        if i == len(A) or i == 1:\n",
    "            return False\n",
    "        while i < len(A):\n",
    "            if A[i] < A[i - 1]:\n",
    "                i += 1\n",
    "            else:\n",
    "                return False\n",
    "        return True"
   ]
  }
 ],
 "metadata": {
  "kernelspec": {
   "display_name": "Python 3",
   "language": "python",
   "name": "python3"
  },
  "language_info": {
   "codemirror_mode": {
    "name": "ipython",
    "version": 3
   },
   "file_extension": ".py",
   "mimetype": "text/x-python",
   "name": "python",
   "nbconvert_exporter": "python",
   "pygments_lexer": "ipython3",
   "version": "3.7.5"
  }
 },
 "nbformat": 4,
 "nbformat_minor": 4
}
