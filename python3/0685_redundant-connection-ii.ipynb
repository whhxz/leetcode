{
 "cells": [
  {
   "cell_type": "code",
   "execution_count": null,
   "metadata": {},
   "outputs": [],
   "source": [
    "from typing import List\n",
    "\n",
    "\n",
    "class Solution:\n",
    "    def findRedundantDirectedConnection(self, edges: List[List[int]]) -> List[int]:\n",
    "        from_d = dict() # val 父节点\n",
    "        to_d = dict() # val 子节点\n",
    "        # 找到有2个入度的节点\n",
    "        two_from_point = None\n",
    "        for edge in edges:\n",
    "            from_d.setdefault(edge[1],[])\n",
    "            to_d.setdefault(edge[0],[])\n",
    "            from_d[edge[1]].append(edge[0])\n",
    "            to_d[edge[0]].append(edge[1])\n",
    "            if len(from_d[edge[1]]) == 2:\n",
    "                two_from_point = edge[1]\n",
    "        # 检测节点是否有环\n",
    "        def find_loop(p, walk):\n",
    "            if p in walk:\n",
    "                return True\n",
    "            if p not in to_d:\n",
    "                return False\n",
    "            walk.add(p)\n",
    "            tos = to_d[p]\n",
    "            for t in tos:\n",
    "                if find_loop(t, walk):\n",
    "                    return True\n",
    "            return False\n",
    "\n",
    "        if two_from_point:\n",
    "            # 如果有两个入度，表示需要删掉其中一个\n",
    "            froms = from_d[two_from_point]\n",
    "            # 从后往前删，判断删掉后是否还有环\n",
    "            to_d[froms[1]].remove(two_from_point)\n",
    "            if not find_loop(two_from_point, set()):\n",
    "                return [froms[1], two_from_point]\n",
    "            else:\n",
    "                return [froms[0], two_from_point]\n",
    "        # 没有入度为2的，表示有环，从后向前遍历，找到有环的节点\n",
    "        for edge in reversed(edges):\n",
    "            if find_loop(edge[0], set()) and find_loop(edge[1], set()):\n",
    "                return edge\n",
    "        return []"
   ]
  }
 ],
 "metadata": {
  "kernelspec": {
   "display_name": "Python 3",
   "language": "python",
   "name": "python3"
  },
  "language_info": {
   "codemirror_mode": {
    "name": "ipython",
    "version": 3
   },
   "file_extension": ".py",
   "mimetype": "text/x-python",
   "name": "python",
   "nbconvert_exporter": "python",
   "pygments_lexer": "ipython3",
   "version": "3.7.5"
  }
 },
 "nbformat": 4,
 "nbformat_minor": 4
}
