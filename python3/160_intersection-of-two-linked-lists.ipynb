{
 "cells": [
  {
   "cell_type": "code",
   "execution_count": null,
   "metadata": {},
   "outputs": [],
   "source": [
    "# Definition for singly-linked list.\n",
    "# class ListNode(object):\n",
    "#     def __init__(self, x):\n",
    "#         self.val = x\n",
    "#         self.next = None\n",
    "\n",
    "class Solution(object):\n",
    "    #思路，先判断两个链表末尾是否相同，如果相同表示有交点，计算两个链表长度，长链表先向前移动保证后续节点相同，之后两个链表同时移动，判断节点是否相等\n",
    "    #思路2，连接两个链表，如果有重复则会出现环，就变为判断链表是否存在环的情况\n",
    "    def getIntersectionNode(self, headA, headB):\n",
    "        \"\"\"\n",
    "        :type head1, head1: ListNode\n",
    "        :rtype: ListNode\n",
    "        \"\"\"\n",
    "        if not headA or not headB:\n",
    "            return None\n",
    "        ta = headA\n",
    "        sa = 1\n",
    "        tb = headB\n",
    "        sb = 1\n",
    "        #遍历两个链表计算链表长度和链表最后的值\n",
    "        while ta.next:\n",
    "            ta = ta.next\n",
    "            sa += 1\n",
    "        while tb.next:\n",
    "            tb = tb.next\n",
    "            sb += 1\n",
    "        #判断链表最后值是否相同\n",
    "        if ta.val == tb.val:\n",
    "            ta = headA\n",
    "            tb = headB\n",
    "            #判断哪个为长链表，长链表优先向后移动\n",
    "            if sa > sb:\n",
    "                for i in range(sa - sb):\n",
    "                    ta = ta.next\n",
    "            elif sa < sb:\n",
    "                for i in range(sb - sa):\n",
    "                    tb  = tb.next\n",
    "            #链表长度一致后，同时向后移动\n",
    "            while ta:\n",
    "                if ta.val == tb.val:\n",
    "                    return ta\n",
    "                else:\n",
    "                    ta = ta.next\n",
    "                    tb = tb.next\n",
    "        else:\n",
    "            return None"
   ]
  }
 ],
 "metadata": {
  "kernelspec": {
   "display_name": "Python 3",
   "language": "python",
   "name": "python3"
  },
  "language_info": {
   "codemirror_mode": {
    "name": "ipython",
    "version": 3
   },
   "file_extension": ".py",
   "mimetype": "text/x-python",
   "name": "python",
   "nbconvert_exporter": "python",
   "pygments_lexer": "ipython3",
   "version": "3.5.1"
  }
 },
 "nbformat": 4,
 "nbformat_minor": 2
}
