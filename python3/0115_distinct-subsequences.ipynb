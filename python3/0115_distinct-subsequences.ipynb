{
 "cells": [
  {
   "cell_type": "code",
   "execution_count": 37,
   "metadata": {},
   "outputs": [],
   "source": [
    "class Solution:\n",
    "    #动态规划\n",
    "    # \n",
    "    #   *  b  a  b  g  b  a  g\n",
    "    # * 1  1  1  1  1  1  1  1\n",
    "    # b 0  1  1  2  2  3  3  3\n",
    "    # a 0  0  1  1  1  1  4  4\n",
    "    # g 0  0  0  0  1  1  1  5\n",
    "    def numDistinct(self, s: str, t: str) -> int:\n",
    "        lt = len(t)\n",
    "        ls = len(s)\n",
    "        if ls < lt or (ls == lt and s!=t):\n",
    "            return 0\n",
    "        nums = [1] * (len(s) + 1)\n",
    "        tmp = 0\n",
    "        for i in range(lt):\n",
    "            tmp = 0\n",
    "            for j in range(i, ls):\n",
    "                if t[i] == s[j]:\n",
    "                    nums[j] += tmp\n",
    "                    tmp = nums[j]\n",
    "                else:\n",
    "                    nums[j] = tmp\n",
    "            nums = [0] + nums[:-1]\n",
    "        return nums[-1]\n"
   ]
  },
  {
   "cell_type": "code",
   "execution_count": 38,
   "metadata": {},
   "outputs": [
    {
     "data": {
      "text/plain": [
       "5"
      ]
     },
     "execution_count": 38,
     "metadata": {},
     "output_type": "execute_result"
    }
   ],
   "source": [
    "Solution().numDistinct('babgbag','bag')"
   ]
  },
  {
   "cell_type": "code",
   "execution_count": 28,
   "metadata": {},
   "outputs": [
    {
     "data": {
      "text/plain": [
       "[1, 2]"
      ]
     },
     "execution_count": 28,
     "metadata": {},
     "output_type": "execute_result"
    }
   ],
   "source": [
    "[1,2,3][:-1]"
   ]
  },
  {
   "cell_type": "code",
   "execution_count": null,
   "metadata": {},
   "outputs": [],
   "source": []
  }
 ],
 "metadata": {
  "kernelspec": {
   "display_name": "Python 3",
   "language": "python",
   "name": "python3"
  },
  "language_info": {
   "codemirror_mode": {
    "name": "ipython",
    "version": 3
   },
   "file_extension": ".py",
   "mimetype": "text/x-python",
   "name": "python",
   "nbconvert_exporter": "python",
   "pygments_lexer": "ipython3",
   "version": "3.7.5"
  }
 },
 "nbformat": 4,
 "nbformat_minor": 4
}
