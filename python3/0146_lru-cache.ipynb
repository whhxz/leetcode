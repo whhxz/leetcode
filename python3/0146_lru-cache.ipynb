{
 "cells": [
  {
   "cell_type": "code",
   "execution_count": 33,
   "metadata": {},
   "outputs": [],
   "source": [
    "from collections import OrderedDict\n",
    "\n",
    "class LRUCache:\n",
    "    #感觉题目有问题，不知道是不是理解的问题，最近最少使用，最近的时间窗是多少\n",
    "    def __init__(self, capacity: int):\n",
    "        self.capacity = capacity\n",
    "        self.data = OrderedDict()\n",
    "\n",
    "    def get(self, key: int) -> int:\n",
    "        if key not in self.data:\n",
    "            return -1\n",
    "        self.data.move_to_end(key)\n",
    "        return self.data[key]\n",
    "\n",
    "    def put(self, key: int, value: int) -> None:\n",
    "        if key in self.data:\n",
    "            self.data.move_to_end(key)\n",
    "        self.data[key]=value\n",
    "        if len(self.data) > self.capacity:\n",
    "            self.data.popitem(last = False)\n",
    "            \n",
    "        \n",
    "\n",
    "\n",
    "# Your LRUCache object will be instantiated and called as such:\n",
    "# obj = LRUCache(capacity)\n",
    "# param_1 = obj.get(key)\n",
    "# obj.put(key,value)"
   ]
  },
  {
   "cell_type": "code",
   "execution_count": 35,
   "metadata": {},
   "outputs": [
    {
     "name": "stdout",
     "output_type": "stream",
     "text": [
      "1\n",
      "1\n",
      "1\n",
      "1\n",
      "1\n",
      "1\n",
      "1\n",
      "1\n",
      "1\n",
      "1\n",
      "OrderedDict([(1, 1), (2, 1), (3, 1), (5, 1)])\n"
     ]
    }
   ],
   "source": [
    "cache = LRUCache(4)\n",
    "cache.put(1,1)\n",
    "cache.put(2,1)\n",
    "cache.put(3,1)\n",
    "cache.put(4,1)\n",
    "for i in range(10):\n",
    "    print(cache.get(4))\n",
    "for i in range(1, 4):\n",
    "    cache.get(i)\n",
    "cache.put(5,1)\n",
    "print(cache.data)\n"
   ]
  },
  {
   "cell_type": "code",
   "execution_count": 21,
   "metadata": {},
   "outputs": [
    {
     "data": {
      "text/plain": [
       "True"
      ]
     },
     "execution_count": 21,
     "metadata": {},
     "output_type": "execute_result"
    }
   ],
   "source": [
    "t = {1:1}\n",
    "t.get(12) == None"
   ]
  },
  {
   "cell_type": "code",
   "execution_count": null,
   "metadata": {},
   "outputs": [],
   "source": []
  }
 ],
 "metadata": {
  "kernelspec": {
   "display_name": "Python 3",
   "language": "python",
   "name": "python3"
  },
  "language_info": {
   "codemirror_mode": {
    "name": "ipython",
    "version": 3
   },
   "file_extension": ".py",
   "mimetype": "text/x-python",
   "name": "python",
   "nbconvert_exporter": "python",
   "pygments_lexer": "ipython3",
   "version": "3.7.5"
  }
 },
 "nbformat": 4,
 "nbformat_minor": 4
}
