{
 "cells": [
  {
   "cell_type": "code",
   "execution_count": 65,
   "metadata": {},
   "outputs": [],
   "source": [
    "class Solution(object):\n",
    "    #这种解法比较挫，先是吧数据存储放入map中，然后对map中key进行排序，之后遍历map中key差值为1的val长度和\n",
    "    def findLHS1(self, nums):\n",
    "        \"\"\"\n",
    "        :type nums: List[int]\n",
    "        :rtype: int\n",
    "        \"\"\"\n",
    "        m = {}\n",
    "        for i, n in enumerate(nums):\n",
    "            ns = m.setdefault(n, [])\n",
    "            ns.append(i)\n",
    "        l = [[t, m.get(t)] for t in sorted(m, key=lambda k: k, reverse=False)]\n",
    "        res = 0\n",
    "        print(l)\n",
    "        for i in range(1, len(l)):\n",
    "            if l[i][0] - l[i-1][0] == 1:\n",
    "                res = max(res,len(l[i][1]) + len(l[i-1][1]))\n",
    "        return res\n",
    "    #先把数据放入map，key为nums中的值，val为key的重复次数\n",
    "    def findLHS(self, nums):\n",
    "        m = {}\n",
    "        #放入map\n",
    "        for i, n in enumerate(nums):\n",
    "            m[n] = m.setdefault(n, 0) + 1\n",
    "        res = 0\n",
    "        #遍历map，如果当前k + 1在m中，那么查询k+1 重复次数，比较最大值\n",
    "        for k in m:\n",
    "            if k + 1 in m:\n",
    "                res = max(res, m[k] + m[k+1])\n",
    "        return res"
   ]
  },
  {
   "cell_type": "code",
   "execution_count": 66,
   "metadata": {},
   "outputs": [
    {
     "data": {
      "text/plain": [
       "5"
      ]
     },
     "execution_count": 66,
     "metadata": {},
     "output_type": "execute_result"
    }
   ],
   "source": [
    "Solution().findLHS([1,3,2,2,5,2,3,7])"
   ]
  },
  {
   "cell_type": "code",
   "execution_count": null,
   "metadata": {},
   "outputs": [],
   "source": []
  },
  {
   "cell_type": "code",
   "execution_count": null,
   "metadata": {},
   "outputs": [],
   "source": []
  }
 ],
 "metadata": {
  "kernelspec": {
   "display_name": "Python 3",
   "language": "python",
   "name": "python3"
  },
  "language_info": {
   "codemirror_mode": {
    "name": "ipython",
    "version": 3
   },
   "file_extension": ".py",
   "mimetype": "text/x-python",
   "name": "python",
   "nbconvert_exporter": "python",
   "pygments_lexer": "ipython3",
   "version": "3.5.1"
  }
 },
 "nbformat": 4,
 "nbformat_minor": 2
}
