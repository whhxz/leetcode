{
 "cells": [
  {
   "cell_type": "code",
   "execution_count": 8,
   "metadata": {},
   "outputs": [],
   "source": [
    "class Solution:\n",
    "    #深度优先搜索\n",
    "    def numIslands(self, grid):\n",
    "        \"\"\"\n",
    "        :type grid: List[List[str]]\n",
    "        :rtype: int\n",
    "        \"\"\"\n",
    "        res = 0\n",
    "        maxi = len(grid) - 1\n",
    "        if maxi < 0:\n",
    "            return res\n",
    "        maxj = len(grid[0]) -1\n",
    "        stack = []\n",
    "        def dfs(i, j):\n",
    "            if i >= 0 and i <= maxi and j >=0 and j <= maxj and grid[i][j] == \"1\":\n",
    "                grid[i][j] = \"0\"\n",
    "                dfs(i-1,j)\n",
    "                dfs(i+1,j)\n",
    "                dfs(i,j+1)\n",
    "                dfs(i,j-1)\n",
    "        for i,nums in enumerate(grid):\n",
    "            for j,num in enumerate(nums):\n",
    "                if num == \"1\":\n",
    "                    res += 1\n",
    "                    dfs(i,j)\n",
    "        return res"
   ]
  },
  {
   "cell_type": "code",
   "execution_count": 9,
   "metadata": {},
   "outputs": [
    {
     "name": "stdout",
     "output_type": "stream",
     "text": [
      "0 0 3 4\n",
      "-1 0 3 4\n",
      "1 0 3 4\n",
      "0 0 3 4\n",
      "2 0 3 4\n",
      "1 1 3 4\n",
      "0 1 3 4\n",
      "-1 1 3 4\n",
      "1 1 3 4\n",
      "0 2 3 4\n",
      "0 0 3 4\n",
      "2 1 3 4\n",
      "1 2 3 4\n",
      "1 0 3 4\n",
      "1 -1 3 4\n",
      "0 1 3 4\n",
      "0 -1 3 4\n",
      "2 2 3 4\n",
      "1 2 3 4\n",
      "3 2 3 4\n",
      "2 3 3 4\n",
      "2 1 3 4\n",
      "3 3 3 4\n",
      "2 3 3 4\n",
      "4 3 3 4\n",
      "3 4 3 4\n",
      "2 4 3 4\n",
      "4 4 3 4\n",
      "3 5 3 4\n",
      "3 3 3 4\n",
      "3 2 3 4\n"
     ]
    },
    {
     "data": {
      "text/plain": [
       "3"
      ]
     },
     "execution_count": 9,
     "metadata": {},
     "output_type": "execute_result"
    }
   ],
   "source": [
    "nums = [[\"1\",\"1\",\"0\",\"0\",\"0\"],[\"1\",\"1\",\"0\",\"0\",\"0\"],[\"0\",\"0\",\"1\",\"0\",\"0\"],[\"0\",\"0\",\"0\",\"1\",\"1\"]]\n",
    "Solution().numIslands(nums)"
   ]
  },
  {
   "cell_type": "code",
   "execution_count": null,
   "metadata": {},
   "outputs": [],
   "source": []
  }
 ],
 "metadata": {
  "kernelspec": {
   "display_name": "Python 3",
   "language": "python",
   "name": "python3"
  },
  "language_info": {
   "codemirror_mode": {
    "name": "ipython",
    "version": 3
   },
   "file_extension": ".py",
   "mimetype": "text/x-python",
   "name": "python",
   "nbconvert_exporter": "python",
   "pygments_lexer": "ipython3",
   "version": "3.5.1"
  }
 },
 "nbformat": 4,
 "nbformat_minor": 2
}
