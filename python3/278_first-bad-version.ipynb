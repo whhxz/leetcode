{
 "cells": [
  {
   "cell_type": "code",
   "execution_count": 29,
   "metadata": {},
   "outputs": [],
   "source": [
    "# The isBadVersion API is already defined for you.\n",
    "# @param version, an integer\n",
    "# @return a bool\n",
    "def isBadVersion(version):\n",
    "    return [True, True][version - 1]\n",
    "\n",
    "class Solution:\n",
    "    #二分法查找\n",
    "    def firstBadVersion(self, n):\n",
    "        \"\"\"\n",
    "        :type n: int\n",
    "        :rtype: int\n",
    "        \"\"\"\n",
    "        if isBadVersion(n) and not isBadVersion(n-1):\n",
    "            return n\n",
    "        left = 1\n",
    "        right = n\n",
    "        while left <= right:\n",
    "            mid = (left + right) >> 1\n",
    "            mid_b = isBadVersion(mid)\n",
    "            before_b = False\n",
    "            if mid > 1:\n",
    "                before_b = isBadVersion(mid - 1)\n",
    "            if mid_b and not before_b:\n",
    "                return mid\n",
    "            elif mid_b and before_b:\n",
    "                right = mid - 1\n",
    "            elif not mid_b and not before_b:\n",
    "                left = mid + 1\n",
    "        return 0"
   ]
  },
  {
   "cell_type": "code",
   "execution_count": 30,
   "metadata": {},
   "outputs": [
    {
     "name": "stdout",
     "output_type": "stream",
     "text": [
      "1\n"
     ]
    },
    {
     "data": {
      "text/plain": [
       "1"
      ]
     },
     "execution_count": 30,
     "metadata": {},
     "output_type": "execute_result"
    }
   ],
   "source": [
    "Solution().firstBadVersion(2)"
   ]
  },
  {
   "cell_type": "code",
   "execution_count": null,
   "metadata": {},
   "outputs": [],
   "source": []
  }
 ],
 "metadata": {
  "kernelspec": {
   "display_name": "Python 3",
   "language": "python",
   "name": "python3"
  },
  "language_info": {
   "codemirror_mode": {
    "name": "ipython",
    "version": 3
   },
   "file_extension": ".py",
   "mimetype": "text/x-python",
   "name": "python",
   "nbconvert_exporter": "python",
   "pygments_lexer": "ipython3",
   "version": "3.5.1"
  }
 },
 "nbformat": 4,
 "nbformat_minor": 2
}
