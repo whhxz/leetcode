{
 "cells": [
  {
   "cell_type": "code",
   "execution_count": 2,
   "metadata": {},
   "outputs": [],
   "source": [
    "# Definition for singly-linked list.\n",
    "class ListNode:\n",
    "    def __init__(self, x):\n",
    "        self.val = x\n",
    "        self.next = None\n",
    "\n",
    "class Solution\n",
    "    def reverseBetween(self, head: ListNode, m: int, n: int) -> ListNode:\n",
    "        before = ListNode(None)\n",
    "        before.next = head\n",
    "        head = before\n",
    "        i = 1\n",
    "        mao = head\n",
    "        before = before.next\n",
    "        current = before.next\n",
    "        while i < n:\n",
    "            i+=1\n",
    "            if i <= m:\n",
    "                mao,before,current = mao.next,before.next,current.next\n",
    "            else:\n",
    "                before.next = current.next\n",
    "                current.next = mao.next\n",
    "                mao.next = current\n",
    "                current = before.next\n",
    "        return head.next\n",
    "                \n",
    "                \n",
    "            \n",
    "                "
   ]
  },
  {
   "cell_type": "code",
   "execution_count": 11,
   "metadata": {},
   "outputs": [
    {
     "name": "stdout",
     "output_type": "stream",
     "text": [
      "5.4."
     ]
    }
   ],
   "source": [
    "h1 = ListNode(1)\n",
    "h2 = ListNode(2)\n",
    "h3 = ListNode(3)\n",
    "h4 = ListNode(4)\n",
    "h5 = ListNode(5)\n",
    "h1.next = h2\n",
    "h2.next = h3\n",
    "h3.next = h4\n",
    "h4.next = h5\n",
    "tmp = Solution().reverseBetween(h4,1,2)\n",
    "while tmp:\n",
    "    print(tmp.val, end='.')\n",
    "    tmp = tmp.next\n"
   ]
  },
  {
   "cell_type": "code",
   "execution_count": null,
   "metadata": {},
   "outputs": [],
   "source": []
  }
 ],
 "metadata": {
  "kernelspec": {
   "display_name": "Python 3",
   "language": "python",
   "name": "python3"
  },
  "language_info": {
   "codemirror_mode": {
    "name": "ipython",
    "version": 3
   },
   "file_extension": ".py",
   "mimetype": "text/x-python",
   "name": "python",
   "nbconvert_exporter": "python",
   "pygments_lexer": "ipython3",
   "version": "3.7.5"
  }
 },
 "nbformat": 4,
 "nbformat_minor": 4
}
